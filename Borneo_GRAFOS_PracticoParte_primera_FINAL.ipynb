{
  "nbformat": 4,
  "nbformat_minor": 5,
  "metadata": {
    "colab": {
      "name": "Borneo_GRAFOS_PracticoParte_primera_FINAL.ipynb",
      "provenance": [],
      "include_colab_link": true
    },
    "kernelspec": {
      "display_name": "Python 3",
      "language": "python",
      "name": "python3"
    },
    "language_info": {
      "codemirror_mode": {
        "name": "ipython",
        "version": 3
      },
      "file_extension": ".py",
      "mimetype": "text/x-python",
      "name": "python",
      "nbconvert_exporter": "python",
      "pygments_lexer": "ipython3",
      "version": "3.8.5"
    }
  },
  "cells": [
    {
      "cell_type": "markdown",
      "metadata": {
        "id": "view-in-github",
        "colab_type": "text"
      },
      "source": [
        "<a href=\"https://colab.research.google.com/github/rafaborneo/graph_course/blob/main/Borneo_GRAFOS_PracticoParte_primera_FINAL.ipynb\" target=\"_parent\"><img src=\"https://colab.research.google.com/assets/colab-badge.svg\" alt=\"Open In Colab\"/></a>"
      ]
    },
    {
      "cell_type": "markdown",
      "metadata": {
        "id": "a49e9927-f016-4660-89df-26c5800aea8b"
      },
      "source": [
        "# ANALISIS DE GRAFOS Práctico \n",
        "\n",
        "RAFAEL BORNEO BENISTA"
      ],
      "id": "a49e9927-f016-4660-89df-26c5800aea8b"
    },
    {
      "cell_type": "markdown",
      "metadata": {
        "id": "-yLty0Hr7Vy9"
      },
      "source": [
        "PRIMERA MITAD DE LA MATERIA: Puntos 1,2,3,"
      ],
      "id": "-yLty0Hr7Vy9"
    },
    {
      "cell_type": "markdown",
      "metadata": {
        "id": "5fe2ae9e-6076-4a12-931c-5349ee7eb2d3",
        "jp-MarkdownHeadingCollapsed": true,
        "tags": []
      },
      "source": [
        "En este práctico, correspondiente a la primera mitad de la materia, trabajaremos con un dataset extraído de Twitter. La idea es emplear los conceptos de grafos vistos en clase sobre un caso real de actualidad.\n",
        "\n",
        "## Dataset\n",
        "\n",
        "El dataset consiste en un conjunto de hilos de tweets, con un total de ~150000 tweets, extraídos entre Enero y Marzo de 2021. La temática de los mismos está referida a la vacunación contra el covid-19 en Argentina.\n",
        "\n",
        "Pueden descargar el dataset del siguiente [link](https://drive.google.com/file/d/1X_qKsE8muAnom2tDX4sLlmBAO0Ikfe_G/view?usp=sharing).\n",
        "\n",
        "### Campos\n",
        "\n",
        "- **created_at:** Fecha del tweet\n",
        "- **id_str:** ID del tweet\n",
        "- **full_text:** Contenido del tweet\n",
        "- **in_reply_to_status_id:** ID del tweet inmediatamente anterior en el hilo\n",
        "- **in_reply_to_user_id:** Autor del tweet inmediatamente anterior en el hilo\n",
        "- **user.id:** Autor del tweet\n",
        "- **user_retweeters:** Lista de ID de usuarios que retweetearon el tweet\n",
        "- **sentiment:** Etiquetado manual que indica el sentimiento o intención del tweet con respecto al tweet anterior en el hilo"
      ],
      "id": "5fe2ae9e-6076-4a12-931c-5349ee7eb2d3"
    },
    {
      "cell_type": "markdown",
      "metadata": {
        "id": "8eed8c8b-8c40-4d18-b4ad-c853e1c3b7d1"
      },
      "source": [
        "## Configuración inicial"
      ],
      "id": "8eed8c8b-8c40-4d18-b4ad-c853e1c3b7d1"
    },
    {
      "cell_type": "code",
      "metadata": {
        "colab": {
          "base_uri": "https://localhost:8080/"
        },
        "id": "5QNRLDfxBYOr",
        "outputId": "5180306d-7c91-478f-9c4a-d93c01b2069b"
      },
      "source": [
        "!pip install igraph"
      ],
      "id": "5QNRLDfxBYOr",
      "execution_count": null,
      "outputs": [
        {
          "name": "stdout",
          "output_type": "stream",
          "text": [
            "Requirement already satisfied: igraph in c:\\users\\rafael\\anaconda3\\lib\\site-packages (0.9.8)\n",
            "Requirement already satisfied: texttable>=1.6.2 in c:\\users\\rafael\\anaconda3\\lib\\site-packages (from igraph) (1.6.4)\n"
          ]
        }
      ]
    },
    {
      "cell_type": "code",
      "metadata": {
        "id": "a23c83a7-0c4e-4bff-b8cb-253671e5d1d6"
      },
      "source": [
        "#IMPORTAR LIBRERIAS REQUERIDAS PARA EL ANALISIS\n",
        "import numpy as np\n",
        "import pandas as pd\n",
        "import networkx as nx\n",
        "import igraph as ig\n",
        "import matplotlib.pyplot as plt\n",
        "import seaborn as sns\n",
        "%matplotlib inline\n",
        "\n",
        "sns.set_context('talk')\n",
        "#from pathlib import Path\n",
        "\n",
        "## Descargar el csv con los datos en este directorio\n",
        "#DATA_DIR = Path('C:\\Users\\Rafael\\Documents\\AREA TRABAJO\\DIPLODATOS 2021\\7_opt_Analisis_Grafos\\clases\\Practico')\n",
        "#INPUT_FILE = DATA_DIR / 'vacunas.csv'\n",
        "\n",
        "## Creamos el directorio en caso de que no exista\n",
        "#DATA_DIR.mkdir(parents=True, exist_ok=True)"
      ],
      "id": "a23c83a7-0c4e-4bff-b8cb-253671e5d1d6",
      "execution_count": null,
      "outputs": []
    },
    {
      "cell_type": "code",
      "metadata": {
        "colab": {
          "base_uri": "https://localhost:8080/"
        },
        "id": "nPSgIxjtbZEu",
        "outputId": "ed9a867f-7fee-4352-c2db-62f38a940572"
      },
      "source": [
        "import igraph\n",
        "print(igraph.__version__)"
      ],
      "id": "nPSgIxjtbZEu",
      "execution_count": null,
      "outputs": [
        {
          "name": "stdout",
          "output_type": "stream",
          "text": [
            "0.9.8\n"
          ]
        }
      ]
    },
    {
      "cell_type": "markdown",
      "metadata": {
        "id": "acf6889f-86be-4fc8-b281-a738b8d475c4"
      },
      "source": [
        "### Cargamos el dataset"
      ],
      "id": "acf6889f-86be-4fc8-b281-a738b8d475c4"
    },
    {
      "cell_type": "code",
      "metadata": {
        "colab": {
          "base_uri": "https://localhost:8080/",
          "height": 351
        },
        "id": "e43cef47-be3b-47ba-9a07-9373013580ec",
        "outputId": "36759b66-7dfd-45fb-b9a1-fda90c6287ad"
      },
      "source": [
        "dtypes = {\n",
        "    'id_str': str,\n",
        "    'full_text': str,\n",
        "    'in_reply_to_status_id': str,\n",
        "    'in_reply_to_user_id': str,\n",
        "    'user.id': str\n",
        "}\n",
        "df = pd.read_csv(\"vacunas.csv\", dtype=dtypes).dropna(subset=['user_retweeters'])\n",
        "df['user_retweeters'] = df['user_retweeters'].apply(lambda x: [str(elem) for elem in eval(x)])\n",
        "print(df.shape)\n",
        "df.head(3)"
      ],
      "id": "e43cef47-be3b-47ba-9a07-9373013580ec",
      "execution_count": null,
      "outputs": [
        {
          "name": "stdout",
          "output_type": "stream",
          "text": [
            "(155123, 8)\n"
          ]
        },
        {
          "data": {
            "text/html": [
              "<div>\n",
              "<style scoped>\n",
              "    .dataframe tbody tr th:only-of-type {\n",
              "        vertical-align: middle;\n",
              "    }\n",
              "\n",
              "    .dataframe tbody tr th {\n",
              "        vertical-align: top;\n",
              "    }\n",
              "\n",
              "    .dataframe thead th {\n",
              "        text-align: right;\n",
              "    }\n",
              "</style>\n",
              "<table border=\"1\" class=\"dataframe\">\n",
              "  <thead>\n",
              "    <tr style=\"text-align: right;\">\n",
              "      <th></th>\n",
              "      <th>created_at</th>\n",
              "      <th>id_str</th>\n",
              "      <th>full_text</th>\n",
              "      <th>in_reply_to_status_id</th>\n",
              "      <th>in_reply_to_user_id</th>\n",
              "      <th>user.id</th>\n",
              "      <th>user_retweeters</th>\n",
              "      <th>sentiment</th>\n",
              "    </tr>\n",
              "  </thead>\n",
              "  <tbody>\n",
              "    <tr>\n",
              "      <th>0</th>\n",
              "      <td>Sat Feb 20 03:09:10 +0000 2021</td>\n",
              "      <td>1362962469749153792</td>\n",
              "      <td>Seguimos esperando el comunicado de @norabar r...</td>\n",
              "      <td>NaN</td>\n",
              "      <td>NaN</td>\n",
              "      <td>2737379453</td>\n",
              "      <td>[2258074658, 159909978, 105301854, 290671142, ...</td>\n",
              "      <td>NaN</td>\n",
              "    </tr>\n",
              "    <tr>\n",
              "      <th>1</th>\n",
              "      <td>Sat Feb 20 03:19:59 +0000 2021</td>\n",
              "      <td>1362965193509265417</td>\n",
              "      <td>@Clon_43 @norabar Nora estaba indignada porque...</td>\n",
              "      <td>1362962469749153792</td>\n",
              "      <td>2737379453</td>\n",
              "      <td>32718111</td>\n",
              "      <td>[]</td>\n",
              "      <td>NaN</td>\n",
              "    </tr>\n",
              "    <tr>\n",
              "      <th>2</th>\n",
              "      <td>Mon Feb 22 23:55:08 +0000 2021</td>\n",
              "      <td>1364000806740111363</td>\n",
              "      <td>Bueno, Alberto dijo Salud o Economía. La salud...</td>\n",
              "      <td>NaN</td>\n",
              "      <td>NaN</td>\n",
              "      <td>252168075</td>\n",
              "      <td>[1238117630696972289, 37232479, 12792246571247...</td>\n",
              "      <td>NaN</td>\n",
              "    </tr>\n",
              "  </tbody>\n",
              "</table>\n",
              "</div>"
            ],
            "text/plain": [
              "                       created_at               id_str  \\\n",
              "0  Sat Feb 20 03:09:10 +0000 2021  1362962469749153792   \n",
              "1  Sat Feb 20 03:19:59 +0000 2021  1362965193509265417   \n",
              "2  Mon Feb 22 23:55:08 +0000 2021  1364000806740111363   \n",
              "\n",
              "                                           full_text in_reply_to_status_id  \\\n",
              "0  Seguimos esperando el comunicado de @norabar r...                   NaN   \n",
              "1  @Clon_43 @norabar Nora estaba indignada porque...   1362962469749153792   \n",
              "2  Bueno, Alberto dijo Salud o Economía. La salud...                   NaN   \n",
              "\n",
              "  in_reply_to_user_id     user.id  \\\n",
              "0                 NaN  2737379453   \n",
              "1          2737379453    32718111   \n",
              "2                 NaN   252168075   \n",
              "\n",
              "                                     user_retweeters sentiment  \n",
              "0  [2258074658, 159909978, 105301854, 290671142, ...       NaN  \n",
              "1                                                 []       NaN  \n",
              "2  [1238117630696972289, 37232479, 12792246571247...       NaN  "
            ]
          },
          "execution_count": 4,
          "metadata": {},
          "output_type": "execute_result"
        }
      ]
    },
    {
      "cell_type": "markdown",
      "metadata": {
        "id": "bd778ff2-c52b-4541-83bb-ab515e233fb3",
        "tags": []
      },
      "source": [
        "### Observamos algunos ejemplos"
      ],
      "id": "bd778ff2-c52b-4541-83bb-ab515e233fb3"
    },
    {
      "cell_type": "code",
      "metadata": {
        "colab": {
          "base_uri": "https://localhost:8080/"
        },
        "id": "626fb5fa-2875-47c0-9e30-cb1a456a1c13",
        "outputId": "74211189-36d1-42c4-8f85-a16dfa3d0d76"
      },
      "source": [
        "idx = 0\n",
        "print('Texto:', df.full_text.values[idx])\n",
        "print('Retweets:', len(df.user_retweeters.values[idx]))"
      ],
      "id": "626fb5fa-2875-47c0-9e30-cb1a456a1c13",
      "execution_count": null,
      "outputs": [
        {
          "name": "stdout",
          "output_type": "stream",
          "text": [
            "Texto: Seguimos esperando el comunicado de @norabar repudiando la situación respecto del gobierno y el tema vacunas. Seamos pacientes que con esto de la pandemia anda con mucho \"laburo\".\n",
            "Retweets: 9\n"
          ]
        }
      ]
    },
    {
      "cell_type": "code",
      "metadata": {
        "colab": {
          "base_uri": "https://localhost:8080/"
        },
        "id": "f6ca9ab4-d966-4613-8d06-b139b30255b8",
        "outputId": "787857ea-1ae1-4859-a1e3-d0e35d283a7a"
      },
      "source": [
        "idx = 376\n",
        "print('Text:', df.full_text.values[idx])\n",
        "print('Retweets:', len(df.user_retweeters.values[idx]))"
      ],
      "id": "f6ca9ab4-d966-4613-8d06-b139b30255b8",
      "execution_count": null,
      "outputs": [
        {
          "name": "stdout",
          "output_type": "stream",
          "text": [
            "Text: Todo lo que hay que entender sobre la decisión –o no– de poner más vacunas en más brazos (por ejemplo, usar las 1º dosis en muchos y si es necesario retrasar la 2º) está en esta excelente nota de Nora Bär. https://t.co/A0I03DyxgO\n",
            "Retweets: 48\n"
          ]
        }
      ]
    },
    {
      "cell_type": "markdown",
      "metadata": {
        "id": "1d3911d7-cc49-4d84-95b6-4f096f5f56c3"
      },
      "source": [
        "### Calculamos la cantidad de hilos"
      ],
      "id": "1d3911d7-cc49-4d84-95b6-4f096f5f56c3"
    },
    {
      "cell_type": "code",
      "metadata": {
        "colab": {
          "base_uri": "https://localhost:8080/"
        },
        "id": "59b6c11f-5766-45e4-a264-f3733df8694d",
        "outputId": "64af6a26-0204-4192-acab-98f9d3556e9c"
      },
      "source": [
        "roots = df[df['in_reply_to_user_id'].isna()]\n",
        "roots.shape"
      ],
      "id": "59b6c11f-5766-45e4-a264-f3733df8694d",
      "execution_count": null,
      "outputs": [
        {
          "data": {
            "text/plain": [
              "(3174, 8)"
            ]
          },
          "execution_count": 7,
          "metadata": {},
          "output_type": "execute_result"
        }
      ]
    },
    {
      "cell_type": "markdown",
      "metadata": {
        "id": "8d0fa0b4-fe03-444b-9705-f50474a2ae24",
        "tags": []
      },
      "source": [
        "## Actividades\n",
        "\n",
        "### **1. Construcción del grafo** \n",
        "\n",
        "Construir el **grafo de retweets**, definido de la siguiente manera:\n",
        "\n",
        "- Tipo de grafo: Dirigido\n",
        "- Nodos: ID de los usuarios\n",
        "- Enlaces: (Usuario A) ---> (Usuario B) si B retweeteó algún tweet de A\n",
        "\n",
        "Con estos datos, el grafo debería tener alrededor de 40000 nodos y 90000 enlaces.\n",
        "\n",
        "Considerar la versión no dirigida del grafo y estudiar su conectividad. Si existe una única \"componente gigante\", realizar el resto de las actividades sobre ella, en lugar de sobre el grafo completo.\n",
        "\n",
        "Calcular las siguientes métricas globales del grafo:\n",
        "\n",
        "- Grado medio\n",
        "- Asortatividad\n",
        "- Transitividad\n",
        "- Coeficiente de clustering de Watts-Strogatz\n",
        "\n",
        "**Opcional:** Comparar las métricas calculadas anteriormente con las de un grafo aleatorio con la misma distribución de grado. Pueden utilizar para ello este [método](https://networkx.org/documentation/stable/reference/generated/networkx.generators.degree_seq.configuration_model.html?highlight=configuration#networkx.generators.degree_seq.configuration_model). Con esto en mente, comentar si los valores obtenidos anteriormente difieren significativamente del caso aleatorio.\n",
        "\n",
        "\n",
        "### **2. Centralidad**\n",
        "\n",
        "Calcular 5 métricas de centralidad de nodos. Graficar la distribución de cada una de ellas ¿Existe alguna correlación entre las distintas centralidades? \n",
        "\n",
        "Hacer un ranking con los 10 nodos más centrales para cada métrica. ¿Hay coincidencia entre los rankings?. ¿Qué características tienen los usuarios más centrales y sus respectivos tweets?\n",
        "\n",
        "**Opcional:** Determinar si existe alguna correlación entre la centralidad de un nodo y su actividad en red social. Es decir, evaluar si los usuarios que más escriben son los más centrales o no.\n",
        "\n",
        "### **3. Comunidades**\n",
        "\n",
        "Utilizar el algoritmo de Louvain con el parámetro \"resolución\" igual a 1. Caracterizar las comunidades halladas (cantidad, distribución de tamaños). Utilizar la modularidad y otras dos métricas a elección para evaluar la calidad de la partición encontrada. \n",
        "\n",
        "Variar el parámetro \"resolución\" y observar cómo cambia la distribución de comunidades encontradas. ¿Existe algún valor para el cual se identifiquen dos grandes comunidades?\n",
        "\n",
        "Elegir otro algoritmo de detección de comunidades y comparar los resultados con los obtenidos anteriormente.\n",
        "\n",
        "**Opcional:** Correr el algoritmo de Louvain con distintas semillas aleatorias. Utilizar alguna métrica de comparación externa entre las particiones obtenidas para determinar en qué medida depende el algoritmo de la condición inicial."
      ],
      "id": "8d0fa0b4-fe03-444b-9705-f50474a2ae24"
    },
    {
      "cell_type": "code",
      "metadata": {
        "colab": {
          "base_uri": "https://localhost:8080/",
          "height": 483
        },
        "id": "dMcwmKO5OOkd",
        "outputId": "6e04a8dd-ddb4-4f4e-8d63-8cbaa20c06de"
      },
      "source": [
        "#expansion columna user_retweeters\n",
        "df1= df.explode(\"user_retweeters\", ignore_index=True)\n",
        "print(df1.shape)\n",
        "df1.head()"
      ],
      "id": "dMcwmKO5OOkd",
      "execution_count": null,
      "outputs": [
        {
          "name": "stdout",
          "output_type": "stream",
          "text": [
            "(320948, 8)\n"
          ]
        },
        {
          "data": {
            "text/html": [
              "<div>\n",
              "<style scoped>\n",
              "    .dataframe tbody tr th:only-of-type {\n",
              "        vertical-align: middle;\n",
              "    }\n",
              "\n",
              "    .dataframe tbody tr th {\n",
              "        vertical-align: top;\n",
              "    }\n",
              "\n",
              "    .dataframe thead th {\n",
              "        text-align: right;\n",
              "    }\n",
              "</style>\n",
              "<table border=\"1\" class=\"dataframe\">\n",
              "  <thead>\n",
              "    <tr style=\"text-align: right;\">\n",
              "      <th></th>\n",
              "      <th>created_at</th>\n",
              "      <th>id_str</th>\n",
              "      <th>full_text</th>\n",
              "      <th>in_reply_to_status_id</th>\n",
              "      <th>in_reply_to_user_id</th>\n",
              "      <th>user.id</th>\n",
              "      <th>user_retweeters</th>\n",
              "      <th>sentiment</th>\n",
              "    </tr>\n",
              "  </thead>\n",
              "  <tbody>\n",
              "    <tr>\n",
              "      <th>0</th>\n",
              "      <td>Sat Feb 20 03:09:10 +0000 2021</td>\n",
              "      <td>1362962469749153792</td>\n",
              "      <td>Seguimos esperando el comunicado de @norabar r...</td>\n",
              "      <td>NaN</td>\n",
              "      <td>NaN</td>\n",
              "      <td>2737379453</td>\n",
              "      <td>2258074658</td>\n",
              "      <td>NaN</td>\n",
              "    </tr>\n",
              "    <tr>\n",
              "      <th>1</th>\n",
              "      <td>Sat Feb 20 03:09:10 +0000 2021</td>\n",
              "      <td>1362962469749153792</td>\n",
              "      <td>Seguimos esperando el comunicado de @norabar r...</td>\n",
              "      <td>NaN</td>\n",
              "      <td>NaN</td>\n",
              "      <td>2737379453</td>\n",
              "      <td>159909978</td>\n",
              "      <td>NaN</td>\n",
              "    </tr>\n",
              "    <tr>\n",
              "      <th>2</th>\n",
              "      <td>Sat Feb 20 03:09:10 +0000 2021</td>\n",
              "      <td>1362962469749153792</td>\n",
              "      <td>Seguimos esperando el comunicado de @norabar r...</td>\n",
              "      <td>NaN</td>\n",
              "      <td>NaN</td>\n",
              "      <td>2737379453</td>\n",
              "      <td>105301854</td>\n",
              "      <td>NaN</td>\n",
              "    </tr>\n",
              "    <tr>\n",
              "      <th>3</th>\n",
              "      <td>Sat Feb 20 03:09:10 +0000 2021</td>\n",
              "      <td>1362962469749153792</td>\n",
              "      <td>Seguimos esperando el comunicado de @norabar r...</td>\n",
              "      <td>NaN</td>\n",
              "      <td>NaN</td>\n",
              "      <td>2737379453</td>\n",
              "      <td>290671142</td>\n",
              "      <td>NaN</td>\n",
              "    </tr>\n",
              "    <tr>\n",
              "      <th>4</th>\n",
              "      <td>Sat Feb 20 03:09:10 +0000 2021</td>\n",
              "      <td>1362962469749153792</td>\n",
              "      <td>Seguimos esperando el comunicado de @norabar r...</td>\n",
              "      <td>NaN</td>\n",
              "      <td>NaN</td>\n",
              "      <td>2737379453</td>\n",
              "      <td>208721168</td>\n",
              "      <td>NaN</td>\n",
              "    </tr>\n",
              "  </tbody>\n",
              "</table>\n",
              "</div>"
            ],
            "text/plain": [
              "                       created_at               id_str  \\\n",
              "0  Sat Feb 20 03:09:10 +0000 2021  1362962469749153792   \n",
              "1  Sat Feb 20 03:09:10 +0000 2021  1362962469749153792   \n",
              "2  Sat Feb 20 03:09:10 +0000 2021  1362962469749153792   \n",
              "3  Sat Feb 20 03:09:10 +0000 2021  1362962469749153792   \n",
              "4  Sat Feb 20 03:09:10 +0000 2021  1362962469749153792   \n",
              "\n",
              "                                           full_text in_reply_to_status_id  \\\n",
              "0  Seguimos esperando el comunicado de @norabar r...                   NaN   \n",
              "1  Seguimos esperando el comunicado de @norabar r...                   NaN   \n",
              "2  Seguimos esperando el comunicado de @norabar r...                   NaN   \n",
              "3  Seguimos esperando el comunicado de @norabar r...                   NaN   \n",
              "4  Seguimos esperando el comunicado de @norabar r...                   NaN   \n",
              "\n",
              "  in_reply_to_user_id     user.id user_retweeters sentiment  \n",
              "0                 NaN  2737379453      2258074658       NaN  \n",
              "1                 NaN  2737379453       159909978       NaN  \n",
              "2                 NaN  2737379453       105301854       NaN  \n",
              "3                 NaN  2737379453       290671142       NaN  \n",
              "4                 NaN  2737379453       208721168       NaN  "
            ]
          },
          "execution_count": 8,
          "metadata": {},
          "output_type": "execute_result"
        }
      ]
    },
    {
      "cell_type": "code",
      "metadata": {
        "colab": {
          "base_uri": "https://localhost:8080/",
          "height": 483
        },
        "id": "W_L0A1w6GF7f",
        "outputId": "9c247243-9a38-4700-d319-b0261004f128"
      },
      "source": [
        "df1 = df1.dropna(subset=['user.id','user_retweeters'])\n",
        "print(df1.shape)\n",
        "df1.head()"
      ],
      "id": "W_L0A1w6GF7f",
      "execution_count": null,
      "outputs": [
        {
          "name": "stdout",
          "output_type": "stream",
          "text": [
            "(187297, 8)\n"
          ]
        },
        {
          "data": {
            "text/html": [
              "<div>\n",
              "<style scoped>\n",
              "    .dataframe tbody tr th:only-of-type {\n",
              "        vertical-align: middle;\n",
              "    }\n",
              "\n",
              "    .dataframe tbody tr th {\n",
              "        vertical-align: top;\n",
              "    }\n",
              "\n",
              "    .dataframe thead th {\n",
              "        text-align: right;\n",
              "    }\n",
              "</style>\n",
              "<table border=\"1\" class=\"dataframe\">\n",
              "  <thead>\n",
              "    <tr style=\"text-align: right;\">\n",
              "      <th></th>\n",
              "      <th>created_at</th>\n",
              "      <th>id_str</th>\n",
              "      <th>full_text</th>\n",
              "      <th>in_reply_to_status_id</th>\n",
              "      <th>in_reply_to_user_id</th>\n",
              "      <th>user.id</th>\n",
              "      <th>user_retweeters</th>\n",
              "      <th>sentiment</th>\n",
              "    </tr>\n",
              "  </thead>\n",
              "  <tbody>\n",
              "    <tr>\n",
              "      <th>0</th>\n",
              "      <td>Sat Feb 20 03:09:10 +0000 2021</td>\n",
              "      <td>1362962469749153792</td>\n",
              "      <td>Seguimos esperando el comunicado de @norabar r...</td>\n",
              "      <td>NaN</td>\n",
              "      <td>NaN</td>\n",
              "      <td>2737379453</td>\n",
              "      <td>2258074658</td>\n",
              "      <td>NaN</td>\n",
              "    </tr>\n",
              "    <tr>\n",
              "      <th>1</th>\n",
              "      <td>Sat Feb 20 03:09:10 +0000 2021</td>\n",
              "      <td>1362962469749153792</td>\n",
              "      <td>Seguimos esperando el comunicado de @norabar r...</td>\n",
              "      <td>NaN</td>\n",
              "      <td>NaN</td>\n",
              "      <td>2737379453</td>\n",
              "      <td>159909978</td>\n",
              "      <td>NaN</td>\n",
              "    </tr>\n",
              "    <tr>\n",
              "      <th>2</th>\n",
              "      <td>Sat Feb 20 03:09:10 +0000 2021</td>\n",
              "      <td>1362962469749153792</td>\n",
              "      <td>Seguimos esperando el comunicado de @norabar r...</td>\n",
              "      <td>NaN</td>\n",
              "      <td>NaN</td>\n",
              "      <td>2737379453</td>\n",
              "      <td>105301854</td>\n",
              "      <td>NaN</td>\n",
              "    </tr>\n",
              "    <tr>\n",
              "      <th>3</th>\n",
              "      <td>Sat Feb 20 03:09:10 +0000 2021</td>\n",
              "      <td>1362962469749153792</td>\n",
              "      <td>Seguimos esperando el comunicado de @norabar r...</td>\n",
              "      <td>NaN</td>\n",
              "      <td>NaN</td>\n",
              "      <td>2737379453</td>\n",
              "      <td>290671142</td>\n",
              "      <td>NaN</td>\n",
              "    </tr>\n",
              "    <tr>\n",
              "      <th>4</th>\n",
              "      <td>Sat Feb 20 03:09:10 +0000 2021</td>\n",
              "      <td>1362962469749153792</td>\n",
              "      <td>Seguimos esperando el comunicado de @norabar r...</td>\n",
              "      <td>NaN</td>\n",
              "      <td>NaN</td>\n",
              "      <td>2737379453</td>\n",
              "      <td>208721168</td>\n",
              "      <td>NaN</td>\n",
              "    </tr>\n",
              "  </tbody>\n",
              "</table>\n",
              "</div>"
            ],
            "text/plain": [
              "                       created_at               id_str  \\\n",
              "0  Sat Feb 20 03:09:10 +0000 2021  1362962469749153792   \n",
              "1  Sat Feb 20 03:09:10 +0000 2021  1362962469749153792   \n",
              "2  Sat Feb 20 03:09:10 +0000 2021  1362962469749153792   \n",
              "3  Sat Feb 20 03:09:10 +0000 2021  1362962469749153792   \n",
              "4  Sat Feb 20 03:09:10 +0000 2021  1362962469749153792   \n",
              "\n",
              "                                           full_text in_reply_to_status_id  \\\n",
              "0  Seguimos esperando el comunicado de @norabar r...                   NaN   \n",
              "1  Seguimos esperando el comunicado de @norabar r...                   NaN   \n",
              "2  Seguimos esperando el comunicado de @norabar r...                   NaN   \n",
              "3  Seguimos esperando el comunicado de @norabar r...                   NaN   \n",
              "4  Seguimos esperando el comunicado de @norabar r...                   NaN   \n",
              "\n",
              "  in_reply_to_user_id     user.id user_retweeters sentiment  \n",
              "0                 NaN  2737379453      2258074658       NaN  \n",
              "1                 NaN  2737379453       159909978       NaN  \n",
              "2                 NaN  2737379453       105301854       NaN  \n",
              "3                 NaN  2737379453       290671142       NaN  \n",
              "4                 NaN  2737379453       208721168       NaN  "
            ]
          },
          "execution_count": 9,
          "metadata": {},
          "output_type": "execute_result"
        }
      ]
    },
    {
      "cell_type": "code",
      "metadata": {
        "id": "FmZCBvHbcXB5"
      },
      "source": [
        "dir_G =  nx.from_pandas_edgelist(df1, source='user.id', target='user_retweeters', edge_attr=None, create_using=None, edge_key=None)"
      ],
      "id": "FmZCBvHbcXB5",
      "execution_count": null,
      "outputs": []
    },
    {
      "cell_type": "code",
      "metadata": {
        "colab": {
          "base_uri": "https://localhost:8080/"
        },
        "id": "PKfXpkc6Y_i-",
        "outputId": "ee67c6ad-ae4c-4ed4-a482-db3852d2d555"
      },
      "source": [
        "print(dir_G)"
      ],
      "id": "PKfXpkc6Y_i-",
      "execution_count": null,
      "outputs": [
        {
          "name": "stdout",
          "output_type": "stream",
          "text": [
            "\n"
          ]
        }
      ]
    },
    {
      "cell_type": "code",
      "metadata": {
        "id": "uS0-MbdFMm7K"
      },
      "source": [
        "#METRICAS GLOBALES CON NETWORKX"
      ],
      "id": "uS0-MbdFMm7K",
      "execution_count": null,
      "outputs": []
    },
    {
      "cell_type": "code",
      "metadata": {
        "colab": {
          "base_uri": "https://localhost:8080/"
        },
        "id": "bxX4Ft3wMm2I",
        "outputId": "bceeacb3-5cd6-44c8-8cf9-45c1b80a50bf"
      },
      "source": [
        "print(nx.info(dir_G))"
      ],
      "id": "bxX4Ft3wMm2I",
      "execution_count": null,
      "outputs": [
        {
          "name": "stdout",
          "output_type": "stream",
          "text": [
            "Name: \n",
            "Type: Graph\n",
            "Number of nodes: 39800\n",
            "Number of edges: 93404\n",
            "Average degree:   4.6937\n"
          ]
        }
      ]
    },
    {
      "cell_type": "code",
      "metadata": {
        "id": "otoNLe3fMmwL"
      },
      "source": [
        "#lista de grados del grafo\n",
        "grados = [val for (node, val) in dir_G.degree()]\n"
      ],
      "id": "otoNLe3fMmwL",
      "execution_count": null,
      "outputs": []
    },
    {
      "cell_type": "code",
      "metadata": {
        "colab": {
          "base_uri": "https://localhost:8080/"
        },
        "id": "C0Qmrkz0QkIa",
        "outputId": "8de04b96-7fee-473d-d4df-9a49dc2abb9f"
      },
      "source": [
        "#grado medio:promedio de los grados de cada nodo\n",
        "grado_medio= sum(grados)/len(grados)\n",
        "print(grado_medio)"
      ],
      "id": "C0Qmrkz0QkIa",
      "execution_count": null,
      "outputs": [
        {
          "name": "stdout",
          "output_type": "stream",
          "text": [
            "4.693668341708543\n"
          ]
        }
      ]
    },
    {
      "cell_type": "code",
      "metadata": {
        "colab": {
          "base_uri": "https://localhost:8080/"
        },
        "id": "rFBZIgSEQj0V",
        "outputId": "5af40145-d118-421b-b2b4-11c7fddc4a8e"
      },
      "source": [
        "#ASORTATIVIDAD BASADA EN EL GRADO; DEGREE CORRELATION; DEGREE ASSORTATIVITY\n",
        "r = nx.degree_assortativity_coefficient(dir_G)\n",
        "print(r)\n",
        "#el valor negativo indica  que la red es DISORTATIVA\n"
      ],
      "id": "rFBZIgSEQj0V",
      "execution_count": null,
      "outputs": [
        {
          "name": "stdout",
          "output_type": "stream",
          "text": [
            "-0.2213190254294169\n"
          ]
        }
      ]
    },
    {
      "cell_type": "code",
      "metadata": {
        "colab": {
          "base_uri": "https://localhost:8080/"
        },
        "id": "MoD80t79MmuN",
        "outputId": "dc33222d-a827-4c36-f876-bfb7468c5200"
      },
      "source": [
        "#Construimos un DataFrame de pandas para almacenar la estadística de los nodos\n",
        "df3 = pd.DataFrame(index=list(dir_G.nodes()))\n",
        "df3.shape"
      ],
      "id": "MoD80t79MmuN",
      "execution_count": null,
      "outputs": [
        {
          "data": {
            "text/plain": [
              "(39800, 0)"
            ]
          },
          "execution_count": 18,
          "metadata": {},
          "output_type": "execute_result"
        }
      ]
    },
    {
      "cell_type": "markdown",
      "metadata": {
        "id": "Fk3Le0_wXBnk"
      },
      "source": [
        "# TRANSITIVIDAD Coeficiente de clustering "
      ],
      "id": "Fk3Le0_wXBnk"
    },
    {
      "cell_type": "code",
      "metadata": {
        "colab": {
          "base_uri": "https://localhost:8080/",
          "height": 423
        },
        "id": "8jnt0l-AW5b5",
        "outputId": "f93ca306-c27f-4661-f628-3eb01fcf8578"
      },
      "source": [
        "clustering_coefficient = nx.clustering(dir_G)\n",
        "df3['Cws'] = list(clustering_coefficient.values())\n",
        "df3"
      ],
      "id": "8jnt0l-AW5b5",
      "execution_count": null,
      "outputs": [
        {
          "data": {
            "text/html": [
              "<div>\n",
              "<style scoped>\n",
              "    .dataframe tbody tr th:only-of-type {\n",
              "        vertical-align: middle;\n",
              "    }\n",
              "\n",
              "    .dataframe tbody tr th {\n",
              "        vertical-align: top;\n",
              "    }\n",
              "\n",
              "    .dataframe thead th {\n",
              "        text-align: right;\n",
              "    }\n",
              "</style>\n",
              "<table border=\"1\" class=\"dataframe\">\n",
              "  <thead>\n",
              "    <tr style=\"text-align: right;\">\n",
              "      <th></th>\n",
              "      <th>Cws</th>\n",
              "    </tr>\n",
              "  </thead>\n",
              "  <tbody>\n",
              "    <tr>\n",
              "      <th>2737379453</th>\n",
              "      <td>0.000000</td>\n",
              "    </tr>\n",
              "    <tr>\n",
              "      <th>2258074658</th>\n",
              "      <td>0.052632</td>\n",
              "    </tr>\n",
              "    <tr>\n",
              "      <th>159909978</th>\n",
              "      <td>0.000000</td>\n",
              "    </tr>\n",
              "    <tr>\n",
              "      <th>105301854</th>\n",
              "      <td>0.066667</td>\n",
              "    </tr>\n",
              "    <tr>\n",
              "      <th>290671142</th>\n",
              "      <td>0.066667</td>\n",
              "    </tr>\n",
              "    <tr>\n",
              "      <th>...</th>\n",
              "      <td>...</td>\n",
              "    </tr>\n",
              "    <tr>\n",
              "      <th>2765081259</th>\n",
              "      <td>0.000000</td>\n",
              "    </tr>\n",
              "    <tr>\n",
              "      <th>339254354</th>\n",
              "      <td>0.000000</td>\n",
              "    </tr>\n",
              "    <tr>\n",
              "      <th>346605471</th>\n",
              "      <td>0.000000</td>\n",
              "    </tr>\n",
              "    <tr>\n",
              "      <th>58065646</th>\n",
              "      <td>0.000000</td>\n",
              "    </tr>\n",
              "    <tr>\n",
              "      <th>823874633216692225</th>\n",
              "      <td>0.000000</td>\n",
              "    </tr>\n",
              "  </tbody>\n",
              "</table>\n",
              "<p>39800 rows × 1 columns</p>\n",
              "</div>"
            ],
            "text/plain": [
              "                         Cws\n",
              "2737379453          0.000000\n",
              "2258074658          0.052632\n",
              "159909978           0.000000\n",
              "105301854           0.066667\n",
              "290671142           0.066667\n",
              "...                      ...\n",
              "2765081259          0.000000\n",
              "339254354           0.000000\n",
              "346605471           0.000000\n",
              "58065646            0.000000\n",
              "823874633216692225  0.000000\n",
              "\n",
              "[39800 rows x 1 columns]"
            ]
          },
          "execution_count": 19,
          "metadata": {},
          "output_type": "execute_result"
        }
      ]
    },
    {
      "cell_type": "markdown",
      "metadata": {
        "id": "iSEb7ahjhErE"
      },
      "source": [
        "# **2.-CENTRALIDAD** "
      ],
      "id": "iSEb7ahjhErE"
    },
    {
      "cell_type": "code",
      "metadata": {
        "id": "xGip7Ad7k1oV"
      },
      "source": [
        "deg_centrality = nx.degree_centrality(dir_G)\n"
      ],
      "id": "xGip7Ad7k1oV",
      "execution_count": null,
      "outputs": []
    },
    {
      "cell_type": "code",
      "metadata": {
        "id": "WJiujkYdl37r"
      },
      "source": [
        "pr = nx.pagerank(dir_G, alpha = 0.8)"
      ],
      "id": "WJiujkYdl37r",
      "execution_count": null,
      "outputs": []
    },
    {
      "cell_type": "code",
      "metadata": {
        "id": "HqHpUurNm0kZ"
      },
      "source": [
        "df3['degree_cent'] = list(deg_centrality.values())\n",
        "df3['page_rank'] = list(pr.values())"
      ],
      "id": "HqHpUurNm0kZ",
      "execution_count": null,
      "outputs": []
    },
    {
      "cell_type": "code",
      "metadata": {
        "id": "0e4hZSWuo5qi"
      },
      "source": [
        "#NO SE PROCESARON BETWENESS Y CLOSENESS . DESPUES DE DOS HORAS NO SE HABIA OBTENIDO RESULTADOS conNETWORK.\n",
        "#EN clase recomendaron usar otra libreria (igraph) "
      ],
      "id": "0e4hZSWuo5qi",
      "execution_count": null,
      "outputs": []
    },
    {
      "cell_type": "code",
      "metadata": {
        "id": "kl-KNZTpnKDB"
      },
      "source": [
        "#estas fueron las metricas calculadas con networkx\n",
        "df3"
      ],
      "id": "kl-KNZTpnKDB",
      "execution_count": null,
      "outputs": []
    },
    {
      "cell_type": "markdown",
      "metadata": {
        "id": "Th0lgb8XCuYi"
      },
      "source": [
        "# CALCULO DE METRICAS USANDO IGRAPH (mas rapido)\n",
        "primero hay que hacer el grafo en igrapgh"
      ],
      "id": "Th0lgb8XCuYi"
    },
    {
      "cell_type": "code",
      "metadata": {
        "colab": {
          "base_uri": "https://localhost:8080/"
        },
        "id": "DpGfbv4kCpuz",
        "outputId": "60b212fe-de93-4c60-a241-682751e2021b"
      },
      "source": [
        "#ESTE CODIGO CONSTRUYE UN GRAFO para igraph a partir de los edges de nx\n",
        "#OJO el grafo de nx se llama dir_G, el de igraph g_ig\n",
        "#referencia: https://igraph.discourse.group/t/how-to-create-a-graph-from-pandas-dataframes/34/2\n",
        "\n",
        "g_ig = ig.Graph.TupleList(dir_G.edges())\n",
        "print(g_ig.summary())"
      ],
      "id": "DpGfbv4kCpuz",
      "execution_count": null,
      "outputs": [
        {
          "name": "stdout",
          "output_type": "stream",
          "text": [
            "IGRAPH UN-- 39800 93404 -- \n",
            "+ attr: name (v)\n"
          ]
        }
      ]
    },
    {
      "cell_type": "code",
      "metadata": {
        "id": "lS5b2JoxAWC-"
      },
      "source": [
        "df4 = pd.DataFrame({'user':list(dir_G.nodes())})"
      ],
      "id": "lS5b2JoxAWC-",
      "execution_count": null,
      "outputs": []
    },
    {
      "cell_type": "code",
      "metadata": {
        "id": "g-XJ9rsVDs-s"
      },
      "source": [
        "#PARA SACAR EL GRADO POR USUARIO\n",
        "deg_seq = np.array([k for v, k in dir_G.degree()])\n",
        "df4['degree'] = deg_seq"
      ],
      "id": "g-XJ9rsVDs-s",
      "execution_count": null,
      "outputs": []
    },
    {
      "cell_type": "code",
      "metadata": {
        "id": "R1Xu2hcz5IMR"
      },
      "source": [
        "#CALCULAMOS METRICAS CON AMBOS GRAFOS (el mismo en realidad) (OSEA DIFERENTES LIBRERIAS NX e IGRAPH)\n",
        "betweenness = g_ig.betweenness()\n",
        "eigenvector = nx.eigenvector_centrality(dir_G,max_iter=1000)\n",
        "pagerank = nx.pagerank(dir_G)\n",
        "clustering_coefficient =  nx.clustering(dir_G)"
      ],
      "id": "R1Xu2hcz5IMR",
      "execution_count": null,
      "outputs": []
    },
    {
      "cell_type": "code",
      "metadata": {
        "id": "hV-yHKpcCpj3"
      },
      "source": [
        "#df3['degree_cent'] = list(deg_centrality.values())\n",
        "#df3['page_rank'] = list(pr.values())\n"
      ],
      "id": "hV-yHKpcCpj3",
      "execution_count": null,
      "outputs": []
    },
    {
      "cell_type": "code",
      "metadata": {
        "id": "S0rcsqMaCpiT"
      },
      "source": [
        "df4['betweenness'] = betweenness\n",
        "df4['eigenvector'] = list(eigenvector.values())\n",
        "df4['pagerank'] = list(pagerank.values())\n",
        "df4['Cws'] = list(clustering_coefficient.values())"
      ],
      "id": "S0rcsqMaCpiT",
      "execution_count": null,
      "outputs": []
    },
    {
      "cell_type": "code",
      "metadata": {
        "colab": {
          "base_uri": "https://localhost:8080/",
          "height": 423
        },
        "id": "PGtWXlMz5-8K",
        "outputId": "839b3d2b-7a95-4cd9-ff06-b1d9dafb03e7"
      },
      "source": [
        "#lista de usuarios con metricas\n",
        "df4"
      ],
      "id": "PGtWXlMz5-8K",
      "execution_count": null,
      "outputs": [
        {
          "data": {
            "text/html": [
              "<div>\n",
              "<style scoped>\n",
              "    .dataframe tbody tr th:only-of-type {\n",
              "        vertical-align: middle;\n",
              "    }\n",
              "\n",
              "    .dataframe tbody tr th {\n",
              "        vertical-align: top;\n",
              "    }\n",
              "\n",
              "    .dataframe thead th {\n",
              "        text-align: right;\n",
              "    }\n",
              "</style>\n",
              "<table border=\"1\" class=\"dataframe\">\n",
              "  <thead>\n",
              "    <tr style=\"text-align: right;\">\n",
              "      <th></th>\n",
              "      <th>user</th>\n",
              "      <th>degree</th>\n",
              "      <th>betweenness</th>\n",
              "      <th>eigenvector</th>\n",
              "      <th>pagerank</th>\n",
              "      <th>Cws</th>\n",
              "    </tr>\n",
              "  </thead>\n",
              "  <tbody>\n",
              "    <tr>\n",
              "      <th>0</th>\n",
              "      <td>2737379453</td>\n",
              "      <td>9</td>\n",
              "      <td>78111.640852</td>\n",
              "      <td>2.838107e-04</td>\n",
              "      <td>0.000039</td>\n",
              "      <td>0.000000</td>\n",
              "    </tr>\n",
              "    <tr>\n",
              "      <th>1</th>\n",
              "      <td>2258074658</td>\n",
              "      <td>19</td>\n",
              "      <td>130535.561685</td>\n",
              "      <td>3.454472e-03</td>\n",
              "      <td>0.000069</td>\n",
              "      <td>0.052632</td>\n",
              "    </tr>\n",
              "    <tr>\n",
              "      <th>2</th>\n",
              "      <td>159909978</td>\n",
              "      <td>1</td>\n",
              "      <td>0.000000</td>\n",
              "      <td>2.843847e-06</td>\n",
              "      <td>0.000007</td>\n",
              "      <td>0.000000</td>\n",
              "    </tr>\n",
              "    <tr>\n",
              "      <th>3</th>\n",
              "      <td>105301854</td>\n",
              "      <td>10</td>\n",
              "      <td>31376.713412</td>\n",
              "      <td>4.058465e-03</td>\n",
              "      <td>0.000036</td>\n",
              "      <td>0.066667</td>\n",
              "    </tr>\n",
              "    <tr>\n",
              "      <th>4</th>\n",
              "      <td>290671142</td>\n",
              "      <td>15</td>\n",
              "      <td>291383.100735</td>\n",
              "      <td>4.518420e-03</td>\n",
              "      <td>0.000056</td>\n",
              "      <td>0.066667</td>\n",
              "    </tr>\n",
              "    <tr>\n",
              "      <th>...</th>\n",
              "      <td>...</td>\n",
              "      <td>...</td>\n",
              "      <td>...</td>\n",
              "      <td>...</td>\n",
              "      <td>...</td>\n",
              "      <td>...</td>\n",
              "    </tr>\n",
              "    <tr>\n",
              "      <th>39795</th>\n",
              "      <td>2765081259</td>\n",
              "      <td>1</td>\n",
              "      <td>0.000000</td>\n",
              "      <td>6.135485e-202</td>\n",
              "      <td>0.000025</td>\n",
              "      <td>0.000000</td>\n",
              "    </tr>\n",
              "    <tr>\n",
              "      <th>39796</th>\n",
              "      <td>339254354</td>\n",
              "      <td>6</td>\n",
              "      <td>0.000000</td>\n",
              "      <td>1.768450e-04</td>\n",
              "      <td>0.000031</td>\n",
              "      <td>0.000000</td>\n",
              "    </tr>\n",
              "    <tr>\n",
              "      <th>39797</th>\n",
              "      <td>346605471</td>\n",
              "      <td>1</td>\n",
              "      <td>0.000000</td>\n",
              "      <td>1.771173e-06</td>\n",
              "      <td>0.000008</td>\n",
              "      <td>0.000000</td>\n",
              "    </tr>\n",
              "    <tr>\n",
              "      <th>39798</th>\n",
              "      <td>58065646</td>\n",
              "      <td>1</td>\n",
              "      <td>0.000000</td>\n",
              "      <td>9.438337e-05</td>\n",
              "      <td>0.000006</td>\n",
              "      <td>0.000000</td>\n",
              "    </tr>\n",
              "    <tr>\n",
              "      <th>39799</th>\n",
              "      <td>823874633216692225</td>\n",
              "      <td>1</td>\n",
              "      <td>0.000000</td>\n",
              "      <td>1.030020e-04</td>\n",
              "      <td>0.000007</td>\n",
              "      <td>0.000000</td>\n",
              "    </tr>\n",
              "  </tbody>\n",
              "</table>\n",
              "<p>39800 rows × 6 columns</p>\n",
              "</div>"
            ],
            "text/plain": [
              "                     user  degree    betweenness    eigenvector  pagerank  \\\n",
              "0              2737379453       9   78111.640852   2.838107e-04  0.000039   \n",
              "1              2258074658      19  130535.561685   3.454472e-03  0.000069   \n",
              "2               159909978       1       0.000000   2.843847e-06  0.000007   \n",
              "3               105301854      10   31376.713412   4.058465e-03  0.000036   \n",
              "4               290671142      15  291383.100735   4.518420e-03  0.000056   \n",
              "...                   ...     ...            ...            ...       ...   \n",
              "39795          2765081259       1       0.000000  6.135485e-202  0.000025   \n",
              "39796           339254354       6       0.000000   1.768450e-04  0.000031   \n",
              "39797           346605471       1       0.000000   1.771173e-06  0.000008   \n",
              "39798            58065646       1       0.000000   9.438337e-05  0.000006   \n",
              "39799  823874633216692225       1       0.000000   1.030020e-04  0.000007   \n",
              "\n",
              "            Cws  \n",
              "0      0.000000  \n",
              "1      0.052632  \n",
              "2      0.000000  \n",
              "3      0.066667  \n",
              "4      0.066667  \n",
              "...         ...  \n",
              "39795  0.000000  \n",
              "39796  0.000000  \n",
              "39797  0.000000  \n",
              "39798  0.000000  \n",
              "39799  0.000000  \n",
              "\n",
              "[39800 rows x 6 columns]"
            ]
          },
          "execution_count": 28,
          "metadata": {},
          "output_type": "execute_result"
        }
      ]
    },
    {
      "cell_type": "code",
      "metadata": {
        "colab": {
          "base_uri": "https://localhost:8080/",
          "height": 300
        },
        "id": "VW1RHNvR5-s4",
        "outputId": "de3ea2f5-123f-41ca-9557-0fef71388e4e"
      },
      "source": [
        "#descripcion del dataframe\n",
        "df4.describe().round(4)"
      ],
      "id": "VW1RHNvR5-s4",
      "execution_count": null,
      "outputs": [
        {
          "data": {
            "text/html": [
              "<div>\n",
              "<style scoped>\n",
              "    .dataframe tbody tr th:only-of-type {\n",
              "        vertical-align: middle;\n",
              "    }\n",
              "\n",
              "    .dataframe tbody tr th {\n",
              "        vertical-align: top;\n",
              "    }\n",
              "\n",
              "    .dataframe thead th {\n",
              "        text-align: right;\n",
              "    }\n",
              "</style>\n",
              "<table border=\"1\" class=\"dataframe\">\n",
              "  <thead>\n",
              "    <tr style=\"text-align: right;\">\n",
              "      <th></th>\n",
              "      <th>degree</th>\n",
              "      <th>betweenness</th>\n",
              "      <th>eigenvector</th>\n",
              "      <th>pagerank</th>\n",
              "      <th>Cws</th>\n",
              "    </tr>\n",
              "  </thead>\n",
              "  <tbody>\n",
              "    <tr>\n",
              "      <th>count</th>\n",
              "      <td>39800.0000</td>\n",
              "      <td>3.980000e+04</td>\n",
              "      <td>39800.0000</td>\n",
              "      <td>39800.0000</td>\n",
              "      <td>39800.0000</td>\n",
              "    </tr>\n",
              "    <tr>\n",
              "      <th>mean</th>\n",
              "      <td>4.6937</td>\n",
              "      <td>5.310058e+04</td>\n",
              "      <td>0.0025</td>\n",
              "      <td>0.0000</td>\n",
              "      <td>0.0999</td>\n",
              "    </tr>\n",
              "    <tr>\n",
              "      <th>std</th>\n",
              "      <td>69.3028</td>\n",
              "      <td>2.036286e+06</td>\n",
              "      <td>0.0044</td>\n",
              "      <td>0.0004</td>\n",
              "      <td>0.2427</td>\n",
              "    </tr>\n",
              "    <tr>\n",
              "      <th>min</th>\n",
              "      <td>1.0000</td>\n",
              "      <td>0.000000e+00</td>\n",
              "      <td>0.0000</td>\n",
              "      <td>0.0000</td>\n",
              "      <td>0.0000</td>\n",
              "    </tr>\n",
              "    <tr>\n",
              "      <th>25%</th>\n",
              "      <td>1.0000</td>\n",
              "      <td>0.000000e+00</td>\n",
              "      <td>0.0002</td>\n",
              "      <td>0.0000</td>\n",
              "      <td>0.0000</td>\n",
              "    </tr>\n",
              "    <tr>\n",
              "      <th>50%</th>\n",
              "      <td>1.0000</td>\n",
              "      <td>0.000000e+00</td>\n",
              "      <td>0.0018</td>\n",
              "      <td>0.0000</td>\n",
              "      <td>0.0000</td>\n",
              "    </tr>\n",
              "    <tr>\n",
              "      <th>75%</th>\n",
              "      <td>3.0000</td>\n",
              "      <td>2.133929e+03</td>\n",
              "      <td>0.0035</td>\n",
              "      <td>0.0000</td>\n",
              "      <td>0.0000</td>\n",
              "    </tr>\n",
              "    <tr>\n",
              "      <th>max</th>\n",
              "      <td>8207.0000</td>\n",
              "      <td>2.703364e+08</td>\n",
              "      <td>0.3597</td>\n",
              "      <td>0.0410</td>\n",
              "      <td>1.0000</td>\n",
              "    </tr>\n",
              "  </tbody>\n",
              "</table>\n",
              "</div>"
            ],
            "text/plain": [
              "           degree   betweenness  eigenvector    pagerank         Cws\n",
              "count  39800.0000  3.980000e+04   39800.0000  39800.0000  39800.0000\n",
              "mean       4.6937  5.310058e+04       0.0025      0.0000      0.0999\n",
              "std       69.3028  2.036286e+06       0.0044      0.0004      0.2427\n",
              "min        1.0000  0.000000e+00       0.0000      0.0000      0.0000\n",
              "25%        1.0000  0.000000e+00       0.0002      0.0000      0.0000\n",
              "50%        1.0000  0.000000e+00       0.0018      0.0000      0.0000\n",
              "75%        3.0000  2.133929e+03       0.0035      0.0000      0.0000\n",
              "max     8207.0000  2.703364e+08       0.3597      0.0410      1.0000"
            ]
          },
          "execution_count": 29,
          "metadata": {},
          "output_type": "execute_result"
        }
      ]
    },
    {
      "cell_type": "markdown",
      "metadata": {
        "id": "ctAvI9cMCdeh"
      },
      "source": [
        "**Hacer un ranking con los 10 nodos más centrales para cada métrica. ¿Hay coincidencia entre los rankings?. ¿Qué características tienen los usuarios más centrales y sus respectivos tweets?**"
      ],
      "id": "ctAvI9cMCdeh"
    },
    {
      "cell_type": "code",
      "metadata": {
        "colab": {
          "base_uri": "https://localhost:8080/",
          "height": 363
        },
        "id": "x44M6XE7Cif_",
        "outputId": "8c1ab12e-d73e-4783-ad43-0d38cf3ed2bc"
      },
      "source": [
        "#hay que usar el df4 (OJO)\n",
        "data = {}\n",
        "columns=['Cws','eigenvector','betweenness','pagerank', 'degree']\n",
        "for col in columns:\n",
        "    top_users = df4.nlargest(10, columns=[col])['user'].tolist()\n",
        "    data[col] = top_users\n",
        "pd.DataFrame(data)\n"
      ],
      "id": "x44M6XE7Cif_",
      "execution_count": null,
      "outputs": [
        {
          "data": {
            "text/html": [
              "<div>\n",
              "<style scoped>\n",
              "    .dataframe tbody tr th:only-of-type {\n",
              "        vertical-align: middle;\n",
              "    }\n",
              "\n",
              "    .dataframe tbody tr th {\n",
              "        vertical-align: top;\n",
              "    }\n",
              "\n",
              "    .dataframe thead th {\n",
              "        text-align: right;\n",
              "    }\n",
              "</style>\n",
              "<table border=\"1\" class=\"dataframe\">\n",
              "  <thead>\n",
              "    <tr style=\"text-align: right;\">\n",
              "      <th></th>\n",
              "      <th>Cws</th>\n",
              "      <th>eigenvector</th>\n",
              "      <th>betweenness</th>\n",
              "      <th>pagerank</th>\n",
              "      <th>degree</th>\n",
              "    </tr>\n",
              "  </thead>\n",
              "  <tbody>\n",
              "    <tr>\n",
              "      <th>0</th>\n",
              "      <td>1174097745948422145</td>\n",
              "      <td>130979339</td>\n",
              "      <td>1279224657124753408</td>\n",
              "      <td>252168075</td>\n",
              "      <td>252168075</td>\n",
              "    </tr>\n",
              "    <tr>\n",
              "      <th>1</th>\n",
              "      <td>853780872268582918</td>\n",
              "      <td>73102744</td>\n",
              "      <td>494403809</td>\n",
              "      <td>130979339</td>\n",
              "      <td>130979339</td>\n",
              "    </tr>\n",
              "    <tr>\n",
              "      <th>2</th>\n",
              "      <td>4196856351</td>\n",
              "      <td>252168075</td>\n",
              "      <td>282035279</td>\n",
              "      <td>73102744</td>\n",
              "      <td>73102744</td>\n",
              "    </tr>\n",
              "    <tr>\n",
              "      <th>3</th>\n",
              "      <td>146536143</td>\n",
              "      <td>367933714</td>\n",
              "      <td>2438934815</td>\n",
              "      <td>593189095</td>\n",
              "      <td>367933714</td>\n",
              "    </tr>\n",
              "    <tr>\n",
              "      <th>4</th>\n",
              "      <td>143773881</td>\n",
              "      <td>2687724840</td>\n",
              "      <td>606632391</td>\n",
              "      <td>367933714</td>\n",
              "      <td>593189095</td>\n",
              "    </tr>\n",
              "    <tr>\n",
              "      <th>5</th>\n",
              "      <td>4496914043</td>\n",
              "      <td>593189095</td>\n",
              "      <td>746541413131755520</td>\n",
              "      <td>2687724840</td>\n",
              "      <td>2687724840</td>\n",
              "    </tr>\n",
              "    <tr>\n",
              "      <th>6</th>\n",
              "      <td>1285717706545782785</td>\n",
              "      <td>312708081</td>\n",
              "      <td>4198026022</td>\n",
              "      <td>144929758</td>\n",
              "      <td>931564592328781824</td>\n",
              "    </tr>\n",
              "    <tr>\n",
              "      <th>7</th>\n",
              "      <td>603864949</td>\n",
              "      <td>144929758</td>\n",
              "      <td>1670584596</td>\n",
              "      <td>931564592328781824</td>\n",
              "      <td>144929758</td>\n",
              "    </tr>\n",
              "    <tr>\n",
              "      <th>8</th>\n",
              "      <td>903044413</td>\n",
              "      <td>931564592328781824</td>\n",
              "      <td>277289445</td>\n",
              "      <td>312708081</td>\n",
              "      <td>312708081</td>\n",
              "    </tr>\n",
              "    <tr>\n",
              "      <th>9</th>\n",
              "      <td>889630770779877377</td>\n",
              "      <td>959033548379508736</td>\n",
              "      <td>1252422390946115584</td>\n",
              "      <td>1077176953</td>\n",
              "      <td>1077176953</td>\n",
              "    </tr>\n",
              "  </tbody>\n",
              "</table>\n",
              "</div>"
            ],
            "text/plain": [
              "                   Cws         eigenvector          betweenness  \\\n",
              "0  1174097745948422145           130979339  1279224657124753408   \n",
              "1   853780872268582918            73102744            494403809   \n",
              "2           4196856351           252168075            282035279   \n",
              "3            146536143           367933714           2438934815   \n",
              "4            143773881          2687724840            606632391   \n",
              "5           4496914043           593189095   746541413131755520   \n",
              "6  1285717706545782785           312708081           4198026022   \n",
              "7            603864949           144929758           1670584596   \n",
              "8            903044413  931564592328781824            277289445   \n",
              "9   889630770779877377  959033548379508736  1252422390946115584   \n",
              "\n",
              "             pagerank              degree  \n",
              "0           252168075           252168075  \n",
              "1           130979339           130979339  \n",
              "2            73102744            73102744  \n",
              "3           593189095           367933714  \n",
              "4           367933714           593189095  \n",
              "5          2687724840          2687724840  \n",
              "6           144929758  931564592328781824  \n",
              "7  931564592328781824           144929758  \n",
              "8           312708081           312708081  \n",
              "9          1077176953          1077176953  "
            ]
          },
          "execution_count": 30,
          "metadata": {},
          "output_type": "execute_result"
        }
      ]
    },
    {
      "cell_type": "code",
      "metadata": {
        "colab": {
          "base_uri": "https://localhost:8080/"
        },
        "id": "6MuhBIr2Ch0l",
        "outputId": "4db084da-d6c0-4964-9381-c09f10a348e8"
      },
      "source": [
        "#VER SI HAY USUARIOS QUE CONSISTENTEMENTE ESTAN EL TOP 10 EN mas de una METRICAS\n",
        "pd.DataFrame(np.concatenate(list(data.values()))).value_counts()"
      ],
      "id": "6MuhBIr2Ch0l",
      "execution_count": null,
      "outputs": [
        {
          "data": {
            "text/plain": [
              "312708081              3\n",
              "252168075              3\n",
              "931564592328781824     3\n",
              "73102744               3\n",
              "593189095              3\n",
              "130979339              3\n",
              "367933714              3\n",
              "144929758              3\n",
              "2687724840             3\n",
              "1077176953             2\n",
              "2438934815             1\n",
              "1285717706545782785    1\n",
              "1252422390946115584    1\n",
              "903044413              1\n",
              "889630770779877377     1\n",
              "853780872268582918     1\n",
              "746541413131755520     1\n",
              "1279224657124753408    1\n",
              "606632391              1\n",
              "603864949              1\n",
              "494403809              1\n",
              "1670584596             1\n",
              "4496914043             1\n",
              "4198026022             1\n",
              "4196856351             1\n",
              "143773881              1\n",
              "1174097745948422145    1\n",
              "282035279              1\n",
              "277289445              1\n",
              "146536143              1\n",
              "959033548379508736     1\n",
              "dtype: int64"
            ]
          },
          "execution_count": 31,
          "metadata": {},
          "output_type": "execute_result"
        }
      ]
    },
    {
      "cell_type": "markdown",
      "metadata": {
        "id": "xXEShk-NFI0g"
      },
      "source": [
        "CONCLUSION: Hay usuarios que se repiten en el top 10 de cada una de las métricas. Busco algunos de ellos y veo que  tweets emitieron estos usuarios."
      ],
      "id": "xXEShk-NFI0g"
    },
    {
      "cell_type": "markdown",
      "metadata": {
        "id": "JnDGKVzkFmCF"
      },
      "source": [
        "Los siguientes usuarios tienen muchos seguidores y posiciones antagonicas\n",
        "\n",
        "Usuario  252168075: https://twitter.com/norabar (PRO-VACUN/GOBIERNO ACTUAL)\n",
        "\n",
        "Usuario 130979339: https://twitter.com/spitta1969 (ANTIVACUNA/ ANTIGOBIERNO ACTUAL)"
      ],
      "id": "JnDGKVzkFmCF"
    },
    {
      "cell_type": "markdown",
      "metadata": {
        "id": "6uRmMorE7vtS"
      },
      "source": [
        "### **3. COMUNIDADES**"
      ],
      "id": "6uRmMorE7vtS"
    },
    {
      "cell_type": "markdown",
      "metadata": {
        "id": "DcYXqexLxYeB"
      },
      "source": [
        "\n",
        "\n",
        "Utilizar el algoritmo de Louvain con el parámetro \"resolución\" igual a 1. Caracterizar las comunidades halladas (cantidad, distribución de tamaños). Utilizar la modularidad y otras dos métricas a elección para evaluar la calidad de la partición encontrada.\n",
        "\n",
        "Variar el parámetro \"resolución\" y observar cómo cambia la distribución de comunidades encontradas. ¿Existe algún valor para el cual se identifiquen dos grandes comunidades?\n",
        "\n",
        "Elegir otro algoritmo de detección de comunidades y comparar los resultados con los obtenidos anteriormente."
      ],
      "id": "DcYXqexLxYeB"
    },
    {
      "cell_type": "code",
      "metadata": {
        "colab": {
          "base_uri": "https://localhost:8080/"
        },
        "id": "AoSAWqjYHO6-",
        "outputId": "15284a55-af02-4020-dfab-533c9cd47f4f"
      },
      "source": [
        "!pip install cdlib\n",
        "#ME FALTA INSTALAR cdlib"
      ],
      "id": "AoSAWqjYHO6-",
      "execution_count": null,
      "outputs": [
        {
          "name": "stdout",
          "output_type": "stream",
          "text": [
            "Requirement already satisfied: cdlib in c:\\users\\rafael\\anaconda3\\lib\\site-packages (0.2.5)\n",
            "Requirement already satisfied: python-louvain in c:\\users\\rafael\\anaconda3\\lib\\site-packages (from cdlib) (0.15)\n",
            "Requirement already satisfied: infomap in c:\\users\\rafael\\anaconda3\\lib\\site-packages (from cdlib) (1.9.0)\n",
            "Requirement already satisfied: leidenalg in c:\\users\\rafael\\anaconda3\\lib\\site-packages (from cdlib) (0.8.8)\n",
            "Requirement already satisfied: eva-lcd in c:\\users\\rafael\\anaconda3\\lib\\site-packages (from cdlib) (0.1.1)\n",
            "Requirement already satisfied: python-igraph in c:\\users\\rafael\\anaconda3\\lib\\site-packages (from cdlib) (0.9.8)\n",
            "Requirement already satisfied: dynetx in c:\\users\\rafael\\anaconda3\\lib\\site-packages (from cdlib) (0.3.1)\n",
            "Requirement already satisfied: matplotlib in c:\\users\\rafael\\anaconda3\\lib\\site-packages (from cdlib) (3.3.4)\n",
            "Requirement already satisfied: numpy in c:\\users\\rafael\\anaconda3\\lib\\site-packages (from cdlib) (1.19.2)\n",
            "Requirement already satisfied: demon in c:\\users\\rafael\\anaconda3\\lib\\site-packages (from cdlib) (2.0.6)\n",
            "Requirement already satisfied: bimlpa in c:\\users\\rafael\\anaconda3\\lib\\site-packages (from cdlib) (0.1.2)\n",
            "Requirement already satisfied: scikit-learn in c:\\users\\rafael\\anaconda3\\lib\\site-packages (from cdlib) (0.23.2)\n",
            "Requirement already satisfied: pandas in c:\\users\\rafael\\anaconda3\\lib\\site-packages (from cdlib) (1.2.1)\n",
            "Requirement already satisfied: pooch in c:\\users\\rafael\\anaconda3\\lib\\site-packages (from cdlib) (1.5.2)\n",
            "Requirement already satisfied: chinese-whispers in c:\\users\\rafael\\anaconda3\\lib\\site-packages (from cdlib) (0.7.5)\n",
            "Requirement already satisfied: pyclustering in c:\\users\\rafael\\anaconda3\\lib\\site-packages (from cdlib) (0.10.1.2)\n",
            "Requirement already satisfied: future in c:\\users\\rafael\\anaconda3\\lib\\site-packages (from cdlib) (0.18.2)\n",
            "Requirement already satisfied: markov-clustering in c:\\users\\rafael\\anaconda3\\lib\\site-packages (from cdlib) (0.0.6.dev0)\n",
            "Requirement already satisfied: thresholdclustering in c:\\users\\rafael\\anaconda3\\lib\\site-packages (from cdlib) (1.1)\n",
            "Requirement already satisfied: networkx>=2.4 in c:\\users\\rafael\\anaconda3\\lib\\site-packages (from cdlib) (2.5)\n",
            "Requirement already satisfied: nf1 in c:\\users\\rafael\\anaconda3\\lib\\site-packages (from cdlib) (0.0.4)\n",
            "Requirement already satisfied: wurlitzer in c:\\users\\rafael\\anaconda3\\lib\\site-packages (from cdlib) (3.0.2)\n",
            "Requirement already satisfied: scipy in c:\\users\\rafael\\anaconda3\\lib\\site-packages (from cdlib) (1.6.0)\n",
            "Requirement already satisfied: karateclub in c:\\users\\rafael\\anaconda3\\lib\\site-packages (from cdlib) (1.2.2)\n",
            "Requirement already satisfied: cython in c:\\users\\rafael\\appdata\\roaming\\python\\python38\\site-packages (from cdlib) (0.29.23)\n",
            "Requirement already satisfied: python-Levenshtein in c:\\users\\rafael\\anaconda3\\lib\\site-packages (from cdlib) (0.12.2)\n",
            "Requirement already satisfied: tqdm in c:\\users\\rafael\\appdata\\roaming\\python\\python38\\site-packages (from cdlib) (4.62.2)\n",
            "Requirement already satisfied: pulp in c:\\users\\rafael\\anaconda3\\lib\\site-packages (from cdlib) (2.5.1)\n",
            "Requirement already satisfied: seaborn in c:\\users\\rafael\\anaconda3\\lib\\site-packages (from cdlib) (0.11.1)\n",
            "Requirement already satisfied: angel-cd in c:\\users\\rafael\\anaconda3\\lib\\site-packages (from cdlib) (1.0.3)\n",
            "Requirement already satisfied: decorator>=4.3.0 in c:\\users\\rafael\\anaconda3\\lib\\site-packages (from networkx>=2.4->cdlib) (4.4.2)\n",
            "Requirement already satisfied: gensim>=4.0.0 in c:\\users\\rafael\\appdata\\roaming\\python\\python38\\site-packages (from karateclub->cdlib) (4.1.0)\n",
            "Requirement already satisfied: six in c:\\users\\rafael\\anaconda3\\lib\\site-packages (from karateclub->cdlib) (1.15.0)\n",
            "Requirement already satisfied: pygsp in c:\\users\\rafael\\anaconda3\\lib\\site-packages (from karateclub->cdlib) (0.5.1)\n",
            "Requirement already satisfied: smart-open>=1.8.1 in c:\\users\\rafael\\appdata\\roaming\\python\\python38\\site-packages (from gensim>=4.0.0->karateclub->cdlib) (5.2.1)\n",
            "Requirement already satisfied: igraph==0.9.8 in c:\\users\\rafael\\anaconda3\\lib\\site-packages (from python-igraph->cdlib) (0.9.8)\n",
            "Requirement already satisfied: texttable>=1.6.2 in c:\\users\\rafael\\anaconda3\\lib\\site-packages (from igraph==0.9.8->python-igraph->cdlib) (1.6.4)\n",
            "Requirement already satisfied: cycler>=0.10 in c:\\users\\rafael\\anaconda3\\lib\\site-packages (from matplotlib->cdlib) (0.10.0)\n",
            "Requirement already satisfied: pyparsing!=2.0.4,!=2.1.2,!=2.1.6,>=2.0.3 in c:\\users\\rafael\\anaconda3\\lib\\site-packages (from matplotlib->cdlib) (2.4.7)\n",
            "Requirement already satisfied: pillow>=6.2.0 in c:\\users\\rafael\\anaconda3\\lib\\site-packages (from matplotlib->cdlib) (8.1.0)\n",
            "Requirement already satisfied: kiwisolver>=1.0.1 in c:\\users\\rafael\\anaconda3\\lib\\site-packages (from matplotlib->cdlib) (1.3.1)\n",
            "Requirement already satisfied: python-dateutil>=2.1 in c:\\users\\rafael\\anaconda3\\lib\\site-packages (from matplotlib->cdlib) (2.8.1)\n",
            "Requirement already satisfied: pytz>=2017.3 in c:\\users\\rafael\\anaconda3\\lib\\site-packages (from pandas->cdlib) (2021.1)\n",
            "Requirement already satisfied: requests in c:\\users\\rafael\\anaconda3\\lib\\site-packages (from pooch->cdlib) (2.25.1)\n",
            "Requirement already satisfied: packaging in c:\\users\\rafael\\anaconda3\\lib\\site-packages (from pooch->cdlib) (20.9)\n",
            "Requirement already satisfied: appdirs in c:\\users\\rafael\\anaconda3\\lib\\site-packages (from pooch->cdlib) (1.4.4)\n",
            "Requirement already satisfied: setuptools in c:\\users\\rafael\\anaconda3\\lib\\site-packages (from python-Levenshtein->cdlib) (52.0.0.post20210125)\n",
            "Requirement already satisfied: idna<3,>=2.5 in c:\\users\\rafael\\anaconda3\\lib\\site-packages (from requests->pooch->cdlib) (2.10)\n",
            "Requirement already satisfied: certifi>=2017.4.17 in c:\\users\\rafael\\anaconda3\\lib\\site-packages (from requests->pooch->cdlib) (2021.5.30)\n",
            "Requirement already satisfied: urllib3<1.27,>=1.21.1 in c:\\users\\rafael\\anaconda3\\lib\\site-packages (from requests->pooch->cdlib) (1.26.3)\n",
            "Requirement already satisfied: chardet<5,>=3.0.2 in c:\\users\\rafael\\anaconda3\\lib\\site-packages (from requests->pooch->cdlib) (4.0.0)\n",
            "Requirement already satisfied: threadpoolctl>=2.0.0 in c:\\users\\rafael\\anaconda3\\lib\\site-packages (from scikit-learn->cdlib) (2.1.0)"
          ]
        }
      ]
    },
    {
      "cell_type": "code",
      "metadata": {
        "id": "Y4j7z6yiHCpg",
        "outputId": "90a80b43-f4a9-4ab5-9227-9c30117e6eb9"
      },
      "source": [
        "import cdlib\n",
        "from cdlib import NodeClustering, evaluation, algorithms"
      ],
      "id": "Y4j7z6yiHCpg",
      "execution_count": null,
      "outputs": [
        {
          "name": "stdout",
          "output_type": "stream",
          "text": [
            "\n",
            "Requirement already satisfied: joblib>=0.11 in c:\\users\\rafael\\anaconda3\\lib\\site-packages (from scikit-learn->cdlib) (1.0.0)\n",
            "Requirement already satisfied: colorama in c:\\users\\rafael\\appdata\\roaming\\python\\python38\\site-packages (from tqdm->cdlib) (0.4.4)\n"
          ]
        }
      ]
    },
    {
      "cell_type": "code",
      "metadata": {
        "id": "MG5aYfXLGSik"
      },
      "source": [
        "#CREO QUE ESTE ES EL CODIGO PERO  NO CORRE EN COLAB, IR a conda??\n",
        "#esTe es el codigo. No corre en colab\n",
        "#ESTA PARTE CORRE EN ANACONDA/JUPYTER NO CORRE EN COLAB\n",
        "comms = algorithms.louvain(dir_G, resolution=1, randomize=False)"
      ],
      "id": "MG5aYfXLGSik",
      "execution_count": null,
      "outputs": []
    },
    {
      "cell_type": "code",
      "metadata": {
        "id": "FD0jNTDZGSgF"
      },
      "source": [
        "comm_df = pd.DataFrame({\n",
        "    \"communities\": comms.communities,\n",
        "    \"comm_id\": np.arange(0, len(comms.communities))\n",
        "})"
      ],
      "id": "FD0jNTDZGSgF",
      "execution_count": null,
      "outputs": []
    },
    {
      "cell_type": "code",
      "metadata": {
        "id": "UBYzCl-yGScm"
      },
      "source": [
        "comm_df = comm_df.assign(comm_size=comm_df[\"communities\"].apply(lambda c: len(c)))"
      ],
      "id": "UBYzCl-yGScm",
      "execution_count": null,
      "outputs": []
    },
    {
      "cell_type": "code",
      "metadata": {
        "id": "26nU1pSiGSYs"
      },
      "source": [
        "densest_communities_df = comm_df.sort_values(by=\"comm_size\", ascending=False).head(25)"
      ],
      "id": "26nU1pSiGSYs",
      "execution_count": null,
      "outputs": []
    },
    {
      "cell_type": "code",
      "metadata": {
        "id": "hewIUUibGSXB"
      },
      "source": [
        "densest_communities_df = (densest_communities_df.assign(\n",
        "    percent_size=densest_communities_df[\"comm_size\"].apply(\n",
        "        lambda size: size / dir_G.number_of_nodes())))"
      ],
      "id": "hewIUUibGSXB",
      "execution_count": null,
      "outputs": []
    },
    {
      "cell_type": "code",
      "metadata": {
        "id": "3tsfET_PGSTW",
        "outputId": "b3df56f5-a7a9-4c9a-a1c9-6e6b8139da5e"
      },
      "source": [
        "densest_communities_df[\"percent_size\"].sum()"
      ],
      "id": "3tsfET_PGSTW",
      "execution_count": null,
      "outputs": [
        {
          "data": {
            "text/plain": [
              "0.9779899497487438"
            ]
          },
          "execution_count": 39,
          "metadata": {},
          "output_type": "execute_result"
        }
      ]
    },
    {
      "cell_type": "code",
      "metadata": {
        "id": "LLRMjM6AGSRV",
        "outputId": "61119398-1ce8-4131-fdf3-1195a320b67e"
      },
      "source": [
        "#HAGO UN GRAFICO\n",
        "fig, ax = plt.subplots(figsize=(10, 5))\n",
        "sns.barplot(data=densest_communities_df,\n",
        "           x=\"comm_id\",\n",
        "           y=\"comm_size\")\n",
        "plt.show()"
      ],
      "id": "LLRMjM6AGSRV",
      "execution_count": null,
      "outputs": [
        {
          "data": {
            "image/png": "[encoded data removed]",
            "text/plain": [
              "<Figure size 720x360 with 1 Axes>"
            ]
          },
          "metadata": {
            "needs_background": "light"
          },
          "output_type": "display_data"
        }
      ]
    },
    {
      "cell_type": "code",
      "metadata": {
        "id": "incident-mortgage",
        "outputId": "f79da500-8957-4386-ef83-63223897bcb4"
      },
      "source": [
        "sns.histplot(data=densest_communities_df,\n",
        "            x=\"comm_size\",\n",
        "            bins=40)"
      ],
      "id": "incident-mortgage",
      "execution_count": null,
      "outputs": [
        {
          "data": {
            "text/plain": [
              "<AxesSubplot:xlabel='comm_size', ylabel='Count'>"
            ]
          },
          "execution_count": 41,
          "metadata": {},
          "output_type": "execute_result"
        },
        {
          "data": {
            "image/png": "[encoded data removed]",
            "text/plain": [
              "<Figure size 432x288 with 1 Axes>"
            ]
          },
          "metadata": {
            "needs_background": "light"
          },
          "output_type": "display_data"
        }
      ]
    },
    {
      "cell_type": "markdown",
      "metadata": {
        "id": "completed-recall"
      },
      "source": [
        "# hay 25 comunidades que agrupan el 97% de los tweets"
      ],
      "id": "completed-recall"
    },
    {
      "cell_type": "markdown",
      "metadata": {
        "id": "static-effort"
      },
      "source": [
        "# densidad y modularidad de dichas comunidades."
      ],
      "id": "static-effort"
    },
    {
      "cell_type": "code",
      "metadata": {
        "id": "novel-geography",
        "outputId": "e4d1f826-9923-4815-ddd1-7c07a0168e4f"
      },
      "source": [
        "print('Modularity:', evaluation.newman_girvan_modularity(dir_G, comms))\n",
        "print('Modularity Density:', evaluation.modularity_density(dir_G, comms))\n",
        "print('Cut Ratio:', evaluation.cut_ratio(dir_G, comms))"
      ],
      "id": "novel-geography",
      "execution_count": null,
      "outputs": [
        {
          "name": "stdout",
          "output_type": "stream",
          "text": [
            "Modularity: FitnessResult(min=None, max=None, score=0.5754314902268667, std=None)\n",
            "Modularity Density: FitnessResult(min=None, max=None, score=477.54145657190793, std=None)\n",
            "Cut Ratio: FitnessResult(min=0.0, max=4.08373542420587e-05, score=2.433048540016517e-06, std=7.331538441877589e-06)\n"
          ]
        }
      ]
    },
    {
      "cell_type": "markdown",
      "metadata": {
        "id": "involved-elizabeth"
      },
      "source": [
        "# VARIO RESOLUCION DEL ALGORITMO DE LOUVAIN De 1 a 10 es steps de 1"
      ],
      "id": "involved-elizabeth"
    },
    {
      "cell_type": "code",
      "metadata": {
        "id": "prostate-modem",
        "outputId": "cc14af08-cef7-4494-8e09-f17f1beb982d"
      },
      "source": [
        "resolutions = range(1,10,1)\n",
        "data = []\n",
        "for resolution in resolutions:\n",
        "   \n",
        "    comms_lv = algorithms.louvain(dir_G, resolution=resolution, randomize=False)\n",
        "    ncomms = len(comms_lv.communities)\n",
        "    comms_size = [len(c) for c in comms_lv.communities]\n",
        "    comms_size.sort()\n",
        "    modularity = evaluation.newman_girvan_modularity(dir_G, comms_lv).score\n",
        "    density = evaluation.internal_edge_density(dir_G, comms_lv).score\n",
        "    data.append((resolution, ncomms, modularity,density, comms_size[-1],  comms_size[-2]))\n",
        "    \n",
        "comm_lv_df = pd.DataFrame(data, columns=['resolutions', 'ncomms', 'modularity','density','greatestcomms1', 'greatestcomms2'])\n",
        "comm_lv_df"
      ],
      "id": "prostate-modem",
      "execution_count": null,
      "outputs": [
        {
          "data": {
            "text/html": [
              "<div>\n",
              "<style scoped>\n",
              "    .dataframe tbody tr th:only-of-type {\n",
              "        vertical-align: middle;\n",
              "    }\n",
              "\n",
              "    .dataframe tbody tr th {\n",
              "        vertical-align: top;\n",
              "    }\n",
              "\n",
              "    .dataframe thead th {\n",
              "        text-align: right;\n",
              "    }\n",
              "</style>\n",
              "<table border=\"1\" class=\"dataframe\">\n",
              "  <thead>\n",
              "    <tr style=\"text-align: right;\">\n",
              "      <th></th>\n",
              "      <th>resolutions</th>\n",
              "      <th>ncomms</th>\n",
              "      <th>modularity</th>\n",
              "      <th>density</th>\n",
              "      <th>greatestcomms1</th>\n",
              "      <th>greatestcomms2</th>\n",
              "    </tr>\n",
              "  </thead>\n",
              "  <tbody>\n",
              "    <tr>\n",
              "      <th>0</th>\n",
              "      <td>1</td>\n",
              "      <td>368</td>\n",
              "      <td>0.575431</td>\n",
              "      <td>0.708112</td>\n",
              "      <td>7354</td>\n",
              "      <td>7229</td>\n",
              "    </tr>\n",
              "    <tr>\n",
              "      <th>1</th>\n",
              "      <td>2</td>\n",
              "      <td>368</td>\n",
              "      <td>0.530463</td>\n",
              "      <td>0.717005</td>\n",
              "      <td>19378</td>\n",
              "      <td>15292</td>\n",
              "    </tr>\n",
              "    <tr>\n",
              "      <th>2</th>\n",
              "      <td>3</td>\n",
              "      <td>353</td>\n",
              "      <td>0.505864</td>\n",
              "      <td>0.718773</td>\n",
              "      <td>22469</td>\n",
              "      <td>15568</td>\n",
              "    </tr>\n",
              "    <tr>\n",
              "      <th>3</th>\n",
              "      <td>4</td>\n",
              "      <td>334</td>\n",
              "      <td>0.503776</td>\n",
              "      <td>0.739041</td>\n",
              "      <td>22599</td>\n",
              "      <td>15683</td>\n",
              "    </tr>\n",
              "    <tr>\n",
              "      <th>4</th>\n",
              "      <td>5</td>\n",
              "      <td>329</td>\n",
              "      <td>0.502570</td>\n",
              "      <td>0.745784</td>\n",
              "      <td>22680</td>\n",
              "      <td>15734</td>\n",
              "    </tr>\n",
              "    <tr>\n",
              "      <th>5</th>\n",
              "      <td>6</td>\n",
              "      <td>325</td>\n",
              "      <td>0.501884</td>\n",
              "      <td>0.752796</td>\n",
              "      <td>22737</td>\n",
              "      <td>15745</td>\n",
              "    </tr>\n",
              "    <tr>\n",
              "      <th>6</th>\n",
              "      <td>7</td>\n",
              "      <td>324</td>\n",
              "      <td>0.501654</td>\n",
              "      <td>0.753595</td>\n",
              "      <td>22758</td>\n",
              "      <td>15751</td>\n",
              "    </tr>\n",
              "    <tr>\n",
              "      <th>7</th>\n",
              "      <td>8</td>\n",
              "      <td>321</td>\n",
              "      <td>0.500593</td>\n",
              "      <td>0.760027</td>\n",
              "      <td>22868</td>\n",
              "      <td>15750</td>\n",
              "    </tr>\n",
              "    <tr>\n",
              "      <th>8</th>\n",
              "      <td>9</td>\n",
              "      <td>320</td>\n",
              "      <td>0.500717</td>\n",
              "      <td>0.762263</td>\n",
              "      <td>22858</td>\n",
              "      <td>15750</td>\n",
              "    </tr>\n",
              "  </tbody>\n",
              "</table>\n",
              "</div>"
            ],
            "text/plain": [
              "   resolutions  ncomms  modularity   density  greatestcomms1  greatestcomms2\n",
              "0            1     368    0.575431  0.708112            7354            7229\n",
              "1            2     368    0.530463  0.717005           19378           15292\n",
              "2            3     353    0.505864  0.718773           22469           15568\n",
              "3            4     334    0.503776  0.739041           22599           15683\n",
              "4            5     329    0.502570  0.745784           22680           15734\n",
              "5            6     325    0.501884  0.752796           22737           15745\n",
              "6            7     324    0.501654  0.753595           22758           15751\n",
              "7            8     321    0.500593  0.760027           22868           15750\n",
              "8            9     320    0.500717  0.762263           22858           15750"
            ]
          },
          "execution_count": 43,
          "metadata": {},
          "output_type": "execute_result"
        }
      ]
    },
    {
      "cell_type": "markdown",
      "metadata": {
        "id": "quiet-panel"
      },
      "source": [
        "## Segun tabla anterior la resolucion del algo de louvain cambia las agrupaciones\n",
        "## A partir de res=2 parece haber dos grande grupos (comunidades) que contiene los casi 40000 tweets"
      ],
      "id": "quiet-panel"
    },
    {
      "cell_type": "markdown",
      "metadata": {
        "id": "higher-honduras"
      },
      "source": [
        "## Tambien puede verse cuando aumenta la resolución la modularidad disminuye pero la densidad aumenta-. sin embargo la variabilidad a partir de res =2-3 es pequeña"
      ],
      "id": "higher-honduras"
    },
    {
      "cell_type": "markdown",
      "metadata": {
        "id": "encouraging-acquisition"
      },
      "source": [
        "# ALGORTIMO ALTERNATIVO ???. el de Leiden que parece ser un derivado del de Louvain corrió bien. a continuacion se muestra:"
      ],
      "id": "encouraging-acquisition"
    },
    {
      "cell_type": "code",
      "metadata": {
        "id": "median-swiss"
      },
      "source": [
        "communities_leiden = algorithms.leiden(dir_G)"
      ],
      "id": "median-swiss",
      "execution_count": null,
      "outputs": []
    },
    {
      "cell_type": "code",
      "metadata": {
        "id": "representative-immunology"
      },
      "source": [
        "communities_leiden_df = pd.DataFrame({\n",
        "    \"communities\": communities_leiden.communities,\n",
        "    \"comm_id\": np.arange(0, len(communities_leiden.communities))\n",
        "})"
      ],
      "id": "representative-immunology",
      "execution_count": null,
      "outputs": []
    },
    {
      "cell_type": "code",
      "metadata": {
        "id": "informal-arizona"
      },
      "source": [
        "communities_leiden_df= communities_leiden_df.assign(comm_size=communities_leiden_df[\"communities\"].apply(lambda c: len(c)))"
      ],
      "id": "informal-arizona",
      "execution_count": null,
      "outputs": []
    },
    {
      "cell_type": "code",
      "metadata": {
        "id": "revolutionary-making",
        "outputId": "d2763805-9191-48b3-e110-caf489d0e953"
      },
      "source": [
        "communities_leiden_df.head(10)"
      ],
      "id": "revolutionary-making",
      "execution_count": null,
      "outputs": [
        {
          "data": {
            "text/html": [
              "<div>\n",
              "<style scoped>\n",
              "    .dataframe tbody tr th:only-of-type {\n",
              "        vertical-align: middle;\n",
              "    }\n",
              "\n",
              "    .dataframe tbody tr th {\n",
              "        vertical-align: top;\n",
              "    }\n",
              "\n",
              "    .dataframe thead th {\n",
              "        text-align: right;\n",
              "    }\n",
              "</style>\n",
              "<table border=\"1\" class=\"dataframe\">\n",
              "  <thead>\n",
              "    <tr style=\"text-align: right;\">\n",
              "      <th></th>\n",
              "      <th>communities</th>\n",
              "      <th>comm_id</th>\n",
              "      <th>comm_size</th>\n",
              "    </tr>\n",
              "  </thead>\n",
              "  <tbody>\n",
              "    <tr>\n",
              "      <th>0</th>\n",
              "      <td>[252168075, 1238117630696972289, 37232479, 129...</td>\n",
              "      <td>0</td>\n",
              "      <td>7514</td>\n",
              "    </tr>\n",
              "    <tr>\n",
              "      <th>1</th>\n",
              "      <td>[73102744, 178105343, 2644056245, 4196856351, ...</td>\n",
              "      <td>1</td>\n",
              "      <td>7401</td>\n",
              "    </tr>\n",
              "    <tr>\n",
              "      <th>2</th>\n",
              "      <td>[2737379453, 2258074658, 159909978, 105301854,...</td>\n",
              "      <td>2</td>\n",
              "      <td>6724</td>\n",
              "    </tr>\n",
              "    <tr>\n",
              "      <th>3</th>\n",
              "      <td>[215547565, 146536143, 850481701000237056, 475...</td>\n",
              "      <td>3</td>\n",
              "      <td>4464</td>\n",
              "    </tr>\n",
              "    <tr>\n",
              "      <th>4</th>\n",
              "      <td>[312183888, 574739820, 593228938, 4352026996, ...</td>\n",
              "      <td>4</td>\n",
              "      <td>3733</td>\n",
              "    </tr>\n",
              "    <tr>\n",
              "      <th>5</th>\n",
              "      <td>[730033544999866368, 125077217, 2968944550, 13...</td>\n",
              "      <td>5</td>\n",
              "      <td>3523</td>\n",
              "    </tr>\n",
              "    <tr>\n",
              "      <th>6</th>\n",
              "      <td>[110184114, 585205927, 791699809279287296, 826...</td>\n",
              "      <td>6</td>\n",
              "      <td>3276</td>\n",
              "    </tr>\n",
              "    <tr>\n",
              "      <th>7</th>\n",
              "      <td>[151117172, 1009952582217936896, 9061967888053...</td>\n",
              "      <td>7</td>\n",
              "      <td>534</td>\n",
              "    </tr>\n",
              "    <tr>\n",
              "      <th>8</th>\n",
              "      <td>[427704403, 2374631185, 1212232926168936448, 1...</td>\n",
              "      <td>8</td>\n",
              "      <td>325</td>\n",
              "    </tr>\n",
              "    <tr>\n",
              "      <th>9</th>\n",
              "      <td>[1125176805269352448, 2930136838, 227337716, 8...</td>\n",
              "      <td>9</td>\n",
              "      <td>212</td>\n",
              "    </tr>\n",
              "  </tbody>\n",
              "</table>\n",
              "</div>"
            ],
            "text/plain": [
              "                                         communities  comm_id  comm_size\n",
              "0  [252168075, 1238117630696972289, 37232479, 129...        0       7514\n",
              "1  [73102744, 178105343, 2644056245, 4196856351, ...        1       7401\n",
              "2  [2737379453, 2258074658, 159909978, 105301854,...        2       6724\n",
              "3  [215547565, 146536143, 850481701000237056, 475...        3       4464\n",
              "4  [312183888, 574739820, 593228938, 4352026996, ...        4       3733\n",
              "5  [730033544999866368, 125077217, 2968944550, 13...        5       3523\n",
              "6  [110184114, 585205927, 791699809279287296, 826...        6       3276\n",
              "7  [151117172, 1009952582217936896, 9061967888053...        7        534\n",
              "8  [427704403, 2374631185, 1212232926168936448, 1...        8        325\n",
              "9  [1125176805269352448, 2930136838, 227337716, 8...        9        212"
            ]
          },
          "execution_count": 47,
          "metadata": {},
          "output_type": "execute_result"
        }
      ]
    },
    {
      "cell_type": "code",
      "metadata": {
        "id": "under-mount",
        "outputId": "c8899de6-80ed-41ac-a1a7-f7d8a1525463"
      },
      "source": [
        "print('Modularity:', evaluation.newman_girvan_modularity(dir_G, communities_leiden))\n",
        "\n",
        "print('Modularity Density:', evaluation.modularity_density(dir_G, communities_leiden))\n",
        "\n",
        "print('Cut Ratio:', evaluation.cut_ratio(dir_G, communities_leiden))"
      ],
      "id": "under-mount",
      "execution_count": null,
      "outputs": [
        {
          "name": "stdout",
          "output_type": "stream",
          "text": [
            "Modularity: FitnessResult(min=None, max=None, score=0.5858121291426898, std=None)\n",
            "Modularity Density: FitnessResult(min=None, max=None, score=505.1720693070814, std=None)\n",
            "Cut Ratio: FitnessResult(min=0.0, max=4.4974911092707165e-05, score=3.1623027898850504e-06, std=7.932312632928609e-06)\n"
          ]
        }
      ]
    },
    {
      "cell_type": "markdown",
      "metadata": {
        "id": "middle-window"
      },
      "source": [
        "# NO HAY GRANDES DIFERENCIA ENTRE LOS PARAMETROS ARROJADOS POR ALGO DE LOUVAIN O LEIDEN"
      ],
      "id": "middle-window"
    },
    {
      "cell_type": "code",
      "metadata": {
        "id": "structured-dylan"
      },
      "source": [
        ""
      ],
      "id": "structured-dylan",
      "execution_count": null,
      "outputs": []
    },
    {
      "cell_type": "code",
      "metadata": {
        "id": "agreed-welsh"
      },
      "source": [
        ""
      ],
      "id": "agreed-welsh",
      "execution_count": null,
      "outputs": []
    },
    {
      "cell_type": "code",
      "metadata": {
        "id": "expressed-shock"
      },
      "source": [
        ""
      ],
      "id": "expressed-shock",
      "execution_count": null,
      "outputs": []
    }
  ]
}