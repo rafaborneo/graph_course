{
  "nbformat": 4,
  "nbformat_minor": 5,
  "metadata": {
    "kernelspec": {
      "display_name": "Python [conda env:graphML] *",
      "language": "python",
      "name": "conda-env-graphML-py"
    },
    "language_info": {
      "codemirror_mode": {
        "name": "ipython",
        "version": 3
      },
      "file_extension": ".py",
      "mimetype": "text/x-python",
      "name": "python",
      "nbconvert_exporter": "python",
      "pygments_lexer": "ipython3",
      "version": "3.9.7"
    },
    "colab": {
      "name": "Borneo_Graphs_Practico1.ipynb",
      "provenance": [],
      "include_colab_link": true
    }
  },
  "cells": [
    {
      "cell_type": "markdown",
      "metadata": {
        "id": "view-in-github",
        "colab_type": "text"
      },
      "source": [
        "<a href=\"https://colab.research.google.com/github/rafaborneo/graph_course/blob/main/Borneo_Graphs_Practico1.ipynb\" target=\"_parent\"><img src=\"https://colab.research.google.com/assets/colab-badge.svg\" alt=\"Open In Colab\"/></a>"
      ]
    },
    {
      "cell_type": "markdown",
      "metadata": {
        "id": "a49e9927-f016-4660-89df-26c5800aea8b"
      },
      "source": [
        "# Práctico 1"
      ],
      "id": "a49e9927-f016-4660-89df-26c5800aea8b"
    },
    {
      "cell_type": "markdown",
      "metadata": {
        "jp-MarkdownHeadingCollapsed": true,
        "tags": [],
        "id": "5fe2ae9e-6076-4a12-931c-5349ee7eb2d3"
      },
      "source": [
        "En este práctico, correspondiente a la primera mitad de la materia, trabajaremos con un dataset extraído de Twitter. La idea es emplear los conceptos de grafos vistos en clase sobre un caso real de actualidad.\n",
        "\n",
        "## Dataset\n",
        "\n",
        "El dataset consiste en un conjunto de hilos de tweets, con un total de ~150000 tweets, extraídos entre Enero y Marzo de 2021. La temática de los mismos está referida a la vacunación contra el covid-19 en Argentina.\n",
        "\n",
        "Pueden descargar el dataset del siguiente [link](https://drive.google.com/file/d/1X_qKsE8muAnom2tDX4sLlmBAO0Ikfe_G/view?usp=sharing).\n",
        "\n",
        "### Campos\n",
        "\n",
        "- **created_at:** Fecha del tweet\n",
        "- **id_str:** ID del tweet\n",
        "- **full_text:** Contenido del tweet\n",
        "- **in_reply_to_status_id:** ID del tweet inmediatamente anterior en el hilo\n",
        "- **in_reply_to_user_id:** Autor del tweet inmediatamente anterior en el hilo\n",
        "- **user.id:** Autor del tweet\n",
        "- **user_retweeters:** Lista de ID de usuarios que retweetearon el tweet\n",
        "- **sentiment:** Etiquetado manual que indica el sentimiento o intención del tweet con respecto al tweet anterior en el hilo"
      ],
      "id": "5fe2ae9e-6076-4a12-931c-5349ee7eb2d3"
    },
    {
      "cell_type": "markdown",
      "metadata": {
        "id": "8eed8c8b-8c40-4d18-b4ad-c853e1c3b7d1"
      },
      "source": [
        "## Configuración inicial"
      ],
      "id": "8eed8c8b-8c40-4d18-b4ad-c853e1c3b7d1"
    },
    {
      "cell_type": "code",
      "metadata": {
        "id": "a23c83a7-0c4e-4bff-b8cb-253671e5d1d6"
      },
      "source": [
        "import numpy as np\n",
        "import pandas as pd\n",
        "import networkx as nx\n",
        "import matplotlib.pyplot as plt\n",
        "import seaborn as sns\n",
        "%matplotlib inline\n",
        "\n",
        "sns.set_context('talk')\n",
        "#from pathlib import Path\n",
        "\n",
        "## Descargar el csv con los datos en este directorio\n",
        "#DATA_DIR = Path('C:\\Users\\Rafael\\Documents\\AREA TRABAJO\\DIPLODATOS 2021\\7_opt_Analisis_Grafos\\clases\\Practico')\n",
        "#INPUT_FILE = DATA_DIR / 'vacunas.csv'\n",
        "\n",
        "## Creamos el directorio en caso de que no exista\n",
        "#DATA_DIR.mkdir(parents=True, exist_ok=True)"
      ],
      "id": "a23c83a7-0c4e-4bff-b8cb-253671e5d1d6",
      "execution_count": 11,
      "outputs": []
    },
    {
      "cell_type": "markdown",
      "metadata": {
        "id": "acf6889f-86be-4fc8-b281-a738b8d475c4"
      },
      "source": [
        "### Cargamos el dataset"
      ],
      "id": "acf6889f-86be-4fc8-b281-a738b8d475c4"
    },
    {
      "cell_type": "code",
      "metadata": {
        "colab": {
          "base_uri": "https://localhost:8080/",
          "height": 555
        },
        "id": "e43cef47-be3b-47ba-9a07-9373013580ec",
        "outputId": "f3b9ea44-6527-450e-cb60-06ce9be59804"
      },
      "source": [
        "dtypes = {\n",
        "    'id_str': str,\n",
        "    'full_text': str,\n",
        "    'in_reply_to_status_id': str,\n",
        "    'in_reply_to_user_id': str,\n",
        "    'user.id': str\n",
        "}\n",
        "df = pd.read_csv(\"vacunas.csv\", dtype=dtypes).dropna(subset=['user_retweeters'])\n",
        "df['user_retweeters'] = df['user_retweeters'].apply(lambda x: [str(elem) for elem in eval(x)])\n",
        "print(df.shape)\n",
        "df.head()"
      ],
      "id": "e43cef47-be3b-47ba-9a07-9373013580ec",
      "execution_count": 12,
      "outputs": [
        {
          "output_type": "stream",
          "name": "stdout",
          "text": [
            "(155123, 8)\n"
          ]
        },
        {
          "output_type": "execute_result",
          "data": {
            "text/html": [
              "<div>\n",
              "<style scoped>\n",
              "    .dataframe tbody tr th:only-of-type {\n",
              "        vertical-align: middle;\n",
              "    }\n",
              "\n",
              "    .dataframe tbody tr th {\n",
              "        vertical-align: top;\n",
              "    }\n",
              "\n",
              "    .dataframe thead th {\n",
              "        text-align: right;\n",
              "    }\n",
              "</style>\n",
              "<table border=\"1\" class=\"dataframe\">\n",
              "  <thead>\n",
              "    <tr style=\"text-align: right;\">\n",
              "      <th></th>\n",
              "      <th>created_at</th>\n",
              "      <th>id_str</th>\n",
              "      <th>full_text</th>\n",
              "      <th>in_reply_to_status_id</th>\n",
              "      <th>in_reply_to_user_id</th>\n",
              "      <th>user.id</th>\n",
              "      <th>user_retweeters</th>\n",
              "      <th>sentiment</th>\n",
              "    </tr>\n",
              "  </thead>\n",
              "  <tbody>\n",
              "    <tr>\n",
              "      <th>0</th>\n",
              "      <td>Sat Feb 20 03:09:10 +0000 2021</td>\n",
              "      <td>1362962469749153792</td>\n",
              "      <td>Seguimos esperando el comunicado de @norabar r...</td>\n",
              "      <td>NaN</td>\n",
              "      <td>NaN</td>\n",
              "      <td>2737379453</td>\n",
              "      <td>[2258074658, 159909978, 105301854, 290671142, ...</td>\n",
              "      <td>NaN</td>\n",
              "    </tr>\n",
              "    <tr>\n",
              "      <th>1</th>\n",
              "      <td>Sat Feb 20 03:19:59 +0000 2021</td>\n",
              "      <td>1362965193509265417</td>\n",
              "      <td>@Clon_43 @norabar Nora estaba indignada porque...</td>\n",
              "      <td>1362962469749153792</td>\n",
              "      <td>2737379453</td>\n",
              "      <td>32718111</td>\n",
              "      <td>[]</td>\n",
              "      <td>NaN</td>\n",
              "    </tr>\n",
              "    <tr>\n",
              "      <th>2</th>\n",
              "      <td>Mon Feb 22 23:55:08 +0000 2021</td>\n",
              "      <td>1364000806740111363</td>\n",
              "      <td>Bueno, Alberto dijo Salud o Economía. La salud...</td>\n",
              "      <td>NaN</td>\n",
              "      <td>NaN</td>\n",
              "      <td>252168075</td>\n",
              "      <td>[1238117630696972289, 37232479, 12792246571247...</td>\n",
              "      <td>NaN</td>\n",
              "    </tr>\n",
              "    <tr>\n",
              "      <th>3</th>\n",
              "      <td>Tue Feb 23 00:09:14 +0000 2021</td>\n",
              "      <td>1364004354374696963</td>\n",
              "      <td>@spitta1969 Tuit del mes Spitta</td>\n",
              "      <td>1364000806740111363</td>\n",
              "      <td>252168075</td>\n",
              "      <td>1156346340802224128</td>\n",
              "      <td>[]</td>\n",
              "      <td>NaN</td>\n",
              "    </tr>\n",
              "    <tr>\n",
              "      <th>4</th>\n",
              "      <td>Tue Feb 23 00:00:17 +0000 2021</td>\n",
              "      <td>1364002100364128260</td>\n",
              "      <td>@spitta1969 Estas onfire</td>\n",
              "      <td>1364000806740111363</td>\n",
              "      <td>252168075</td>\n",
              "      <td>153663816</td>\n",
              "      <td>[]</td>\n",
              "      <td>NaN</td>\n",
              "    </tr>\n",
              "  </tbody>\n",
              "</table>\n",
              "</div>"
            ],
            "text/plain": [
              "                       created_at  ... sentiment\n",
              "0  Sat Feb 20 03:09:10 +0000 2021  ...       NaN\n",
              "1  Sat Feb 20 03:19:59 +0000 2021  ...       NaN\n",
              "2  Mon Feb 22 23:55:08 +0000 2021  ...       NaN\n",
              "3  Tue Feb 23 00:09:14 +0000 2021  ...       NaN\n",
              "4  Tue Feb 23 00:00:17 +0000 2021  ...       NaN\n",
              "\n",
              "[5 rows x 8 columns]"
            ]
          },
          "metadata": {},
          "execution_count": 12
        }
      ]
    },
    {
      "cell_type": "markdown",
      "metadata": {
        "tags": [],
        "id": "bd778ff2-c52b-4541-83bb-ab515e233fb3"
      },
      "source": [
        "### Observamos algunos ejemplos"
      ],
      "id": "bd778ff2-c52b-4541-83bb-ab515e233fb3"
    },
    {
      "cell_type": "code",
      "metadata": {
        "colab": {
          "base_uri": "https://localhost:8080/"
        },
        "id": "626fb5fa-2875-47c0-9e30-cb1a456a1c13",
        "outputId": "711148bf-d12e-4eaa-d698-a4205ee3f9e2"
      },
      "source": [
        "idx = 0\n",
        "print('Texto:', df.full_text.values[idx])\n",
        "print('Retweets:', len(df.user_retweeters.values[idx]))"
      ],
      "id": "626fb5fa-2875-47c0-9e30-cb1a456a1c13",
      "execution_count": 13,
      "outputs": [
        {
          "output_type": "stream",
          "name": "stdout",
          "text": [
            "Texto: Seguimos esperando el comunicado de @norabar repudiando la situación respecto del gobierno y el tema vacunas. Seamos pacientes que con esto de la pandemia anda con mucho \"laburo\".\n",
            "Retweets: 9\n"
          ]
        }
      ]
    },
    {
      "cell_type": "code",
      "metadata": {
        "colab": {
          "base_uri": "https://localhost:8080/"
        },
        "id": "f6ca9ab4-d966-4613-8d06-b139b30255b8",
        "outputId": "0968ab02-f84c-44c7-8118-dcd305608fe1"
      },
      "source": [
        "idx = 376\n",
        "print('Text:', df.full_text.values[idx])\n",
        "print('Retweets:', len(df.user_retweeters.values[idx]))"
      ],
      "id": "f6ca9ab4-d966-4613-8d06-b139b30255b8",
      "execution_count": 14,
      "outputs": [
        {
          "output_type": "stream",
          "name": "stdout",
          "text": [
            "Text: Todo lo que hay que entender sobre la decisión –o no– de poner más vacunas en más brazos (por ejemplo, usar las 1º dosis en muchos y si es necesario retrasar la 2º) está en esta excelente nota de Nora Bär. https://t.co/A0I03DyxgO\n",
            "Retweets: 48\n"
          ]
        }
      ]
    },
    {
      "cell_type": "markdown",
      "metadata": {
        "id": "1d3911d7-cc49-4d84-95b6-4f096f5f56c3"
      },
      "source": [
        "### Calculamos la cantidad de hilos"
      ],
      "id": "1d3911d7-cc49-4d84-95b6-4f096f5f56c3"
    },
    {
      "cell_type": "code",
      "metadata": {
        "colab": {
          "base_uri": "https://localhost:8080/"
        },
        "id": "59b6c11f-5766-45e4-a264-f3733df8694d",
        "outputId": "e1b2925b-3811-48ec-a881-4a0142555aba"
      },
      "source": [
        "roots = df[df['in_reply_to_user_id'].isna()]\n",
        "roots.shape"
      ],
      "id": "59b6c11f-5766-45e4-a264-f3733df8694d",
      "execution_count": 15,
      "outputs": [
        {
          "output_type": "execute_result",
          "data": {
            "text/plain": [
              "(3174, 8)"
            ]
          },
          "metadata": {},
          "execution_count": 15
        }
      ]
    },
    {
      "cell_type": "markdown",
      "metadata": {
        "tags": [],
        "id": "8d0fa0b4-fe03-444b-9705-f50474a2ae24"
      },
      "source": [
        "## Actividades\n",
        "\n",
        "### **1. Construcción del grafo** \n",
        "\n",
        "Construir el **grafo de retweets**, definido de la siguiente manera:\n",
        "\n",
        "- Tipo de grafo: Dirigido\n",
        "- Nodos: ID de los usuarios\n",
        "- Enlaces: (Usuario A) ---> (Usuario B) si B retweeteó algún tweet de A\n",
        "\n",
        "Con estos datos, el grafo debería tener alrededor de 40000 nodos y 90000 enlaces.\n",
        "\n",
        "Considerar la versión no dirigida del grafo y estudiar su conectividad. Si existe una única \"componente gigante\", realizar el resto de las actividades sobre ella, en lugar de sobre el grafo completo.\n",
        "\n",
        "Calcular las siguientes métricas globales del grafo:\n",
        "\n",
        "- Grado medio\n",
        "- Asortatividad\n",
        "- Transitividad\n",
        "- Coeficiente de clustering de Watts-Strogatz\n",
        "\n",
        "**Opcional:** Comparar las métricas calculadas anteriormente con las de un grafo aleatorio con la misma distribución de grado. Pueden utilizar para ello este [método](https://networkx.org/documentation/stable/reference/generated/networkx.generators.degree_seq.configuration_model.html?highlight=configuration#networkx.generators.degree_seq.configuration_model). Con esto en mente, comentar si los valores obtenidos anteriormente difieren significativamente del caso aleatorio.\n",
        "\n",
        "\n",
        "### **2. Centralidad**\n",
        "\n",
        "Calcular 5 métricas de centralidad de nodos. Graficar la distribución de cada una de ellas ¿Existe alguna correlación entre las distintas centralidades? \n",
        "\n",
        "Hacer un ranking con los 10 nodos más centrales para cada métrica. ¿Hay coincidencia entre los rankings?. ¿Qué características tienen los usuarios más centrales y sus respectivos tweets?\n",
        "\n",
        "**Opcional:** Determinar si existe alguna correlación entre la centralidad de un nodo y su actividad en red social. Es decir, evaluar si los usuarios que más escriben son los más centrales o no.\n",
        "\n",
        "### **3. Comunidades**\n",
        "\n",
        "Utilizar el algoritmo de Louvain con el parámetro \"resolución\" igual a 1. Caracterizar las comunidades halladas (cantidad, distribución de tamaños). Utilizar la modularidad y otras dos métricas a elección para evaluar la calidad de la partición encontrada. \n",
        "\n",
        "Variar el parámetro \"resolución\" y observar cómo cambia la distribución de comunidades encontradas. ¿Existe algún valor para el cual se identifiquen dos grandes comunidades?\n",
        "\n",
        "Elegir otro algoritmo de detección de comunidades y comparar los resultados con los obtenidos anteriormente.\n",
        "\n",
        "**Opcional:** Correr el algoritmo de Louvain con distintas semillas aleatorias. Utilizar alguna métrica de comparación externa entre las particiones obtenidas para determinar en qué medida depende el algoritmo de la condición inicial."
      ],
      "id": "8d0fa0b4-fe03-444b-9705-f50474a2ae24"
    },
    {
      "cell_type": "code",
      "metadata": {
        "colab": {
          "base_uri": "https://localhost:8080/",
          "height": 483
        },
        "id": "dMcwmKO5OOkd",
        "outputId": "25f7b232-4f85-4fce-921a-1d104050e913"
      },
      "source": [
        "\n",
        "#expansion columna user_retweeters\n",
        "df1= df.explode(\"user_retweeters\", ignore_index=True)\n",
        "print(df1.shape)\n",
        "df1.head()"
      ],
      "id": "dMcwmKO5OOkd",
      "execution_count": 16,
      "outputs": [
        {
          "output_type": "stream",
          "name": "stdout",
          "text": [
            "(320948, 8)\n"
          ]
        },
        {
          "output_type": "execute_result",
          "data": {
            "text/html": [
              "<div>\n",
              "<style scoped>\n",
              "    .dataframe tbody tr th:only-of-type {\n",
              "        vertical-align: middle;\n",
              "    }\n",
              "\n",
              "    .dataframe tbody tr th {\n",
              "        vertical-align: top;\n",
              "    }\n",
              "\n",
              "    .dataframe thead th {\n",
              "        text-align: right;\n",
              "    }\n",
              "</style>\n",
              "<table border=\"1\" class=\"dataframe\">\n",
              "  <thead>\n",
              "    <tr style=\"text-align: right;\">\n",
              "      <th></th>\n",
              "      <th>created_at</th>\n",
              "      <th>id_str</th>\n",
              "      <th>full_text</th>\n",
              "      <th>in_reply_to_status_id</th>\n",
              "      <th>in_reply_to_user_id</th>\n",
              "      <th>user.id</th>\n",
              "      <th>user_retweeters</th>\n",
              "      <th>sentiment</th>\n",
              "    </tr>\n",
              "  </thead>\n",
              "  <tbody>\n",
              "    <tr>\n",
              "      <th>0</th>\n",
              "      <td>Sat Feb 20 03:09:10 +0000 2021</td>\n",
              "      <td>1362962469749153792</td>\n",
              "      <td>Seguimos esperando el comunicado de @norabar r...</td>\n",
              "      <td>NaN</td>\n",
              "      <td>NaN</td>\n",
              "      <td>2737379453</td>\n",
              "      <td>2258074658</td>\n",
              "      <td>NaN</td>\n",
              "    </tr>\n",
              "    <tr>\n",
              "      <th>1</th>\n",
              "      <td>Sat Feb 20 03:09:10 +0000 2021</td>\n",
              "      <td>1362962469749153792</td>\n",
              "      <td>Seguimos esperando el comunicado de @norabar r...</td>\n",
              "      <td>NaN</td>\n",
              "      <td>NaN</td>\n",
              "      <td>2737379453</td>\n",
              "      <td>159909978</td>\n",
              "      <td>NaN</td>\n",
              "    </tr>\n",
              "    <tr>\n",
              "      <th>2</th>\n",
              "      <td>Sat Feb 20 03:09:10 +0000 2021</td>\n",
              "      <td>1362962469749153792</td>\n",
              "      <td>Seguimos esperando el comunicado de @norabar r...</td>\n",
              "      <td>NaN</td>\n",
              "      <td>NaN</td>\n",
              "      <td>2737379453</td>\n",
              "      <td>105301854</td>\n",
              "      <td>NaN</td>\n",
              "    </tr>\n",
              "    <tr>\n",
              "      <th>3</th>\n",
              "      <td>Sat Feb 20 03:09:10 +0000 2021</td>\n",
              "      <td>1362962469749153792</td>\n",
              "      <td>Seguimos esperando el comunicado de @norabar r...</td>\n",
              "      <td>NaN</td>\n",
              "      <td>NaN</td>\n",
              "      <td>2737379453</td>\n",
              "      <td>290671142</td>\n",
              "      <td>NaN</td>\n",
              "    </tr>\n",
              "    <tr>\n",
              "      <th>4</th>\n",
              "      <td>Sat Feb 20 03:09:10 +0000 2021</td>\n",
              "      <td>1362962469749153792</td>\n",
              "      <td>Seguimos esperando el comunicado de @norabar r...</td>\n",
              "      <td>NaN</td>\n",
              "      <td>NaN</td>\n",
              "      <td>2737379453</td>\n",
              "      <td>208721168</td>\n",
              "      <td>NaN</td>\n",
              "    </tr>\n",
              "  </tbody>\n",
              "</table>\n",
              "</div>"
            ],
            "text/plain": [
              "                       created_at  ... sentiment\n",
              "0  Sat Feb 20 03:09:10 +0000 2021  ...       NaN\n",
              "1  Sat Feb 20 03:09:10 +0000 2021  ...       NaN\n",
              "2  Sat Feb 20 03:09:10 +0000 2021  ...       NaN\n",
              "3  Sat Feb 20 03:09:10 +0000 2021  ...       NaN\n",
              "4  Sat Feb 20 03:09:10 +0000 2021  ...       NaN\n",
              "\n",
              "[5 rows x 8 columns]"
            ]
          },
          "metadata": {},
          "execution_count": 16
        }
      ]
    },
    {
      "cell_type": "code",
      "metadata": {
        "colab": {
          "base_uri": "https://localhost:8080/",
          "height": 483
        },
        "id": "W_L0A1w6GF7f",
        "outputId": "5b4796c5-d8b6-4bd3-97a2-a6e027a59b4f"
      },
      "source": [
        "df1 = df1.dropna(subset=['user.id','user_retweeters'])\n",
        "print(df1.shape)\n",
        "df1.head()"
      ],
      "id": "W_L0A1w6GF7f",
      "execution_count": 19,
      "outputs": [
        {
          "output_type": "stream",
          "name": "stdout",
          "text": [
            "(187297, 8)\n"
          ]
        },
        {
          "output_type": "execute_result",
          "data": {
            "text/html": [
              "<div>\n",
              "<style scoped>\n",
              "    .dataframe tbody tr th:only-of-type {\n",
              "        vertical-align: middle;\n",
              "    }\n",
              "\n",
              "    .dataframe tbody tr th {\n",
              "        vertical-align: top;\n",
              "    }\n",
              "\n",
              "    .dataframe thead th {\n",
              "        text-align: right;\n",
              "    }\n",
              "</style>\n",
              "<table border=\"1\" class=\"dataframe\">\n",
              "  <thead>\n",
              "    <tr style=\"text-align: right;\">\n",
              "      <th></th>\n",
              "      <th>created_at</th>\n",
              "      <th>id_str</th>\n",
              "      <th>full_text</th>\n",
              "      <th>in_reply_to_status_id</th>\n",
              "      <th>in_reply_to_user_id</th>\n",
              "      <th>user.id</th>\n",
              "      <th>user_retweeters</th>\n",
              "      <th>sentiment</th>\n",
              "    </tr>\n",
              "  </thead>\n",
              "  <tbody>\n",
              "    <tr>\n",
              "      <th>0</th>\n",
              "      <td>Sat Feb 20 03:09:10 +0000 2021</td>\n",
              "      <td>1362962469749153792</td>\n",
              "      <td>Seguimos esperando el comunicado de @norabar r...</td>\n",
              "      <td>NaN</td>\n",
              "      <td>NaN</td>\n",
              "      <td>2737379453</td>\n",
              "      <td>2258074658</td>\n",
              "      <td>NaN</td>\n",
              "    </tr>\n",
              "    <tr>\n",
              "      <th>1</th>\n",
              "      <td>Sat Feb 20 03:09:10 +0000 2021</td>\n",
              "      <td>1362962469749153792</td>\n",
              "      <td>Seguimos esperando el comunicado de @norabar r...</td>\n",
              "      <td>NaN</td>\n",
              "      <td>NaN</td>\n",
              "      <td>2737379453</td>\n",
              "      <td>159909978</td>\n",
              "      <td>NaN</td>\n",
              "    </tr>\n",
              "    <tr>\n",
              "      <th>2</th>\n",
              "      <td>Sat Feb 20 03:09:10 +0000 2021</td>\n",
              "      <td>1362962469749153792</td>\n",
              "      <td>Seguimos esperando el comunicado de @norabar r...</td>\n",
              "      <td>NaN</td>\n",
              "      <td>NaN</td>\n",
              "      <td>2737379453</td>\n",
              "      <td>105301854</td>\n",
              "      <td>NaN</td>\n",
              "    </tr>\n",
              "    <tr>\n",
              "      <th>3</th>\n",
              "      <td>Sat Feb 20 03:09:10 +0000 2021</td>\n",
              "      <td>1362962469749153792</td>\n",
              "      <td>Seguimos esperando el comunicado de @norabar r...</td>\n",
              "      <td>NaN</td>\n",
              "      <td>NaN</td>\n",
              "      <td>2737379453</td>\n",
              "      <td>290671142</td>\n",
              "      <td>NaN</td>\n",
              "    </tr>\n",
              "    <tr>\n",
              "      <th>4</th>\n",
              "      <td>Sat Feb 20 03:09:10 +0000 2021</td>\n",
              "      <td>1362962469749153792</td>\n",
              "      <td>Seguimos esperando el comunicado de @norabar r...</td>\n",
              "      <td>NaN</td>\n",
              "      <td>NaN</td>\n",
              "      <td>2737379453</td>\n",
              "      <td>208721168</td>\n",
              "      <td>NaN</td>\n",
              "    </tr>\n",
              "  </tbody>\n",
              "</table>\n",
              "</div>"
            ],
            "text/plain": [
              "                       created_at  ... sentiment\n",
              "0  Sat Feb 20 03:09:10 +0000 2021  ...       NaN\n",
              "1  Sat Feb 20 03:09:10 +0000 2021  ...       NaN\n",
              "2  Sat Feb 20 03:09:10 +0000 2021  ...       NaN\n",
              "3  Sat Feb 20 03:09:10 +0000 2021  ...       NaN\n",
              "4  Sat Feb 20 03:09:10 +0000 2021  ...       NaN\n",
              "\n",
              "[5 rows x 8 columns]"
            ]
          },
          "metadata": {},
          "execution_count": 19
        }
      ]
    },
    {
      "cell_type": "code",
      "metadata": {
        "id": "FmZCBvHbcXB5"
      },
      "source": [
        "dir_G =  nx.from_pandas_edgelist(df1, source='user.id', target='user_retweeters', edge_attr=None, create_using=None, edge_key=None)"
      ],
      "id": "FmZCBvHbcXB5",
      "execution_count": 20,
      "outputs": []
    },
    {
      "cell_type": "code",
      "metadata": {
        "colab": {
          "base_uri": "https://localhost:8080/"
        },
        "id": "PKfXpkc6Y_i-",
        "outputId": "061f6013-b52c-4856-880f-7714c721b102"
      },
      "source": [
        "print(dir_G)"
      ],
      "id": "PKfXpkc6Y_i-",
      "execution_count": 21,
      "outputs": [
        {
          "output_type": "stream",
          "name": "stdout",
          "text": [
            "Graph with 39800 nodes and 93404 edges\n"
          ]
        }
      ]
    },
    {
      "cell_type": "code",
      "metadata": {
        "id": "uS0-MbdFMm7K"
      },
      "source": [
        "#METRICAS GLOBALES"
      ],
      "id": "uS0-MbdFMm7K",
      "execution_count": null,
      "outputs": []
    },
    {
      "cell_type": "code",
      "metadata": {
        "colab": {
          "base_uri": "https://localhost:8080/"
        },
        "id": "bxX4Ft3wMm2I",
        "outputId": "5786dc05-3f0a-4a62-901b-234186b04d0f"
      },
      "source": [
        "print(nx.info(dir_G))"
      ],
      "id": "bxX4Ft3wMm2I",
      "execution_count": 22,
      "outputs": [
        {
          "output_type": "stream",
          "name": "stdout",
          "text": [
            "Graph with 39800 nodes and 93404 edges\n"
          ]
        }
      ]
    },
    {
      "cell_type": "code",
      "metadata": {
        "colab": {
          "base_uri": "https://localhost:8080/"
        },
        "id": "otoNLe3fMmwL",
        "outputId": "eb4b4a12-e2ac-4929-9839-a5e679b25b64"
      },
      "source": [
        "#lista de grados del grafo\n",
        "grados = [val for (node, val) in dir_G.degree()]\n",
        "print(grados)"
      ],
      "id": "otoNLe3fMmwL",
      "execution_count": 37,
      "outputs": [
        {
          "output_type": "stream",
          "name": "stdout",
          "text": [
            "[9, 19, 1, 10, 15, 1, 8, 7, 22, 16, 8207, 3, 4, 5, 1, 11, 1, 4, 1, 1, 1, 2, 10, 1, 4, 1, 1, 1, 1, 13, 6, 1, 1, 2, 1, 2, 3, 1, 3, 1, 3, 4, 1, 7, 16, 1, 1, 91, 1, 26, 1, 12, 1, 19, 1, 8, 4, 34, 3, 9, 28, 8, 19, 47, 72, 186, 2, 97, 45, 43, 6, 11, 26, 4, 9, 36, 5, 8, 1, 3, 12, 7, 199, 7, 28, 5, 7, 5362, 14, 1, 2, 4, 2, 24, 3, 1, 7, 8, 1, 1, 17, 1, 1, 1, 2, 7, 14, 10, 19, 5, 28, 4, 10, 3, 35, 10, 20, 1, 7, 18, 1, 1, 1, 14, 118, 24, 12, 10, 23, 10, 7, 26, 2, 6, 2, 8, 13, 33, 7, 5, 13, 7, 26, 29, 13, 3, 5, 5, 112, 5, 10, 3, 48, 15, 15, 2, 19, 3, 1, 7, 3, 8, 3, 26, 14, 9, 6, 2, 13, 3, 24, 29, 11, 1, 2, 24, 10, 4, 10, 9, 129, 24, 1, 32, 6, 9, 13, 22, 6, 2, 30, 15, 1, 31, 10, 11, 14, 3, 61, 3, 4, 7, 3, 133, 26, 6, 6, 9, 67, 2, 1, 10, 95, 4, 1, 7, 5, 2, 1, 19, 1, 5, 2, 31, 3, 13, 20, 1, 4, 46, 12, 1, 10, 3, 3, 14, 4, 24, 8, 3, 21, 7, 1, 1, 12, 10, 8, 1, 6, 1, 4, 4, 19, 1, 12, 75, 13, 11, 2, 1, 11, 6, 4, 5, 12, 1, 11, 278, 1, 18, 10, 1, 8, 6, 8, 2, 3849, 2, 1, 4, 46, 1, 10, 3, 1, 163, 2, 2, 5, 5, 1, 7, 6, 9, 23, 28, 3, 3, 31, 1, 1, 7, 8, 48, 17, 13, 3, 7, 18, 13, 13, 17, 54, 3, 3, 19, 6, 10, 24, 4, 3, 4, 92, 12, 30, 12, 19, 1, 15, 63, 28, 6, 18, 189, 2, 12, 40, 1, 4, 1, 3, 152, 3, 5553, 9, 1, 2, 8, 6, 2, 60, 6, 1, 4, 3, 4, 20, 90, 8, 6, 6, 11, 1, 14, 8, 1, 7, 3, 18, 1, 108, 9, 3, 2, 2, 12, 7, 83, 4, 30, 8, 9, 3, 11, 2, 5, 8, 3, 2, 27, 8, 1, 8, 1, 9, 6, 1, 1, 2, 17, 23, 16, 1, 4, 3, 57, 22, 8, 2, 3, 1, 3, 2, 1, 3, 10, 3, 5, 1, 1, 5, 2, 1, 4, 10, 1, 6, 2, 13, 1, 22, 13, 18, 30, 167, 18, 9, 370, 28, 81, 170, 100, 25, 20, 80, 19, 23, 11, 21, 123, 2, 34, 40, 49, 8, 10, 19, 1, 1, 3, 10, 4, 3, 1, 38, 5, 18, 38, 24, 18, 34, 11, 5, 7, 24, 23, 27, 7, 3, 14, 1, 20, 29, 8, 109, 15, 116, 118, 96, 3, 14, 3, 2, 3, 84, 51, 21, 6, 33, 43, 143, 2, 2, 9, 3, 5, 66, 21, 7, 1, 31, 1, 37, 91, 14, 9, 9, 10, 50, 92, 6, 4, 4, 22, 11, 22, 57, 5, 30, 37, 47, 8, 9, 3, 8, 4, 14, 1, 3, 11, 61, 8, 39, 7, 20, 3175, 6, 1, 2, 1, 2, 3, 8, 21, 9, 5, 3, 3, 1, 1, 2, 13, 21, 73, 1, 3, 2, 21, 4, 1, 13, 1630, 16, 31, 1, 14, 106, 2, 77, 11, 4, 13, 13, 5, 11, 3, 2, 2, 2, 6, 6, 47, 9, 1, 19, 1, 6, 7, 6, 1, 3, 9, 12, 8, 6, 3, 1, 1, 12, 2, 1, 1, 1, 3, 3, 8, 2, 55, 4, 2, 27, 1, 6, 37, 29, 17, 15, 39, 11, 6, 11, 1, 3, 7, 4, 6, 3, 1, 10, 1, 6, 5, 3, 29, 53, 11, 9, 2, 4, 5, 3, 27, 32, 33, 27, 5, 15, 12, 126, 1, 1, 1, 1, 1, 4, 1, 1, 12, 6, 1, 7, 108, 1, 1, 9, 33, 10, 2, 2, 1, 4, 10, 4, 2, 1, 12, 1, 2, 11, 3, 7, 3, 3, 1, 19, 2, 3, 4, 5, 2, 1, 30, 1, 20, 24, 5, 23, 3, 3, 2, 5, 8, 1, 1, 1, 11, 16, 1, 1, 8, 9, 8, 60, 22, 15, 2, 1, 21, 8, 1, 13, 16, 6, 2, 4, 5, 3136, 15, 1, 35, 1, 3, 1, 8, 3, 1, 6, 20, 1, 19, 6, 1, 2, 1, 4, 1, 11, 2, 3, 1, 2, 8, 11, 1, 3, 15, 13, 1, 20, 2, 1, 19, 2, 1, 11, 10, 25, 4, 3, 3, 1, 67, 4, 41, 3, 3, 3, 2, 8, 8, 13, 2, 36, 82, 11, 10, 33, 1, 2, 1, 5, 1, 11, 1, 9, 2, 19, 2, 6, 1, 28, 2, 29, 6, 39, 11, 31, 9, 1, 1, 8, 1, 19, 2, 2, 1, 2, 7, 1, 9, 8, 14, 2, 2, 3, 6, 37, 40, 12, 2, 4, 2, 3, 54, 26, 32, 1, 1, 7, 5, 17, 13, 20, 15, 2, 20, 26, 206, 34, 90, 1, 96, 18, 19, 15, 18, 7, 18, 7, 33, 207, 4, 9, 5, 7, 15, 80, 13, 77, 12, 9, 38, 26, 7, 1, 19, 14, 64, 57, 12, 87, 1, 17, 36, 11, 4, 7, 72, 7, 7, 27, 4, 1, 6, 1, 10, 46, 20, 25, 39, 51, 5, 29, 7, 2, 3, 1, 154, 26, 2, 190, 5, 1, 3, 5, 1, 142, 14, 12, 17, 7, 5, 5, 1, 34, 4, 34, 5, 14, 20, 4, 8, 19, 1, 5, 11, 1, 3, 2, 30, 6, 17, 2, 4, 2, 4, 14, 10, 11, 4, 15, 3, 1, 1, 3, 2, 3, 2, 5, 1, 7, 18, 5, 9, 55, 5, 7, 1, 4, 12, 2, 31, 2, 10, 5, 5, 14, 1, 1, 33, 1, 6, 1, 1, 7, 4, 1, 6, 1, 5, 1, 12, 30, 5, 2, 5, 1, 15, 49, 7, 1, 16, 1, 13, 1, 5, 5, 7, 5, 2657, 3, 1, 3, 4, 1, 1, 3, 4, 4, 3, 3, 3, 3, 3, 1, 6, 1, 1, 2, 3, 1, 1, 3, 1, 2, 1, 25, 2, 3, 1, 5, 12, 9, 2, 10, 4, 10, 4, 9, 2, 1, 11, 8, 3, 2, 11, 3, 5, 1, 19, 2, 1, 7, 4, 36, 1, 5, 1, 1, 1, 3, 2, 10, 9, 7, 2, 6, 1, 17, 2, 3, 2, 2, 1, 1, 2, 2, 8, 1, 1, 2, 7, 6, 7, 5, 6, 37, 8, 8, 14, 15, 7, 19, 4, 2, 1, 33, 6, 46, 2, 6, 10, 28, 20, 3, 34, 126, 6, 1, 3, 20, 3, 2, 1, 40, 10, 70, 28, 29, 166, 6, 42, 3, 16, 24, 87, 89, 4, 51, 49, 17, 9, 182, 1, 39, 20, 4, 10, 2, 1, 1, 4, 1, 77, 1, 5, 3, 4, 5, 1, 1, 4, 6, 1, 1, 1, 1, 3, 3, 8, 5, 1, 3, 1, 7, 3, 3, 5, 1, 16, 31, 18, 4, 2, 2, 2, 1, 2, 1, 6, 1, 16, 8, 27, 7, 14, 80, 20, 2, 1, 4, 2, 10, 5, 1, 1, 3, 3, 4, 2, 2, 6, 1, 4, 5, 8, 163, 1, 9, 8, 1, 1, 3, 11, 50, 4, 6, 2, 1, 12, 11, 8, 8, 73, 24, 10, 19, 3, 21, 3, 6, 34, 50, 1, 8, 38, 9, 16, 6, 29, 3, 10, 3, 7, 9, 2, 31, 3, 3, 14, 39, 2, 2, 9, 1, 6, 5, 6, 13, 1, 14, 7, 18, 3, 3, 1, 4, 6, 3, 1, 3, 6, 2, 4, 1, 4, 11, 2, 5, 5, 1, 1, 1, 1, 4, 16, 2, 6, 22, 1, 1, 2, 1, 15, 8, 50, 1, 7, 3, 2, 1, 2, 1, 1, 1, 9, 3, 18, 3, 2, 7, 15, 9, 1, 4, 36, 3, 11, 3834, 2, 16, 1, 11, 23, 43, 33, 1, 4, 1, 6, 6, 6, 2, 1, 8, 1, 5, 4, 15, 14, 6, 1, 9, 2, 2, 12, 20, 2, 12, 1, 1, 2, 2, 3, 1, 1, 2, 20, 1, 1, 1, 1, 1, 9, 2, 13, 4, 4, 3, 4, 8, 1, 1, 1, 13, 1, 1, 33, 2, 10, 3, 4, 5, 1, 26, 8, 12, 1, 1, 42, 137, 13, 2, 1, 18, 1, 1, 2, 4, 1, 1, 1, 4, 1, 30, 36, 1, 1, 13, 1, 1, 2, 4, 2, 20, 1, 2, 2, 6, 7, 3, 2, 2, 3, 3, 1, 2, 14, 1, 5, 1, 4, 2, 5, 1, 6, 5, 1, 1, 8, 109, 1, 1, 2, 11, 1, 18, 7, 1, 1, 15, 7, 22, 1, 2, 3, 31, 9, 4, 4, 1, 2, 6, 1, 1, 1, 1, 48, 16, 8, 3, 2, 18, 1, 1, 1, 1, 38, 1, 1, 1, 12, 11, 53, 9, 6, 12, 9, 6, 8, 9, 12, 12, 3, 7, 7, 4, 4, 10, 2, 4, 5, 3, 10, 1, 2, 1, 3, 1, 18, 5, 1, 4, 6, 2, 3, 4, 1, 21, 2, 8, 20, 1, 5, 1, 3, 1, 11, 1, 5, 6, 1, 10, 2, 13, 2, 8, 13, 8, 2, 25, 1, 35, 4, 6, 1, 6, 2, 30, 5, 2, 19, 2, 2, 28, 3, 6, 13, 7, 5, 6, 1, 3, 6, 1, 5, 3, 1, 2, 4, 2, 2, 1, 1, 1, 52, 1, 9, 9, 3, 6, 29, 4, 6, 5, 5, 68, 26, 18, 14, 1, 1, 4, 4, 6, 5, 3, 3, 93, 5, 1, 1, 12, 9, 35, 28, 29, 9, 12, 8, 12, 9, 1, 384, 71, 1, 2, 5, 67, 11, 3, 25, 1, 46, 5, 4, 5, 4, 6, 4, 5, 5, 12, 13, 2, 6, 11, 14, 3, 4, 5, 4, 1, 11, 11, 32, 21, 5, 15, 142, 1, 41, 41, 5, 2, 8, 1, 1, 1, 1, 78, 3, 29, 1, 8, 1, 3, 50, 2, 1, 8, 21, 46, 1, 20, 2, 3, 16, 30, 5, 6, 4, 18, 1, 11, 1, 2, 1, 14, 3, 5, 3, 4, 2, 2, 2, 2, 1, 2, 22, 4, 13, 83, 5, 1, 6, 3, 11, 4, 3, 9, 6, 3, 6, 9, 2, 6, 3, 11, 53, 36, 6, 2, 1, 5, 9, 7, 3, 1, 3, 2, 1, 3, 1, 1, 7, 4, 5, 9, 9, 8, 4, 7, 1, 1, 6, 3, 3, 7, 12, 1, 1, 11, 4, 7, 9, 7, 3, 4, 5, 9, 6, 1, 3, 1, 8, 11, 8, 5, 13, 3, 5, 1, 16, 12, 3, 14, 5, 18, 6, 1, 1, 5, 3, 1, 12, 2, 3, 35, 3, 3, 29, 8, 21, 3, 1, 8, 1, 4, 1, 5, 2, 41, 3, 4, 1, 61, 1, 4, 8, 1, 1, 1, 7, 6, 28, 1, 1, 8, 2, 11, 4, 1, 9, 8, 7, 7, 18, 47, 7, 62, 64, 8, 76, 8, 10, 7, 4, 5, 10, 22, 72, 4, 177, 33, 26, 1, 1, 4, 8, 3, 68, 21, 2, 5, 6, 24, 26, 26, 5, 5, 18, 7, 3, 31, 13, 47, 3, 5, 2, 9, 2, 36, 13, 17, 5, 8, 115, 181, 1, 14, 20, 4, 7, 4, 12, 78, 5, 17, 16, 5, 13, 22, 25, 7, 4, 14, 22, 6, 30, 2, 2, 34, 2, 6, 94, 21, 25, 15, 32, 63, 20, 21, 10, 40, 81, 147, 14, 3, 1, 5, 4, 11, 64, 9, 18, 9, 3, 8, 18, 18, 7, 3, 1, 2, 12, 1, 7, 7, 10, 8, 2, 6, 4, 6, 17, 4, 1, 23, 3, 6, 5, 2, 5, 3, 15, 4, 20, 56, 14, 11, 2, 4, 55, 1, 37, 12, 4, 14, 315, 74, 10, 1, 15, 17, 22, 25, 9, 18, 10, 7, 21, 1, 22, 3, 14, 9, 4, 3, 1, 2, 1, 7, 15, 1, 11, 2, 9, 2, 5, 1, 1, 4, 3, 1, 2, 6, 3, 1, 2, 2, 2, 1, 1, 1, 2, 1, 1, 1, 2, 1, 14, 2, 2, 5, 2, 1, 1, 1, 4, 1, 2, 1, 3, 6, 2, 1, 2, 26, 2, 9, 16, 13, 3, 1, 10, 3, 2, 1, 40, 1, 2, 5, 1, 1, 1, 4, 1, 7, 1, 3, 1, 2, 6, 25, 365, 7, 1, 1, 11, 1, 1, 2, 3, 2, 14, 2, 8, 5, 10, 2, 5, 3, 5, 2, 17, 1, 2, 2, 3, 6, 2, 4, 13, 6, 4, 1, 17, 1, 1, 4, 1, 7, 1, 3, 72, 8, 68, 10, 3, 6, 2, 2, 2, 3, 1, 1, 1, 4, 6, 5, 5, 11, 1, 5, 6, 4, 6, 5, 13, 8, 1, 8, 18, 34, 12, 3, 36, 9, 8, 1, 5, 11, 2, 70, 4, 161, 3, 1, 73, 69, 67, 10, 12, 3, 3, 7, 1, 2, 3, 2, 5, 12, 1, 1, 1, 5, 1, 1, 2, 1, 3, 3, 1, 18, 7, 1, 1, 1, 6, 87, 12, 1, 1, 2, 4, 4, 13, 2, 10, 4, 2, 3, 4, 22, 9, 3, 1, 2, 35, 1, 10, 17, 3, 6, 7, 2, 4, 9, 7, 18, 77, 64, 7, 5, 6, 39, 76, 7, 16, 20, 7, 16, 3, 4, 1, 31, 10, 32, 4, 2, 4, 22, 2, 4, 10, 1, 5, 1, 1, 2, 7, 4, 2, 7, 2, 4, 1, 7, 2, 25, 5, 1, 2, 7, 8, 1, 35, 8, 2, 16, 5, 4, 2, 7, 6, 19, 6, 2, 1, 7, 3, 2, 1, 1, 3, 6, 2, 2, 20, 1, 1, 1, 7, 2, 7, 2, 2, 4, 1, 1, 5, 45, 4, 5, 3, 2, 7, 19, 3, 1, 2, 2, 4, 6, 26, 2, 8, 29, 2, 7, 20, 2, 4, 1, 7, 1, 1, 1, 6, 1, 2, 12, 9, 2, 1, 5, 1, 3, 12, 2, 15, 24, 7, 9, 1, 1, 1, 26, 1, 7, 1, 1, 1, 3, 1, 2, 1, 1, 1, 4, 1, 6, 1, 3, 1, 1, 4, 4, 2, 1, 1, 3, 11, 2, 2, 29, 4, 9, 19, 3, 12, 3, 3, 1, 2, 76, 8, 1, 6, 1, 2, 1, 13, 3, 6, 11, 2, 4, 6, 48, 13, 44, 4, 18, 4, 29, 1, 3, 47, 1, 5, 31, 11, 5, 4, 3, 6, 1, 2, 2, 8, 5, 46, 6, 5, 20, 7, 17, 9, 3, 8, 19, 22, 86, 3, 1, 1, 1, 1, 1, 4, 1, 1, 1, 2, 1, 1, 1, 1, 2, 15, 25, 1, 1, 10, 1, 1, 1, 1, 1, 1, 1, 33, 3, 1, 1, 3, 3, 2, 1, 1, 3, 1, 1, 1, 1, 1, 1, 6, 25, 1, 20, 1, 3, 277, 14, 5, 2, 14, 4, 9, 16, 8, 40, 1, 5, 2, 14, 9, 29, 64, 2, 2, 1, 23, 2, 6, 51, 76, 2, 1, 7, 11, 3, 36, 2, 1, 1, 1, 1, 1, 3, 1, 1, 1, 2, 1, 3, 7, 1, 1, 2, 4, 1, 1, 1, 1, 2, 1, 1, 2, 7, 5, 3, 1, 1, 3, 4, 2, 27, 7, 2, 4, 5, 23, 7, 7, 62, 6, 15, 6, 7, 13, 21, 39, 12, 9, 8, 12, 2, 3, 5, 2, 6, 1, 20, 19, 20, 1, 90, 44, 60, 3, 23, 1, 1, 86, 3, 2, 73, 6, 2, 2, 18, 6, 12, 14, 4, 30, 1, 3, 10, 4, 3, 54, 1, 87, 3, 12, 2, 4, 3, 3, 4, 3, 1, 2, 1, 1, 1, 1, 1, 22, 15, 16, 50, 9, 2, 3, 1, 2, 1, 9, 65, 7, 3, 13, 8, 6, 1, 1, 2, 2, 1, 86, 1, 12, 3, 11, 1, 1, 7, 1, 2, 2, 5, 3, 1, 1, 2, 1, 1, 1, 3, 1, 1, 8, 1, 2, 1, 27, 5, 1, 1, 9, 9, 2, 3, 2, 1, 15, 1, 6, 187, 13, 5, 7, 27, 6, 11, 5, 1, 4, 5, 2, 2, 2, 2, 2, 4, 32, 1, 19, 17, 1, 1, 25, 17, 5, 3, 108, 4, 16, 15, 1, 3, 9, 2, 1, 5, 1, 1, 1, 3, 3, 4, 1, 11, 3, 6, 15, 1, 1, 1, 1, 2, 1, 3, 1, 1, 3, 5, 5, 2, 13, 10, 3, 6, 1, 3, 1, 3, 2, 2, 14, 1, 17, 4, 1, 2, 26, 1, 1, 3, 2, 5, 1, 1, 71, 1, 7, 7, 4, 38, 1, 1, 6, 1, 1, 2, 1, 14, 10, 28, 14, 1, 4, 4, 4, 6, 4, 7, 12, 7, 2, 2, 1, 10, 6, 4, 1, 3, 5, 62, 3, 9, 19, 1, 19, 3, 15, 1, 7, 1, 5, 3, 36, 1, 3, 14, 29, 6, 15, 4, 2, 11, 8, 7, 6, 3, 1, 14, 2, 5, 1, 16, 11, 49, 1, 1, 14, 10, 5, 3, 1, 5, 1, 3, 1, 4, 1, 1, 11, 4, 1, 2, 1, 1, 1, 1, 1, 1, 3, 3, 1, 15, 5, 7, 7, 1, 1, 49, 6, 1, 1, 1, 16, 3, 1, 4, 2, 8, 1, 1, 6, 4, 6, 1, 2, 10, 36, 18, 8, 16, 1, 6, 2, 9, 8, 2, 4, 43, 1, 1, 2, 2, 2, 3, 1, 1, 1, 1, 18, 9, 1, 1, 2, 11, 1, 19, 1, 5, 9, 3, 3, 1, 1, 1, 6, 1, 3, 7, 2, 11, 110, 8, 4, 4, 2, 11, 1, 6, 17, 8, 8, 1, 4, 6, 1, 7, 2, 6, 4, 5, 9, 4, 3, 1, 4, 4, 26, 5, 1, 13, 2, 3, 68, 6, 30, 9, 7, 1, 35, 152, 5, 2, 11, 8, 1, 36, 8, 13, 10, 1, 2, 89, 2, 47, 1, 72, 16, 8, 14, 95, 28, 1, 5, 7, 27, 1, 9, 8, 1, 1, 1, 4, 1, 11, 1, 2, 4, 1, 4, 6, 1, 1, 6, 13, 7, 2, 22, 1, 39, 2, 39, 3, 9, 16, 2, 2, 3, 5, 5, 4, 2, 3, 2, 3, 2, 15, 1, 4, 5, 4, 17, 12, 4, 1, 8, 2, 6, 3, 6, 13, 1, 10, 5, 3, 13, 6, 3, 8, 1, 65, 3, 32, 7, 1, 1, 18, 1, 45, 3, 1, 30, 1, 3, 4, 8, 2, 1, 1, 2, 1, 1, 1, 1, 2, 2, 1, 3, 9, 6, 1, 7, 1, 14, 1, 3, 1, 1, 1, 6, 9, 1, 1, 1, 3, 2, 3, 4, 8, 1, 3, 1, 5, 1, 3, 3, 11, 2, 9, 57, 5, 4, 37, 1, 2, 26, 6, 3, 1, 14, 1, 1, 1, 3, 1, 1, 1, 4, 1, 1, 1, 1, 1, 2, 2, 6, 10, 8, 7, 1, 1, 14, 1, 2, 2, 1, 5, 2, 2, 15, 2, 1, 4, 1, 1, 1, 1, 6, 3, 3, 6, 28, 2, 2, 2, 3, 1, 7, 589, 9, 2, 14, 7, 2, 6, 7, 4, 3, 39, 3, 1, 2, 1, 1, 1, 1, 1, 1, 7, 7, 1, 1, 7, 3, 1, 3, 1, 2, 15, 10, 2, 11, 4, 6, 2, 1, 6, 3, 88, 17, 1, 4, 1, 1, 1, 1, 1, 23, 1, 6, 1, 1, 4, 4, 1, 2, 1, 1, 1, 1, 4, 1, 9, 3, 11, 5, 1, 12, 1, 1, 10, 19, 5, 2, 36, 1, 10, 2, 2, 34, 1, 8, 18, 136, 13, 19, 1, 4, 21, 1, 1, 1, 1, 3, 7, 2, 1, 11, 1, 2, 54, 5, 1, 8, 4, 1, 19, 1, 21, 9, 3, 4, 2, 1, 4, 1, 2, 11, 13, 9, 4, 1, 22, 2, 11, 8, 3, 13, 4, 4, 16, 4, 9, 12, 3, 8, 2, 6, 7, 5, 1, 116, 8, 17, 15, 51, 6, 7, 2, 16, 3, 17, 10, 4, 9, 3, 4, 18, 17, 6, 54, 567, 3, 19, 1, 2, 2, 2, 22, 28, 7, 4, 1, 4, 2, 1, 7, 8, 1, 2, 5, 5, 1, 4, 4, 2, 1, 4, 10, 4, 2, 52, 1, 39, 13, 2, 2, 1, 1, 1, 10, 1, 2, 1, 7, 10, 3, 6, 16, 59, 2, 2, 2, 3, 3, 1, 2, 1, 3, 1, 4, 9, 2, 10, 13, 1, 8, 6, 2, 4, 1, 1, 1, 1, 1, 12, 14, 3, 2, 2, 5, 1, 14, 34, 11, 1, 3, 5, 49, 9, 1, 28, 4, 17, 6, 15, 9, 7, 3, 3, 24, 1, 3, 1, 3, 1, 49, 2, 194, 50, 3, 2, 1, 13, 14, 38, 128, 10, 8, 135, 21, 3, 5, 4, 4, 4, 2, 1, 1, 5, 30, 11, 4, 37, 70, 11, 32, 3, 13, 3, 102, 8, 1, 10, 3, 20, 7, 1, 3, 29, 2, 3, 10, 4, 3, 40, 20, 3, 8, 8, 8, 16, 1, 5, 1, 15, 68, 1, 1, 12, 11, 7, 12, 8, 3, 19, 20, 11, 3, 31, 11, 12, 1, 2, 4, 3, 2, 3, 26, 1, 2, 4, 1, 1, 13, 1, 1, 2, 2, 6, 3, 1, 1, 2, 8, 3, 20, 4, 20, 4, 2, 14, 1, 6, 3, 4, 2, 20, 1, 12, 50, 2, 67, 4, 1, 15, 7, 6, 1, 1, 1, 15, 16, 3, 1, 1, 7, 1, 3, 1, 1, 1, 1, 1, 1, 1, 2, 2, 1, 1, 6, 1, 1, 6, 3, 1, 7, 3, 1, 1, 1, 3, 1, 1, 1, 4, 5, 15, 6, 4, 1, 1, 1, 1, 1, 1, 23, 1, 2, 1, 7, 49, 3, 5, 1, 2, 4, 1, 17, 1, 6, 16, 1, 2, 5, 2, 18, 101, 1, 1, 4, 3, 5, 1, 2, 1, 2, 1, 1, 1, 2, 5, 9, 1, 21, 3, 8, 1, 2, 81, 1, 55, 1, 23, 2, 2, 1, 3, 1, 2, 1, 1, 1, 2, 6, 10, 1, 2, 2, 3, 1, 6, 7, 2, 2, 4, 17, 17, 3, 19, 15, 3, 1, 1, 1, 1, 2, 1, 1, 1, 2, 2, 3, 6, 1, 1, 3, 1, 1, 1, 3, 1, 3, 4, 1, 5, 17, 4, 9, 7, 12, 8, 2, 22, 4, 5, 1, 2, 1, 7, 5, 1, 4, 3, 1, 3, 11, 48, 2, 2, 5, 4, 3, 1, 3, 2, 3, 17, 3, 5, 1, 10, 2, 8, 2, 24, 1, 5, 4, 2, 5, 7, 3, 6, 10, 2, 10, 2, 1, 2, 2, 2, 38, 10, 3, 12, 3, 5, 3, 1, 2, 8, 2, 3, 1, 2, 5, 2, 26, 3, 4, 2, 2, 8, 6, 4, 5, 2, 1, 2, 1, 10, 1, 4, 5, 2, 5, 1, 7, 4, 6, 7, 9, 4, 8, 3, 1, 2, 454, 4, 1, 1, 11, 4, 1, 3, 2, 2, 2, 1, 1, 2, 2, 2, 1, 20, 1, 3, 4, 3, 3, 1, 1, 1, 2, 4, 2, 31, 16, 11, 19, 9, 43, 1, 1, 11, 1, 5, 2, 32, 3, 1, 14, 1, 33, 1, 12, 3, 6, 2, 2, 15, 14, 1, 7, 2, 3, 1, 20, 10, 4, 13, 6, 20, 78, 10, 5, 12, 2, 5, 2, 5, 2, 8, 5, 20, 15, 6, 8, 3, 11, 16, 2, 13, 7, 25, 1, 6, 1, 5, 11, 1, 6, 5, 6, 1, 33, 6, 1, 9, 8, 2, 6, 18, 1, 33, 12, 3, 6, 2, 2, 1, 5, 1, 1, 5, 1, 2, 1, 2, 4, 34, 5, 2, 45, 1, 1, 1, 1, 1, 1, 3, 1, 1, 1, 1, 1, 1, 1, 1, 1, 1, 1, 1, 1, 1, 1, 1, 1, 1, 1, 1, 1, 1, 1, 1, 1, 1, 1, 1, 1, 1, 1, 1, 1, 1, 1, 1, 1, 1, 2, 1, 1, 15, 1, 1, 8, 2, 12, 2, 1, 4, 12, 4, 2, 6, 27, 7, 1, 11, 1, 4, 7, 2, 1, 1, 1, 2, 2, 29, 1, 2, 1, 1, 10, 1, 3, 3, 5, 1, 7, 5, 1, 3, 1, 3, 2, 1, 1, 6, 20, 3, 1, 3, 2, 1, 17, 14, 3, 22, 40, 5, 5, 10, 4, 2, 6, 10, 2, 5, 4, 10, 2, 2, 3, 4, 12, 2, 17, 1, 1, 3, 1, 2, 18, 12, 6, 3, 6, 5, 2, 12, 2, 10, 8, 12, 5, 1, 3, 113, 1, 16, 1, 31, 11, 4, 22, 11, 4, 4, 36, 2, 13, 1, 4, 21, 19, 2, 4, 10, 9, 5, 6, 4, 6, 14, 5, 14, 6, 5, 5, 1, 2, 2, 33, 1, 5, 10, 2, 23, 2, 2, 19, 14, 1, 8, 13, 19, 1, 1, 1, 13, 44, 1, 4, 13, 21, 3, 1, 9, 6, 6, 4, 14, 26, 19, 1, 4, 1, 2, 7, 5, 19, 1, 3, 4, 1, 3, 1, 13, 2, 11, 1, 52, 3, 2, 1, 3, 1, 1, 3, 1, 1, 17, 10, 3, 2, 3, 25, 1, 1, 1, 8, 2, 5, 5, 13, 5, 2, 3, 9, 2, 2, 7, 13, 62, 4, 2, 4, 1, 105, 1, 1, 1, 1, 4, 1, 8, 2, 9, 1, 1, 1, 7, 6, 5, 2, 3, 1, 2, 1, 3, 2, 1, 2, 6, 1, 6, 23, 7, 2, 1, 10, 16, 1, 4, 1, 1, 1, 1, 60, 16, 7, 5, 2, 33, 16, 1, 21, 25, 5, 6, 3, 5, 7, 7, 3, 2, 6, 10, 6, 5, 14, 1, 1, 1, 1, 1, 2, 2, 2, 1, 2, 5, 2, 1, 1, 1, 2, 1, 1, 54, 1, 20, 175, 1, 3, 7, 4, 2, 5, 3, 1, 10, 1, 2, 4, 1, 1, 14, 7, 4, 20, 1, 69, 33, 6, 5, 6, 3, 5, 45, 3, 64, 5, 6, 9, 1, 4, 2, 6, 11, 19, 6, 13, 4, 44, 5, 2, 1, 2, 1, 22, 9, 2, 4, 1, 2, 39, 24, 4, 2, 2, 2, 25, 36, 6, 2, 2, 2, 20, 2, 12, 3, 6, 1, 7, 15, 8, 3, 4, 1, 2, 1, 4, 1, 1, 4, 5, 8, 7, 3, 3, 1, 1, 3, 17, 1, 4, 3, 3, 1, 3, 5, 1, 3, 1, 1, 3, 1, 1, 8, 1, 11, 10, 2, 6, 7, 9, 5, 6, 4, 6, 10, 7, 3, 3, 5, 2, 3, 7, 3, 11, 2, 7, 10, 4, 2, 2, 17, 1, 2, 3, 7, 2, 1, 3, 48, 1, 1, 71, 4, 4, 2, 3, 5, 1, 5, 2, 1, 2, 2, 3, 1, 4, 4, 5, 7, 1, 1, 2, 2, 1, 1, 1, 41, 1, 2, 1, 2, 2, 1, 10, 3, 2, 4, 7, 1, 10, 5, 2, 10, 5, 9, 3, 17, 2, 16, 6, 8, 12, 24, 3, 13, 3, 2, 19, 4, 6, 3, 9, 9, 28, 2, 8, 11, 1, 15, 25, 146, 3, 1, 1, 1, 1, 3, 45, 2, 53, 5, 3, 2, 2, 28, 2, 24, 5, 13, 2, 1, 2, 3, 4, 6, 1, 1, 1, 1, 1, 1, 4, 1, 3, 1, 9, 1, 2, 5, 3, 4, 8, 2, 2, 1, 1, 5, 47, 1, 2, 4, 6, 1, 5, 1, 1, 1, 1, 1, 4, 16, 1, 1, 1, 1, 2, 3, 1, 1, 1, 1, 1, 1, 2, 3, 1, 48, 6, 1, 7, 1, 4, 3, 2, 11, 13, 12, 1, 1, 5, 1, 2, 1, 4, 4, 1, 2, 7, 1, 1, 2, 4, 1, 1, 2, 16, 3, 1, 6, 4, 20, 3, 2, 10, 14, 5, 1, 1, 2, 2, 4, 4, 7, 1, 2, 3, 10, 4, 3, 4, 6, 1, 1, 5, 3, 1, 1, 7, 8, 24, 4, 10, 1, 7, 8, 1, 2, 8, 3, 2, 12, 3, 17, 11, 2, 8, 5, 1, 9, 4, 8, 1, 30, 13, 1, 1, 8, 9, 1, 1, 1, 1, 1, 7, 2, 21, 2, 17, 1, 6, 5, 2, 1, 1, 32, 1, 1, 2, 2, 4, 15, 2, 1, 4, 3, 15, 2, 3, 2, 4, 4, 7, 2, 3, 11, 1, 1, 1, 4, 4, 10, 134, 2, 3, 4, 1, 20, 1, 3, 1, 1, 13, 1, 6, 20, 1, 16, 1, 2, 3, 2, 2, 2, 1, 1, 3, 1, 1, 13, 1, 2, 2, 1, 1, 1, 4, 1, 1, 1, 2, 2, 1, 1, 1, 5, 1, 2, 5, 1, 1, 1, 9, 1, 9, 10, 4, 2, 4, 2, 4, 5, 1, 2, 2, 10, 1, 2, 5, 1, 3, 7, 1, 3, 1, 2, 1, 1, 6, 1, 3, 3, 3, 3, 1, 5, 17, 9, 1, 5, 2, 6, 7, 40, 1, 8, 8, 3, 22, 2, 22, 5, 9, 1, 1, 25, 2, 2, 1, 20, 26, 7, 12, 2, 3, 4, 3, 22, 5, 3, 6, 4, 4, 1, 5, 3, 21, 9, 5, 1, 12, 2, 1, 1, 1, 1, 11, 2, 7, 10, 1, 3, 1, 4, 4, 4, 2, 11, 4, 1, 5, 1, 5, 1, 1, 22, 1, 27, 5, 7, 14, 1, 5, 15, 5, 9, 1, 2, 1, 1, 11, 5, 1, 1, 1, 1, 2, 1, 1, 2, 1, 2, 20, 1, 1, 4, 11, 1, 8, 2, 4, 24, 2, 2, 20, 1, 5, 12, 1, 3, 2, 1, 33, 2, 7, 5, 2, 6, 12, 2, 114, 104, 9, 6, 4, 2, 2, 2, 3, 12, 10, 6, 1, 3, 43, 1, 1, 16, 147, 8, 1, 2, 11, 1, 14, 12, 1, 2, 5, 2, 1, 5, 27, 31, 1, 15, 6, 74, 2, 3, 8, 39, 5, 108, 32, 1, 2, 8, 1, 2, 6, 1, 14, 15, 2, 1, 1, 1, 10, 2, 2, 1, 6, 12, 2, 1, 8, 2, 7, 10, 2, 3, 2, 53, 2, 4, 3, 2, 4, 1, 2, 2, 1, 3, 3, 1, 1, 3, 2, 2, 3, 2, 2, 19, 16, 60, 5, 5, 3, 4, 3, 29, 3, 1, 15, 11, 7, 9, 2, 17, 1, 2, 10, 2, 1, 2, 1, 6, 5, 5, 23, 3, 4, 3, 14, 9, 4, 1, 4, 2, 2, 39, 51, 6, 2, 9, 1, 1, 8, 2, 3, 2, 1, 7, 4, 40, 2, 6, 2, 8, 26, 9, 24, 9, 1, 28, 1, 2, 3, 3, 2, 12, 14, 6, 3, 1, 11, 1, 46, 14, 61, 15, 1, 2, 45, 2, 1, 9, 4, 1, 1, 2, 3, 6, 1, 4, 1, 5, 2, 8, 1, 4, 3, 1, 2, 2, 1, 1, 2, 3, 1, 2, 3, 3, 5, 4, 2, 1, 2, 6, 12, 5, 12, 6, 2, 5, 1, 1, 7, 2, 15, 2, 3, 31, 5, 3, 2, 1, 7, 10, 3, 3, 2, 6, 1, 2, 1, 1, 1, 1, 3, 2, 3, 1, 1, 5, 1, 2, 32, 21, 1, 1, 1, 1, 5, 4, 1, 3, 2, 1, 1, 3, 1, 1, 1, 1, 1, 3, 1, 3, 1, 1, 1, 3, 3, 1, 1, 1, 1, 1, 2, 1, 1, 1, 3, 1, 1, 14, 2, 1, 1, 1, 2, 3, 2, 1, 1, 1, 3, 2, 1, 1, 2, 2, 1, 1, 1, 1, 3, 1, 5, 9, 1, 2, 2, 2, 6, 3, 1, 4, 3, 1, 1, 2, 3, 1, 2, 1, 3, 1, 1, 10, 6, 11, 11, 4, 1, 1, 1, 3, 4, 1, 5, 1, 20, 16, 6, 85, 2, 1, 10, 1, 1, 1, 1, 1, 1, 1, 1, 1, 1, 2, 2, 1, 1, 1, 8, 2, 3, 3, 1, 6, 10, 1, 3, 2, 2, 1, 3, 3, 6, 3, 1, 1, 2, 14, 1, 2, 5, 9, 39, 2, 5, 6, 5, 2, 8, 2, 5, 21, 1, 2, 4, 4, 5, 2, 2, 3, 23, 1, 16, 22, 80, 2, 7, 30, 6, 4, 4, 6, 85, 3, 4, 1, 3, 37, 85, 1, 27, 5, 1, 1, 25, 1, 1, 2, 1, 4, 5, 1, 5, 6, 1, 1, 3, 3, 4, 1, 1, 2, 1, 1, 7, 2, 1, 1, 2, 1, 1, 4, 12, 4, 3, 3, 1, 4, 3, 1, 2, 1, 7, 1, 10, 2, 1, 12, 1, 1, 2, 1, 1, 7, 1, 1, 2, 1, 3, 2, 2, 1, 10, 1, 5, 1, 8, 6, 2, 3, 9, 5, 6, 5, 4, 4, 2, 2, 6, 3, 7, 1, 12, 36, 2, 7, 1, 20, 20, 6, 214, 18, 2, 2, 8, 1, 10, 2, 2, 10, 1, 3, 1, 1, 1, 2, 1, 1, 5, 2, 8, 1, 1, 2, 1, 1, 1, 1, 5, 3, 1, 1, 9, 1, 1, 1, 1, 16, 2, 4, 1, 1, 1, 1, 5, 1, 1, 2, 1, 1, 1, 23, 1, 4, 33, 2, 9, 17, 55, 18, 2, 1, 1, 2, 4, 26, 6, 2, 6, 19, 2, 2, 1, 1, 40, 1, 96, 7, 4, 4, 1, 3, 3, 22, 65, 1, 16, 4, 4, 19, 45, 2, 2, 5, 14, 7, 1, 5, 1, 1, 12, 10, 1, 1, 1, 2, 7, 1, 2, 3, 4, 95, 3, 1, 2, 22, 5, 2, 3, 3, 1, 2, 2, 18, 1, 4, 1, 9, 2, 3, 1, 6, 2, 1, 13, 4, 4, 1, 3, 11, 5, 1, 7, 1, 1, 1, 1, 1, 5, 4, 13, 5, 5, 1, 19, 13, 6, 4, 3, 2, 2, 2, 2, 1, 1, 2, 1, 12, 4, 2, 4, 6, 11, 6, 5, 7, 3, 3, 3, 8, 6, 7, 38, 3, 47, 12, 5, 2, 33, 3, 1, 1, 5, 29, 4, 3, 1, 2, 5, 17, 3, 15, 1, 12, 12, 7, 8, 1, 5, 3, 5, 1, 1, 2, 1, 1, 3, 2, 4, 1, 1, 1, 1, 8, 2, 2, 7, 1, 7, 1, 2, 2, 2, 2, 2, 2, 3, 2, 4, 1, 1, 2, 47, 13, 2, 11, 8, 1, 1, 1, 27, 2, 12, 9, 1, 1, 8, 1, 1, 13, 15, 2, 1, 1, 1, 1, 2, 2, 9, 2, 1, 3, 1, 1, 1, 2, 1, 9, 1, 4, 1, 4, 1, 1, 1, 1, 2, 2, 9, 1, 46, 2, 1, 1, 2, 1, 1, 16, 8, 7, 1, 1, 8, 2, 8, 1, 5, 2, 1, 4, 3, 4, 2, 12, 1, 2, 1, 1, 1, 1, 2, 2, 3, 1, 1, 1, 7, 2, 1, 1, 2, 2, 1, 1, 1, 15, 7, 1, 1, 1, 7, 17, 1, 1, 2, 3, 1, 3, 3, 4, 20, 1, 1, 4, 9, 1, 4, 12, 24, 1, 3, 1, 1, 1, 3, 2, 1, 1, 1, 14, 1, 1, 13, 2, 2, 5, 3, 1, 2, 1, 2, 5, 1, 2, 25, 5, 2, 4, 3, 2, 13, 4, 1, 1, 3, 5, 2, 3, 1, 6, 44, 7, 11, 3, 8, 8, 3, 1, 8, 6, 1, 6, 24, 25, 4, 3, 5, 31, 59, 12, 16, 4, 6, 8, 1, 1, 1, 5, 1, 1, 9, 11, 1, 1, 2, 1, 3, 1, 1, 6, 1, 1, 1, 1, 4, 1, 8, 10, 15, 1, 17, 1, 1, 1, 2, 1, 7, 1, 1, 2, 2, 6, 7, 3, 8, 7, 1, 14, 1, 4, 3, 4, 11, 4, 14, 2, 1, 9, 3, 3, 1, 2, 4, 32, 4, 4, 34, 43, 19, 27, 2, 1, 1, 9, 6, 15, 3, 7, 251, 8, 9, 1, 1, 7, 15, 6, 2, 5, 16, 3, 6, 10, 2, 2, 7, 3, 3, 11, 3, 3, 26, 11, 1, 9, 1, 9, 16, 4, 2, 17, 10, 13, 8, 7, 27, 26, 1, 4, 4, 5, 24, 3, 1, 4, 4, 2, 2, 8, 2, 4, 3, 10, 2, 25, 4, 1, 16, 1, 6, 2, 11, 1, 3, 1, 1, 12, 34, 5, 1, 1, 2, 43, 2, 1, 1, 1, 1, 1, 1, 1, 1, 1, 1, 1, 1, 2, 1, 1, 1, 1, 1, 1, 9, 4, 6, 1, 1, 1, 1, 1, 1, 29, 27, 3, 1, 2, 1, 2, 1, 9, 4, 1, 1, 1, 1, 1, 1, 5, 6, 12, 1, 1, 3, 1, 1, 1, 1, 8, 27, 3, 13, 33, 1, 7, 2, 1, 1, 1, 3, 1, 1, 4, 9, 3, 2, 1, 2, 5, 4, 14, 2, 2, 1, 2, 12, 6, 1, 1, 2, 1, 2, 2, 8, 10, 7, 3, 2, 3, 1, 2, 12, 4, 6, 5, 8, 3, 41, 1, 1, 13, 1, 2, 12, 6, 1, 1, 2, 1, 1, 1, 1, 1, 10, 8, 1, 1, 1, 1, 1, 1, 4, 1, 1, 1, 1, 1, 1, 1, 6, 1, 2, 2, 3, 1, 4, 12, 1, 9, 1, 5, 1, 2, 1, 8, 6, 1, 1, 3, 33, 1, 1, 4, 1, 1, 1, 6, 5, 6, 4, 2, 2, 6, 5, 3, 2, 1, 1, 3, 1, 1, 1, 2, 4, 1, 1, 1, 6, 4, 14, 1, 8, 2, 7, 1, 5, 1, 4, 4, 2, 3, 6, 10, 1, 4, 5, 2, 1, 7, 2, 2, 2, 1, 4, 3, 2, 1, 2, 2, 12, 2, 1, 1, 3, 1, 1, 1, 1, 2, 1, 1, 5, 2, 2, 2, 4, 10, 4, 11, 4, 10, 3, 3, 9, 5, 4, 16, 4, 25, 3, 4, 3, 1, 22, 1, 1, 6, 3, 1, 6, 2, 3, 13, 6, 6, 5, 45, 4, 1, 11, 1, 1, 15, 1, 2, 3, 6, 4, 4, 1, 8, 1, 14, 6, 3, 1, 1, 6, 1, 2, 4, 1, 1, 6, 1, 2, 1, 5, 8, 3, 3, 1, 4, 4, 1, 1, 1, 151, 2, 5, 1, 3, 5, 2, 2, 1, 2, 15, 1, 1, 1, 1, 1, 1, 1, 3, 9, 1, 1, 1, 1, 12, 2, 4, 1, 2, 1, 22, 3, 1, 3, 62, 13, 5, 1, 47, 12, 7, 1, 3, 6, 1, 2, 10, 5, 6, 2, 4, 2, 17, 92, 4, 4, 3, 3, 27, 4, 5, 12, 17, 9, 5, 24, 5, 33, 14, 5, 2, 2, 8, 4, 7, 5, 3, 1, 3, 10, 9, 1, 10, 7, 1, 8, 1, 6, 1, 21, 1, 1, 3, 1, 1, 1, 1, 4, 15, 3, 1, 6, 3, 10, 1, 4, 4, 1, 1, 1, 3, 1, 1, 2, 1, 96, 1, 1, 5, 16, 3, 6, 3, 1, 5, 2, 9, 2, 2, 6, 4, 2, 3, 10, 2, 1, 3, 12, 4, 2, 2, 6, 2, 3, 10, 2, 2, 2, 3, 1, 2, 1, 4, 6, 3, 2, 2, 4, 1, 4, 5, 8, 2, 2, 1, 1, 1, 1, 1, 2, 8, 1, 2, 2, 6, 2, 1, 1, 1, 1, 5, 3, 1, 1, 21, 1, 3, 4, 2, 6, 5, 1, 1, 4, 4, 1, 5, 1, 4, 2, 2, 6, 3, 6, 1, 6, 6, 1, 7, 2, 1, 50, 7, 6, 13, 5, 2, 1, 7, 5, 2, 1, 4, 2, 4, 2, 30, 8, 1, 1, 8, 1, 1, 1, 1, 2, 8, 1, 1, 1, 1, 11, 1, 2, 1, 3, 2, 10, 5, 6, 15, 17, 7, 1, 9, 20, 1, 2, 2, 1, 10, 23, 3, 1, 3, 2, 12, 2, 4, 2, 1, 12, 3, 8, 4, 2, 2, 1, 1, 8, 2, 1, 16, 2, 273, 5, 9, 4, 2, 8, 2, 4, 1, 1, 2, 8, 8, 19, 1, 7, 15, 9, 4, 1, 11, 7, 7, 7, 1, 2, 1, 2, 142, 6, 11, 4, 5, 19, 2, 7, 5, 16, 3, 4, 2, 4, 50, 6, 1, 14, 3, 1, 1, 4, 13, 1, 4, 4, 1, 6, 17, 6, 14, 2, 7, 6, 75, 16, 2, 3, 19, 2, 16, 3, 54, 24, 2, 1, 27, 3, 18, 2, 4, 2, 17, 2, 2, 5, 9, 2, 2, 1, 6, 7, 1, 5, 4, 2, 2, 1, 11, 7, 2, 6, 2, 1, 3, 1, 4, 4, 1, 2, 10, 17, 5, 16, 2, 1, 2, 1, 5, 19, 1, 1, 2, 4, 12, 5, 2, 3, 3, 1, 3, 4, 2, 27, 14, 3, 2, 5, 3, 6, 2, 1, 1, 5, 2, 1, 2, 1, 1, 7, 2, 4, 2, 2, 1, 13, 2, 4, 1, 6, 1, 2, 9, 10, 1, 2, 5, 1, 3, 1, 3, 9, 1, 3, 3, 1, 1, 1, 1, 2, 1, 1, 3, 1, 6, 1, 1, 4, 1, 4, 1, 1, 2, 1, 1, 1, 1, 1, 3, 1, 1, 1, 1, 1, 1, 4, 1, 1, 1, 1, 1, 14, 1, 1, 24, 1, 2, 6, 3, 4, 3, 4, 3, 3, 2, 1, 1, 1, 4, 2, 7, 22, 7, 66, 4, 5, 19, 3, 14, 2, 2, 3, 13, 9, 4, 1, 1, 1, 3, 14, 4, 4, 11, 8, 27, 5, 1, 1, 33, 10, 5, 3, 2, 2, 5, 4, 1, 8, 1, 2, 8, 3, 6, 13, 4, 11, 3, 1, 10, 1, 2, 9, 9, 7, 3, 1, 2, 2, 4, 8, 1, 1, 9, 2, 3, 1, 3, 10, 2, 3, 5, 3, 1, 1, 1, 2, 12, 16, 6, 2, 3, 6, 1, 3, 3, 4, 18, 2, 1, 1, 1, 2, 1, 1, 1, 1, 1, 1, 1, 2, 1, 1, 1, 2, 2, 1, 1, 4, 1, 1, 1, 1, 2, 1, 1, 1, 1, 1, 1, 1, 1, 2, 1, 1, 2, 1, 1, 1, 1, 4, 3, 18, 9, 1, 5, 5, 2, 10, 8, 22, 1, 3, 1, 4, 2, 1, 1, 5, 6, 2, 1, 6, 6, 1, 1, 2, 2, 1, 3, 3, 3, 1, 1, 1, 3, 1, 2, 2, 1, 3, 2, 1, 1, 1, 3, 1, 3, 2, 3, 1, 2, 2, 1, 1, 1, 3, 1, 1, 1, 2, 3, 1, 1, 1, 63, 2, 1, 2, 1, 1, 1, 1, 2, 1, 5, 1, 3, 1, 2, 1, 2, 1, 2, 1, 3, 1, 1, 3, 12, 1, 1, 2, 3, 1, 1, 2, 1, 6, 1, 1, 6, 12, 1, 2, 2, 1, 3, 2, 2, 1, 19, 7, 8, 2, 3, 2, 5, 27, 1, 3, 2, 1, 13, 1, 7, 1, 5, 3, 5, 3, 3, 5, 2, 3, 1, 1, 1, 1, 1, 10, 4, 1, 2, 2, 5, 19, 2, 10, 9, 2, 1, 19, 2, 4, 3, 9, 1, 1, 3, 2, 6, 1, 1, 2, 2, 1, 2, 4, 133, 1, 1, 1, 2, 4, 5, 4, 3, 1, 3, 4, 2, 2, 4, 2, 3, 1, 23, 1, 5, 2, 7, 12, 1, 2, 4, 11, 5, 1, 1, 3, 3, 11, 1, 6, 4, 4, 2, 2, 5, 4, 2, 6, 10, 1, 1, 1, 1, 1, 1, 1, 1, 1, 6, 2, 1, 4, 1, 1, 1, 1, 2, 1, 1, 1, 1, 1, 1, 1, 2, 1, 2, 1, 1, 1, 1, 1, 2, 1, 1, 1, 1, 1, 2, 1, 1, 1, 1, 1, 1, 1, 1, 1, 3, 1, 4, 1, 2, 1, 1, 1, 1, 1, 1, 1, 3, 1, 1, 1, 1, 6, 3, 2, 1, 1, 5, 1, 3, 5, 7, 9, 1, 8, 2, 28, 1, 4, 14, 6, 2, 2, 4, 6, 2, 5, 1, 2, 3, 6, 1, 1, 1, 18, 3, 1, 7, 3, 2, 2, 1, 3, 9, 3, 1, 2, 10, 1, 5, 1, 4, 1, 1, 3, 1, 77, 3, 21, 1, 3, 4, 1, 31, 4, 13, 6, 3, 1, 1, 3, 2, 1, 24, 2, 1, 17, 1, 3, 2, 1, 8, 10, 1, 3, 13, 1, 39, 61, 5, 15, 7, 14, 11, 2, 1, 3, 6, 18, 6, 3, 2, 14, 3, 2, 2, 1, 1, 12, 8, 4, 3, 1, 4, 1, 5, 3, 13, 1, 3, 2, 4, 5, 2, 1, 2, 1, 4, 2, 2, 5, 3, 3, 2, 5, 15, 3, 13, 1, 1, 1, 1, 1, 5, 9, 1, 3, 1, 2, 4, 5, 7, 8, 4, 1, 3, 4, 1, 11, 2, 11, 2, 11, 2, 67, 2, 1, 5, 3, 1, 3, 7, 2, 2, 7, 2, 2, 8, 42, 1, 83, 5, 5, 4, 2, 2, 2, 11, 1, 4, 2, 1, 6, 1, 3, 19, 5, 7, 9, 1, 3, 1, 9, 2, 1, 26, 57, 2, 11, 3, 3, 1, 2, 16, 1, 3, 70, 1, 3, 1, 1, 2, 1, 1, 2, 4, 1, 11, 1, 6, 2, 5, 2, 3, 3, 3, 12, 8, 8, 4, 5, 17, 1, 4, 2, 4, 21, 2, 3, 3, 1, 11, 5, 2, 3, 2, 1, 2, 2, 6, 1, 1, 1, 2, 1, 1, 1, 4, 6, 6, 1, 5, 4, 5, 2, 1, 1, 1, 1, 20, 3, 12, 17, 1, 2, 2, 5, 2, 8, 1, 5, 2, 1, 1, 1, 2, 1, 5, 2, 1, 3, 5, 16, 2, 1, 3, 30, 1, 5, 2, 2, 4, 3, 35, 1, 10, 5, 1, 3, 8, 1, 4, 32, 2, 4, 2, 5, 6, 4, 28, 2, 7, 8, 1, 2, 2, 14, 1, 2, 2, 3, 2, 3, 4, 5, 1, 2, 1, 4, 1, 7, 5, 6, 9, 2, 27, 40, 2, 3, 1, 5, 3, 18, 3, 3, 4, 9, 108, 3, 1, 1, 2, 2, 2, 1, 1, 85, 1, 65, 3, 1, 2, 2, 2, 2, 1, 2, 6, 2, 2, 1, 1, 1, 1, 2, 1, 3, 1, 2, 1, 1, 2, 1, 3, 1, 6, 3, 6, 2, 60, 2, 16, 8, 1, 1, 9, 5, 1, 19, 1, 8, 11, 4, 7, 8, 7, 6, 25, 7, 1, 2, 10, 11, 6, 26, 4, 10, 4, 4, 1, 41, 21, 19, 2, 15, 5, 9, 4, 5, 3, 2, 29, 1, 1, 7, 2, 3, 64, 24, 2, 2, 3, 11, 9, 1, 1, 1, 3, 1, 2, 8, 3, 6, 1, 6, 7, 2, 2, 3, 10, 6, 1, 41, 3, 54, 7, 5, 4, 7, 13, 1, 3, 1, 1, 10, 1, 2, 2, 2, 1, 2, 2, 4, 5, 3, 2, 46, 6, 1, 2, 6, 8, 1, 3, 1, 1, 2, 4, 19, 4, 1, 1, 3, 1, 5, 6, 6, 4, 7, 4, 6, 2, 115, 11, 1, 1, 1, 5, 1, 1, 48, 6, 2, 2, 2, 1, 1, 2, 2, 1, 14, 10, 13, 3, 2, 1, 3, 1, 2, 9, 2, 2, 1, 5, 3, 2, 3, 4, 2, 7, 1, 1, 6, 4, 5, 2, 1, 1, 1, 3, 2, 3, 3, 1, 1, 2, 2, 1, 2, 1, 1, 1, 10, 6, 6, 1, 1, 1, 3, 2, 11, 2, 3, 1, 2, 4, 1, 1, 1, 1, 1, 3, 2, 1, 5, 1, 2, 1, 55, 3, 2, 2, 7, 1, 4, 114, 4, 4, 1, 1, 2, 10, 1, 2, 1, 1, 1, 1, 15, 1, 1, 1, 1, 2, 1, 1, 4, 3, 9, 1, 1, 2, 1, 2, 2, 2, 2, 2, 2, 2, 11, 6, 8, 17, 10, 3, 4, 3, 6, 1, 2, 1, 3, 1, 1, 1, 1, 1, 1, 1, 3, 1, 1, 1, 3, 1, 1, 2, 3, 2, 1, 1, 2, 1, 4, 4, 2, 1, 2, 6, 1, 16, 1, 4, 10, 3, 38, 28, 68, 27, 3, 19, 9, 1, 88, 13, 2, 2, 3, 30, 1, 1, 1, 1, 1, 4, 1, 5, 2, 1, 2, 1, 4, 1, 1, 2, 3, 1, 5, 8, 6, 3, 8, 1, 1, 4, 2, 2, 2, 3, 1, 2, 1, 4, 47, 1, 1, 2, 1, 1, 12, 1, 1, 2, 3, 1, 1, 1, 1, 1, 1, 1, 6, 4, 6, 2, 12, 1, 9, 4, 2, 3, 5, 1, 3, 4, 1, 20, 1, 2, 3, 2, 1, 2, 5, 1, 1, 1, 8, 5, 38, 1, 2, 5, 1, 34, 3, 6, 3, 1, 1, 3, 15, 4, 1, 1, 1, 1, 46, 1, 7, 3, 1, 1, 2, 2, 1, 1, 1, 1, 1, 4, 1, 1, 1, 1, 1, 1, 1, 2, 2, 1, 1, 1, 1, 4, 1, 2, 1, 3, 6, 1, 1, 1, 1, 3, 2, 3, 6, 3, 1, 4, 2, 5, 7, 2, 7, 1, 1, 2, 6, 5, 7, 1, 3, 2, 7, 4, 2, 8, 1, 10, 3, 2, 1, 1, 1, 1, 1, 1, 1, 1, 1, 2, 58, 1, 4, 1, 1, 6, 1, 5, 2, 1, 1, 2, 2, 5, 2, 11, 1, 1, 1, 7, 1, 1, 2, 3, 2, 1, 1, 2, 2, 3, 2, 2, 1, 3, 2, 1, 1, 5, 6, 3, 2, 14, 3, 5, 2, 2, 4, 2, 1, 1, 7, 1, 2, 1, 1, 1, 2, 2, 2, 11, 7, 1, 2, 4, 6, 1, 1, 3, 4, 1, 15, 11, 3, 4, 1, 1, 6, 2, 2, 1, 1, 15, 10, 4, 1, 5, 7, 1, 13, 6, 9, 37, 7, 2, 2, 1, 8, 1, 1, 6, 1, 1, 1, 1, 4, 1, 1, 1, 2, 1, 1, 1, 1, 2, 1, 2, 4, 1, 2, 5, 1, 11, 13, 3, 3, 3, 3, 17, 58, 1, 4, 6, 6, 5, 9, 6, 42, 7, 2, 3, 4, 1, 6, 4, 2, 7, 6, 2, 2, 1, 9, 29, 2, 3, 2, 1, 8, 1, 22, 2, 1, 2, 1, 5, 1, 1, 1, 1, 1, 4, 14, 3, 1, 1, 3, 6, 28, 1, 1, 1, 1, 1, 1, 2, 1, 2, 1, 1, 1, 1, 5, 8, 11, 8, 14, 2, 2, 3, 1, 4, 3, 2, 4, 5, 3, 1, 10, 1, 29, 3, 4, 1, 4, 7, 21, 3, 6, 3, 8, 2, 2, 8, 1, 10, 5, 11, 14, 2, 6, 5, 3, 8, 4, 1, 4, 12, 7, 3, 1, 1, 2, 5, 1, 1, 2, 1, 3, 5, 1, 4, 3, 6, 4, 1, 7, 19, 6, 19, 3, 1, 2, 1, 7, 1, 2, 3, 4, 3, 12, 11, 1, 7, 5, 2, 1, 16, 7, 5, 1, 2, 15, 1, 1, 1, 1, 43, 1, 4, 10, 44, 3, 1, 9, 11, 2, 1, 4, 9, 2, 3, 3, 7, 13, 4, 1, 20, 1, 2, 4, 11, 1, 5, 5, 7, 3, 3, 13, 1, 1, 1, 1, 10, 2, 2, 13, 1, 4, 1, 6, 4, 1, 3, 14, 1, 2, 1, 1, 14, 1, 1, 1, 1, 1, 1, 2, 3, 7, 18, 1, 40, 4, 1, 7, 3, 4, 1, 4, 5, 3, 5, 3, 12, 1, 9, 6, 1, 27, 1, 1, 1, 2, 9, 1, 16, 52, 5, 2, 1, 3, 2, 2, 1, 1, 2, 12, 11, 3, 1, 2, 1, 8, 5, 16, 3, 27, 32, 2, 6, 6, 1, 53, 1, 10, 9, 10, 2, 101, 4, 32, 2, 7, 9, 20, 3, 1, 26, 8, 6, 4, 2, 1, 24, 8, 10, 5, 1, 3, 5, 1, 1, 3, 12, 1, 4, 3, 18, 6, 2, 2, 3, 1, 2, 1, 2, 1, 1, 2, 1, 1, 1, 1, 1, 1, 3, 1, 3, 1, 2, 1, 2, 1, 1, 2, 2, 68, 1, 5, 35, 1, 2, 1, 3, 1, 1, 1, 3, 1, 1, 1, 1, 1, 1, 3, 5, 4, 2, 2, 1, 2, 1, 1, 1, 2, 1, 2, 1, 3, 4, 1, 1, 1, 2, 1, 5, 1, 4, 1, 50, 1, 1, 1, 3, 1, 1, 1, 18, 1, 1, 2, 4, 2, 1, 3, 1, 2, 1, 1, 1, 2, 1, 1, 1, 1, 1, 1, 1, 2, 1, 1, 1, 1, 1, 1, 1, 1, 1, 2, 1, 1, 2, 2, 1, 3, 1, 1, 1, 1, 6, 3, 1, 1, 27, 4, 3, 1, 1, 2, 2, 3, 2, 1, 3, 4, 1, 1, 1, 1, 1, 5, 4, 2, 6, 2, 4, 1, 1, 3, 1, 6, 1, 1, 1, 3, 1, 2, 1, 4, 1, 3, 2, 1, 1, 1, 1, 3, 1, 1, 2, 1, 2, 3, 2, 6, 3, 13, 1, 1, 1, 1, 1, 3, 7, 2, 9, 3, 73, 1, 12, 5, 2, 3, 3, 1, 3, 2, 1, 11, 26, 1, 9, 7, 2, 2, 1, 2, 5, 2, 1, 1, 2, 19, 3, 1, 1, 3, 2, 2, 13, 8, 1, 1, 6, 1, 1, 1, 1, 1, 1, 2, 1, 2, 2, 1, 1, 7, 1, 2, 1, 1, 2, 9, 1, 1, 3, 2, 1, 3, 3, 2, 6, 1, 1, 2, 2, 1, 1, 1, 1, 1, 1, 1, 2, 1, 3, 1, 2, 2, 2, 5, 2, 1, 1, 3, 3, 4, 1, 3, 1, 1, 43, 2, 1, 4, 1, 10, 3, 1, 1, 9, 5, 7, 5, 11, 6, 6, 1, 1, 4, 1, 1, 44, 2, 2, 2, 2, 1, 2, 3, 2, 5, 6, 3, 8, 4, 3, 3, 4, 1, 6, 2, 5, 1, 4, 14, 3, 2, 2, 1, 17, 4, 13, 1, 5, 1, 2, 1, 1, 10, 1, 1, 1, 3, 2, 1, 4, 5, 4, 2, 3, 1, 4, 2, 1, 1, 4, 2, 8, 1, 6, 1, 4, 1, 2, 2, 1, 2, 3, 2, 7, 5, 1, 2, 2, 1, 11, 5, 1, 1, 1, 2, 1, 1, 1, 1, 1, 1, 1, 1, 1, 1, 1, 1, 1, 1, 1, 1, 1, 1, 1, 1, 1, 1, 1, 2, 1, 1, 1, 1, 1, 1, 1, 1, 1, 1, 1, 1, 1, 1, 3, 1, 1, 1, 3, 1, 1, 1, 1, 1, 1, 1, 1, 1, 1, 1, 5, 1, 1, 1, 1, 1, 1, 1, 1, 1, 1, 1, 2, 1, 1, 1, 1, 1, 1, 4, 3, 1, 2, 1, 1, 1, 3, 4, 1, 1, 2, 115, 2, 1, 8, 8, 2, 1, 2, 5, 5, 1, 4, 4, 7, 2, 1, 3, 3, 1, 1, 3, 1, 2, 1, 1, 2, 2, 1, 7, 1, 18, 4, 1, 3, 2, 10, 2, 4, 1, 1, 1, 2, 2, 3, 8, 1, 1, 9, 28, 4, 4, 2, 7, 6, 1, 1, 1, 6, 2, 1, 2, 2, 1, 3, 1, 1, 3, 1, 1, 1, 9, 1, 1, 3, 3, 1, 1, 2, 1, 2, 4, 2, 1, 1, 2, 1, 1, 1, 2, 4, 1, 2, 1, 2, 2, 1, 3, 1, 1, 1, 1, 1, 2, 1, 1, 1, 1, 1, 1, 1, 1, 1, 3, 1, 1, 1, 1, 1, 1, 1, 1, 7, 2, 2, 1, 2, 4, 1, 1, 1, 2, 2, 1, 1, 1, 2, 2, 1, 1, 1, 1, 1, 1, 4, 2, 1, 1, 1, 1, 1, 1, 3, 1, 6, 3, 7, 7, 1, 1, 1, 2, 1, 2, 6, 9, 2, 1, 1, 1, 6, 1, 1, 1, 1, 4, 1, 1, 1, 6, 1, 2, 1, 1, 9, 1, 1, 1, 1, 1, 1, 1, 2, 1, 1, 1, 2, 1, 1, 2, 3, 1, 3, 1, 4, 1, 6, 6, 42, 4, 1, 9, 2, 1, 15, 1, 5, 1, 2, 1, 1, 9, 2, 2, 1, 1, 1, 11, 1, 1, 2, 5, 4, 4, 6, 1, 18, 1, 1, 1, 3, 4, 1, 2, 2, 1, 6, 3, 5, 4, 7, 1, 1, 1, 6, 2, 1, 2, 1, 1, 3, 1, 1, 1, 14, 4, 1, 2, 1, 1, 1, 11, 1, 1, 2, 1, 1, 7, 1, 2, 2, 1, 3, 5, 1, 4, 1, 1, 2, 2, 1, 2, 14, 12, 1, 1, 7, 1, 1, 53, 2, 2, 8, 1, 1, 47, 4, 2, 2, 2, 2, 3, 5, 3, 2, 15, 2, 4, 3, 1, 28, 5, 2, 3, 3, 22, 2, 6, 6, 4, 2, 3, 1, 2, 9, 1, 2, 12, 1, 2, 11, 3, 3, 7, 8, 5, 6, 1, 1, 2, 7, 27, 1, 1, 1, 1, 1, 8, 4, 1, 3, 5, 1, 8, 1, 1, 6, 5, 5, 6, 7, 1, 6, 9, 7, 1, 1, 1, 2, 1, 1, 2, 1, 16, 1, 5, 14, 2, 1, 2, 3, 1, 1, 34, 3, 4, 88, 1, 1, 7, 67, 3, 2, 1, 2, 3, 1, 1, 23, 2, 1, 3, 1, 1, 13, 2, 1, 1, 3, 1, 4, 23, 2, 1, 1, 5, 1, 1, 5, 2, 1, 1, 1, 1, 2, 10, 2, 1, 1, 2, 1, 2, 1, 3, 1, 1, 1, 14, 7, 1, 3, 13, 2, 7, 6, 1, 4, 9, 30, 1, 3, 6, 3, 3, 1, 2, 1, 1, 3, 1, 5, 9, 2, 1, 1, 1, 1, 13, 1, 3, 8, 2, 3, 4, 20, 5, 1, 1, 1, 16, 3, 1, 7, 1, 1, 1, 1, 1, 1, 1, 1, 1, 1, 1, 1, 1, 1, 1, 1, 1, 1, 2, 1, 1, 1, 1, 1, 1, 1, 1, 1, 1, 2, 1, 7, 3, 1, 1, 1, 1, 1, 1, 1, 1, 4, 1, 1, 1, 2, 1, 9, 1, 1, 4, 2, 1, 2, 7, 11, 3, 11, 1, 2, 2, 1, 7, 6, 25, 1, 1, 7, 4, 2, 10, 6, 12, 25, 2, 1, 12, 1, 1, 2, 1, 3, 6, 1, 1, 1, 2, 1, 9, 2, 1, 2, 1, 2, 7, 10, 4, 6, 13, 6, 13, 16, 51, 2, 2, 2, 4, 6, 7, 6, 4, 1, 1, 9, 1, 4, 4, 5, 2, 3, 1, 2, 2, 3, 3, 1, 2, 68, 2, 4, 3, 6, 11, 3, 251, 5, 6, 7, 5, 2, 2, 6, 9, 3, 27, 1, 5, 3, 6, 3, 1, 1, 2, 1, 2, 2, 1, 2, 2, 1, 3, 1, 1, 1, 1, 1, 2, 1, 2, 2, 4, 1, 5, 2, 2, 3, 8, 4, 1, 1, 1, 11, 4, 2, 1, 1, 31, 4, 13, 1, 4, 3, 1, 1, 1, 2, 1, 1, 1, 1, 2, 1, 2, 3, 1, 11, 4, 3, 1, 1, 2, 10, 20, 4, 1, 1, 2, 9, 7, 1, 3, 10, 2, 2, 1, 1, 1, 1, 1, 1, 4, 3, 1, 1, 6, 3, 1, 7, 13, 3, 1, 1, 4, 1, 1, 2, 2, 1, 1, 2, 6, 5, 5, 5, 3, 2, 15, 11, 2, 1, 28, 5, 2, 15, 4, 2, 2, 3, 1, 1, 2, 1, 1, 1, 1, 1, 1, 1, 2, 1, 1, 2, 9, 1, 4, 1, 2, 1, 1, 2, 1, 1, 1, 1, 1, 36, 1, 3, 1, 1, 42, 1, 2, 2, 1, 1, 1, 1, 1, 1, 1, 2, 1, 1, 1, 1, 1, 1, 1, 8, 1, 1, 2, 2, 2, 4, 2, 16, 1, 7, 6, 3, 1, 2, 1, 1, 1, 1, 1, 1, 1, 1, 2, 2, 11, 1, 1, 6, 1, 28, 1, 1, 11, 1, 1, 1, 58, 2, 1, 1, 2, 1, 1, 6, 1, 2, 2, 11, 1, 3, 3, 8, 2, 15, 1, 1, 3, 5, 46, 2, 1, 1, 1, 1, 1, 1, 1, 4, 1, 1, 1, 2, 2, 1, 1, 1, 1, 1, 1, 2, 2, 1, 1, 3, 2, 1, 1, 4, 1, 2, 1, 3, 2, 1, 1, 1, 2, 4, 3, 1, 1, 1, 1, 7, 1, 4, 18, 1, 1, 2, 1, 1, 1, 1, 1, 1, 2, 2, 1, 6, 1, 1, 1, 1, 6, 2, 1, 4, 18, 8, 3, 5, 10, 11, 1, 2, 1, 6, 11, 1, 4, 1, 1, 6, 1, 5, 13, 3, 5, 2, 6, 1, 4, 1, 1, 1, 2, 1, 1, 5, 1, 1, 3, 1, 1, 4, 4, 2, 7, 1, 1, 1, 1, 1, 1, 1, 2, 1, 1, 4, 1, 1, 1, 1, 1, 1, 1, 1, 2, 1, 1, 1, 3, 1, 1, 1, 1, 1, 1, 1, 1, 1, 1, 1, 1, 9, 1, 4, 1, 1, 3, 1, 1, 1, 2, 1, 2, 1, 1, 3, 4, 4, 5, 9, 2, 8, 4, 8, 7, 4, 26, 5, 8, 6, 7, 2, 26, 6, 4, 1, 1, 2, 2, 2, 1, 1, 1, 8, 8, 1, 1, 1, 1, 1, 1, 1, 1, 5, 1, 2, 3, 2, 1, 25, 7, 2, 5, 1, 2, 43, 7, 7, 1, 1, 3, 4, 6, 20, 1, 3, 1, 30, 2, 1, 9, 1, 3, 3, 5, 6, 1, 3, 17, 2, 2, 2, 1, 2, 1, 6, 1, 5, 2, 1, 33, 2, 2, 21, 7, 20, 1, 4, 4, 1, 2, 1, 3, 1, 2, 1, 1, 1, 2, 1, 1, 1, 1, 1, 5, 1, 1, 4, 1, 1, 1, 1, 1, 1, 1, 6, 1, 2, 2, 3, 4, 6, 5, 2, 1, 1, 1, 4, 5, 1, 1, 7, 4, 3, 1, 3, 1, 46, 1, 3, 2, 8, 5, 1, 1, 3, 3, 4, 8, 1, 5, 1, 1, 1, 4, 1, 2, 8, 1, 6, 4, 10, 2, 3, 1, 1, 1, 1, 1, 1, 1, 1, 6, 1, 10, 1, 3, 1, 1, 1, 2, 6, 1, 4, 1, 1, 1, 2, 1, 1, 3, 1, 1, 1, 1, 3, 1, 1, 1, 1, 4, 1, 1, 1, 1, 3, 6, 1, 2, 4, 2, 3, 4, 1, 6, 1, 48, 5, 1, 2, 1, 2, 1, 2, 1, 2, 13, 8, 2, 6, 4, 1, 4, 1, 4, 4, 4, 1, 4, 2, 1, 1, 3, 6, 1, 14, 13, 3, 3, 2, 8, 4, 4, 3, 3, 3, 10, 2, 5, 3, 2, 2, 1, 4, 2, 1, 1, 5, 1, 4, 7, 1, 4, 1, 8, 1, 3, 1, 1, 1, 6, 11, 1, 1, 10, 2, 1, 1, 2, 2, 1, 1, 1, 5, 5, 1, 2, 5, 1, 1, 6, 5, 10, 2, 2, 12, 2, 6, 4, 2, 1, 1, 1, 1, 6, 3, 6, 2, 2, 4, 1, 4, 2, 1, 3, 4, 2, 1, 5, 1, 7, 7, 3, 9, 33, 37, 6, 6, 13, 10, 133, 2, 10, 1, 5, 3, 2, 22, 1, 5, 1, 1, 1, 1, 1, 1, 1, 1, 1, 1, 1, 2, 1, 1, 3, 2, 2, 4, 1, 1, 1, 1, 2, 2, 1, 4, 1, 4, 1, 1, 1, 2, 1, 1, 1, 1, 1, 1, 4, 1, 8, 4, 3, 3, 1, 1, 5, 2, 4, 1, 1, 1, 7, 2, 7, 14, 2, 2, 1, 3, 21, 1, 1, 2, 1, 26, 2, 7, 1, 1, 1, 1, 2, 3, 1, 2, 3, 1, 1, 3, 1, 2, 12, 4, 3, 10, 1, 1, 3, 3, 1, 7, 4, 1, 4, 3, 4, 2, 2, 3, 1, 2, 1, 1, 1, 6, 3, 2, 6, 1, 2, 1, 1, 1, 3, 6, 2, 2, 94, 1, 1, 1, 1, 1, 1, 2, 1, 1, 1, 2, 2, 2, 2, 1, 1, 1, 1, 1, 1, 1, 2, 1, 1, 1, 1, 2, 1, 1, 1, 1, 1, 1, 1, 1, 1, 1, 2, 1, 2, 1, 2, 1, 1, 1, 1, 2, 2, 1, 1, 7, 1, 2, 1, 1, 1, 1, 2, 1, 2, 1, 2, 1, 2, 1, 2, 1, 1, 1, 2, 1, 1, 1, 1, 6, 1, 1, 1, 2, 2, 3, 2, 2, 3, 1, 4, 2, 1, 3, 1, 1, 1, 12, 1, 1, 3, 1, 1, 1, 8, 1, 3, 2, 2, 2, 2, 1, 4, 1, 1, 1, 4, 1, 1, 6, 1, 2, 1, 2, 1, 1, 2, 3, 2, 1, 1, 3, 6, 3, 5, 2, 2, 2, 2, 2, 1, 4, 3, 64, 1, 2, 4, 2, 1, 2, 3, 2, 1, 1, 1, 1, 3, 1, 9, 1, 3, 2, 16, 18, 4, 15, 7, 6, 32, 2, 3, 3, 9, 4, 14, 7, 3, 1, 42, 2, 7, 1, 13, 6, 17, 22, 11, 12, 46, 1, 1, 29, 1, 1, 1, 1, 13, 9, 1, 3, 1, 1, 2, 20, 4, 1, 1, 20, 12, 7, 5, 3, 1, 12, 2, 1, 1, 6, 3, 9, 2, 2, 1, 1, 8, 3, 1, 9, 1, 3, 6, 11, 4, 13, 2, 20, 1, 9, 1, 54, 17, 2, 2, 14, 6, 3, 1, 3, 1, 1, 6, 25, 3, 2, 3, 4, 1, 1, 38, 1, 3, 5, 3, 1, 17, 3, 1, 1, 1, 6, 3, 7, 11, 48, 8, 3, 4, 30, 36, 3, 2, 3, 2, 1, 17, 18, 5, 1, 3, 3, 1, 3, 9, 6, 2, 2, 2, 3, 2, 2, 5, 46, 1, 1, 2, 7, 2, 2, 8, 4, 2, 2, 16, 1, 32, 3, 8, 1, 2, 1, 3, 6, 2, 2, 162, 1, 4, 1, 1, 10, 6, 1, 11, 26, 14, 7, 5, 6, 2, 102, 1, 1, 1, 1, 1, 4, 7, 1, 2, 2, 6, 1, 72, 3, 4, 7, 30, 7, 1, 2, 5, 1, 1, 1, 12, 4, 6, 5, 1, 3, 19, 58, 1, 11, 2, 1, 24, 6, 1, 2, 1, 2, 1, 57, 1, 1, 1, 7, 1, 1, 1, 1, 1, 3, 12, 1, 2, 1, 1, 6, 1, 4, 1, 1, 3, 1, 1, 1, 1, 1, 4, 10, 11, 2, 1, 5, 1, 3, 1, 17, 2, 1, 1, 10, 1, 1, 1, 12, 1, 1, 1, 2, 1, 1, 2, 4, 1, 3, 1, 1, 7, 2, 6, 2, 9, 2, 1, 5, 1, 36, 2, 13, 15, 12, 10, 15, 15, 16, 7, 2, 2, 2, 12, 7, 2, 26, 4, 2, 6, 6, 22, 11, 1, 17, 1, 2, 49, 15, 3, 8, 4, 2, 1, 2, 1, 3, 1, 3, 3, 1, 1, 2, 7, 1, 3, 1, 4, 6, 27, 1, 2, 4, 2, 3, 1, 1, 10, 1, 2, 2, 9, 1, 37, 6, 1, 3, 1, 1, 3, 3, 1, 1, 8, 3, 3, 1, 8, 2, 1, 8, 9, 2, 2, 2, 1, 1, 1, 2, 3, 2, 5, 7, 2, 4, 3, 1, 2, 1, 1, 2, 3, 9, 3, 3, 1, 1, 5, 2, 3, 1, 2, 5, 4, 141, 3, 2, 2, 15, 1, 1, 14, 3, 1, 19, 1, 3, 2, 1, 2, 5, 2, 1, 7, 20, 3, 4, 1, 1, 1, 2, 7, 3, 1, 1, 1, 1, 1, 3, 1, 4, 1, 10, 1, 3, 2, 19, 17, 6, 5, 2, 4, 1, 1, 9, 3, 1, 1, 1, 1, 6, 2, 3, 1, 2, 3, 1, 1, 13, 1, 3, 4, 5, 1, 3, 2, 7, 1, 2, 4, 1, 1, 1, 1, 8, 2, 1, 1, 1, 1, 1, 2, 1, 1, 1, 1, 1, 2, 1, 3, 1, 15, 1, 12, 8, 3, 4, 2, 6, 1, 1, 2, 2, 1, 1, 1, 1, 3, 1, 2, 1, 3, 2, 1, 1, 5, 1, 3, 1, 2, 3, 2, 2, 2, 2, 2, 1, 2, 1, 1, 4, 5, 1, 1, 1, 2, 2, 1, 5, 2, 2, 3, 2, 4, 2, 2, 2, 1, 6, 1, 1, 2, 2, 6, 7, 1, 1, 2, 3, 1, 7, 1, 1, 2, 1, 1, 3, 4, 1, 10, 1, 2, 1, 2, 1, 2, 1, 1, 1, 2, 3, 6, 1, 1, 1, 6, 4, 1, 1, 2, 2, 5, 4, 1, 1, 1, 1, 2, 2, 2, 1, 1, 5, 1, 2, 1, 1, 1, 18, 2, 6, 1, 1, 1, 1, 11, 1, 1, 5, 1, 2, 2, 2, 1, 6, 7, 1, 1, 1, 1, 1, 4, 1, 1, 3, 1, 1, 1, 2, 1, 6, 1, 1, 2, 8, 1, 2, 2, 1, 2, 1, 5, 1, 5, 5, 11, 24, 8, 55, 28, 23, 46, 3, 1, 12, 3, 2, 4, 20, 5, 2, 1, 1, 3, 8, 1, 2, 8, 1, 8, 1, 30, 1, 1, 2, 1, 4, 1, 5, 3, 33, 27, 8, 50, 1, 1, 11, 4, 3, 3, 7, 5, 2, 4, 12, 1, 49, 1, 2, 7, 2, 6, 3, 1, 2, 2, 2, 2, 6, 58, 2, 1, 1, 1, 10, 3, 1, 1, 1, 1, 2, 1, 1, 1, 2, 1, 1, 1, 1, 3, 1, 1, 1, 1, 2, 2, 6, 1, 4, 3, 2, 2, 1, 5, 2, 2, 2, 3, 8, 1, 6, 3, 3, 1, 1, 1, 1, 1, 1, 1, 6, 1, 5, 2, 1, 1, 1, 4, 1, 4, 1, 1, 1, 3, 3, 7, 2, 2, 2, 4, 1, 1, 1, 6, 1, 3, 3, 1, 1, 1, 1, 1, 2, 5, 3, 1, 1, 1, 1, 1, 1, 1, 2, 2, 2, 50, 5, 4, 2, 1, 2, 9, 2, 2, 2, 4, 6, 5, 2, 10, 1, 2, 17, 3, 3, 1, 1, 1, 2, 4, 2, 1, 2, 11, 1, 1, 1, 8, 2, 1, 7, 3, 1, 1, 1, 1, 2, 1, 1, 2, 1, 1, 2, 3, 1, 4, 4, 3, 1, 1, 3, 1, 1, 1, 2, 1, 2, 2, 4, 1, 3, 1, 2, 1, 2, 5, 2, 1, 1, 3, 1, 1, 1, 4, 4, 5, 2, 2, 4, 2, 22, 1, 2, 2, 3, 1, 4, 2, 2, 4, 2, 1, 16, 4, 3, 1, 1, 4, 4, 4, 2, 5, 21, 7, 3, 5, 3, 2, 7, 1, 4, 1, 1, 1, 2, 5, 2, 2, 2, 1, 1, 2, 4, 4, 1, 2, 6, 2, 1, 1, 5, 1, 1, 3, 2, 1, 1, 4, 5, 5, 3, 1, 1, 1, 3, 5, 2, 5, 1, 1, 1, 3, 1, 7, 1, 6, 1, 2, 1, 1, 1, 1, 2, 1, 2, 1, 2, 8, 1, 2, 1, 9, 1, 1, 1, 1, 1, 1, 1, 1, 1, 1, 1, 2, 2, 1, 1, 1, 1, 1, 1, 2, 1, 1, 1, 2, 1, 15, 5, 4, 3, 1, 1, 1, 2, 5, 6, 3, 3, 2, 1, 8, 4, 1, 1, 2, 2, 1, 1, 1, 5, 1, 1, 1, 1, 1, 1, 1, 5, 3, 1, 2, 1, 1, 1, 2, 1, 6, 1, 1, 1, 1, 24, 1, 1, 2, 1, 6, 1, 2, 1, 4, 3, 1, 31, 1, 1, 7, 29, 1, 8, 1, 3, 5, 2, 1, 9, 1, 3, 1, 1, 1, 2, 2, 3, 6, 7, 1, 1, 3, 3, 4, 13, 6, 1, 1, 1, 2, 1, 1, 1, 3, 5, 2, 2, 2, 5, 1, 2, 2, 7, 3, 3, 1, 4, 1, 4, 1, 2, 7, 1, 1, 1, 2, 1, 2, 1, 23, 15, 2, 1, 1, 7, 4, 6, 1, 2, 51, 1, 1, 20, 5, 1, 4, 31, 2, 1, 1, 39, 20, 1, 2, 3, 3, 1, 3, 7, 3, 1, 4, 1, 3, 1, 9, 1, 2, 1, 1, 2, 1, 1, 5, 18, 4, 6, 7, 10, 4, 2, 11, 2, 1, 4, 1, 1, 1, 4, 2, 1, 1, 4, 1, 1, 1, 2, 1, 2, 1, 1, 1, 1, 1, 1, 7, 1, 1, 1, 1, 1, 1, 6, 1, 2, 1, 2, 3, 3, 1, 3, 1, 1, 3, 2, 3, 1, 1, 2, 1, 3, 2, 1, 1, 1, 1, 2, 1, 1, 1, 3, 1, 1, 1, 1, 1, 1, 3, 1, 2, 1, 1, 1, 8, 4, 2, 1, 1, 2, 2, 1, 1, 1, 3, 16, 1, 2, 2, 2, 1, 3, 1, 3, 1, 1, 1, 13, 1, 6, 1, 1, 3, 1, 74, 94, 1, 5, 1, 1, 2, 2, 2, 3, 2, 3, 5, 10, 1, 1, 2, 3, 3, 2, 1, 2, 1, 1, 2, 2, 3, 1, 1, 2, 1, 1, 3, 2, 1, 1, 1, 1, 7, 1, 1, 1, 8, 14, 2, 1, 2, 2, 1, 9, 5, 26, 1, 2, 4, 6, 6, 2, 1, 3, 3, 2, 1, 2, 1, 4, 2, 3, 2, 3, 2, 2, 2, 2, 1, 3, 5, 6, 1, 5, 2, 2, 1, 2, 2, 5, 1, 3, 5, 4, 1, 1, 2, 4, 6, 3, 4, 7, 1, 4, 2, 3, 3, 4, 4, 1, 1, 4, 28, 24, 1, 1, 2, 3, 2, 1, 1, 1, 3, 8, 1, 1, 1, 2, 1, 1, 1, 1, 1, 1, 1, 1, 1, 1, 1, 2, 1, 1, 1, 1, 1, 2, 1, 1, 1, 1, 1, 3, 25, 1, 1, 2, 7, 5, 1, 1, 1, 1, 1, 2, 1, 1, 2, 2, 1, 1, 1, 2, 1, 1, 9, 1, 2, 4, 1, 1, 1, 2, 1, 1, 2, 1, 1, 1, 5, 1, 3, 1, 5, 3, 4, 1, 14, 4, 5, 1, 1, 10, 1, 7, 6, 1, 1, 8, 5, 4, 12, 3, 3, 90, 13, 5, 3, 4, 1, 2, 9, 3, 4, 53, 9, 3, 1, 4, 14, 3, 2, 5, 4, 2, 2, 8, 1, 8, 4, 1, 1, 1, 3, 2, 7, 3, 2, 8, 7, 7, 1, 2, 1, 4, 2, 2, 1, 18, 9, 4, 28, 6, 3, 8, 7, 10, 1, 3, 4, 1, 6, 1, 2, 2, 2, 24, 21, 2, 8, 2, 1, 3, 2, 3, 2, 1, 19, 1, 37, 3, 1, 1, 1, 9, 2, 1, 2, 2, 3, 2, 2, 1, 1, 1, 1, 24, 1, 2, 1, 1, 1, 1, 1, 2, 1, 1, 1, 1, 3, 2, 4, 11, 3, 1, 5, 2, 5, 2, 1, 23, 2, 2, 1, 1, 1, 7, 1, 7, 2, 29, 10, 2, 4, 1, 4, 1, 1, 1, 3, 4, 2, 10, 1, 1, 1, 1, 9, 1, 1, 43, 10, 1, 5, 3, 8, 2, 3, 1, 13, 6, 5, 1, 2, 1, 9, 6, 2, 16, 3, 3, 59, 15, 20, 9, 2, 4, 2, 12, 3, 12, 4, 1, 3, 1, 5, 1, 1, 14, 4, 5, 2, 2, 9, 6, 67, 2, 6, 6, 1, 1, 1, 4, 2, 2, 2, 2, 6, 3, 2, 3, 2, 2, 2, 3, 2, 1, 6, 1, 4, 1, 2, 1, 1, 2, 6, 3, 1, 8, 5, 1, 1, 1, 1, 2, 2, 1, 2, 1, 1, 8, 5, 7, 12, 1, 2, 2, 2, 1, 8, 2, 5, 2, 2, 2, 1, 12, 1, 3, 28, 2, 8, 10, 3, 1, 2, 1, 1, 3, 1, 1, 1, 2, 1, 1, 2, 1, 4, 22, 1, 2, 2, 3, 4, 4, 2, 1, 1, 3, 3, 16, 12, 12, 2, 5, 7, 4, 4, 4, 99, 1, 51, 7, 1, 4, 1, 1, 1, 5, 20, 11, 3, 1, 2, 1, 4, 6, 1, 2, 1, 4, 1, 5, 3, 2, 2, 5, 1, 1, 1, 5, 2, 1, 1, 5, 1, 8, 1, 3, 2, 1, 9, 6, 5, 52, 9, 3, 5, 1, 3, 5, 4, 2, 1, 1, 2, 7, 1, 1, 1, 2, 1, 1, 2, 1, 5, 1, 24, 7, 4, 3, 7, 6, 3, 2, 9, 8, 5, 3, 2, 2, 6, 20, 2, 2, 6, 1, 39, 2, 1, 1, 3, 2, 4, 6, 1, 1, 2, 3, 3, 2, 3, 1, 2, 6, 3, 3, 3, 1, 4, 3, 4, 6, 5, 1, 1, 3, 5, 4, 1, 1, 3, 1, 11, 1, 6, 3, 1, 1, 2, 3, 1, 1, 1, 1, 1, 1, 1, 1, 1, 5, 1, 4, 9, 1, 2, 2, 2, 3, 2, 41, 1, 1, 2, 2, 3, 4, 2, 3, 1, 1, 1, 1, 1, 1, 1, 1, 1, 2, 1, 3, 1, 2, 1, 1, 2, 1, 3, 8, 1, 2, 1, 1, 1, 1, 1, 5, 4, 1, 3, 1, 1, 1, 1, 1, 1, 2, 1, 2, 1, 1, 1, 1, 1, 1, 2, 1, 1, 1, 1, 1, 1, 1, 1, 1, 1, 2, 1, 1, 9, 2, 1, 1, 1, 2, 11, 1, 1, 1, 1, 3, 1, 5, 1, 3, 2, 2, 1, 4, 3, 17, 3, 4, 2, 1, 1, 1, 3, 1, 1, 1, 2, 2, 1, 1, 1, 1, 4, 1, 1, 1, 2, 1, 1, 1, 2, 1, 1, 1, 2, 1, 3, 2, 1, 2, 1, 2, 1, 15, 1, 3, 1, 2, 2, 2, 3, 5, 2, 3, 1, 4, 1, 4, 3, 4, 2, 2, 1, 2, 1, 1, 2, 10, 3, 8, 2, 2, 1, 2, 1, 7, 2, 1, 8, 4, 1, 1, 1, 6, 1, 3, 5, 4, 6, 1, 1, 2, 4, 5, 19, 1, 1, 2, 1, 1, 3, 2, 1, 1, 1, 1, 1, 3, 1, 1, 1, 5, 1, 1, 5, 3, 1, 1, 1, 1, 1, 2, 4, 7, 1, 2, 23, 2, 7, 1, 1, 6, 2, 2, 5, 4, 3, 2, 4, 1, 1, 3, 1, 2, 1, 2, 2, 3, 3, 12, 6, 4, 1, 1, 4, 3, 1, 4, 1, 3, 1, 1, 1, 1, 6, 1, 1, 1, 1, 1, 1, 1, 1, 1, 1, 2, 2, 1, 1, 4, 1, 1, 1, 1, 1, 1, 1, 1, 1, 1, 2, 1, 4, 1, 2, 3, 6, 6, 3, 1, 3, 4, 1, 1, 5, 1, 5, 7, 12, 1, 6, 1, 1, 1, 1, 2, 2, 1, 1, 1, 1, 1, 1, 2, 3, 1, 2, 1, 1, 1, 3, 1, 1, 1, 1, 1, 2, 1, 1, 1, 1, 1, 1, 1, 2, 1, 1, 1, 4, 1, 1, 1, 1, 1, 1, 1, 1, 1, 1, 1, 1, 1, 1, 1, 1, 1, 1, 1, 1, 1, 1, 42, 1, 1, 1, 1, 1, 1, 1, 1, 1, 2, 1, 1, 1, 1, 1, 1, 2, 1, 1, 1, 1, 1, 1, 2, 1, 1, 1, 1, 1, 1, 1, 1, 1, 5, 1, 1, 1, 1, 1, 1, 1, 1, 3, 1, 1, 1, 1, 1, 1, 1, 2, 1, 1, 1, 1, 5, 2, 1, 1, 3, 1, 1, 2, 1, 1, 1, 3, 4, 1, 1, 3, 6, 4, 1, 15, 1, 1, 2, 2, 1, 1, 1, 3, 1, 5, 14, 2, 1, 2, 1, 1, 5, 1, 1, 1, 2, 2, 1, 1, 2, 41, 2, 2, 1, 1, 1, 3, 6, 1, 2, 1, 1, 2, 1, 2, 3, 1, 1, 1, 11, 2, 6, 1, 3, 2, 2, 2, 4, 1, 3, 1, 10, 1, 2, 1, 1, 1, 1, 1, 1, 1, 1, 1, 1, 2, 1, 1, 2, 1, 1, 1, 1, 1, 2, 1, 1, 4, 1, 1, 1, 1, 1, 4, 4, 1, 1, 1, 1, 1, 1, 1, 3, 2, 2, 3, 1, 1, 1, 5, 1, 6, 8, 3, 11, 1, 3, 2, 2, 1, 1, 1, 3, 2, 2, 5, 4, 2, 5, 1, 2, 1, 1, 1, 4, 1, 1, 2, 1, 9, 1, 6, 1, 1, 9, 2, 2, 2, 2, 1, 1, 3, 8, 5, 3, 5, 1, 24, 6, 1, 4, 3, 2, 1, 3, 1, 4, 3, 2, 2, 1, 3, 1, 1, 1, 3, 1, 2, 4, 7, 3, 4, 1, 3, 1, 4, 2, 1, 3, 5, 4, 7, 2, 1, 1, 6, 1, 2, 1, 8, 2, 1, 4, 2, 3, 3, 5, 1, 15, 4, 3, 5, 1, 1, 1, 3, 2, 2, 1, 49, 5, 1, 3, 2, 1, 4, 2, 1, 4, 2, 1, 1, 2, 1, 1, 3, 1, 1, 1, 2, 1, 1, 1, 5, 1, 1, 1, 1, 1, 2, 1, 1, 1, 1, 3, 2, 1, 1, 2, 1, 5, 1, 1, 2, 1, 1, 1, 1, 2, 2, 2, 1, 9, 1, 3, 1, 1, 2, 8, 1, 1, 1, 1, 1, 3, 1, 1, 3, 1, 1, 1, 1, 1, 2, 1, 1, 5, 1, 1, 1, 1, 1, 2, 1, 1, 8, 4, 2, 2, 2, 3, 48, 4, 2, 1, 6, 2, 8, 1, 10, 1, 4, 1, 4, 1, 6, 2, 1, 24, 1, 2, 1, 5, 3, 2, 7, 1, 1, 1, 2, 1, 3, 3, 8, 2, 1, 2, 1, 3, 51, 2, 1, 2, 2, 10, 2, 2, 1, 1, 2, 1, 1, 1, 2, 8, 2, 3, 2, 2, 25, 2, 1, 1, 11, 1, 4, 1, 1, 1, 1, 1, 1, 1, 1, 9, 5, 1, 1, 8, 2, 14, 3, 1, 2, 1, 2, 1, 2, 6, 47, 1, 1, 1, 1, 1, 1, 2, 1, 1, 1, 1, 1, 1, 1, 1, 1, 2, 1, 1, 2, 8, 1, 1, 1, 1, 2, 1, 1, 1, 1, 1, 1, 1, 2, 10, 2, 1, 2, 1, 2, 4, 3, 4, 5, 1, 11, 2, 5, 8, 2, 1, 4, 1, 1, 5, 1, 1, 1, 2, 2, 7, 3, 4, 2, 3, 1, 1, 1, 1, 1, 2, 1, 1, 1, 1, 1, 2, 2, 1, 2, 1, 5, 2, 8, 2, 2, 7, 1, 8, 1, 1, 1, 3, 4, 5, 1, 8, 23, 1, 4, 1, 1, 3, 1, 9, 20, 1, 1, 1, 2, 1, 1, 2, 1, 1, 1, 3, 3, 1, 1, 3, 3, 1, 4, 1, 11, 2, 2, 3, 5, 4, 2, 4, 1, 1, 1, 1, 1, 1, 4, 2, 1, 16, 1, 3, 3, 4, 10, 4, 6, 5, 1, 3, 2, 5, 2, 2, 1, 1, 3, 2, 4, 3, 3, 3, 1, 1, 1, 10, 2, 2, 1, 1, 2, 1, 1, 2, 1, 1, 1, 1, 1, 1, 1, 2, 2, 8, 2, 1, 3, 9, 3, 6, 2, 5, 1, 1, 1, 1, 2, 5, 1, 1, 2, 2, 2, 1, 8, 1, 1, 3, 1, 1, 3, 2, 6, 1, 2, 1, 3, 1, 1, 5, 1, 1, 9, 1, 1, 6, 3, 12, 2, 1, 1, 5, 2, 1, 1, 1, 1, 5, 1, 3, 1, 2, 1, 1, 1, 100, 7, 1, 2, 3, 1, 1, 1, 1, 3, 2, 2, 2, 1, 4, 2, 1, 6, 2, 1, 2, 1, 3, 2, 2, 1, 1, 4, 1, 3, 6, 1, 1, 2, 1, 1, 1, 1, 3, 7, 46, 11, 1, 3, 1, 10, 1, 1, 2, 2, 2, 1, 1, 10, 1, 4, 1, 2, 16, 3, 2, 10, 1, 2, 1, 4, 2, 1, 1, 5, 1, 2, 2, 1, 4, 1, 1, 6, 9, 2, 3, 1, 3, 4, 3, 1, 4, 2, 2, 3, 40, 2, 2, 1, 2, 7, 1, 7, 10, 12, 1, 3, 1, 1, 2, 1, 1, 1, 1, 4, 1, 2, 8, 1, 8, 3, 1, 2, 1, 1, 9, 2, 1, 1, 1, 3, 1, 1, 22, 1, 1, 9, 1, 3, 3, 1, 7, 6, 27, 3, 2, 1, 1, 1, 2, 1, 3, 1, 1, 4, 2, 5, 1, 1, 3, 3, 1, 3, 18, 1, 4, 2, 3, 3, 1, 2, 2, 1, 2, 1, 1, 1, 2, 1, 1, 3, 1, 1, 1, 1, 1, 2, 1, 1, 1, 1, 1, 1, 1, 1, 1, 4, 1, 1, 1, 1, 2, 1, 4, 1, 1, 4, 6, 13, 1, 2, 5, 1, 43, 1, 7, 2, 4, 1, 1, 1, 3, 5, 2, 1, 1, 3, 5, 1, 1, 1, 2, 1, 3, 2, 1, 2, 4, 2, 6, 8, 2, 5, 3, 2, 4, 1, 1, 1, 1, 1, 3, 1, 1, 1, 2, 3, 1, 5, 1, 1, 1, 1, 1, 53, 2, 1, 6, 1, 1, 2, 2, 1, 1, 3, 3, 3, 1, 3, 2, 1, 2, 1, 1, 1, 1, 8, 4, 1, 13, 1, 1, 1, 2, 2, 1, 3, 1, 5, 4, 2, 2, 1, 1, 6, 2, 1, 2, 1, 2, 2, 1, 4, 3, 4, 1, 1, 6, 27, 3, 1, 1, 4, 1, 13, 4, 6, 13, 3, 1, 3, 7, 2, 4, 2, 1, 5, 2, 12, 1, 1, 13, 1, 1, 3, 6, 1, 5, 4, 1, 1, 4, 2, 2, 44, 5, 1, 2, 4, 1, 49, 1, 3, 4, 2, 2, 1, 1, 1, 1, 13, 4, 5, 3, 9, 2, 4, 2, 6, 1, 1, 1, 1, 2, 2, 1, 4, 2, 1, 1, 1, 1, 2, 1, 6, 1, 36, 1, 1, 1, 1, 1, 1, 1, 1, 1, 1, 1, 3, 7, 2, 1, 1, 1, 3, 1, 2, 1, 9, 2, 1, 2, 1, 1, 51, 1, 1, 1, 1, 1, 1, 5, 1, 1, 1, 1, 63, 4, 2, 3, 2, 2, 4, 1, 2, 3, 3, 5, 1, 7, 2, 4, 2, 4, 1, 1, 1, 1, 2, 1, 1, 1, 1, 1, 1, 1, 1, 1, 2, 2, 1, 1, 1, 1, 1, 1, 2, 1, 2, 1, 1, 2, 1, 1, 3, 2, 2, 3, 1, 3, 2, 5, 1, 1, 11, 2, 5, 1, 1, 2, 1, 12, 4, 1, 6, 1, 15, 1, 1, 3, 1, 4, 1, 4, 1, 1, 2, 1, 4, 2, 1, 1, 4, 6, 2, 1, 1, 2, 3, 1, 2, 2, 1, 1, 3, 2, 8, 1, 1, 1, 1, 3, 2, 3, 1, 1, 5, 1, 14, 3, 2, 1, 1, 1, 1, 1, 1, 2, 3, 5, 1, 1, 7, 5, 2, 3, 1, 1, 4, 1, 1, 2, 3, 18, 12, 4, 1, 1, 1, 2, 66, 3, 1, 1, 2, 1, 2, 1, 1, 1, 1, 1, 1, 6, 1, 1, 2, 1, 2, 2, 4, 2, 1, 3, 1, 3, 5, 2, 6, 1, 4, 3, 6, 4, 1, 6, 2, 4, 1, 3, 2, 1, 2, 7, 2, 1, 3, 2, 2, 24, 1, 3, 2, 4, 1, 1, 7, 1, 4, 2, 3, 2, 1, 4, 1, 4, 2, 6, 65, 1, 1, 1, 1, 1, 1, 1, 1, 1, 4, 1, 2, 1, 2, 11, 2, 1, 7, 2, 2, 1, 7, 2, 10, 14, 1, 9, 1, 1, 2, 4, 2, 1, 2, 1, 1, 4, 1, 2, 1, 4, 1, 2, 2, 2, 5, 1, 3, 10, 2, 1, 1, 2, 1, 3, 5, 2, 2, 6, 2, 23, 4, 2, 1, 1, 4, 1, 1, 4, 1, 2, 1, 2, 1, 2, 1, 1, 1, 1, 2, 1, 1, 1, 1, 1, 3, 1, 8, 1, 2, 1, 1, 1, 5, 4, 1, 1, 1, 1, 1, 1, 1, 1, 1, 43, 4, 7, 7, 14, 3, 4, 17, 5, 1, 21, 1, 5, 8, 1, 2, 2, 2, 1, 4, 3, 1, 3, 5, 1, 1, 1, 2, 10, 1, 2, 1, 4, 3, 1, 4, 1, 2, 1, 2, 3, 3, 1, 1, 2, 1, 1, 8, 2, 5, 2, 1, 2, 1, 2, 1, 1, 48, 2, 13, 1, 1, 2, 2, 1, 1, 1, 1, 2, 1, 1, 9, 1, 5, 3, 9, 6, 3, 1, 4, 3, 3, 1, 1, 1, 1, 1, 1, 50, 3, 5, 3, 4, 16, 3, 1, 1, 3, 3, 1, 5, 6, 1, 1, 3, 1, 1, 5, 4, 1, 4, 1, 1, 1, 2, 1, 3, 1, 3, 1, 1, 2, 1, 3, 23, 9, 2, 1, 5, 5, 3, 1, 1, 5, 3, 2, 3, 7, 1, 1, 5, 2, 2, 1, 1, 7, 1, 2, 1, 1, 1, 152, 5, 1, 1, 1, 2, 1, 2, 3, 4, 2, 2, 2, 1, 1, 1, 7, 1, 1, 1, 3, 7, 4, 1, 6, 2, 10, 1, 2, 16, 1, 1, 1, 1, 1, 4, 1, 1, 1, 1, 1, 1, 2, 3, 5, 1, 1, 1, 1, 1, 1, 3, 6, 1, 2, 1, 1, 1, 2, 4, 1, 2, 2, 5, 2, 1, 2, 1, 1, 7, 4, 1, 1, 1, 1, 1, 2, 1, 1, 1, 1, 1, 1, 7, 1, 1, 2, 1, 1, 2, 3, 1, 1, 9, 3, 3, 1, 6, 1, 2, 3, 1, 1, 3, 2, 4, 2, 4, 7, 3, 1, 16, 1, 1, 2, 1, 2, 1, 1, 2, 1, 2, 3, 1, 1, 1, 1, 3, 1, 2, 3, 7, 3, 3, 2, 5, 8, 1, 1, 1, 4, 2, 1, 1, 2, 6, 6, 1, 2, 2, 3, 6, 1, 1, 1, 1, 2, 1, 1, 1, 1, 1, 1, 1, 2, 1, 1, 1, 1, 1, 1, 5, 2, 1, 1, 3, 4, 6, 1, 2, 2, 1, 1, 1, 1, 9, 1, 1, 2, 1, 1, 1, 11, 1, 1, 1, 2, 1, 10, 1, 2, 3, 2, 1, 1, 2, 4, 1, 2, 1, 1, 1, 1, 5, 1, 1, 11, 1, 1, 1, 4, 1, 5, 3, 6, 4, 1, 1, 2, 4, 1, 1, 6, 6, 6, 2, 3, 22, 2, 1, 1, 2, 2, 2, 2, 2, 2, 53, 19, 3, 1, 2, 3, 2, 6, 2, 1, 13, 1, 6, 1, 2, 2, 6, 9, 1, 2, 1, 2, 1, 1, 2, 2, 8, 1, 3, 7, 1, 1, 1, 2, 1, 1, 1, 3, 7, 1, 2, 2, 1, 2, 1, 10, 1, 1, 1, 1, 1, 7, 1, 1, 1, 1, 2, 2, 1, 2, 3, 3, 1, 1, 1, 3, 3, 2, 1, 11, 7, 18, 1, 1, 10, 1, 2, 1, 2, 2, 1, 4, 2, 3, 5, 2, 1, 2, 1, 1, 1, 3, 2, 1, 1, 1, 1, 2, 1, 1, 4, 1, 1, 1, 2, 2, 1, 5, 1, 2, 6, 2, 6, 2, 1, 1, 5, 1, 1, 1, 1, 1, 1, 3, 4, 8, 3, 3, 3, 1, 3, 1, 1, 25, 1, 5, 6, 2, 1, 2, 2, 2, 1, 1, 1, 1, 2, 1, 48, 1, 3, 1, 1, 1, 1, 1, 1, 1, 1, 2, 1, 2, 2, 1, 2, 1, 2, 1, 1, 25, 21, 1, 2, 1, 2, 2, 1, 2, 12, 1, 1, 7, 3, 1, 1, 1, 1, 1, 2, 1, 1, 1, 1, 3, 3, 23, 1, 1, 5, 1, 1, 4, 1, 1, 1, 2, 1, 2, 49, 1, 2, 1, 2, 3, 2, 2, 1, 3, 1, 1, 1, 2, 4, 3, 1, 1, 2, 1, 2, 6, 2, 1, 1, 1, 2, 1, 2, 2, 12, 1, 4, 3, 2, 1, 1, 1, 1, 1, 1, 1, 11, 1, 5, 1, 11, 2, 1, 5, 1, 1, 10, 1, 11, 3, 5, 2, 2, 8, 1, 1, 2, 1, 9, 1, 1, 1, 122, 3, 2, 1, 1, 1, 3, 1, 1, 1, 1, 2, 1, 6, 2, 1, 2, 1, 1, 1, 1, 1, 4, 5, 2, 3, 3, 2, 2, 1, 1, 1, 1, 1, 1, 2, 1, 1, 2, 3, 2, 3, 2, 1, 1, 1, 1, 1, 1, 1, 1, 1, 4, 1, 1, 1, 2, 2, 1, 2, 2, 3, 1, 6, 3, 35, 31, 4, 1, 4, 1, 7, 1, 4, 19, 2, 3, 1, 9, 1, 1, 11, 2, 8, 8, 2, 4, 27, 1, 2, 1, 3, 1, 2, 3, 2, 2, 6, 2, 3, 4, 2, 2, 6, 1, 1, 3, 2, 1, 2, 1, 2, 2, 1, 1, 1, 2, 1, 1, 1, 8, 1, 1, 1, 2, 15, 3, 2, 20, 1, 6, 1, 1, 1, 3, 3, 1, 1, 1, 1, 1, 1, 1, 2, 1, 2, 1, 1, 6, 1, 2, 1, 5, 1, 1, 1, 2, 2, 7, 1, 1, 1, 1, 1, 1, 2, 1, 2, 1, 3, 2, 3, 11, 9, 1, 2, 1, 2, 1, 1, 1, 1, 1, 1, 1, 1, 1, 1, 1, 1, 2, 1, 1, 1, 1, 1, 1, 1, 2, 1, 1, 1, 1, 1, 5, 2, 1, 114, 2, 1, 1, 1, 1, 2, 1, 1, 1, 1, 1, 1, 1, 1, 3, 1, 2, 1, 1, 1, 14, 1, 7, 1, 2, 1, 15, 1, 4, 1, 1, 1, 2, 1, 1, 1, 1, 1, 6, 20, 1, 1, 1, 1, 1, 3, 1, 2, 1, 3, 1, 6, 3, 1, 2, 3, 16, 3, 3, 10, 7, 2, 4, 3, 2, 2, 5, 4, 2, 2, 1, 1, 1, 3, 8, 1, 3, 7, 1, 2, 1, 1, 1, 1, 2, 3, 1, 2, 3, 2, 3, 1, 1, 1, 1, 3, 1, 1, 16, 4, 4, 3, 2, 1, 2, 5, 2, 1, 4, 8, 3, 54, 2, 14, 3, 1, 1, 2, 1, 1, 1, 3, 5, 3, 3, 1, 2, 1, 9, 3, 5, 3, 5, 3, 1, 5, 2, 6, 2, 1, 1, 2, 17, 7, 3, 4, 3, 2, 4, 1, 2, 5, 8, 6, 2, 3, 2, 3, 1, 1, 1, 1, 1, 1, 1, 2, 1, 1, 1, 1, 1, 1, 1, 1, 1, 1, 1, 1, 1, 1, 1, 4, 1, 1, 2, 1, 1, 1, 1, 1, 1, 1, 2, 3, 1, 1, 1, 1, 2, 1, 7, 9, 3, 4, 1, 3, 1, 8, 2, 1, 1, 2, 4, 2, 5, 4, 1, 8, 1, 4, 1, 24, 1, 3, 3, 25, 1, 2, 4, 1, 1, 1, 1, 1, 1, 1, 1, 1, 2, 1, 1, 1, 1, 1, 1, 1, 1, 1, 4, 1, 1, 1, 1, 1, 1, 1, 1, 1, 1, 1, 3, 1, 1, 5, 1, 1, 1, 1, 1, 1, 1, 3, 1, 1, 1, 7, 10, 14, 29, 4, 2, 1, 3, 2, 1, 3, 1, 17, 1, 1, 10, 4, 1, 5, 4, 11, 2, 1, 1, 8, 2, 3, 10, 3, 3, 8, 5, 1, 1, 4, 14, 6, 9, 1, 5, 12, 1, 4, 1, 1, 2, 2, 12, 1, 1, 1, 1, 4, 4, 1, 1, 1, 1, 3, 6, 3, 15, 2, 1, 1, 1, 1, 1, 6, 2, 2, 3, 2, 5, 4, 1, 2, 2, 1, 1, 1, 1, 1, 2, 1, 1, 1, 1, 1, 1, 2, 2, 1, 1, 2, 1, 3, 6, 1, 1, 1, 3, 2, 4, 1, 1, 1, 1, 8, 7, 1, 4, 1, 1, 1, 1, 1, 1, 1, 1, 1, 1, 1, 4, 2, 1, 1, 1, 1, 1, 2, 1, 1, 1, 4, 1, 3, 1, 2, 2, 6, 9, 1, 2, 3, 1, 3, 4, 2, 1, 2, 1, 3, 1, 1, 1, 2, 1, 1, 2, 1, 1, 2, 1, 1, 1, 5, 5, 8, 1, 8, 1, 1, 1, 1, 1, 2, 9, 48, 2, 1, 2, 2, 3, 2, 1, 3, 1, 1, 3, 4, 2, 1, 6, 2, 1, 8, 5, 2, 1, 1, 3, 4, 2, 19, 1, 3, 1, 1, 1, 1, 1, 2, 1, 2, 2, 3, 1, 3, 1, 2, 5, 1, 1, 1, 1, 1, 1, 1, 1, 1, 1, 1, 28, 1, 1, 1, 1, 1, 1, 1, 1, 1, 1, 1, 1, 1, 1, 1, 1, 1, 1, 1, 1, 1, 1, 1, 1, 1, 1, 1, 5, 1, 1, 1, 2, 2, 3, 3, 2, 1, 1, 2, 4, 1, 1, 1, 5, 2, 2, 2, 1, 1, 1, 3, 1, 1, 1, 1, 5, 5, 1, 1, 3, 13, 5, 3, 39, 2, 1, 3, 1, 2, 2, 2, 5, 1, 4, 1, 5, 1, 1, 1, 2, 2, 1, 1, 1, 1, 1, 1, 3, 2, 1, 2, 1, 165, 2, 1, 4, 2, 7, 4, 4, 5, 4, 2, 3, 2, 1, 2, 4, 1, 4, 1, 1, 6, 12, 1, 3, 4, 10, 3, 1, 13, 1, 11, 2, 3, 50, 1, 1, 1, 1, 1, 1, 1, 1, 2, 1, 1, 1, 1, 2, 5, 1, 2, 2, 1, 1, 2, 1, 6, 1, 18, 3, 44, 59, 1, 4, 3, 4, 2, 1, 9, 2, 6, 1, 2, 2, 1, 1, 3, 2, 1, 3, 2, 1, 1, 15, 2, 8, 26, 7, 1, 7, 1, 5, 5, 1, 1, 2, 5, 4, 5, 3, 9, 2, 4, 4, 1, 19, 4, 9, 66, 2, 2, 2, 6, 6, 2, 3, 1, 3, 1, 1, 13, 1, 3, 1, 4, 2, 3, 2, 2, 1, 1, 8, 1, 1, 1, 2, 1, 1, 1, 1, 1, 2, 19, 1, 1, 1, 1, 5, 2, 1, 3, 1, 1, 2, 1, 2, 1, 3, 5, 2, 4, 2, 1, 1, 1, 1, 1, 1, 12, 1, 1, 1, 1, 3, 1, 3, 1, 1, 1, 3, 1, 2, 2, 2, 3, 1, 10, 1, 4, 1, 1, 1, 2, 3, 1, 8, 2, 1, 2, 1, 3, 1, 1, 1, 1, 1, 1, 2, 1, 1, 1, 1, 2, 1, 1, 1, 3, 1, 1, 2, 2, 2, 1, 1, 2, 47, 4, 1, 1, 1, 2, 1, 4, 26, 1, 2, 1, 1, 1, 1, 1, 5, 2, 2, 1, 1, 1, 1, 1, 1, 1, 2, 3, 2, 2, 1, 1, 2, 4, 1, 4, 3, 2, 9, 1, 2, 22, 1, 4, 2, 2, 1, 8, 4, 2, 1, 2, 1, 1, 2, 3, 1, 2, 1, 2, 1, 2, 2, 1, 2, 3, 1, 2, 3, 2, 11, 1, 1, 1, 1, 1, 1, 1, 2, 15, 1, 1, 1, 1, 1, 2, 3, 2, 1, 1, 1, 1, 1, 1, 2, 1, 2, 1, 1, 2, 2, 1, 1, 3, 1, 5, 5, 1, 1, 7, 8, 1, 1, 4, 3, 6, 2, 2, 9, 12, 2, 1, 4, 2, 7, 1, 1, 7, 1, 1, 1, 1, 1, 1, 2, 3, 1, 1, 1, 1, 1, 1, 1, 1, 1, 4, 1, 1, 3, 1, 3, 1, 3, 2, 1, 2, 2, 1, 13, 5, 2, 3, 1, 2, 1, 9, 4, 2, 1, 4, 2, 1, 3, 1, 16, 4, 4, 2, 1, 2, 2, 1, 3, 2, 4, 41, 2, 4, 3, 4, 2, 1, 1, 1, 2, 1, 2, 3, 1, 9, 10, 7, 3, 7, 3, 3, 5, 1, 70, 1, 2, 1, 1, 2, 1, 7, 4, 3, 1, 4, 1, 4, 3, 2, 1, 30, 2, 1, 1, 2, 2, 3, 2, 1, 1, 1, 1, 1, 3, 2, 1, 2, 1, 1, 1, 1, 2, 1, 3, 1, 2, 2, 3, 1, 1, 1, 1, 1, 2, 1, 3, 63, 1, 1, 4, 10, 11, 2, 1, 10, 2, 3, 3, 6, 2, 4, 5, 2, 2, 2, 2, 1, 1, 1, 1, 1, 1, 1, 1, 1, 1, 1, 1, 1, 1, 1, 1, 1, 1, 8, 1, 1, 1, 1, 1, 1, 1, 1, 1, 1, 1, 2, 1, 14, 1, 3, 6, 1, 2, 1, 3, 1, 1, 2, 1, 1, 1, 1, 1, 1, 1, 1, 1, 3, 1, 1, 1, 1, 1, 1, 1, 1, 2, 1, 1, 2, 3, 1, 2, 1, 1, 2, 1, 53, 13, 1, 1, 1, 1, 2, 2, 1, 2, 1, 1, 1, 1, 1, 6, 1, 1, 2, 3, 1, 2, 2, 3, 1, 4, 4, 5, 2, 1, 6, 1, 1, 3, 1, 1, 10, 1, 8, 2, 1, 1, 1, 1, 2, 1, 1, 3, 2, 3, 3, 5, 1, 1, 10, 4, 2, 5, 2, 1, 5, 5, 1, 1, 1, 1, 1, 1, 1, 1, 6, 2, 1, 1, 2, 1, 3, 1, 1, 9, 3, 2, 2, 1, 1, 1, 1, 1, 1, 1, 2, 2, 1, 2, 1, 4, 1, 3, 1, 5, 4, 3, 1, 5, 1, 6, 1, 1, 6, 22, 2, 1, 31, 2, 2, 27, 1, 3, 7, 2, 3, 2, 1, 1, 5, 7, 1, 2, 4, 6, 1, 1, 1, 1, 4, 1, 1, 2, 6, 1, 2, 1, 1, 1, 5, 12, 1, 7, 1, 15, 11, 1, 1, 6, 1, 1, 1, 1, 3, 1, 1, 2, 1, 2, 2, 1, 1, 2, 1, 3, 2, 1, 1, 2, 4, 1, 2, 1, 2, 1, 1, 2, 1, 2, 62, 1, 4, 2, 1, 2, 2, 3, 2, 2, 1, 3, 2, 5, 1, 1, 2, 1, 4, 2, 1, 5, 5, 2, 5, 1, 1, 2, 1, 1, 1, 1, 2, 1, 2, 1, 1, 1, 1, 1, 1, 1, 3, 1, 1, 2, 1, 1, 4, 1, 2, 3, 4, 2, 1, 1, 3, 1, 1, 1, 2, 2, 4, 1, 1, 1, 2, 1, 1, 1, 2, 2, 1, 1, 1, 2, 4, 1, 1, 5, 5, 2, 3, 3, 46, 4, 24, 1, 1, 4, 1, 2, 2, 2, 1, 7, 4, 2, 1, 3, 1, 1, 4, 1, 1, 1, 9, 2, 2, 12, 1, 3, 2, 12, 6, 1, 1, 1, 2, 1, 1, 1, 1, 1, 1, 1, 2, 1, 1, 1, 1, 1, 1, 1, 9, 2, 2, 3, 11, 1, 1, 1, 1, 6, 1, 1, 1, 1, 7, 2, 5, 1, 3, 1, 9, 3, 1, 3, 1, 8, 1, 1, 2, 1, 1, 1, 3, 2, 2, 1, 1, 3, 1, 2, 1, 1, 1, 2, 3, 1, 2, 1, 2, 1, 2, 2, 1, 6, 8, 2, 5, 2, 1, 6, 20, 1, 1, 16, 1, 2, 1, 5, 3, 5, 1, 2, 1, 1, 1, 2, 14, 1, 4, 1, 1, 1, 2, 1, 1, 4, 4, 1, 1, 4, 2, 10, 220, 3, 1, 1, 1, 6, 3, 1, 2, 1, 3, 1, 1, 1, 1, 2, 1, 1, 1, 1, 1, 1, 1, 1, 3, 1, 2, 1, 1, 1, 3, 1, 1, 1, 4, 1, 1, 1, 3, 1, 2, 1, 2, 2, 2, 1, 1, 1, 5, 2, 1, 4, 5, 2, 3, 2, 2, 2, 1, 6, 1, 1, 14, 1, 1, 2, 8, 5, 8, 11, 12, 1, 6, 4, 15, 5, 2, 1, 1, 1, 3, 1, 2, 9, 2, 3, 50, 2, 1, 1, 1, 4, 1, 3, 1, 4, 12, 2, 3, 2, 2, 1, 2, 3, 3, 1, 6, 2, 1, 1, 1, 1, 1, 4, 1, 1, 1, 5, 4, 1, 5, 1, 1, 1, 1, 1, 1, 1, 1, 1, 1, 1, 1, 1, 1, 1, 1, 1, 1, 3, 2, 6, 2, 2, 1, 1, 1, 1, 1, 1, 1, 1, 1, 5, 1, 1, 2, 2, 4, 7, 3, 7, 6, 1, 3, 4, 4, 2, 1, 1, 1, 1, 4, 1, 1, 3, 4, 5, 1, 2, 2, 1, 2, 1, 1, 2, 1, 1, 1, 1, 2, 2, 1, 1, 1, 1, 1, 1, 1, 1, 1, 2, 1, 1, 1, 1, 7, 1, 2, 1, 2, 1, 1, 1, 2, 1, 1, 1, 1, 1, 2, 134, 2, 5, 2, 4, 1, 2, 11, 3, 1, 8, 6, 3, 10, 2, 7, 2, 4, 2, 5, 1, 3, 1, 1, 1, 1, 2, 1, 4, 1, 1, 2, 5, 27, 1, 5, 1, 1, 2, 4, 2, 2, 2, 1, 4, 1, 2, 1, 1, 1, 2, 2, 1, 1, 2, 2, 2, 1, 5, 2, 2, 2, 1, 4, 2, 1, 1, 2, 1, 1, 1, 2, 1, 1, 2, 1, 3, 2, 1, 1, 2, 2, 1, 1, 3, 2, 2, 2, 4, 1, 4, 1, 1, 2, 2, 1, 1, 1, 1, 1, 4, 1, 1, 1, 2, 1, 1, 1, 2, 1, 6, 3, 3, 1, 5, 3, 4, 2, 8, 9, 1, 2, 1, 1, 1, 1, 1, 1, 1, 1, 1, 5, 2, 4, 1, 1, 2, 4, 3, 1, 1, 6, 1, 1, 2, 1, 1, 1, 1, 1, 1, 1, 2, 1, 1, 2, 5, 1, 3, 1, 1, 1, 3, 1, 1, 1, 1, 1, 1, 1, 1, 1, 1, 1, 4, 3, 4, 1, 4, 1, 2, 3, 6, 1, 1, 1, 1, 1, 1, 1, 1, 4, 1, 1, 1, 1, 1, 1, 1, 1, 3, 1, 1, 1, 2, 1, 1, 1, 2, 5, 1, 2, 9, 3, 1, 1, 2, 3, 1, 2, 1, 2, 3, 1, 1, 1, 1, 4, 1, 1, 1, 1, 1, 1, 2, 1, 1, 4, 3, 3, 1, 1, 1, 19, 7, 1, 1, 1, 1, 1, 1, 1, 2, 1, 1, 1, 1, 1, 1, 1, 1, 1, 1, 1, 2, 1, 2, 1, 3, 1, 1, 1, 1, 1, 1, 2, 1, 3, 1, 1, 4, 3, 1, 1, 1, 1, 2, 1, 3, 1, 4, 3, 3, 1, 1, 1, 1, 1, 3, 3, 2, 1, 1, 1, 1, 1, 1, 1, 1, 4, 3, 1, 1, 1, 1, 1, 5, 2, 2, 1, 1, 1, 5, 1, 1, 1, 2, 1, 2, 4, 1, 2, 7, 1, 2, 5, 1, 1, 3, 1, 1, 2, 3, 1, 1, 2, 1, 1, 1, 2, 1, 1, 1, 5, 1, 1, 1, 2, 1, 5, 2, 1, 4, 2, 3, 1, 2, 1, 1, 1, 1, 1, 2, 2, 1, 1, 2, 1, 5, 1, 1, 1, 1, 1, 2, 3, 1, 3, 4, 5, 2, 1, 1, 2, 1, 4, 6, 1, 2, 4, 1, 2, 1, 2, 1, 1, 1, 1, 9, 5, 1, 1, 1, 1, 1, 1, 1, 2, 3, 3, 1, 4, 1, 1, 1, 1, 1, 2, 1, 1, 1, 38, 3, 4, 3, 1, 2, 1, 57, 1, 1, 1, 1, 2, 1, 3, 1, 2, 1, 1, 1, 1, 29, 4, 4, 1, 4, 1, 3, 4, 3, 2, 4, 1, 19, 5, 2, 5, 4, 2, 3, 6, 3, 2, 1, 3, 12, 57, 5, 47, 4, 2, 2, 11, 1, 1, 3, 8, 14, 3, 2, 1, 1, 1, 2, 3, 1, 3, 2, 1, 1, 4, 2, 1, 1, 2, 2, 7, 1, 1, 1, 1, 2, 1, 2, 17, 4, 1, 3, 3, 17, 4, 6, 2, 3, 1, 3, 3, 2, 3, 1, 1, 2, 1, 3, 1, 1, 14, 1, 1, 1, 2, 48, 1, 1, 1, 1, 1, 1, 1, 1, 1, 1, 1, 2, 1, 1, 1, 1, 1, 1, 1, 1, 1, 1, 1, 1, 1, 1, 1, 1, 1, 1, 1, 1, 1, 1, 1, 1, 1, 1, 1, 1, 1, 1, 1, 1, 2, 1, 2, 1, 2, 14, 2, 9, 2, 1, 3, 3, 1, 6, 1, 9, 2, 1, 3, 1, 1, 2, 1, 4, 4, 3, 1, 2, 4, 3, 2, 2, 2, 1, 1, 1, 1, 1, 4, 2, 3, 1, 1, 4, 1, 10, 2, 1, 25, 2, 7, 3, 1, 1, 5, 3, 5, 1, 1, 2, 1, 2, 2, 1, 2, 2, 2, 2, 1, 2, 2, 1, 1, 1, 2, 1, 1, 3, 2, 1, 1, 8, 6, 7, 2, 2, 1, 1, 1, 1, 1, 1, 1, 32, 2, 1, 1, 1, 1, 1, 2, 1, 1, 1, 3, 1, 4, 1, 1, 3, 2, 1, 2, 1, 1, 10, 1, 3, 1, 1, 5, 1, 2, 4, 3, 1, 1, 4, 1, 3, 2, 1, 4, 2, 2, 1, 4, 1, 1, 1, 4, 2, 1, 2, 2, 2, 17, 2, 1, 1, 2, 1, 1, 1, 2, 2, 2, 1, 1, 2, 1, 1, 1, 3, 1, 1, 3, 1, 3, 3, 1, 3, 2, 1, 4, 1, 1, 1, 3, 1, 2, 1, 1, 19, 2, 1, 1, 1, 2, 1, 11, 3, 1, 3, 1, 3, 1, 2, 1, 3, 2, 1, 3, 1, 1, 2, 3, 5, 1, 2, 1, 1, 2, 4, 2, 1, 3, 2, 1, 1, 2, 1, 1, 1, 2, 1, 1, 1, 1, 1, 1, 1, 1, 1, 8, 6, 1, 1, 1, 1, 1, 5, 3, 5, 1, 3, 1, 1, 2, 1, 1, 3, 1, 1, 1, 1, 1, 2, 3, 1, 1, 1, 1, 4, 4, 1, 2, 1, 2, 2, 1, 1, 2, 4, 6, 10, 4, 1, 1, 2, 4, 2, 1, 20, 1, 1, 2, 2, 2, 5, 3, 1, 1, 3, 7, 5, 2, 3, 1, 7, 1, 1, 5, 1, 1, 3, 1, 3, 1, 1, 1, 1, 1, 3, 3, 2, 1, 1, 1, 2, 1, 2, 2, 1, 1, 1, 3, 1, 1, 3, 1, 12, 3, 2, 3, 1, 1, 3, 3, 1, 1, 1, 1, 2, 3, 1, 50, 2, 1, 1, 1, 1, 3, 1, 1, 1, 1, 1, 3, 1, 1, 1, 1, 1, 1, 1, 1, 2, 1, 16, 1, 4, 5, 1, 1, 1, 3, 1, 1, 1, 2, 6, 1, 3, 4, 1, 1, 6, 5, 2, 2, 2, 2, 2, 1, 5, 7, 15, 3, 2, 1, 2, 3, 2, 2, 13, 3, 1, 44, 3, 3, 2, 1, 1, 2, 2, 1, 3, 1, 1, 1, 1, 1, 1, 2, 2, 2, 1, 1, 1, 1, 1, 1, 1, 1, 3, 1, 1, 1, 2, 1, 2, 2, 1, 1, 1, 1, 1, 2, 1, 1, 1, 1, 17, 4, 1, 1, 6, 1, 1, 5, 1, 1, 1, 1, 1, 1, 1, 1, 1, 1, 1, 2, 1, 4, 5, 3, 1, 1, 1, 1, 1, 1, 1, 1, 1, 1, 1, 1, 1, 2, 2, 2, 1, 1, 1, 1, 1, 1, 2, 1, 1, 1, 3, 2, 2, 1, 5, 5, 5, 1, 1, 2, 2, 1, 1, 1, 1, 1, 1, 1, 3, 2, 1, 1, 1, 2, 1, 1, 1, 1, 1, 1, 2, 1, 1, 1, 1, 1, 1, 1, 1, 1, 1, 1, 3, 1, 1, 4, 1, 2, 1, 5, 3, 1, 1, 2, 5, 4, 2, 3, 5, 1, 2, 1, 3, 1, 11, 3, 1, 1, 3, 3, 1, 1, 3, 1, 2, 3, 2, 1, 2, 6, 2, 1, 1, 1, 2, 1, 2, 1, 1, 1, 1, 1, 1, 3, 2, 2, 8, 5, 6, 1, 2, 1, 6, 1, 1, 2, 1, 1, 1, 1, 1, 4, 1, 1, 1, 1, 1, 4, 1, 2, 1, 1, 1, 1, 1, 1, 1, 4, 1, 1, 1, 1, 1, 1, 1, 2, 1, 1, 1, 1, 1, 1, 1, 1, 1, 1, 1, 2, 1, 1, 1, 8, 2, 1, 1, 3, 2, 1, 5, 3, 1, 1, 5, 7, 6, 2, 2, 19, 1, 1, 11, 2, 2, 1, 5, 3, 2, 2, 1, 1, 3, 3, 1, 1, 5, 2, 2, 2, 1, 3, 5, 1, 1, 3, 5, 2, 2, 6, 1, 3, 2, 5, 5, 1, 4, 1, 1, 7, 4, 1, 40, 1, 1, 2, 4, 4, 2, 1, 1, 3, 1, 3, 2, 1, 1, 2, 3, 2, 1, 4, 2, 2, 1, 6, 1, 1, 1, 1, 1, 1, 1, 1, 1, 1, 4, 1, 1, 1, 1, 2, 3, 1, 1, 3, 1, 1, 1, 1, 1, 2, 1, 5, 4, 3, 1, 3, 8, 1, 3, 1, 1, 3, 1, 2, 1, 1, 1, 1, 5, 1, 1, 1, 1, 1, 1, 1, 1, 1, 4, 1, 1, 1, 1, 1, 1, 1, 1, 1, 1, 1, 2, 1, 1, 3, 1, 4, 2, 8, 3, 7, 1, 6, 1, 1, 1, 3, 2, 2, 2, 2, 1, 1, 1, 1, 1, 5, 5, 5, 4, 12, 1, 3, 2, 1, 1, 1, 2, 10, 5, 7, 1, 1, 2, 3, 3, 1, 1, 1, 1, 3, 1, 1, 2, 1, 1, 1, 1, 5, 3, 2, 3, 1, 2, 1, 1, 1, 1, 1, 7, 2, 2, 3, 1, 1, 1, 9, 1, 1, 1, 1, 4, 1, 1, 2, 1, 1, 1, 1, 1, 2, 1, 1, 1, 1, 1, 1, 1, 1, 1, 1, 2, 1, 1, 1, 1, 1, 1, 1, 1, 2, 1, 5, 6, 1, 1, 1, 1, 2, 3, 1, 2, 1, 1, 1, 1, 1, 12, 24, 2, 2, 2, 1, 7, 1, 1, 2, 5, 5, 3, 1, 2, 1, 1, 4, 2, 3, 4, 1, 5, 1, 3, 1, 1, 2, 2, 2, 1, 2, 7, 1, 2, 1, 1, 4, 4, 2, 4, 2, 1, 2, 2, 6, 1, 2, 1, 1, 4, 1, 2, 1, 3, 1, 1, 11, 4, 1, 1, 2, 2, 2, 19, 1, 2, 2, 4, 1, 1, 1, 2, 2, 2, 5, 1, 1, 2, 2, 1, 2, 1, 1, 1, 1, 1, 1, 2, 1, 1, 1, 1, 1, 1, 1, 2, 1, 1, 1, 1, 2, 1, 3, 1, 7, 1, 1, 1, 8, 3, 2, 1, 1, 3, 1, 3, 1, 1, 43, 6, 1, 1, 1, 1, 2, 9, 2, 2, 1, 1, 1, 1, 1, 1, 1, 1, 1, 3, 2, 17, 5, 1, 1, 1, 3, 1, 1, 2, 1, 1, 2, 4, 1, 1, 1, 1, 1, 1, 1, 1, 2, 2, 1, 1, 1, 2, 1, 1, 1, 1, 1, 1, 1, 3, 1, 1, 48, 1, 1, 1, 1, 2, 2, 3, 1, 3, 1, 1, 1, 1, 1, 1, 2, 1, 1, 1, 1, 1, 1, 1, 2, 1, 1, 1, 1, 1, 1, 2, 2, 2, 6, 4, 1, 3, 1, 1, 1, 1, 40, 2, 1, 1, 2, 1, 1, 1, 1, 2, 1, 1, 3, 1, 2, 1, 1, 1, 1, 1, 1, 1, 1, 1, 1, 2, 1, 33, 25, 1, 3, 2, 2, 11, 1, 1, 1, 2, 2, 2, 1, 2, 2, 1, 1, 2, 1, 2, 1, 48, 3, 2, 2, 1, 1, 1, 1, 1, 1, 1, 2, 2, 2, 11, 3, 1, 4, 1, 1, 4, 2, 1, 1, 1, 1, 1, 1, 1, 1, 1, 1, 1, 1, 1, 1, 1, 1, 1, 1, 2, 1, 1, 1, 2, 2, 2, 3, 1, 1, 1, 2, 2, 2, 1, 5, 4, 1, 2, 1, 1, 1, 1, 2, 1, 1, 1, 3, 11, 4, 1, 1, 1, 1, 1, 1, 1, 1, 1, 1, 1, 1, 1, 2, 1, 1, 3, 1, 1, 1, 1, 1, 1, 1, 1, 1, 1, 1, 2, 1, 1, 1, 2, 2, 2, 1, 4, 1, 1, 1, 2, 1, 1, 2, 1, 2, 1, 1, 1, 1, 3, 1, 3, 3, 3, 1, 4, 2, 1, 1, 1, 1, 1, 1, 1, 2, 4, 1, 3, 3, 3, 1, 15, 1, 1, 1, 1, 1, 1, 1, 1, 1, 1, 1, 1, 1, 1, 1, 1, 1, 1, 3, 1, 1, 1, 1, 2, 1, 1, 2, 1, 1, 2, 3, 21, 2, 6, 7, 2, 1, 1, 1, 1, 1, 4, 3, 2, 1, 1, 2, 1, 1, 1, 1, 1, 1, 1, 3, 2, 4, 4, 10, 7, 1, 2, 1, 2, 4, 1, 1, 3, 1, 1, 1, 1, 3, 1, 2, 2, 2, 1, 2, 1, 2, 2, 1, 1, 1, 1, 1, 1, 1, 1, 3, 2, 1, 4, 1, 1, 2, 1, 1, 3, 4, 3, 2, 5, 3, 1, 2, 1, 1, 1, 1, 1, 8, 1, 4, 2, 3, 1, 11, 1, 2, 1, 1, 1, 1, 2, 1, 1, 1, 1, 5, 1, 1, 1, 2, 1, 1, 1, 1, 1, 1, 1, 2, 1, 1, 1, 7, 1, 1, 1, 7, 1, 1, 1, 3, 1, 1, 1, 2, 1, 1, 1, 1, 1, 1, 1, 1, 1, 1, 2, 1, 1, 1, 2, 1, 1, 2, 1, 1, 1, 2, 1, 3, 1, 1, 3, 1, 2, 4, 1, 1, 1, 1, 2, 1, 1, 1, 2, 1, 1, 4, 2, 1, 1, 1, 1, 1, 1, 1, 1, 1, 1, 2, 1, 1, 2, 2, 1, 1, 1, 1, 2, 1, 1, 3, 42, 6, 1, 1, 1, 1, 23, 1, 1, 1, 1, 2, 1, 1, 3, 1, 2, 1, 1, 3, 1, 4, 3, 1, 1, 1, 1, 1, 2, 14, 1, 1, 1, 1, 4, 20, 1, 1, 2, 2, 1, 1, 8, 2, 4, 1, 2, 2, 6, 1, 134, 3, 2, 1, 1, 2, 1, 1, 1, 2, 1, 2, 2, 1, 2, 3, 2, 2, 1, 1, 2, 1, 1, 1, 1, 1, 1, 4, 3, 4, 1, 2, 3, 2, 1, 1, 2, 8, 1, 1, 3, 1, 7, 1, 3, 1, 2, 2, 1, 3, 3, 8, 1, 2, 4, 1, 1, 1, 1, 1, 3, 1, 1, 1, 1, 1, 1, 1, 2, 1, 1, 1, 1, 1, 1, 1, 3, 1, 1, 76, 1, 1, 3, 2, 1, 2, 1, 1, 2, 9, 2, 1, 1, 1, 1, 1, 1, 1, 4, 1, 2, 1, 2, 1, 1, 1, 1, 1, 4, 1, 3, 1, 1, 1, 1, 1, 1, 1, 1, 1, 1, 1, 1, 3, 1, 1, 1, 1, 3, 1, 1, 2, 1, 1, 1, 1, 3, 1, 1, 2, 2, 1, 2, 2, 1, 1, 1, 1, 1, 2, 1, 3, 1, 1, 2, 1, 1, 1, 2, 1, 4, 2, 3, 1, 3, 1, 1, 7, 1, 1, 1, 3, 2, 5, 1, 1, 1, 1, 1, 1, 1, 2, 12, 1, 4, 1, 1, 1, 1, 1, 1, 4, 1, 1, 1, 1, 1, 2, 1, 1, 1, 1, 1, 1, 1, 5, 14, 2, 1, 1, 6, 1, 1, 1, 1, 1, 1, 1, 1, 1, 1, 1, 4, 1, 1, 2, 1, 1, 1, 1, 1, 1, 1, 1, 1, 1, 1, 2, 1, 1, 1, 1, 1, 1, 6, 5, 1, 4, 2, 1, 1, 1, 1, 1, 2, 5, 1, 2, 17, 2, 1, 1, 1, 3, 2, 1, 2, 1, 3, 1, 1, 1, 1, 3, 1, 1, 1, 1, 1, 2, 1, 1, 1, 3, 1, 2, 1, 1, 61, 1, 2, 1, 1, 1, 1, 2, 26, 1, 1, 2, 4, 3, 1, 1, 1, 6, 1, 1, 1, 1, 1, 1, 1, 2, 1, 12, 1, 1, 1, 1, 1, 3, 1, 1, 1, 2, 6, 5, 5, 2, 8, 9, 1, 1, 3, 2, 1, 2, 1, 2, 1, 1, 1, 1, 1, 3, 1, 1, 1, 1, 1, 5, 1, 1, 1, 1, 1, 3, 1, 1, 1, 2, 3, 2, 1, 1, 2, 2, 1, 3, 2, 1, 1, 1, 1, 2, 1, 1, 1, 3, 2, 4, 1, 1, 1, 1, 6, 4, 7, 1, 1, 1, 1, 1, 1, 1, 1, 2, 1, 2, 1, 1, 1, 1, 2, 1, 11, 1, 8, 1, 3, 1, 7, 1, 1, 1, 5, 9, 7, 2, 1, 21, 1, 2, 1, 1, 1, 1, 1, 6, 2, 2, 4, 3, 3, 1, 10, 1, 5, 2, 1, 1, 1, 1, 1, 1, 2, 1, 7, 4, 29, 1, 4, 1, 7, 3, 1, 5, 3, 1, 1, 4, 5, 3, 3, 3, 1, 2, 1, 1, 7, 1, 4, 2, 1, 1, 1, 13, 1, 2, 3, 1, 1, 4, 3, 1, 3, 4, 3, 3, 1, 1, 1, 16, 1, 2, 1, 3, 3, 2, 1, 4, 1, 26, 1, 1, 23, 1, 1, 2, 2, 6, 79, 1, 1, 1, 1, 1, 2, 47, 5, 1, 1, 1, 4, 8, 1, 8, 1, 3, 2, 2, 2, 5, 1, 1, 2, 2, 4, 3, 4, 2, 1, 1, 8, 1, 1, 2, 1, 1, 2, 1, 6, 6, 2, 1, 1, 1, 4, 1, 6, 7, 8, 1, 3, 1, 3, 1, 1, 1, 1, 1, 2, 1, 5, 1, 3, 11, 2, 1, 2, 3, 3, 1, 1, 2, 3, 1, 12, 4, 1, 1, 1, 2, 2, 2, 1, 1, 1, 6, 1, 1, 1, 1, 2, 1, 1, 2, 1, 1, 2, 1, 1, 4, 1, 2, 8, 2, 2, 1, 1, 1, 1, 1, 1, 1, 3, 1, 1, 3, 2, 1, 3, 2, 1, 1, 2, 1, 1, 2, 1, 1, 1, 1, 2, 3, 3, 2, 1, 1, 4, 1, 1, 1, 2, 1, 2, 1, 2, 1, 1, 3, 1, 1, 1, 3, 6, 1, 2, 1, 1, 2, 1, 1, 1, 1, 1, 1, 1, 1, 1, 1, 1, 1, 1, 1, 1, 1, 1, 1, 1, 1, 1, 1, 1, 1, 1, 1, 1, 1, 1, 1, 1, 1, 1, 1, 1, 1, 1, 1, 1, 1, 1, 1, 1, 1, 1, 1, 1, 1, 1, 1, 1, 1, 1, 1, 1, 1, 1, 1, 1, 1, 1, 1, 1, 1, 1, 1, 1, 1, 1, 1, 1, 1, 1, 1, 1, 1, 1, 1, 1, 88, 1, 1, 1, 1, 1, 1, 1, 1, 1, 1, 1, 1, 1, 1, 1, 1, 1, 1, 1, 1, 1, 1, 1, 1, 1, 1, 1, 1, 1, 1, 1, 1, 1, 1, 1, 1, 1, 2, 1, 1, 1, 1, 1, 1, 1, 1, 1, 1, 1, 1, 1, 1, 1, 1, 1, 1, 1, 1, 1, 1, 1, 1, 1, 1, 1, 1, 1, 1, 1, 2, 1, 1, 1, 1, 1, 1, 1, 1, 1, 1, 1, 1, 1, 2, 1, 1, 6, 2, 1, 1, 1, 2, 5, 25, 1, 1, 1, 1, 1, 3, 1, 1, 1, 1, 1, 1, 1, 4, 1, 1, 1, 1, 1, 1, 8, 1, 1, 1, 2, 1, 1, 1, 1, 4, 1, 1, 1, 1, 1, 1, 5, 2, 1, 1, 1, 1, 1, 1, 1, 5, 1, 2, 10, 1, 1, 1, 1, 1, 1, 1, 1, 1, 1, 1, 2, 1, 1, 1, 1, 1, 3, 38, 1, 1, 1, 1, 1, 1, 1, 1, 1, 1, 1, 1, 1, 1, 1, 1, 1, 1, 1, 1, 1, 1, 1, 1, 1, 1, 1, 1, 1, 1, 1, 1, 1, 1, 1, 9, 1, 1, 1, 1, 1, 1, 1, 1, 1, 2, 1, 1, 1, 1, 3, 1, 1, 1, 2, 1, 1, 3, 2, 1, 1, 2, 3, 1, 2, 1, 1, 1, 1, 5, 2, 1, 1, 1, 1, 1, 1, 28, 1, 1, 4, 5, 1, 1, 1, 2, 1, 1, 1, 4, 3, 2, 2, 1, 1, 3, 1, 6, 2, 1, 2, 1, 2, 3, 8, 1, 2, 17, 1, 1, 7, 3, 8, 4, 1, 1, 1, 1, 3, 2, 2, 1, 1, 1, 2, 1, 1, 1, 2, 1, 4, 2, 1, 1, 2, 1, 1, 1, 1, 1, 1, 1, 2, 6, 1, 1, 1, 1, 16, 1, 2, 1, 2, 1, 3, 4, 1, 6, 2, 1, 3, 1, 4, 1, 1, 4, 1, 3, 7, 7, 3, 1, 2, 1, 2, 4, 3, 5, 1, 1, 2, 5, 2, 16, 2, 15, 1, 1, 1, 1, 1, 1, 1, 2, 11, 2, 4, 5, 2, 4, 3, 1, 1, 6, 1, 1, 4, 1, 5, 1, 1, 1, 7, 2, 4, 2, 1, 2, 2, 1, 2, 2, 2, 1, 2, 2, 2, 4, 1, 4, 2, 3, 1, 2, 1, 3, 3, 1, 1, 3, 2, 1, 5, 5, 2, 2, 9, 1, 2, 1, 1, 2, 1, 11, 4, 1, 2, 1, 1, 2, 3, 1, 6, 2, 1, 3, 1, 1, 1, 1, 2, 1, 1, 1, 1, 1, 1, 2, 1, 2, 2, 1, 1, 1, 2, 1, 1, 1, 7, 1, 2, 1, 1, 1, 1, 1, 1, 1, 2, 1, 1, 3, 1, 1, 5, 1, 1, 2, 2, 1, 1, 3, 1, 1, 2, 1, 47, 1, 1, 2, 1, 12, 3, 3, 1, 1, 1, 6, 2, 4, 3, 5, 1, 4, 2, 1, 1, 1, 1, 1, 2, 1, 2, 1, 1, 1, 1, 1, 2, 1, 1, 2, 1, 1, 1, 1, 1, 1, 1, 127, 1, 4, 3, 1, 1, 1, 1, 2, 1, 1, 1, 1, 1, 2, 4, 1, 1, 1, 2, 1, 1, 1, 2, 1, 1, 1, 1, 2, 1, 1, 4, 3, 10, 4, 3, 4, 5, 1, 1, 4, 2, 1, 4, 7, 2, 4, 2, 1, 1, 1, 12, 1, 4, 2, 4, 3, 1, 1, 2, 1, 1, 1, 3, 2, 1, 4, 1, 1, 2, 2, 1, 1, 3, 2, 1, 1, 1, 2, 2, 1, 1, 1, 1, 1, 1, 16, 6, 3, 3, 1, 1, 1, 4, 2, 1, 1, 1, 1, 1, 3, 3, 2, 1, 1, 2, 3, 6, 1, 3, 3, 2, 1, 1, 3, 1, 1, 1, 1, 2, 1, 1, 1, 1, 2, 1, 1, 1, 2, 1, 1, 2, 2, 1, 2, 1, 1, 1, 2, 1, 1, 1, 1, 1, 1, 1, 2, 2, 3, 3, 2, 3, 1, 1, 1, 1, 1, 1, 1, 1, 1, 2, 1, 1, 2, 1, 1, 1, 1, 2, 3, 3, 1, 4, 1, 3, 3, 3, 1, 13, 2, 5, 3, 3, 2, 3, 2, 1, 1, 1, 2, 1, 2, 6, 1, 7, 1, 1, 2, 1, 1, 2, 21, 1, 1, 1, 4, 1, 1, 1, 2, 1, 1, 1, 1, 3, 3, 1, 1, 1, 2, 2, 1, 1, 1, 1, 1, 3, 1, 1, 1, 1, 1, 1, 2, 1, 1, 2, 2, 2, 1, 1, 2, 1, 1, 3, 1, 1, 6, 1, 2, 1, 1, 1, 1, 1, 1, 1, 3, 3, 1, 1, 1, 3, 1, 1, 2, 2, 2, 3, 1, 2, 1, 1, 1, 1, 1, 1, 1, 1, 1, 1, 1, 1, 1, 1, 1, 1, 1, 1, 1, 1, 1, 1, 1, 1, 1, 1, 1, 1, 1, 2, 1, 1, 1, 1, 1, 1, 1, 4, 1, 1, 1, 1, 1, 1, 1, 1, 1, 1, 1, 1, 1, 1, 1, 1, 11, 3, 1, 1, 2, 1, 1, 1, 2, 1, 1, 2, 1, 1, 1, 2, 1, 3, 1, 1, 3, 1, 1, 2, 1, 1, 6, 1, 2, 1, 3, 1, 1, 1, 1, 1, 2, 12, 2, 1, 2, 2, 1, 6, 2, 3, 1, 1, 2, 1, 7, 14, 9, 5, 5, 1, 1, 1, 2, 1, 1, 2, 1, 1, 3, 1, 1, 1, 1, 1, 3, 1, 12, 2, 1, 3, 2, 1, 1, 1, 1, 1, 1, 2, 1, 1, 1, 4, 1, 1, 2, 1, 1, 1, 1, 2, 1, 2, 1, 1, 4, 1, 1, 1, 1, 1, 1, 3, 1, 1, 1, 1, 1, 1, 1, 1, 1, 1, 1, 1, 1, 1, 1, 1, 1, 1, 1, 1, 1, 1, 1, 1, 1, 1, 1, 1, 1, 1, 1, 1, 1, 1, 1, 2, 5, 1, 1, 2, 1, 1, 1, 2, 1, 2, 1, 3, 1, 1, 5, 1, 1, 1, 1, 1, 1, 1, 1, 1, 1, 3, 3, 1, 2, 2, 16, 3, 4, 1, 1, 3, 1, 1, 2, 4, 1, 2, 1, 1, 2, 1, 14, 3, 1, 8, 1, 2, 5, 2, 2, 1, 1, 1, 2, 1, 1, 1, 2, 1, 1, 3, 1, 1, 1, 1, 1, 2, 1, 2, 1, 1, 1, 1, 1, 1, 1, 2, 2, 4, 2, 2, 1, 3, 1, 4, 1, 1, 1, 7, 1, 1, 1, 1, 2, 1, 5, 1, 5, 1, 1, 1, 1, 1, 1, 1, 1, 1, 1, 2, 1, 1, 2, 1, 1, 1, 1, 1, 1, 1, 1, 1, 1, 2, 3, 1, 1, 1, 1, 1, 1, 1, 1, 1, 1, 1, 1, 1, 2, 2, 2, 1, 2, 1, 1, 2, 2, 12, 5, 6, 2, 2, 3, 1, 6, 1, 1, 1, 1, 1, 3, 3, 1, 49, 4, 2, 2, 1, 3, 5, 2, 1, 3, 2, 1, 1, 2, 2, 2, 1, 8, 2, 2, 1, 5, 1, 1, 4, 2, 1, 1, 1, 1, 1, 1, 1, 2, 1, 1, 1, 2, 3, 1, 1, 1, 1, 2, 1, 2, 1, 1, 1, 4, 4, 1, 1, 1, 1, 1, 1, 1, 2, 1, 1, 2, 1, 1, 1, 1, 1, 1, 1, 3, 1, 1, 1, 1, 1, 1, 2, 2, 2, 1, 5, 2, 2, 1, 1, 1, 1, 2, 1, 1, 7, 1, 2, 4, 1, 1, 1, 1, 1, 1, 2, 3, 1, 18, 9, 6, 2, 2, 1, 3, 3, 1, 5, 4, 1, 2, 1, 6, 5, 1, 2, 3, 1, 2, 2, 21, 1, 5, 2, 2, 2, 1, 1, 1, 1, 1, 2, 3, 2, 1, 1, 2, 18, 1, 1, 6, 1, 42, 74, 2, 5, 2, 1, 1, 1, 1, 1, 1, 1, 1, 4, 1, 1, 1, 1, 1, 1, 1, 1, 1, 1, 1, 1, 1, 1, 1, 1, 1, 3, 1, 1, 1, 1, 1, 3, 1, 1, 1, 1, 1, 2, 1, 1, 11, 1, 1, 1, 1, 1, 1, 3, 3, 2, 1, 1, 1, 1, 2, 2, 2, 2, 1, 1, 1, 1, 1, 1, 1, 2, 20, 1, 35, 3, 6, 1, 3, 3, 2, 6, 4, 1, 6, 1, 1, 7, 1, 1, 2, 1, 1, 2, 1, 5, 1, 2, 6, 12, 2, 2, 5, 4, 4, 2, 2, 1, 1, 1, 28, 2, 6, 2, 1, 1, 1, 1, 3, 1, 1, 1, 1, 1, 3, 1, 1, 1, 1, 1, 1, 4, 3, 2, 4, 2, 1, 4, 5, 1, 8, 1, 9, 2, 2, 1, 1, 2, 3, 2, 9, 7, 2, 1, 2, 1, 6, 2, 2, 3, 1, 9, 7, 1, 3, 3, 1, 1, 6, 1, 3, 5, 3, 1, 1, 1, 2, 2, 3, 5, 1, 12, 1, 3, 1, 9, 7, 7, 1, 1, 2, 1, 4, 3, 2, 1, 6, 1, 1, 4, 3, 1, 2, 1, 1, 1, 1, 1, 4, 1, 1, 1, 1, 1, 1, 1, 4, 1, 3, 1, 1, 1, 4, 3, 2, 8, 1, 1, 1, 1, 1, 6, 1, 1, 1, 1, 1, 1, 2, 1, 1, 1, 1, 1, 1, 1, 1, 1, 1, 1, 1, 1, 1, 1, 1, 1, 1, 1, 1, 1, 1, 1, 1, 1, 1, 1, 1, 1, 1, 1, 1, 1, 1, 2, 1, 1, 1, 1, 1, 2, 1, 13, 6, 1, 1, 2, 1, 2, 1, 1, 1, 1, 1, 1, 1, 2, 1, 1, 1, 1, 1, 1, 1, 1, 1, 1, 1, 1, 1, 2, 1, 1, 1, 1, 1, 1, 1, 2, 1, 3, 1, 2, 3, 1, 1, 1, 2, 1, 1, 1, 6, 1, 1, 26, 2, 2, 3, 1, 1, 1, 2, 1, 1, 1, 2, 1, 1, 1, 1, 1, 5, 2, 1, 1, 1, 1, 1, 1, 1, 2, 1, 1, 2, 1, 4, 2, 2, 3, 1, 1, 1, 1, 1, 1, 1, 1, 1, 2, 1, 1, 1, 1, 1, 1, 1, 1, 1, 1, 1, 1, 1, 1, 2, 1, 1, 2, 1, 1, 1, 1, 1, 2, 1, 1, 1, 1, 1, 10, 2, 1, 1, 2, 7, 17, 2, 4, 1, 1, 1, 1, 1, 1, 1, 2, 1, 1, 1, 3, 1, 1, 1, 1, 1, 1, 1, 4, 1, 1, 1, 1, 3, 1, 2, 1, 1, 4, 4, 1, 4, 1, 1, 3, 1, 2, 1, 1, 1, 1, 10, 1, 1, 1, 1, 1, 1, 1, 1, 1, 1, 1, 1, 1, 1, 1, 1, 1, 2, 1, 1, 1, 5, 1, 1, 1, 1, 1, 1, 1, 1, 1, 2, 1, 2, 1, 1, 1, 1, 2, 2, 2, 2, 1, 2, 4, 1, 1, 1, 1, 1, 5, 4, 1, 1, 1, 14, 25, 3, 10, 3, 14, 1, 20, 1, 1, 1, 1, 1, 1, 1, 1, 1, 1, 1, 1, 1, 1, 1, 1, 1, 3, 1, 1, 1, 1, 1, 2, 1, 1, 1, 1, 1, 1, 1, 1, 1, 1, 1, 1, 2, 1, 1, 1, 10, 1, 1, 1, 1, 1, 2, 1, 1, 1, 2, 2, 1, 1, 1, 2, 1, 1, 1, 1, 7, 3, 1, 1, 1, 3, 4, 1, 1, 1, 4, 2, 2, 1, 1, 1, 2, 1, 5, 1, 2, 3, 1, 1, 3, 3, 1, 2, 6, 8, 3, 1, 1, 2, 1, 3, 2, 1, 1, 1, 1, 1, 1, 1, 1, 1, 1, 5, 1, 1, 1, 1, 1, 1, 1, 1, 1, 1, 2, 1, 3, 9, 2, 21, 1, 1, 1, 1, 1, 2, 1, 1, 1, 1, 1, 1, 1, 1, 2, 1, 3, 1, 1, 1, 5, 1, 2, 2, 1, 1, 1, 1, 1, 1, 1, 1, 12, 2, 1, 2, 2, 1, 1, 1, 1, 1, 1, 1, 1, 1, 1, 1, 1, 1, 1, 1, 1, 1, 2, 1, 1, 1, 3, 1, 1, 1, 1, 1, 1, 21, 3, 4, 2, 1, 3, 10, 8, 3, 1, 2, 2, 1, 1, 1, 2, 1, 41, 2, 3, 1, 1, 3, 8, 1, 1, 2, 1, 2, 3, 8, 1, 1, 12, 1, 1, 1, 7, 2, 3, 1, 1, 1, 2, 2, 1, 1, 4, 2, 3, 3, 4, 1, 3, 3, 1, 4, 2, 2, 11, 1, 2, 1, 2, 4, 3, 1, 1, 44, 4, 1, 1, 1, 1, 1, 3, 2, 2, 2, 4, 1, 1, 1, 1, 1, 2, 2, 1, 2, 2, 2, 1, 2, 1, 1, 1, 2, 2, 2, 1, 1, 3, 1, 1, 1, 1, 1, 3, 1, 1, 1, 1, 1, 1, 1, 2, 1, 1, 1, 2, 1, 1, 2, 2, 1, 1, 1, 1, 1, 1, 4, 3, 4, 4, 1, 2, 2, 2, 4, 1, 2, 1, 5, 3, 1, 1, 1, 2, 1, 1, 1, 1, 1, 3, 2, 2, 1, 1, 1, 1, 2, 1, 1, 1, 2, 1, 7, 1, 2, 3, 1, 2, 1, 1, 1, 1, 1, 1, 1, 1, 1, 1, 1, 1, 1, 1, 4, 1, 1, 1, 1, 2, 1, 1, 1, 1, 1, 1, 1, 3, 1, 1, 1, 1, 4, 2, 1, 1, 1, 1, 1, 2, 1, 1, 2, 1, 1, 2, 1, 1, 1, 2, 1, 1, 1, 1, 2, 1, 1, 1, 1, 2, 1, 46, 1, 1, 1, 1, 1, 1, 1, 5, 1, 1, 1, 1, 3, 3, 3, 2, 1, 1, 1, 1, 1, 1, 1, 1, 4, 3, 1, 5, 1, 1, 1, 2, 5, 3, 4, 1, 1, 1, 1, 40, 1, 1, 4, 1, 1, 1, 1, 1, 1, 1, 1, 1, 1, 1, 4, 1, 2, 3, 17, 1, 9, 1, 1, 9, 1, 1, 1, 2, 1, 17, 7, 26, 2, 2, 1, 3, 2, 4, 3, 5, 1, 1, 1, 1, 2, 28, 1, 1, 2, 1, 1, 4, 2, 6, 1, 2, 1, 1, 1, 3, 1, 4, 7, 1, 2, 1, 1, 1, 1, 1, 1, 1, 3, 1, 1, 4, 4, 1, 30, 3, 1, 2, 1, 4, 1, 1, 1, 1, 1, 1, 1, 1, 2, 2, 1, 2, 1, 2, 1, 2, 1, 1, 2, 1, 1, 1, 1, 1, 1, 2, 6, 3, 1, 3, 3, 4, 13, 2, 2, 1, 1, 1, 1, 5, 2, 5, 1, 1, 1, 1, 1, 8, 6, 1, 1, 1, 2, 2, 2, 2, 1, 1, 1, 2, 1, 1, 1, 1, 1, 1, 1, 2, 3, 3, 4, 3, 1, 5, 1, 1, 1, 1, 3, 1, 3, 3, 2, 3, 2, 1, 1, 1, 1, 1, 3, 4, 3, 1, 1, 1, 2, 1, 1, 2, 1, 1, 1, 51, 3, 2, 1, 1, 4, 1, 1, 1, 1, 1, 2, 1, 1, 1, 1, 1, 3, 1, 1, 1, 2, 1, 1, 1, 1, 1, 1, 2, 1, 1, 1, 1, 1, 1, 3, 1, 1, 1, 1, 1, 1, 1, 2, 5, 1, 1, 2, 2, 1, 5, 2, 1, 1, 3, 1, 1, 1, 2, 1, 3, 1, 1, 2, 1, 1, 1, 1, 1, 1, 1, 2, 1, 1, 5, 2, 1, 1, 1, 2, 1, 2, 19, 2, 1, 3, 5, 1, 1, 1, 1, 1, 1, 2, 2, 2, 1, 4, 1, 1, 1, 1, 3, 2, 1, 4, 1, 1, 1, 1, 2, 1, 1, 1, 1, 3, 1, 2, 1, 4, 1, 1, 1, 1, 1, 1, 1, 1, 1, 1, 1, 1, 1, 1, 1, 1, 1, 1, 1, 1, 1, 1, 1, 1, 2, 1, 1, 1, 1, 1, 1, 2, 1, 2, 3, 1, 1, 1, 1, 1, 1, 1, 1, 1, 1, 5, 1, 1, 1, 1, 1, 1, 1, 1, 1, 1, 1, 1, 1, 1, 1, 1, 1, 1, 1, 1, 1, 1, 1, 1, 1, 1, 1, 1, 1, 2, 1, 1, 1, 1, 1, 1, 1, 1, 1, 1, 2, 1, 1, 1, 1, 1, 2, 1, 1, 2, 1, 1, 1, 3, 3, 12, 1, 1, 3, 1, 3, 1, 7, 2, 3, 2, 4, 3, 1, 3, 7, 3, 1, 3, 1, 1, 1, 3, 1, 4, 3, 2, 3, 2, 3, 6, 2, 1, 1, 1, 1, 2, 1, 1, 1, 1, 1, 1, 2, 1, 1, 1, 1, 1, 1, 1, 1, 1, 2, 1, 1, 1, 2, 1, 1, 1, 1, 1, 1, 1, 1, 1, 1, 2, 2, 2, 1, 1, 1, 1, 2, 1, 2, 1, 1, 1, 1, 1, 1, 1, 1, 1, 1, 2, 1, 1, 1, 3, 2, 1, 1, 1, 1, 1, 1, 1, 1, 1, 5, 10, 1, 1, 8, 1, 16, 3, 1, 1, 1, 3, 2, 4, 2, 1, 2, 2, 2, 16, 2, 2, 1, 3, 2, 1, 3, 2, 3, 1, 1, 1, 1, 1, 3, 17, 2, 3, 3, 1, 2, 2, 2, 1, 4, 2, 3, 1, 3, 5, 1, 1, 1, 1, 1, 1, 3, 3, 1, 1, 2, 1, 3, 1, 2, 1, 3, 4, 3, 4, 2, 1, 1, 1, 1, 2, 2, 1, 2, 2, 1, 1, 1, 1, 2, 1, 1, 4, 2, 4, 3, 1, 1, 1, 1, 1, 1, 1, 35, 1, 1, 1, 1, 1, 1, 2, 2, 1, 4, 28, 6, 23, 2, 5, 11, 3, 1, 1, 2, 1, 2, 2, 1, 1, 1, 1, 1, 1, 1, 2, 1, 1, 1, 3, 1, 3, 1, 1, 1, 3, 3, 2, 2, 1, 1, 1, 1, 2, 1, 2, 1, 1, 10, 6, 1, 4, 1, 1, 1, 1, 1, 1, 4, 1, 1, 2, 1, 1, 4, 5, 12, 1, 1, 1, 4, 2, 11, 2, 1, 1, 2, 6, 1, 4, 1, 4, 1, 2, 1, 1, 1, 2, 3, 2, 1, 2, 1, 2, 7, 1, 1, 1, 2, 1, 1, 1, 3, 47, 1, 1, 12, 1, 1, 2, 1, 1, 1, 1, 1, 3, 1, 1, 2, 1, 1, 4, 1, 2, 1, 2, 5, 1, 3, 3, 3, 1, 1, 2, 1, 2, 1, 1, 1, 1, 1, 3, 3, 1, 2, 3, 1, 1, 1, 1, 2, 1, 1, 1, 1, 3, 1, 1, 1, 2, 16, 2, 1, 1, 2, 1, 2, 1, 1, 5, 2, 2, 1, 1, 2, 11, 2, 1, 1, 1, 2, 1, 1, 1, 2, 8, 1, 1, 1, 1, 1, 1, 1, 1, 1, 1, 1, 1, 1, 1, 1, 2, 2, 1, 2, 1, 1, 1, 2, 1, 1, 1, 1, 1, 5, 4, 1, 1, 2, 3, 1, 1, 1, 1, 1, 1, 1, 1, 1, 1, 1, 1, 1, 1, 1, 1, 1, 1, 1, 1, 1, 1, 1, 6, 2, 2, 1, 1, 1, 1, 2, 1, 2, 2, 1, 1, 1, 1, 1, 1, 2, 1, 2, 3, 1, 1, 1, 1, 1, 5, 2, 1, 1, 1, 3, 2, 2, 2, 1, 1, 1, 1, 2, 1, 5, 1, 2, 1, 2, 1, 5, 1, 3, 4, 1, 1, 2, 2, 1, 1, 1, 1, 1, 1, 3, 2, 3, 1, 1, 2, 1, 1, 1, 1, 1, 1, 1, 1, 2, 1, 1, 1, 2, 6, 5, 1, 1, 1, 2, 1, 1, 3, 1, 1, 1, 1, 1, 1, 1, 4, 4, 1, 1, 1, 2, 2, 3, 1, 3, 2, 2, 1, 2, 2, 1, 2, 1, 2, 2, 1, 1, 1, 1, 5, 7, 1, 1, 3, 1, 1, 1, 3, 1, 1, 1, 1, 2, 2, 2, 1, 1, 1, 1, 1, 1, 1, 1, 1, 4, 2, 1, 1, 1, 1, 1, 2, 1, 1, 1, 1, 1, 1, 3, 1, 1, 2, 7, 1, 3, 1, 2, 8, 9, 2, 6, 3, 5, 1, 1, 1, 2, 3, 1, 2, 2, 1, 3, 1, 2, 1, 3, 2, 1, 1, 1, 2, 1, 1, 1, 2, 1, 3, 5, 1, 2, 1, 13, 3, 2, 1, 2, 2, 2, 7, 1, 3, 1, 1, 1, 1, 1, 1, 1, 1, 7, 1, 2, 2, 1, 1, 2, 1, 1, 1, 1, 2, 1, 1, 1, 2, 1, 1, 1, 1, 1, 1, 2, 2, 1, 1, 1, 1, 1, 1, 1, 1, 1, 1, 3, 2, 2, 1, 3, 1, 1, 1, 1, 1, 1, 1, 1, 1, 1, 3, 1, 2, 1, 1, 1, 5, 3, 1, 1, 1, 2, 2, 1, 3, 9, 2, 1, 1, 2, 2, 13, 1, 2, 1, 1, 1, 2, 1, 1, 1, 1, 2, 1, 1, 4, 73, 2, 2, 2, 1, 2, 1, 2, 1, 22, 2, 6, 1, 1, 14, 3, 9, 4, 1, 1, 1, 1, 1, 1, 1, 1, 33, 1, 1, 2, 3, 1, 2, 1, 1, 1, 1, 1, 1, 1, 1, 1, 1, 1, 3, 1, 1, 1, 1, 1, 3, 1, 1, 1, 2, 2, 1, 1, 1, 1, 1, 1, 2, 36, 3, 1, 2, 1, 10, 1, 2, 1, 1, 1, 1, 1, 1, 1, 1, 1, 1, 3, 5, 1, 3, 3, 2, 5, 2, 5, 2, 10, 2, 12, 2, 1, 2, 3, 1, 1, 2, 2, 1, 1, 2, 6, 1, 1, 2, 1, 1, 1, 3, 1, 1, 1, 1, 1, 1, 1, 1, 2, 1, 1, 3, 2, 2, 3, 3, 3, 1, 1, 1, 3, 1, 2, 1, 1, 2, 1, 3, 2, 1, 1, 1, 1, 2, 1, 1, 1, 2, 1, 2, 1, 3, 1, 1, 1, 4, 2, 2, 1, 1, 49, 2, 1, 3, 3, 1, 1, 1, 5, 4, 1, 1, 4, 1, 1, 2, 1, 11, 1, 1, 1, 1, 2, 1, 1, 2, 2, 2, 1, 2, 1, 1, 1, 1, 1, 1, 1, 1, 1, 1, 6, 1, 12, 1, 1, 1, 1, 1, 2, 1, 1, 1, 1, 1, 1, 2, 1, 1, 2, 1, 1, 1, 1, 1, 1, 1, 1, 1, 1, 1, 1, 1, 1, 2, 4, 3, 1, 2, 1, 1, 1, 1, 1, 1, 1, 1, 1, 2, 1, 1, 2, 1, 2, 2, 1, 1, 1, 6, 6, 1, 5, 1, 1, 1, 1, 3, 2, 1, 1, 1, 1, 1, 1, 1, 1, 5, 1, 1, 1, 1, 1, 10, 1, 2, 1, 1, 1, 1, 1, 1, 1, 2, 1, 3, 1, 1, 1, 4, 1, 1, 1, 3, 1, 1, 1, 1, 2, 1, 1, 1, 1, 1, 1, 2, 1, 1, 1, 1, 1, 2, 3, 1, 2, 31, 1, 1, 1, 1, 1, 1, 1, 3, 44, 3, 3, 4, 2, 3, 1, 22, 8, 1, 1, 1, 1, 1, 1, 1, 1, 1, 1, 1, 1, 1, 2, 2, 1, 1, 1, 2, 2, 1, 1, 10, 1, 1, 1, 1, 1, 3, 1, 1, 1, 3, 1, 1, 1, 2, 2, 1, 1, 1, 2, 1, 1, 1, 2, 2, 1, 1, 1, 1, 3, 1, 1, 3, 1, 2, 1, 1, 1, 1, 1, 2, 2, 1, 1, 1, 11, 1, 1, 1, 1, 1, 1, 1, 1, 1, 1, 2, 1, 1, 3, 1, 1, 1, 2, 1, 1, 1, 1, 1, 1, 1, 1, 1, 2, 1, 1, 1, 1, 1, 1, 2, 1, 1, 1, 2, 2, 1, 1, 1, 4, 1, 4, 1, 2, 1, 1, 2, 2, 1, 1, 8, 1, 1, 1, 1, 2, 1, 1, 2, 2, 1, 1, 1, 1, 1, 1, 1, 1, 1, 1, 1, 1, 1, 1, 2, 1, 3, 1, 1, 1, 1, 1, 2, 2, 1, 2, 1, 1, 1, 1, 1, 1, 47, 1, 1, 1, 1, 1, 1, 1, 1, 1, 1, 1, 2, 1, 4, 2, 3, 1, 1, 1, 1, 1, 3, 2, 1, 1, 1, 1, 2, 1, 1, 1, 3, 2, 1, 1, 1, 1, 1, 3, 1, 1, 1, 2, 1, 2, 2, 2, 2, 2, 1, 1, 2, 1, 1, 1, 2, 1, 1, 1, 1, 1, 1, 1, 4, 2, 1, 3, 5, 1, 2, 6, 1, 2, 1, 1, 1, 1, 1, 3, 1, 2, 4, 5, 1, 1, 1, 2, 1, 1, 1, 1, 1, 1, 8, 1, 1, 2, 1, 1, 1, 2, 2, 1, 1, 1, 1, 1, 2, 2, 1, 6, 1, 2, 1, 1, 2, 1, 1, 1, 2, 1, 3, 2, 1, 2, 1, 2, 1, 1, 1, 1, 1, 1, 1, 8, 1, 2, 1, 2, 1, 1, 1, 1, 1, 1, 1, 1, 1, 1, 1, 1, 1, 6, 1, 1, 1, 5, 2, 7, 1, 1, 1, 1, 1, 1, 5, 2, 8, 2, 1, 1, 2, 1, 2, 1, 1, 2, 1, 1, 21, 2, 1, 1, 1, 6, 1, 1, 1, 1, 1, 1, 1, 1, 1, 1, 1, 1, 4, 1, 2, 1, 1, 1, 2, 1, 1, 2, 1, 1, 1, 6, 1, 1, 1, 1, 1, 1, 1, 1, 1, 1, 1, 2, 1, 1, 1, 1, 1, 2, 2, 1, 1, 1, 1, 3, 3, 1, 1, 1, 4, 1, 1, 2, 1, 1, 2, 1, 3, 3, 1, 1, 2, 2, 1, 1, 1, 1, 2, 1, 1, 1, 1, 2, 1, 1, 1, 1, 1, 3, 3, 1, 1, 2, 1, 1, 1, 1, 1, 1, 1, 1, 1, 1, 1, 2, 1, 2, 1, 1, 2, 1, 2, 1, 1, 1, 1, 1, 1, 1, 1, 1, 1, 1, 1, 1, 1, 1, 1, 1, 2, 2, 3, 1, 2, 2, 3, 1, 1, 1, 1, 1, 1, 1, 8, 1, 1, 1, 37, 1, 1, 5, 1, 1, 1, 68, 1, 1, 2, 1, 1, 1, 1, 1, 1, 1, 1, 1, 1, 1, 3, 1, 1, 3, 2, 1, 1, 1, 1, 1, 2, 1, 8, 5, 1, 2, 2, 2, 1, 2, 3, 1, 1, 1, 3, 1, 1, 1, 1, 1, 1, 1, 2, 1, 3, 1, 2, 1, 1, 2, 1, 1, 1, 4, 1, 2, 1, 1, 1, 1, 1, 1, 1, 1, 2, 1, 1, 1, 1, 4, 1, 1, 1, 1, 1, 1, 16, 2, 3, 5, 4, 1, 2, 4, 1, 1, 2, 2, 1, 2, 1, 3, 1, 1, 1, 1, 1, 3, 1, 1, 1, 1, 1, 1, 1, 1, 1, 1, 1, 1, 1, 1, 1, 2, 1, 3, 1, 1, 1, 1, 1, 1, 1, 1, 1, 1, 1, 2, 2, 1, 1, 1, 3, 1, 1, 1, 1, 1, 3, 1, 1, 5, 2, 1, 1, 1, 1, 2, 1, 3, 1, 1, 1, 1, 1, 4, 1, 1, 4, 1, 1, 1, 1, 1, 7, 2, 1, 1, 3, 1, 1, 3, 1, 3, 2, 1, 2, 1, 2, 1, 1, 1, 1, 2, 1, 1, 1, 1, 1, 2, 1, 1, 2, 2, 1, 1, 1, 1, 1, 1, 1, 1, 1, 1, 1, 1, 1, 1, 1, 3, 1, 2, 1, 1, 1, 1, 2, 3, 1, 1, 1, 1, 9, 6, 1, 2, 7, 8, 1, 5, 2, 11, 2, 1, 3, 1, 3, 1, 5, 8, 3, 2, 12, 7, 3, 1, 2, 1, 2, 1, 1, 4, 1, 3, 1, 1, 1, 1, 1, 2, 1, 1, 2, 1, 1, 1, 1, 1, 1, 1, 1, 1, 1, 1, 1, 1, 2, 1, 1, 1, 1, 1, 2, 1, 3, 7, 1, 1, 3, 2, 1, 4, 1, 1, 1, 1, 1, 1, 2, 1, 4, 1, 8, 1, 1, 1, 1, 1, 1, 1, 1, 1, 1, 2, 1, 3, 1, 16, 1, 6, 1, 1, 2, 1, 1, 1, 2, 2, 1, 1, 1, 1, 1, 1, 21, 1, 1, 1, 1, 1, 1, 1, 10, 3, 2, 30, 2, 3, 1, 1, 2, 3, 1, 2, 1, 4, 1, 1, 1, 2, 28, 4, 1, 4, 11, 2, 2, 1, 1, 1, 5, 2, 1, 1, 1, 2, 1, 9, 2, 1, 1, 2, 1, 1, 2, 11, 1, 1, 1, 1, 1, 2, 1, 1, 1, 1, 6, 1, 2, 1, 1, 1, 1, 1, 1, 1, 1, 1, 1, 1, 2, 1, 1, 1, 2, 3, 1, 2, 1, 2, 2, 1, 1, 1, 2, 2, 3, 1, 2, 2, 11, 1, 1, 1, 1, 1, 1, 1, 1, 2, 2, 1, 2, 4, 2, 2, 1, 2, 1, 1, 1, 19, 1, 3, 2, 2, 1, 2, 1, 2, 1, 3, 3, 2, 4, 2, 1, 14, 1, 1, 1, 1, 1, 1, 1, 1, 1, 1, 4, 1, 1, 2, 1, 1, 1, 1, 2, 1, 1, 1, 1, 1, 1, 1, 1, 2, 1, 3, 1, 6, 1, 4, 3, 2, 3, 1, 4, 1, 1, 1, 1, 1, 3, 1, 1, 1, 1, 2, 1, 1, 2, 1, 1, 1, 2, 1, 1, 1, 1, 1, 1, 1, 1, 1, 1, 1, 1, 1, 2, 3, 1, 2, 1, 1, 1, 1, 1, 1, 1, 2, 2, 2, 1, 1, 3, 1, 2, 1, 1, 1, 1, 1, 1, 1, 1, 1, 1, 1, 1, 2, 1, 1, 2, 4, 1, 1, 2, 2, 1, 1, 3, 1, 1, 1, 4, 1, 1, 1, 1, 1, 3, 1, 1, 2, 3, 2, 1, 1, 1, 5, 1, 2, 1, 1, 2, 2, 1, 1, 1, 2, 1, 1, 1, 8, 1, 1, 1, 1, 1, 4, 2, 3, 12, 2, 1, 1, 1, 1, 1, 26, 1, 1, 1, 1, 1, 1, 1, 1, 1, 1, 1, 1, 1, 1, 1, 1, 1, 1, 1, 1, 1, 1, 1, 1, 1, 1, 1, 1, 1, 1, 1, 1, 1, 1, 1, 1, 1, 1, 2, 1, 1, 1, 1, 2, 1, 1, 1, 1, 1, 1, 1, 1, 1, 1, 1, 1, 2, 1, 1, 1, 47, 1, 1, 1, 1, 1, 1, 1, 1, 1, 1, 1, 1, 1, 1, 1, 1, 1, 1, 1, 1, 1, 1, 1, 1, 1, 1, 1, 1, 1, 1, 1, 1, 1, 2, 1, 2, 1, 1, 1, 1, 2, 1, 2, 1, 6, 2, 1, 1, 2, 7, 3, 2, 1, 1, 1, 1, 1, 1, 1, 1, 1, 6, 1, 1, 2, 1, 1, 1, 1, 2, 1, 2, 1, 1, 2, 1, 3, 1, 3, 1, 3, 1, 2, 1, 1, 1, 1, 1, 1, 2, 6, 1, 3, 1, 1, 1, 1, 5, 4, 1, 3, 2, 3, 1, 2, 1, 1, 8, 2, 2, 2, 3, 1, 1, 2, 1, 1, 1, 2, 1, 1, 1, 2, 2, 2, 2, 6, 4, 3, 3, 6, 5, 2, 1, 2, 3, 2, 1, 1, 2, 1, 2, 2, 2, 1, 1, 8, 3, 9, 1, 1, 6, 3, 2, 6, 2, 3, 2, 1, 1, 1, 1, 1, 2, 1, 2, 2, 1, 1, 1, 1, 1, 1, 1, 1, 1, 1, 1, 1, 2, 1, 4, 1, 1, 1, 2, 1, 1, 1, 2, 1, 1, 1, 1, 1, 1, 1, 1, 1, 1, 3, 1, 2, 3, 1, 1, 1, 1, 1, 1, 6, 1, 1, 2, 1, 1, 1, 1, 3, 1, 2, 1, 3, 2, 1, 1, 8, 1, 3, 1, 1, 1, 2, 2, 1, 17, 3, 1, 14, 3, 1, 4, 1, 10, 1, 3, 3, 2, 2, 1, 1, 1, 1, 1, 1, 1, 2, 1, 1, 1, 4, 1, 1, 2, 2, 1, 3, 1, 1, 1, 1, 2, 1, 1, 3, 3, 1, 3, 51, 1, 1, 2, 2, 1, 1, 2, 1, 1, 1, 1, 1, 1, 1, 1, 1, 1, 1, 1, 1, 1, 1, 1, 1, 1, 3, 1, 22, 1, 3, 1, 2, 2, 2, 1, 1, 1, 1, 1, 4, 1, 2, 3, 1, 1, 1, 1, 2, 1, 2, 1, 1, 1, 8, 1, 5, 2, 1, 1, 1, 1, 1, 1, 2, 2, 1, 4, 4, 2, 2, 2, 2, 8, 2, 1, 1, 1, 1, 1, 1, 1, 2, 1, 2, 1, 4, 2, 4, 1, 1, 1, 7, 1, 1, 2, 1, 4, 1, 1, 2, 1, 1, 2, 2, 1, 1, 1, 2, 2, 1, 2, 1, 1, 2, 2, 1, 1, 1, 1, 1, 1, 1, 1, 1, 1, 1, 1, 3, 1, 1, 1, 2, 1, 3, 2, 1, 4, 2, 1, 1, 19, 1, 48, 1, 1, 1, 1, 2, 1, 2, 1, 2, 1, 2, 1, 1, 3, 6, 1, 2, 1, 1, 1, 1, 4, 1, 4, 2, 1, 1, 1, 1, 1, 1, 1, 2, 1, 1, 1, 3, 1, 1, 1, 4, 1, 1, 1, 3, 2, 1, 1, 1, 1, 1, 1, 1, 1, 1, 1, 2, 3, 2, 3, 1, 1, 1, 2, 1, 1, 2, 3, 1, 2, 5, 1, 5, 2, 1, 1, 1, 2, 1, 1, 1, 1, 2, 1, 15, 1, 2, 3, 23, 1, 1, 5, 1, 10, 1, 1, 1, 1, 1, 1, 2, 1, 2, 2, 1, 1, 2, 2, 1, 1, 1, 1, 1, 20, 1, 1, 1, 4, 1, 1, 1, 1, 1, 1, 1, 1, 1, 1, 3, 2, 1, 7, 3, 1, 2, 2, 2, 1, 1, 3, 2, 1, 3, 2, 1, 2, 1, 1, 2, 1, 1, 1, 2, 1, 1, 1, 2, 3, 2, 3, 1, 2, 1, 3, 2, 2, 2, 3, 1, 1, 1, 1, 2, 1, 7, 1, 2, 1, 1, 2, 3, 2, 2, 1, 1, 2, 2, 1, 1, 1, 1, 1, 2, 1, 1, 1, 1, 1, 3, 1, 1, 2, 1, 1, 1, 1, 1, 1, 9, 1, 1, 2, 1, 1, 3, 1, 1, 1, 1, 1, 1, 1, 1, 1, 1, 2, 1, 1, 1, 1, 1, 2, 1, 1, 1, 1, 3, 1, 1, 1, 2, 1, 1, 1, 3, 1, 1, 1, 1, 4, 1, 2, 2, 1, 2, 1, 1, 1, 1, 2, 1, 1, 2, 2, 2, 1, 3, 1, 1, 21, 4, 2, 1, 4, 1, 1, 1, 4, 2, 1, 1, 2, 1, 1, 1, 1, 1, 1, 2, 1, 1, 1, 1, 1, 1, 1, 1, 1, 1, 1, 1, 1, 1, 1, 1, 1, 1, 1, 1, 1, 1, 1, 1, 1, 1, 1, 1, 1, 1, 1, 2, 1, 1, 1, 1, 1, 2, 1, 1, 1, 1, 2, 1, 1, 1, 1, 1, 1, 1, 2, 1, 3, 1, 2, 4, 37, 1, 2, 2, 1, 1, 2, 3, 2, 1, 1, 1, 3, 1, 5, 1, 2, 1, 1, 2, 1, 5, 1, 1, 1, 1, 1, 1, 1, 15, 1, 1, 2, 1, 1, 1, 2, 2, 1, 1, 2, 2, 1, 2, 7, 5, 5, 1, 1, 1, 6, 10, 6, 1, 10, 1, 1, 1, 1, 1, 1, 1, 1, 1, 1, 1, 1, 2, 1, 1, 2, 1, 2, 3, 1, 1, 2, 1, 10, 1, 1, 1, 3, 1, 1, 1, 3, 2, 2, 1, 2, 1, 1, 1, 1, 1, 1, 3, 1, 1, 3, 4, 4, 4, 1, 4, 1, 1, 1, 1, 2, 1, 1, 1, 1, 1, 1, 1, 1, 2, 1, 1, 2, 5, 1, 1, 1, 1, 2, 2, 1, 1, 1, 1, 1, 1, 1, 1, 1, 2, 1, 1, 1, 4, 1, 1, 2, 1, 2, 1, 1, 1, 1, 1, 1, 2, 1, 1, 2, 3, 1, 1, 2, 2, 1, 1, 4, 2, 1, 1, 1, 1, 4, 2, 1, 2, 1, 2, 2, 1, 3, 1, 2, 7, 1, 1, 2, 1, 1, 1, 1, 1, 1, 1, 1, 2, 1, 1, 1, 1, 1, 1, 1, 1, 1, 1, 1, 1, 1, 1, 2, 1, 2, 1, 1, 1, 2, 4, 1, 1, 1, 1, 1, 1, 1, 1, 1, 1, 1, 1, 2, 1, 1, 1, 1, 1, 1, 1, 1, 1, 2, 1, 1, 1, 1, 1, 4, 1, 1, 4, 2, 3, 1, 1, 5, 3, 1, 2, 1, 3, 1, 1, 1, 1, 1, 1, 1, 1, 1, 5, 4, 1, 1, 3, 1, 1, 2, 1, 1, 70, 1, 2, 1, 2, 1, 1, 1, 1, 5, 1, 4, 1, 1, 1, 1, 1, 1, 1, 1, 2, 2, 1, 1, 11, 3, 3, 1, 1, 2, 2, 1, 3, 1, 1, 1, 1, 1, 1, 2, 1, 1, 1, 1, 1, 1, 1, 7, 1, 1, 1, 2, 1, 1, 1, 1, 4, 2, 1, 1, 1, 3, 2, 31, 1, 1, 8, 3, 1, 2, 4, 1, 2, 1, 2, 1, 3, 1, 2, 13, 2, 5, 1, 3, 3, 3, 1, 1, 1, 1, 1, 4, 2, 1, 2, 1, 1, 1, 2, 1, 1, 1, 1, 1, 1, 3, 1, 1, 2, 2, 2, 1, 2, 2, 1, 1, 1, 1, 3, 1, 1, 1, 2, 1, 1, 1, 1, 3, 3, 3, 2, 1, 3, 1, 1, 1, 1, 1, 4, 1, 1, 1, 1, 1, 2, 1, 2, 1, 1, 1, 2, 2, 1, 1, 1, 1, 1, 1, 1, 1, 1, 1, 1, 1, 1, 1, 1, 1, 1, 1, 1, 1, 1, 1, 1, 1, 1, 1, 1, 1, 1, 1, 1, 1, 1, 1, 1, 1, 1, 1, 1, 1, 3, 2, 1, 1, 1, 2, 25, 2, 3, 4, 1, 1, 1, 2, 1, 1, 1, 1, 2, 2, 2, 1, 1, 2, 1, 1, 1, 1, 1, 1, 2, 1, 1, 1, 1, 1, 1, 1, 1, 2, 2, 1, 2, 2, 1, 1, 1, 11, 1, 1, 4, 1, 4, 2, 1, 4, 1, 1, 1, 2, 1, 2, 4, 1, 1, 1, 3, 1, 3, 1, 1, 2, 1, 4, 1, 1, 1, 1, 2, 1, 1, 1, 1, 1, 2, 1, 1, 1, 1, 12, 1, 1, 2, 6, 2, 1, 1, 1, 1, 1, 1, 1, 2, 1, 1, 2, 1, 1, 1, 1, 1, 5, 2, 1, 1, 1, 1, 1, 1, 2, 3, 2, 1, 1, 1, 1, 2, 1, 3, 1, 2, 1, 1, 1, 1, 1, 1, 1, 2, 1, 1, 2, 1, 1, 1, 1, 2, 2, 1, 1, 3, 1, 1, 1, 1, 1, 1, 1, 1, 1, 1, 1, 2, 2, 2, 1, 1, 1, 1, 2, 2, 2, 1, 1, 1, 2, 2, 1, 1, 1, 1, 1, 1, 1, 1, 1, 1, 1, 1, 1, 1, 2, 1, 1, 1, 4, 1, 1, 1, 2, 1, 2, 1, 2, 1, 1, 4, 1, 2, 1, 1, 1, 1, 1, 2, 1, 1, 2, 1, 1, 1, 1, 1, 1, 1, 1, 2, 1, 1, 1, 1, 1, 1, 1, 1, 1, 1, 1, 1, 1, 1, 2, 1, 1, 1, 1, 1, 1, 23, 2, 1, 1, 1, 1, 1, 1, 1, 1, 1, 1, 1, 1, 1, 1, 1, 3, 1, 4, 3, 19, 4, 1, 4, 2, 5, 1, 1, 1, 4, 1, 1, 7, 2, 1, 4, 5, 1, 1, 3, 26, 1, 1, 2, 1, 2, 1, 2, 4, 1, 12, 1, 1, 1, 2, 2, 1, 7, 1, 1, 1, 1, 2, 1, 1, 1, 1, 1, 2, 2, 1, 1, 1, 1, 1, 1, 1, 2, 1, 1, 1, 1, 1, 1, 1, 1, 1, 1, 1, 1, 1, 1, 1, 1, 1, 1, 1, 1, 1, 1, 1, 1, 1, 1, 1, 1, 1, 3, 1, 1, 1, 1, 1, 1, 1, 4, 1, 2, 2, 1, 2, 1, 1, 1, 1, 1, 1, 1, 1, 2, 1, 1, 2, 2, 1, 1, 1, 1, 1, 1, 1, 1, 2, 1, 1, 2, 1, 1, 3, 1, 2, 6, 1, 1, 1, 1, 1, 1, 1, 1, 2, 1, 1, 4, 2, 1, 1, 1, 1, 1, 1, 2, 21, 1, 1, 4, 2, 1, 3, 7, 2, 1, 49, 1, 1, 1, 1, 8, 1, 1, 1, 1, 1, 1, 1, 1, 1, 1, 2, 1, 1, 1, 1, 8, 1, 1, 1, 1, 1, 1, 1, 1, 1, 1, 2, 1, 2, 1, 1, 1, 1, 1, 1, 1, 2, 1, 3, 4, 1, 1, 1, 3, 1, 2, 2, 1, 3, 14, 1, 1, 1, 2, 1, 1, 2, 1, 1, 3, 1, 1, 1, 1, 1, 1, 1, 3, 14, 1, 2, 2, 1, 1, 1, 1, 1, 1, 1, 2, 1, 1, 1, 1, 2, 3, 2, 1, 1, 2, 1, 1, 7, 1, 1, 1, 1, 2, 1, 1, 1, 1, 2, 1, 1, 1, 1, 2, 1, 2, 1, 1, 1, 1, 1, 1, 1, 1, 1, 1, 1, 1, 1, 1, 1, 1, 1, 1, 1, 2, 1, 1, 6, 1, 1, 1, 2, 1, 1, 1, 1, 1, 1, 1, 1, 1, 1, 1, 3, 3, 5, 1, 1, 1, 1, 1, 1, 1, 1, 1, 1, 1, 1, 1, 1, 1, 2, 1, 1, 1, 1, 1, 1, 19, 1, 1, 1, 1, 2, 1, 3, 1, 1, 1, 3, 1, 1, 1, 1, 1, 4, 1, 1, 1, 1, 1, 1, 1, 2, 5, 1, 1, 1, 3, 1, 1, 1, 1, 1, 1, 1, 1, 1, 1, 1, 1, 2, 3, 1, 7, 1, 1, 6, 1, 1, 1, 1, 1, 2, 1, 1, 1, 1, 3, 1, 1, 1, 3, 1, 1, 4, 1, 2, 1, 5, 4, 1, 1, 1, 3, 1, 2, 5, 2, 1, 1, 1, 1, 1, 1, 9, 3, 3, 1, 4, 1, 1, 1, 1, 1, 1, 2, 1, 1, 1, 6, 1, 1, 1, 1, 2, 2, 4, 2, 1, 1, 2, 2, 1, 1, 1, 1, 1, 1, 1, 1, 1, 1, 1, 1, 1, 1, 1, 1, 1, 7, 1, 1, 1, 1, 1, 1, 1, 1, 1, 1, 1, 1, 1, 1, 1, 1, 1, 2, 1, 1, 1, 9, 1, 2, 1, 1, 2, 1, 3, 1, 2, 6, 4, 3, 8, 3, 1, 2, 2, 2, 1, 1, 1, 1, 1, 2, 1, 3, 1, 1, 1, 2, 1, 1, 1, 1, 1, 4, 1, 2, 1, 1, 2, 1, 1, 1, 1, 1, 1, 1, 1, 1, 1, 1, 2, 1, 1, 1, 1, 1, 3, 1, 2, 2, 2, 1, 1, 1, 13, 1, 3, 1, 1, 3, 1, 1, 1, 2, 3, 2, 3, 1, 2, 1, 2, 1, 1, 1, 2, 1, 2, 1, 2, 1, 9, 2, 1, 1, 1, 2, 7, 3, 1, 1, 2, 1, 1, 1, 2, 5, 1, 1, 1, 1, 4, 1, 1, 1, 1, 2, 3, 2, 2, 1, 1, 11, 1, 1, 1, 2, 8, 3, 1, 3, 1, 3, 4, 1, 1, 1, 1, 2, 5, 1, 1, 1, 2, 1, 2, 1, 4, 1, 1, 1, 1, 1, 1, 1, 1, 1, 1, 1, 2, 2, 1, 1, 1, 1, 1, 1, 1, 2, 1, 1, 2, 1, 1, 26, 2, 1, 2, 1, 1, 1, 1, 5, 2, 6, 2, 1, 1, 1, 1, 1, 6, 1, 1, 1, 1, 1, 1, 2, 1, 1, 1, 2, 1, 2, 1, 3, 1, 3, 1, 1, 1, 1, 1, 1, 1, 1, 1, 1, 1, 1, 1, 1, 2, 1, 1, 1, 1, 1, 1, 1, 1, 1, 1, 1, 1, 1, 1, 1, 1, 1, 1, 1, 1, 1, 1, 1, 2, 1, 1, 5, 2, 1, 1, 2, 2, 3, 1, 1, 3, 1, 1, 1, 3, 1, 46, 1, 2, 1, 1, 1, 1, 1, 1, 1, 1, 3, 1, 1, 1, 1, 1, 2, 4, 1, 2, 2, 3, 2, 1, 2, 1, 3, 1, 1, 5, 3, 1, 1, 1, 5, 3, 1, 3, 3, 2, 1, 1, 1, 1, 1, 3, 1, 1, 1, 6, 1, 1, 1, 3, 1, 1, 2, 1, 1, 1, 1, 1, 1, 1, 1, 1, 1, 1, 2, 1, 1, 4, 1, 1, 9, 1, 4, 1, 1, 1, 1, 3, 4, 1, 1, 2, 1, 1, 1, 2, 1, 1, 1, 1, 1, 1, 1, 1, 1, 1, 2, 1, 2, 1, 1, 2, 1, 1, 1, 1, 1, 1, 1, 1, 1, 1, 1, 1, 1, 1, 1, 1, 2, 1, 1, 1, 1, 1, 1, 2, 1, 1, 1, 1, 1, 1, 1, 2, 1, 1, 1, 1, 2, 1, 1, 1, 1, 1, 1, 1, 1, 1, 1, 1, 1, 1, 1, 1, 1, 1, 1, 1, 1, 2, 1, 1, 1, 1, 1, 1, 1, 1, 1, 2, 1, 1, 1, 2, 1, 1, 1, 2, 1, 1, 1, 1, 1, 1, 1, 1, 1, 1, 3, 3, 1, 1, 1, 1, 2, 1, 3, 1, 1, 1, 1, 1, 1, 1, 1, 1, 1, 1, 1, 1, 1, 1, 1, 1, 1, 3, 1, 10, 1, 1, 1, 1, 1, 1, 2, 1, 2, 1, 2, 3, 2, 1, 1, 1, 1, 1, 1, 1, 1, 1, 1, 1, 1, 1, 1, 2, 1, 1, 3, 1, 2, 2, 3, 1, 2, 1, 1, 1, 4, 1, 2, 1, 2, 2, 2, 2, 1, 1, 1, 1, 1, 1, 1, 1, 1, 1, 1, 2, 1, 1, 2, 1, 1, 1, 1, 1, 1, 1, 1, 1, 2, 1, 1, 1, 1, 1, 1, 1, 1, 1, 1, 1, 1, 1, 9, 2, 1, 1, 1, 1, 1, 2, 1, 2, 2, 1, 1, 1, 1, 1, 1, 1, 1, 1, 1, 1, 1, 1, 1, 1, 1, 1, 1, 1, 1, 1, 1, 5, 2, 1, 1, 1, 1, 3, 4, 1, 2, 1, 1, 2, 2, 1, 1, 1, 1, 1, 1, 1, 1, 2, 1, 1, 1, 1, 1, 1, 1, 1, 1, 1, 1, 1, 2, 3, 1, 1, 1, 2, 1, 1, 1, 1, 1, 1, 1, 1, 1, 1, 1, 1, 1, 5, 1, 1, 1, 2, 2, 2, 1, 4, 5, 1, 1, 1, 4, 1, 1, 2, 1, 1, 1, 1, 1, 2, 1, 2, 1, 11, 1, 2, 2, 4, 1, 1, 2, 8, 1, 7, 2, 5, 1, 2, 3, 7, 2, 2, 3, 2, 7, 1, 10, 2, 1, 3, 1, 6, 2, 1, 1, 2, 8, 2, 2, 1, 2, 6, 1, 5, 5, 2, 6, 1, 2, 1, 4, 2, 1, 1, 1, 1, 2, 2, 1, 1, 1, 1, 4, 3, 4, 1, 3, 1, 1, 1, 1, 4, 2, 1, 1, 1, 1, 1, 1, 1, 1, 2, 2, 2, 2, 1, 1, 1, 4, 3, 1, 1, 2, 1, 1, 6, 1, 1, 1, 3, 1, 1, 1, 1, 1, 1, 1, 1, 1, 2, 1, 1, 1, 2, 1, 1, 1, 5, 1, 1, 1, 1, 1, 4, 2, 3, 1, 1, 1, 1, 1, 1, 1, 2, 1, 1, 8, 1, 1, 1, 1, 1, 1, 3, 1, 1, 1, 1, 2, 1, 1, 1, 4, 1, 2, 1, 1, 2, 2, 1, 2, 1, 2, 1, 1, 9, 16, 1, 1, 1, 2, 1, 2, 2, 1, 2, 1, 1, 4, 1, 2, 2, 4, 1, 1, 1, 1, 1, 2, 1, 1, 1, 2, 1, 1, 1, 3, 1, 1, 1, 2, 1, 1, 1, 1, 1, 1, 1, 1, 1, 1, 50, 1, 1, 1, 2, 1, 2, 1, 2, 2, 1, 1, 1, 1, 1, 1, 2, 1, 1, 1, 1, 1, 1, 1, 1, 1, 1, 1, 4, 2, 1, 1, 1, 6, 2, 19, 1, 1, 1, 1, 1, 1, 1, 1, 1, 5, 1, 1, 1, 1, 1, 1, 2, 4, 2, 5, 1, 1, 1, 1, 1, 1, 2, 1, 1, 1, 1, 1, 1, 1, 1, 9, 3, 1, 1, 4, 1, 2, 1, 1, 2, 1, 2, 1, 1, 1, 1, 2, 1, 1, 2, 1, 1, 1, 4, 1, 2, 1, 1, 1, 1, 1, 1, 2, 1, 3, 1, 1, 2, 2, 1, 1, 1, 1, 1, 1, 1, 3, 3, 3, 1, 1, 1, 2, 3, 1, 1, 1, 1, 1, 2, 4, 1, 1, 1, 2, 1, 1, 3, 1, 1, 1, 2, 1, 1, 1, 2, 1, 1, 1, 1, 1, 3, 2, 1, 1, 1, 2, 1, 1, 1, 1, 3, 1, 2, 1, 1, 1, 1, 1, 2, 1, 1, 2, 1, 2, 1, 1, 1, 1, 1, 1, 1, 1, 1, 1, 1, 1, 1, 1, 1, 1, 2, 1, 1, 1, 1, 1, 1, 1, 1, 1, 1, 1, 1, 2, 1, 1, 1, 2, 1, 2, 2, 1, 1, 1, 1, 1, 1, 1, 1, 1, 1, 1, 1, 1, 1, 1, 1, 1, 2, 1, 1, 1, 2, 1, 1, 1, 1, 1, 1, 1, 2, 1, 1, 1, 1, 1, 1, 1, 1, 1, 1, 1, 1, 1, 2, 1, 3, 1, 1, 1, 2, 1, 1, 1, 2, 1, 1, 2, 1, 1, 1, 1, 1, 1, 1, 1, 1, 1, 1, 1, 1, 1, 1, 1, 2, 1, 1, 1, 1, 1, 1, 1, 1, 1, 1, 1, 1, 1, 1, 1, 1, 1, 1, 1, 2, 1, 2, 1, 1, 2, 1, 2, 2, 2, 1, 1, 1, 1, 1, 1, 1, 1, 1, 1, 1, 1, 1, 1, 1, 1, 1, 1, 1, 1, 1, 3, 1, 1, 1, 1, 1, 1, 1, 1, 1, 1, 1, 110, 1, 1, 1, 1, 2, 2, 1, 1, 1, 1, 1, 1, 3, 1, 1, 1, 1, 1, 1, 1, 2, 1, 1, 2, 2, 1, 1, 1, 6, 2, 2, 1, 2, 3, 1, 1, 1, 1, 1, 1, 2, 3, 1, 2, 1, 1, 1, 6, 1, 1, 2, 1, 1, 2, 1, 1, 1, 1, 1, 1, 1, 1, 2, 1, 2, 1, 1, 1, 1, 3, 1, 2, 2, 1, 25, 1, 3, 1, 10, 1, 5, 1, 3, 1, 3, 1, 2, 1, 1, 1, 1, 1, 4, 3, 1, 1, 6, 3, 9, 6, 1, 1, 1, 1, 1, 2, 1, 1, 1, 1, 1, 1, 4, 2, 6, 1, 10, 5, 3, 1, 1, 2, 1, 1, 1, 9, 1, 1, 2, 2, 5, 12, 2, 26, 1, 1, 2, 1, 3, 1, 1, 1, 1, 1, 1, 1, 1, 2, 1, 3, 1, 2, 2, 1, 2, 2, 1, 1, 1, 20, 1, 1, 1, 1, 1, 1, 1, 1, 1, 2, 2, 6, 1, 3, 1, 1, 2, 1, 1, 1, 1, 1, 1, 2, 1, 1, 1, 1, 2, 3, 2, 1, 1, 1, 1, 1, 1, 1, 1, 2, 1, 1, 1, 1, 1, 1, 2, 1, 1, 1, 1, 1, 1, 1, 2, 1, 2, 2, 1, 1, 3, 1, 2, 1, 1, 1, 1, 1, 1, 1, 1, 1, 1, 2, 2, 1, 1, 42, 1, 1, 1, 1, 1, 1, 1, 1, 1, 1, 1, 1, 1, 1, 1, 1, 1, 1, 1, 1, 1, 1, 1, 1, 1, 3, 1, 1, 1, 1, 1, 1, 1, 2, 2, 1, 1, 1, 1, 1, 3, 2, 1, 1, 1, 1, 1, 1, 1, 1, 1, 1, 2, 2, 1, 1, 1, 1, 1, 2, 1, 1, 1, 1, 1, 2, 1, 1, 1, 1, 1, 1, 1, 1, 1, 1, 1, 1, 1, 1, 1, 1, 1, 1, 1, 1, 16, 2, 2, 1, 1, 2, 1, 2, 25, 2, 5, 3, 11, 2, 1, 1, 1, 1, 1, 11, 1, 1, 1, 1, 4, 1, 1, 2, 2, 7, 1, 8, 1, 2, 1, 2, 1, 1, 1, 1, 1, 2, 3, 1, 1, 1, 1, 1, 1, 1, 1, 1, 2, 1, 2, 1, 2, 1, 1, 1, 2, 1, 1, 1, 3, 1, 1, 1, 1, 3, 1, 2, 3, 1, 3, 1, 2, 1, 1, 2, 1, 1, 1, 1, 1, 1, 1, 1, 1, 1, 1, 1, 1, 1, 1, 1, 1, 2, 1, 111, 1, 1, 1, 1, 1, 1, 1, 1, 1, 1, 1, 1, 1, 1, 1, 2, 1, 2, 1, 1, 1, 1, 1, 1, 1, 1, 1, 1, 2, 2, 1, 1, 1, 1, 1, 1, 1, 1, 1, 1, 1, 1, 1, 1, 1, 7, 1, 1, 1, 1, 4, 1, 2, 1, 7, 1, 1, 1, 1, 1, 1, 1, 1, 1, 2, 11, 3, 1, 1, 4, 2, 1, 1, 1, 1, 1, 1, 1, 1, 6, 1, 1, 1, 1, 1, 2, 5, 2, 1, 3, 1, 1, 1, 1, 1, 2, 38, 1, 1, 1, 3, 1, 2, 2, 1, 1, 1, 1, 1, 1, 1, 2, 1, 1, 1, 1, 1, 3, 3, 2, 1, 1, 3, 1, 4, 1, 1, 1, 1, 1, 1, 1, 1, 19, 1, 1, 1, 1, 1, 1, 1, 1, 1, 1, 1, 1, 1, 2, 1, 1, 1, 1, 1, 1, 1, 1, 2, 1, 1, 1, 2, 1, 1, 9, 1, 1, 1, 1, 1, 1, 1, 3, 1, 1, 1, 1, 1, 1, 1, 5, 1, 1, 2, 1, 9, 3, 1, 1, 1, 1, 1, 1, 1, 1, 2, 1, 1, 1, 1, 1, 1, 1, 1, 1, 2, 1, 1, 1, 2, 1, 1, 1, 1, 1, 1, 1, 1, 1, 1, 1, 1, 1, 1, 1, 1, 1, 1, 1, 1, 1, 1, 1, 1, 1, 1, 1, 1, 1, 1, 1, 1, 1, 1, 1, 2, 4, 7, 2, 1, 1, 1, 1, 1, 1, 1, 1, 1, 1, 1, 1, 2, 2, 1, 1, 1, 1, 1, 1, 5, 1, 1, 2, 1, 1, 1, 2, 1, 1, 2, 2, 1, 2, 5, 1, 1, 2, 5, 3, 2, 1, 1, 2, 1, 1, 1, 1, 1, 1, 1, 1, 1, 1, 1, 1, 1, 2, 1, 1, 1, 1, 1, 2, 1, 2, 1, 1, 2, 1, 1, 1, 1, 2, 2, 1, 1, 1, 4, 2, 1, 1, 1, 1, 2, 1, 4, 2, 1, 1, 1, 2, 1, 1, 1, 1, 2, 1, 1, 1, 1, 2, 1, 1, 23, 1, 1, 5, 1, 1, 2, 1, 1, 1, 1, 2, 1, 1, 15, 1, 1, 1, 1, 1, 2, 1, 12, 2, 4, 2, 1, 1, 1, 1, 1, 1, 2, 1, 1, 1, 1, 4, 1, 1, 1, 1, 1, 1, 1, 1, 1, 1, 1, 1, 1, 1, 1, 1, 2, 1, 1, 2, 2, 5, 1, 1, 1, 2, 1, 1, 1, 1, 1, 1, 2, 1, 1, 3, 1, 2, 1, 1, 1, 1, 1, 1, 1, 1, 1, 1, 1, 1, 1, 1, 1, 1, 1, 1, 1, 1, 1, 2, 1, 1, 1, 1, 1, 1, 1, 3, 1, 1, 2, 1, 4, 3, 1, 1, 1, 1, 2, 1, 1, 1, 1, 1, 1, 3, 3, 2, 2, 1, 1, 1, 1, 1, 1, 1, 1, 1, 1, 1, 1, 1, 1, 1, 15, 1, 1, 4, 1, 1, 2, 1, 1, 1, 1, 1, 1, 1, 1, 1, 1, 1, 1, 1, 1, 1, 1, 1, 2, 1, 2, 1, 1, 1, 1, 1, 1, 1, 1, 1, 2, 1, 1, 1, 1, 1, 1, 2, 1, 1, 1, 1, 1, 1, 2, 2, 1, 2, 1, 1, 1, 1, 1, 17, 1, 1, 2, 1, 1, 1, 1, 1, 1, 2, 1, 2, 1, 2, 1, 1, 1, 1, 1, 1, 1, 1, 1, 1, 1, 1, 1, 1, 1, 1, 1, 1, 1, 1, 1, 1, 1, 1, 1, 1, 1, 1, 1, 1, 2, 1, 1, 1, 1, 1, 1, 1, 1, 1, 1, 1, 1, 1, 1, 1, 1, 2, 2, 1, 1, 1, 1, 1, 2, 1, 1, 1, 2, 1, 1, 1, 1, 1, 1, 1, 2, 1, 1, 1, 1, 1, 1, 3, 2, 1, 1, 2, 1, 1, 1, 1, 1, 1, 2, 1, 2, 1, 1, 1, 1, 1, 1, 1, 3, 1, 1, 1, 1, 1, 1, 1, 1, 1, 1, 1, 2, 1, 1, 1, 1, 1, 1, 1, 1, 1, 1, 1, 1, 1, 1, 1, 1, 1, 1, 1, 2, 1, 1, 1, 1, 1, 1, 1, 4, 1, 1, 1, 1, 2, 2, 1, 1, 1, 2, 1, 1, 1, 1, 1, 1, 2, 2, 1, 1, 1, 1, 1, 5, 1, 1, 1, 2, 1, 1, 1, 2, 1, 1, 1, 1, 2, 1, 1, 1, 1, 1, 1, 1, 1, 1, 1, 1, 1, 1, 1, 1, 1, 2, 1, 1, 1, 1, 1, 1, 1, 1, 1, 2, 3, 2, 5, 1, 3, 2, 1, 3, 4, 2, 1, 3, 1, 7, 1, 16, 1, 1, 1, 1, 1, 1, 1, 1, 2, 1, 1, 1, 1, 1, 1, 1, 1, 1, 1, 1, 1, 1, 1, 1, 1, 1, 1, 1, 1, 2, 6, 1, 1, 1, 1, 1, 1, 1, 1, 1, 1, 1, 1, 1, 1, 1, 2, 1, 1, 2, 7, 1, 1, 1, 1, 1, 1, 1, 1, 1, 1, 2, 1, 1, 1, 1, 3, 1, 1, 1, 1, 1, 3, 3, 1, 1, 1, 1, 2, 1, 1, 2, 2, 2, 1, 1, 1, 1, 1, 1, 2, 2, 1, 1, 1, 1, 1, 1, 1, 1, 1, 1, 1, 1, 1, 1, 2, 1, 1, 2, 1, 1, 2, 2, 1, 2, 3, 1, 1, 1, 1, 1, 1, 2, 1, 1, 1, 1, 1, 2, 1, 1, 1, 1, 1, 1, 1, 1, 1, 1, 1, 1, 1, 1, 1, 1, 1, 1, 3, 16, 3, 1, 1, 1, 1, 1, 2, 1, 1, 3, 2, 1, 1, 1, 1, 1, 2, 1, 2, 1, 1, 3, 1, 2, 2, 1, 1, 1, 1, 1, 1, 1, 13, 1, 3, 1, 2, 5, 4, 4, 5, 5, 1, 40, 2, 2, 1, 1, 1, 3, 7, 3, 1, 2, 1, 1, 2, 2, 1, 9, 2, 3, 2, 1, 1, 1, 1, 1, 1, 1, 3, 2, 1, 1, 1, 1, 1, 1, 1, 1, 1, 2, 2, 1, 1, 1, 1, 1, 1, 3, 1, 1, 1, 1, 3, 1, 1, 1, 1, 1, 1, 3, 2, 1, 2, 1, 1, 1, 1, 1, 1, 1, 2, 1, 3, 1, 2, 2, 1, 1, 1, 1, 1, 1, 1, 2, 1, 1, 1, 1, 1, 1, 1, 2, 1, 1, 1, 1, 1, 1, 1, 1, 1, 1, 1, 1, 1, 1, 1, 1, 1, 1, 1, 1, 1, 1, 1, 1, 1, 1, 1, 1, 1, 1, 1, 1, 1, 1, 1, 2, 2, 1, 3, 3, 1, 2, 1, 1, 1, 2, 1, 1, 1, 1, 2, 1, 2, 2, 1, 1, 1, 1, 1, 1, 4, 1, 1, 1, 1, 2, 1, 2, 1, 1, 1, 1, 1, 1, 1, 2, 1, 1, 5, 1, 1, 1, 1, 1, 1, 1, 2, 2, 1, 1, 1, 1, 1, 1, 1, 1, 1, 1, 1, 2, 2, 1, 1, 1, 1, 1, 1, 2, 2, 2, 1, 1, 1, 1, 1, 1, 2, 1, 1, 1, 2, 4, 1, 3, 1, 2, 1, 1, 1, 5, 3, 1, 1, 1, 3, 1, 1, 1, 1, 3, 1, 1, 2, 4, 1, 1, 1, 1, 1, 1, 1, 2, 1, 1, 1, 2, 1, 1, 1, 4, 5, 7, 1, 2, 2, 2, 1, 1, 9, 1, 1, 1, 2, 1, 1, 2, 1, 1, 2, 1, 1, 2, 4, 1, 1, 1, 2, 1, 4, 2, 3, 3, 1, 3, 1, 1, 1, 1, 1, 1, 1, 1, 2, 1, 1, 1, 3, 7, 2, 3, 2, 4, 2, 1, 1, 3, 2, 1, 3, 1, 4, 7, 2, 1, 1, 3, 2, 1, 42, 1, 1, 1, 1, 1, 2, 6, 1, 2, 2, 1, 1, 1, 4, 1, 2, 1, 12, 2, 2, 3, 5, 1, 3, 1, 1, 1, 1, 1, 1, 1, 31, 1, 2, 1, 1, 1, 1, 1, 1, 1, 3, 2, 1, 1, 1, 1, 1, 1, 1, 1, 2, 1, 1, 1, 1, 1, 1, 1, 1, 1, 2, 1, 1, 1, 2, 1, 1, 1, 1, 1, 1, 1, 1, 1, 1, 1, 4, 1, 1, 1, 1, 1, 1, 1, 1, 1, 1, 1, 2, 1, 1, 1, 2, 2, 1, 3, 1, 1, 1, 1, 2, 2, 1, 1, 2, 1, 2, 1, 1, 21, 3, 2, 1, 1, 1, 2, 2, 1, 1, 1, 1, 1, 17, 2, 1, 1, 2, 1, 1, 1, 1, 1, 2, 1, 1, 1, 1, 2, 1, 1, 1, 1, 2, 1, 1, 1, 1, 1, 1, 1, 1, 1, 1, 1, 1, 2, 1, 1, 1, 1, 1, 1, 3, 1, 1, 1, 1, 1, 1, 1, 1, 1, 2, 1, 1, 1, 3, 1, 1, 1, 1, 1, 1, 3, 2, 2, 1, 1, 1, 1, 1, 2, 15, 1, 2, 2, 1, 1, 2, 2, 1, 1, 1, 1, 1, 2, 2, 2, 1, 1, 1, 1, 1, 1, 1, 1, 1, 1, 1, 3, 1, 1, 83, 3, 1, 1, 1, 1, 1, 1, 1, 1, 1, 1, 1, 1, 1, 3, 1, 1, 1, 6, 1, 1, 1, 1, 1, 2, 1, 2, 1, 1, 1, 2, 1, 4, 5, 1, 1, 1, 1, 1, 2, 2, 1, 1, 1, 1, 6, 2, 1, 1, 1, 2, 46, 1, 2, 17, 1, 1, 1, 1, 1, 1, 1, 1, 1, 1, 2, 1, 1, 4, 1, 1, 1, 1, 1, 4, 1, 1, 1, 3, 5, 1, 1, 2, 2, 2, 1, 2, 3, 1, 1, 2, 1, 2, 1, 1, 1, 1, 2, 3, 3, 1, 1, 2, 2, 3, 1, 1, 1, 1, 1, 1, 2, 11, 1, 1, 1, 1, 1, 1, 1, 3, 2, 2, 1, 2, 1, 8, 2, 5, 1, 1, 3, 1, 1, 1, 2, 1, 1, 1, 5, 1, 2, 4, 4, 1, 2, 1, 1, 1, 1, 1, 1, 1, 3, 2, 1, 2, 1, 2, 1, 1, 1, 1, 1, 3, 2, 33, 3, 1, 1, 33, 5, 1, 1, 2, 4, 1, 3, 13, 3, 1, 6, 4, 1, 1, 1, 1, 1, 1, 1, 1, 1, 1, 1, 1, 10, 1, 1, 1, 4, 1, 1, 1, 1, 10, 1, 1, 2, 1, 1, 1, 1, 1, 1, 1, 2, 1, 1, 1, 1, 1, 1, 1, 1, 1, 1, 1, 1, 1, 2, 1, 1, 1, 1, 1, 1, 1, 1, 1, 1, 1, 2, 1, 1, 1, 1, 1, 1, 1, 4, 7, 1, 1, 1, 1, 4, 1, 1, 1, 1, 1, 1, 1, 1, 1, 1, 2, 1, 1, 1, 1, 1, 1, 1, 1, 1, 1, 1, 1, 1, 1, 3, 1, 1, 1, 1, 1, 1, 1, 2, 1, 1, 1, 1, 1, 1, 2, 2, 1, 1, 1, 8, 1, 1, 2, 1, 1, 1, 1, 41, 1, 1, 1, 1, 1, 1, 1, 1, 2, 1, 1, 1, 1, 1, 1, 1, 1, 1, 1, 1, 1, 1, 1, 2, 4, 3, 1, 1, 1, 1, 1, 2, 2, 1, 1, 1, 1, 1, 1, 1, 1, 1, 1, 1, 1, 1, 2, 1, 1, 1, 1, 1, 1, 1, 1, 1, 43, 1, 1, 1, 1, 1, 1, 1, 1, 1, 2, 1, 1, 1, 1, 1, 1, 1, 1, 1, 1, 1, 1, 1, 1, 1, 1, 1, 1, 2, 1, 1, 1, 1, 1, 2, 7, 1, 1, 14, 1, 1, 1, 1, 2, 1, 1, 1, 1, 1, 2, 1, 2, 1, 2, 2, 1, 1, 2, 2, 5, 1, 3, 1, 1, 1, 1, 1, 1, 1, 2, 1, 1, 1, 1, 2, 1, 1, 1, 1, 1, 1, 1, 1, 1, 1, 1, 1, 1, 1, 1, 1, 1, 1, 1, 1, 1, 1, 1, 1, 1, 1, 1, 2, 1, 1, 2, 6, 1, 6, 4, 10, 4, 1, 1, 1, 1, 1, 1, 1, 1, 1, 1, 1, 1, 2, 1, 1, 1, 1, 1, 1, 1, 7, 3, 1, 7, 2, 1, 1, 1, 1, 1, 3, 1, 1, 1, 2, 1, 9, 1, 2, 2, 1, 1, 1, 46, 1, 1, 1, 1, 1, 1, 2, 2, 1, 1, 1, 2, 1, 1, 1, 1, 1, 2, 1, 3, 1, 2, 1, 1, 1, 2, 2, 8, 1, 2, 4, 2, 1, 2, 1, 1, 5, 2, 1, 2, 1, 1, 1, 2, 9, 1, 1, 6, 1, 1, 1, 1, 3, 1, 1, 2, 1, 1, 1, 2, 1, 2, 1, 2, 2, 1, 1, 5, 1, 1, 2, 1, 1, 2, 1, 1, 1, 4, 1, 5, 1, 3, 3, 1, 1, 1, 1, 1, 1, 1, 1, 1, 1, 1, 1, 1, 1, 1, 3, 7, 2, 1, 1, 1, 1, 1, 1, 1, 1, 1, 1, 1, 1, 1, 1, 1, 1, 2, 2, 1, 1, 1, 1, 1, 1, 1, 1, 1, 1, 1, 2, 1, 1, 1, 1, 1, 1, 1, 1, 1, 1, 1, 1, 2, 1, 4, 1, 1, 2, 1, 1, 1, 2, 1, 1, 1, 1, 1, 1, 1, 1, 1, 1, 1, 1, 2, 37, 1, 1, 1, 1, 1, 1, 1, 1, 1, 1, 1, 1, 1, 1, 1, 1, 1, 1, 1, 1, 1, 1, 4, 2, 1, 1, 1, 1, 1, 3, 1, 1, 1, 1, 1, 1, 1, 2, 1, 1, 1, 1, 1, 2, 1, 1, 1, 1, 1, 1, 1, 3, 1, 1, 1, 1, 2, 1, 1, 1, 1, 1, 2, 1, 1, 1, 1, 1, 2, 1, 2, 1, 3, 1, 1, 1, 1, 1, 1, 1, 2, 2, 1, 3, 3, 1, 1, 1, 1, 3, 1, 1, 1, 1, 3, 1, 1, 4, 5, 9, 5, 8, 2, 3, 1, 1, 1, 2, 2, 1, 1, 1, 1, 1, 1, 1, 4, 1, 1, 8, 1, 1, 1, 1, 1, 1, 1, 1, 1, 1, 1, 1, 4, 1, 1, 2, 1, 3, 3, 2, 1, 1, 1, 1, 1, 2, 1, 2, 1, 1, 1, 1, 1, 3, 2, 1, 1, 1, 3, 1, 1, 1, 1, 1, 1, 1, 1, 1, 1, 2, 1, 1, 1, 1, 2, 1, 1, 1, 1, 1, 1, 1, 1, 1, 1, 1, 1, 1, 2, 1, 1, 1, 1, 1, 1, 1, 1, 1, 1, 1, 1, 1, 1, 1, 1, 1, 1, 1, 1, 1, 1, 1, 1, 1, 1, 1, 1, 2, 2, 1, 3, 2, 1, 2, 1, 1, 1, 1, 2, 1, 1, 1, 3, 3, 2, 2, 9, 1, 1, 1, 1, 2, 1, 1, 1, 1, 2, 2, 1, 1, 10, 2, 2, 1, 1, 1, 1, 1, 1, 1, 2, 2, 2, 1, 1, 1, 1, 1, 1, 1, 1, 1, 1, 1, 1, 1, 1, 2, 1, 1, 1, 1, 1, 1, 1, 1, 4, 3, 1, 1, 1, 1, 1, 1, 1, 1, 2, 2, 1, 1, 5, 1, 3, 1, 1, 1, 1, 1, 2, 2, 1, 1, 1, 1, 1, 1, 2, 1, 1, 1, 1, 3, 1, 2, 2, 2, 1, 1, 1, 3, 2, 2, 4, 2, 7, 1, 1, 1, 1, 1, 3, 1, 1, 1, 1, 1, 1, 1, 1, 2, 1, 1, 2, 1, 1, 1, 2, 1, 1, 1, 2, 1, 3, 13, 1, 2, 1, 2, 1, 2, 1, 1, 1, 1, 1, 1, 1, 1, 1, 1, 1, 1, 1, 1, 1, 1, 1, 2, 2, 1, 1, 2, 2, 2, 1, 1, 1, 1, 4, 2, 1, 2, 2, 1, 1, 1, 1, 1, 1, 1, 1, 1, 1, 1, 1, 1, 3, 1, 1, 1, 1, 1, 1, 1, 1, 1, 1, 1, 1, 1, 1, 2, 1, 1, 1, 1, 1, 1, 1, 2, 2, 1, 1, 1, 1, 1, 1, 1, 1, 1, 1, 3, 1, 1, 1, 2, 1, 1, 1, 1, 1, 1, 1, 1, 1, 1, 2, 1, 1, 1, 1, 1, 1, 1, 1, 2, 7, 1, 3, 1, 2, 1, 1, 1, 1, 1, 1, 1, 1, 1, 1, 1, 2, 1, 1, 2, 1, 1, 2, 1, 1, 2, 1, 1, 1, 1, 1, 1, 1, 1, 2, 1, 2, 2, 1, 1, 2, 1, 3, 1, 1, 1, 1, 1, 1, 1, 1, 1, 1, 1, 1, 1, 1, 1, 1, 2, 1, 1, 1, 1, 1, 1, 1, 1, 1, 1, 1, 1, 1, 1, 1, 1, 1, 1, 1, 2, 1, 1, 1, 1, 1, 1, 1, 1, 1, 1, 2, 1, 1, 1, 3, 1, 1, 1, 1, 1, 1, 1, 1, 1, 2, 2, 1, 1, 1, 1, 1, 1, 1, 1, 1, 1, 1, 1, 1, 1, 1, 2, 1, 1, 1, 1, 1, 1, 1, 1, 1, 1, 1, 1, 1, 1, 3, 2, 1, 2, 1, 1, 1, 1, 1, 1, 2, 1, 5, 1, 1, 1, 1, 1, 1, 1, 1, 2, 2, 2, 1, 1, 1, 1, 1, 1, 1, 1, 1, 1, 1, 1, 1, 1, 1, 3, 1, 2, 4, 2, 1, 29, 1, 2, 4, 1, 3, 3, 49, 2, 1, 2, 2, 2, 1, 2, 1, 1, 1, 1, 4, 1, 1, 4, 1, 1, 1, 4, 2, 1, 1, 1, 1, 1, 1, 1, 3, 1, 1, 1, 1, 2, 1, 1, 1, 1, 1, 1, 1, 1, 1, 1, 1, 1, 2, 1, 1, 1, 1, 1, 1, 1, 2, 1, 1, 1, 1, 1, 1, 2, 1, 1, 1, 1, 1, 1, 1, 1, 1, 1, 2, 1, 1, 1, 2, 1, 1, 1, 1, 1, 1, 1, 2, 1, 1, 1, 1, 2, 1, 2, 1, 1, 1, 1, 1, 1, 1, 1, 1, 1, 1, 1, 1, 2, 1, 1, 1, 1, 1, 1, 1, 1, 2, 2, 1, 24, 1, 1, 2, 1, 5, 1, 1, 1, 1, 4, 1, 1, 1, 1, 1, 1, 1, 1, 1, 1, 1, 1, 1, 1, 1, 1, 3, 1, 1, 1, 1, 2, 1, 1, 1, 1, 1, 1, 1, 1, 1, 1, 1, 1, 1, 1, 1, 1, 1, 1, 1, 1, 1, 1, 1, 1, 1, 2, 1, 1, 1, 1, 1, 1, 2, 1, 4, 3, 1, 1, 1, 1, 1, 1, 1, 1, 3, 10, 1, 1, 2, 1, 1, 3, 1, 1, 1, 26, 2, 1, 1, 1, 2, 5, 13, 1, 1, 1, 1, 1, 2, 1, 1, 3, 2, 3, 1, 1, 1, 1, 1, 1, 1, 1, 2, 1, 1, 1, 1, 1, 1, 2, 6, 1, 1, 1, 1, 1, 1, 1, 1, 3, 1, 1, 1, 6, 2, 1, 1, 1, 2, 1, 1, 1, 1, 1, 1, 1, 6, 1, 1, 1, 2, 2, 13, 2, 1, 1, 1, 1, 1, 1, 1, 1, 1, 1, 1, 1, 1, 1, 1, 1, 1, 1, 1, 1, 1, 1, 1, 1, 2, 1, 2, 1, 1, 1, 1, 1, 1, 1, 7, 1, 1, 1, 1, 1, 1, 1, 1, 1, 1, 2, 2, 1, 1, 1, 1, 1, 1, 1, 1, 1, 1, 1, 1, 1, 2, 2, 1, 1, 1, 1, 2, 1, 1, 2, 3, 1, 1, 1, 1, 1, 1, 1, 1, 1, 1, 1, 1, 2, 2, 1, 1, 1, 1, 1, 1, 1, 1, 1, 1, 1, 1, 1, 1, 1, 1, 1, 1, 1, 1, 1, 1, 1, 1, 1, 1, 3, 1, 1, 1, 1, 1, 1, 1, 7, 1, 10, 1, 2, 1, 1, 1, 1, 2, 1, 1, 1, 1, 1, 2, 1, 21, 1, 1, 17, 1, 30, 2, 1, 1, 1, 4, 1, 1, 1, 3, 1, 1, 1, 2, 1, 1, 1, 1, 1, 3, 2, 2, 4, 1, 3, 1, 1, 1, 1, 1, 1, 1, 1, 1, 1, 1, 1, 1, 1, 2, 1, 1, 1, 1, 1, 1, 2, 1, 1, 1, 1, 1, 2, 2, 1, 1, 1, 1, 5, 1, 3, 1, 1, 3, 1, 1, 1, 1, 1, 2, 1, 1, 1, 1, 1, 1, 1, 1, 2, 2, 1, 1, 1, 1, 1, 1, 1, 1, 1, 1, 2, 1, 1, 4, 4, 1, 1, 1, 1, 1, 1, 2, 1, 1, 1, 9, 1, 1, 1, 2, 1, 1, 1, 1, 1, 1, 1, 1, 1, 1, 1, 1, 1, 1, 1, 1, 1, 1, 1, 1, 1, 1, 1, 1, 1, 1, 1, 1, 1, 1, 1, 1, 1, 1, 2, 1, 1, 1, 1, 1, 1, 1, 1, 1, 1, 1, 1, 1, 3, 1, 2, 1, 1, 1, 1, 1, 2, 1, 1, 1, 1, 1, 1, 1, 1, 1, 1, 1, 1, 1, 1, 1, 1, 1, 1, 1, 1, 1, 1, 1, 1, 1, 1, 1, 1, 1, 2, 1, 1, 1, 1, 1, 6, 1, 2, 2, 1, 1, 1, 1, 1, 1, 1, 1, 5, 1, 1, 1, 1, 4, 1, 1, 1, 1, 2, 1, 1, 1, 2, 2, 1, 1, 1, 1, 1, 1, 1, 1, 1, 2, 2, 1, 1, 1, 1, 1, 1, 1, 1, 1, 1, 1, 1, 1, 3, 1, 1, 1, 1, 1, 1, 2, 2, 30, 1, 1, 1, 1, 1, 1, 1, 1, 1, 1, 1, 1, 1, 2, 1, 1, 2, 2, 1, 1, 1, 1, 1, 2, 1, 1, 2, 1, 1, 1, 1, 1, 1, 1, 1, 1, 1, 1, 1, 1, 1, 1, 1, 1, 1, 1, 2, 1, 1, 1, 1, 3, 1, 1, 1, 2, 1, 1, 1, 1, 1, 1, 1, 1, 1, 1, 2, 1, 1, 1, 1, 2, 1, 1, 1, 1, 1, 1, 1, 1, 1, 1, 1, 1, 1, 2, 1, 1, 1, 1, 1, 1, 1, 1, 1, 1, 1, 1, 1, 1, 1, 1, 2, 1, 4, 1, 1, 1, 1, 1, 2, 1, 1, 1, 1, 1, 1, 1, 1, 1, 1, 1, 1, 1, 1, 1, 1, 1, 1, 1, 1, 1, 1, 1, 1, 1, 1, 1, 1, 1, 2, 1, 1, 1, 1, 1, 1, 1, 1, 1, 4, 1, 4, 1, 5, 4, 1, 1, 1, 1, 1, 17, 1, 2, 2, 2, 2, 1, 1, 1, 1, 1, 1, 4, 2, 1, 1, 1, 1, 1, 1, 2, 1, 1, 1, 1, 2, 1, 1, 1, 1, 1, 1, 2, 1, 1, 1, 2, 1, 3, 1, 1, 1, 1, 1, 1, 1, 1, 2, 1, 1, 1, 1, 1, 1, 1, 1, 1, 1, 1, 1, 1, 1, 1, 1, 1, 1, 2, 1, 1, 1, 1, 1, 1, 2, 1, 1, 1, 1, 3, 7, 1, 1, 3, 2, 57, 1, 2, 2, 9, 1, 9, 1, 1, 1, 1, 5, 1, 1, 1, 1, 1, 1, 1, 1, 1, 2, 2, 1, 1, 1, 2, 1, 1, 1, 1, 1, 1, 1, 1, 1, 1, 1, 1, 1, 1, 1, 1, 1, 2, 1, 1, 1, 1, 1, 1, 2, 1, 1, 1, 4, 2, 31, 1, 1, 1, 1, 1, 1, 1, 1, 1, 1, 1, 1, 1, 1, 1, 1, 1, 1, 1, 1, 1, 1, 1, 1, 1, 1, 1, 1, 1, 1, 1, 1, 1, 1, 1, 1, 1, 1, 3, 1, 1, 2, 1, 1, 1, 1, 1, 50, 1, 1, 5, 1, 1, 1, 1, 1, 2, 2, 1, 1, 1, 1, 2, 1, 1, 1, 1, 1, 1, 1, 1, 1, 1, 1, 2, 1, 3, 1, 1, 2, 1, 3, 1, 2, 1, 1, 1, 1, 1, 2, 1, 2, 1, 1, 1, 1, 1, 1, 1, 1, 1, 1, 2, 1, 1, 1, 1, 1, 1, 1, 2, 1, 1, 1, 1, 1, 2, 1, 1, 1, 1, 1, 1, 3, 1, 1, 2, 1, 1, 1, 1, 1, 1, 1, 1, 1, 1, 1, 1, 1, 1, 1, 1, 1, 1, 1, 1, 1, 1, 1, 2, 1, 4, 1, 22, 3, 1, 1, 6, 1, 1, 1, 2, 1, 1, 1, 4, 1, 1, 1, 1, 1, 1, 1, 1, 1, 46, 1, 1, 1, 1, 1, 1, 1, 1, 1, 1, 1, 2, 1, 1, 1, 1, 1, 1, 1, 1, 1, 1, 1, 1, 1, 1, 1, 1, 1, 1, 1, 1, 2, 1, 1, 1, 1, 1, 1, 1, 1, 1, 1, 1, 1, 1, 1, 1, 1, 1, 1, 1, 1, 3, 1, 2, 1, 1, 1, 1, 1, 1, 1, 1, 1, 1, 1, 1, 1, 1, 1, 1, 2, 11, 1, 2, 9, 2, 4, 6, 1, 7, 1, 1, 2, 3, 1, 1, 1, 1, 1, 1, 1, 2, 1, 1, 1, 3, 1, 12, 1, 1, 1, 1, 1, 2, 1, 1, 2, 2, 2, 1, 1, 1, 2, 1, 1, 2, 2, 1, 2, 2, 2, 1, 1, 1, 1, 1, 1, 1, 4, 1, 2, 3, 1, 1, 1, 3, 1, 2, 2, 2, 1, 1, 1, 1, 1, 1, 1, 1, 1, 1, 1, 1, 1, 1, 1, 1, 1, 1, 3, 1, 1, 2, 1, 1, 1, 1, 1, 1, 2, 1, 1, 1, 2, 1, 2, 3, 44, 1, 1, 1, 1, 1, 1, 1, 1, 1, 1, 1, 1, 1, 1, 2, 1, 1, 1, 1, 1, 1, 3, 1, 1, 1, 1, 1, 1, 1, 3, 1, 1, 1, 1, 1, 2, 1, 2, 2, 1, 6, 1, 1, 1, 2, 1, 1, 1, 2, 1, 2, 2, 1, 1, 1, 1, 2, 1, 1, 1, 2, 2, 1, 1, 2, 1, 1, 1, 1, 1, 2, 1, 2, 1, 1, 1, 1, 1, 1, 2, 1, 2, 1, 1, 1, 1, 1, 1, 1, 1, 1, 2, 2, 2, 2, 1, 1, 1, 1, 1, 1, 1, 1, 1, 1, 1, 1, 1, 2, 1, 1, 1, 1, 1, 2, 1, 1, 1, 1, 5, 1, 1, 1, 1, 1, 1, 1, 1, 1, 1, 1, 1, 1, 1, 1, 1, 1, 1, 1, 1, 2, 1, 1, 7, 1, 1, 1, 2, 1, 1, 2, 1, 1, 1, 1, 1, 1, 1, 2, 1, 1, 1, 1, 3, 1, 1, 1, 2, 1, 1, 1, 2, 2, 1, 1, 2, 1, 1, 1, 1, 1, 1, 1, 1, 1, 1, 1, 1, 1, 1, 1, 1, 1, 2, 2, 4, 4, 1, 2, 1, 3, 1, 1, 3, 1, 1, 1, 2, 2, 1, 1, 4, 1, 2, 1, 1, 4, 1, 1, 2, 1, 18, 1, 2, 1, 1, 1, 1, 1, 1, 1, 1, 2, 1, 1, 1, 1, 1, 2, 1, 1, 2, 1, 1, 1, 1, 2, 1, 1, 2, 1, 1, 2, 1, 1, 1, 1, 1, 2, 6, 3, 2, 1, 1, 2, 1, 1, 1, 2, 1, 1, 1, 2, 1, 1, 2, 2, 3, 1, 1, 1, 1, 1, 1, 1, 1, 1, 2, 1, 1, 1, 2, 1, 2, 1, 1, 2, 1, 1, 1, 1, 1, 1, 1, 1, 1, 1, 1, 1, 1, 1, 1, 1, 3, 1, 4, 1, 1, 1, 2, 1, 2, 1, 4, 1, 1, 3, 2, 1, 1, 1, 1, 2, 1, 1, 1, 3, 3, 1, 2, 1, 1, 2, 1, 1, 1, 1, 1, 1, 1, 1, 1, 1, 2, 1, 1, 2, 2, 3, 2, 1, 1, 1, 1, 2, 1, 1, 2, 1, 1, 2, 1, 1, 1, 1, 1, 1, 1, 1, 1, 1, 1, 1, 1, 1, 1, 1, 1, 1, 1, 1, 1, 2, 1, 2, 1, 1, 1, 1, 1, 12, 1, 1, 1, 1, 16, 1, 1, 1, 2, 4, 1, 1, 1, 2, 1, 1, 1, 1, 1, 1, 1, 1, 1, 1, 1, 1, 1, 2, 1, 1, 1, 1, 1, 1, 1, 1, 1, 1, 1, 1, 1, 1, 1, 1, 2, 1, 1, 1, 2, 11, 1, 1, 1, 1, 1, 1, 1, 1, 1, 3, 2, 1, 1, 2, 1, 1, 1, 1, 1, 1, 1, 1, 4, 1, 18, 1, 1, 1, 1, 1, 1, 4, 1, 1, 1, 1, 1, 1, 1, 1, 1, 1, 2, 1, 1, 1, 3, 1, 1, 2, 1, 1, 2, 1, 2, 14, 1, 1, 1, 1, 1, 1, 1, 1, 4, 1, 1, 1, 3, 1, 2, 1, 1, 1, 2, 1, 1, 1, 1, 1, 1, 1, 1, 1, 1, 1, 1, 1, 1, 1, 1, 2, 1, 1, 1, 1, 1, 1, 1, 1, 2, 1, 1, 1, 1, 1, 1, 1, 1, 1, 1, 1, 2, 1, 5, 1, 2, 1, 1, 1, 1, 4, 1, 1, 2, 4, 1, 1, 1, 1, 1, 2, 1, 1, 1, 1, 1, 2, 1, 45, 1, 1, 1, 1, 1, 1, 2, 1, 1, 1, 1, 1, 1, 1, 1, 1, 1, 1, 1, 2, 1, 1, 1, 1, 1, 1, 2, 1, 1, 1, 1, 1, 1, 1, 1, 1, 2, 1, 1, 2, 1, 1, 1, 1, 1, 1, 1, 1, 1, 2, 1, 1, 8, 1, 1, 1, 2, 1, 1, 1, 1, 1, 1, 1, 3, 1, 1, 1, 1, 1, 1, 1, 1, 1, 1, 1, 1, 1, 1, 1, 1, 1, 1, 2, 3, 1, 12, 3, 1, 1, 1, 1, 1, 1, 1, 1, 2, 1, 8, 1, 1, 1, 1, 1, 2, 1, 1, 1, 1, 1, 53, 1, 1, 1, 1, 1, 1, 1, 1, 1, 1, 1, 1, 1, 1, 1, 1, 1, 1, 1, 1, 1, 2, 1, 1, 1, 1, 1, 1, 1, 1, 1, 1, 1, 1, 1, 1, 1, 1, 1, 1, 1, 2, 1, 1, 2, 1, 1, 2, 3, 1, 1, 1, 1, 1, 1, 1, 1, 1, 1, 1, 1, 2, 1, 1, 1, 1, 1, 1, 1, 1, 1, 1, 1, 1, 1, 1, 1, 1, 1, 1, 1, 1, 1, 1, 1, 1, 1, 1, 1, 1, 1, 1, 1, 2, 1, 1, 1, 2, 1, 1, 3, 1, 1, 1, 1, 1, 1, 1, 7, 1, 1, 1, 1, 1, 1, 1, 17, 1, 1, 1, 1, 1, 1, 2, 2, 1, 3, 1, 1, 1, 1, 1, 1, 1, 1, 1, 1, 1, 1, 1, 1, 46, 1, 1, 1, 1, 1, 1, 1, 1, 1, 1, 1, 1, 1, 1, 1, 1, 1, 1, 1, 1, 2, 1, 1, 1, 2, 1, 1, 1, 2, 1, 2, 1, 1, 1, 1, 1, 1, 1, 1, 1, 1, 1, 1, 1, 1, 1, 1, 1, 1, 1, 1, 2, 2, 27, 1, 1, 15, 1, 1, 1, 1, 1, 1, 25, 1, 1, 1, 1, 1, 1, 1, 1, 1, 1, 1, 1, 1, 1, 1, 1, 3, 17, 1, 1, 1, 1, 2, 1, 1, 1, 1, 1, 1, 2, 1, 1, 1, 1, 1, 1, 1, 1, 1, 1, 3, 1, 1, 1, 1, 1, 1, 1, 1, 1, 1, 1, 2, 1, 2, 3, 1, 1, 1, 2, 11, 2, 1, 1, 2, 1, 1, 1, 1, 1, 1, 1, 1, 1, 1, 1, 1, 1, 1, 1, 2, 1, 1, 1, 1, 1, 1, 1, 1, 1, 1, 2, 1, 1, 2, 1, 1, 3, 1, 2, 2, 1, 2, 1, 1, 1, 1, 1, 1, 1, 1, 1, 1, 1, 1, 1, 1, 1, 1, 1, 1, 1, 1, 1, 1, 1, 1, 1, 1, 1, 1, 1, 1, 1, 1, 1, 1, 1, 1, 1, 1, 1, 1, 1, 1, 1, 1, 1, 1, 1, 1, 1, 1, 1, 1, 1, 1, 1, 1, 1, 1, 1, 1, 1, 1, 1, 1, 1, 15, 1, 1, 1, 1, 1, 1, 1, 1, 3, 1, 1, 1, 1, 1, 1, 1, 1, 1, 1, 4, 1, 1, 1, 1, 1, 2, 1, 2, 6, 1, 2, 2, 1, 1, 1, 3, 1, 1, 1, 1, 1, 1, 1, 1, 1, 1, 1, 1, 1, 1, 1, 2, 1, 1, 1, 1, 1, 4, 1, 1, 1, 1, 1, 1, 1, 1, 1, 1, 1, 1, 1, 1, 1, 1, 1, 2, 1, 1, 2, 1, 1, 1, 1, 1, 1, 2, 2, 1, 1, 1, 1, 1, 2, 4, 5, 1, 1, 1, 1, 1, 1, 1, 1, 1, 10, 1, 1, 1, 2, 1, 1, 1, 1, 1, 1, 1, 1, 2, 1, 1, 1, 1, 1, 1, 1, 1, 1, 1, 1, 1, 1, 1, 1, 1, 1, 1, 1, 1, 2, 4, 1, 1, 1, 1, 1, 1, 1, 1, 1, 1, 1, 1, 1, 2, 1, 2, 1, 1, 1, 1, 1, 1, 1, 1, 1, 1, 1, 1, 1, 2, 1, 2, 1, 1, 2, 1, 2, 1, 1, 1, 1, 1, 1, 1, 1, 1, 1, 1, 1, 1, 1, 1, 1, 1, 1, 1, 1, 2, 1, 1, 1, 1, 1, 1, 1, 1, 6, 2, 1, 1, 1, 1, 3, 1, 1, 1, 1, 2, 2, 1, 1, 1, 1, 1, 1, 1, 1, 1, 1, 1, 1, 2, 1, 1, 1, 1, 1, 2, 1, 2, 1, 1, 1, 1, 1, 1, 1, 1, 2, 1, 1, 4, 1, 1, 1, 1, 1, 1, 1, 2, 1, 1, 1, 1, 1, 1, 1, 2, 1, 1, 1, 1, 1, 1, 1, 1, 1, 1, 1, 1, 1, 1, 1, 1, 1, 1, 1, 2, 1, 1, 1, 5, 3, 1, 2, 1, 1, 1, 3, 1, 1, 1, 1, 1, 1, 1, 1, 1, 1, 1, 1, 1, 1, 1, 1, 1, 1, 1, 2, 1, 1, 1, 1, 1, 1, 1, 1, 2, 1, 1, 1, 1, 1, 2, 2, 1, 1, 1, 1, 1, 1, 1, 1, 1, 1, 1, 1, 1, 2, 1, 1, 1, 1, 2, 1, 1, 1, 1, 1, 1, 1, 1, 1, 1, 1, 1, 1, 1, 2, 1, 1, 1, 1, 1, 1, 1, 1, 1, 1, 1, 1, 1, 1, 1, 1, 1, 1, 1, 1, 1, 1, 1, 5, 1, 1, 1, 1, 1, 1, 1, 1, 2, 3, 1, 1, 1, 1, 1, 1, 3, 1, 2, 1, 1, 1, 1, 1, 1, 1, 1, 1, 1, 1, 1, 1, 1, 1, 2, 1, 1, 1, 1, 2, 47, 1, 1, 1, 1, 1, 1, 1, 1, 1, 1, 1, 1, 1, 1, 1, 1, 1, 1, 1, 1, 1, 1, 1, 1, 1, 1, 1, 1, 1, 1, 1, 1, 1, 1, 1, 1, 1, 1, 1, 1, 1, 1, 2, 1, 3, 1, 1, 1, 1, 1, 2, 1, 1, 2, 1, 1, 1, 1, 1, 1, 1, 2, 2, 1, 1, 1, 1, 1, 2, 1, 1, 1, 1, 1, 1, 1, 1, 1, 1, 1, 1, 1, 1, 1, 1, 1, 1, 1, 1, 1, 3, 1, 1, 1, 1, 1, 1, 1, 1, 8, 2, 1, 2, 1, 1, 1, 3, 1, 1, 1, 2, 2, 1, 1, 1, 1, 1, 1, 1, 1, 1, 1, 1, 1, 1, 1, 2, 1, 1, 1, 1, 1, 1, 1, 2, 1, 1, 1, 1, 1, 1, 2, 1, 1, 1, 1, 1, 1, 1, 1, 1, 1, 1, 1, 1, 1, 1, 1, 2, 1, 1, 1, 3, 1, 2, 1, 1, 3, 2, 1, 1, 1, 1, 1, 1, 1, 1, 1, 1, 1, 1, 1, 1, 1, 1, 1, 1, 1, 1, 1, 1, 2, 1, 1, 1, 2, 1, 1, 1, 1, 1, 1, 1, 1, 1, 3, 2, 1, 1, 1, 1, 1, 1, 1, 1, 2, 1, 4, 1, 1, 1, 1, 1, 1, 1, 1, 1, 1, 2, 1, 1, 1, 1, 1, 1, 1, 1, 1, 2, 2, 2, 3, 1, 1, 1, 1, 1, 1, 1, 1, 1, 1, 2, 1, 1, 1, 1, 1, 1, 1, 2, 2, 1, 1, 1, 1, 1, 1, 1, 1, 1, 1, 1, 1, 1, 1, 1, 1, 1, 1, 1, 1, 1, 1, 1, 1, 1, 1, 2, 1, 2, 1, 1, 1, 1, 1, 1, 1, 2, 1, 1, 1, 1, 15, 2, 1, 1, 1, 2, 2, 3, 1, 1, 1, 1, 1, 1, 3, 2, 1, 1, 1, 1, 1, 1, 3, 1, 1, 1, 1, 1, 1, 1, 1, 1, 1, 1, 2, 1, 1, 1, 1, 4, 10, 1, 3, 1, 1, 1, 1, 1, 1, 1, 1, 1, 1, 1, 1, 1, 1, 1, 1, 1, 1, 1, 1, 1, 1, 1, 1, 2, 1, 1, 1, 1, 1, 1, 1, 1, 1, 2, 1, 1, 2, 4, 1, 1, 1, 1, 2, 1, 1, 1, 1, 1, 1, 1, 1, 1, 1, 1, 1, 1, 4, 1, 1, 3, 1, 1, 1, 1, 1, 1, 1, 1, 1, 1, 1, 1, 5, 1, 1, 2, 1, 1, 2, 1, 1, 1, 1, 1, 1, 1, 1, 1, 1, 2, 4, 1, 1, 1, 1, 1, 2, 1, 1, 1, 1, 1, 1, 1, 1, 1, 2, 1, 1, 1, 1, 2, 1, 1, 1, 1, 1, 2, 15, 1, 1, 1, 1, 1, 1, 1, 1, 1, 1, 1, 1, 1, 1, 1, 1, 2, 2, 1, 1, 1, 5, 1, 1, 1, 1, 1, 1, 1, 1, 1, 1, 1, 1, 1, 1, 1, 1, 1, 2, 1, 1, 1, 1, 1, 1, 1, 1, 1, 1, 1, 1, 1, 3, 1, 1, 10, 2, 1, 1, 4, 1, 1, 1, 1, 1, 1, 6, 1, 1, 1, 1, 1, 1, 1, 1, 1, 1, 3, 1, 1, 1, 1, 1, 1, 1, 1, 1, 1, 1, 1, 1, 1, 1, 1, 1, 1, 1, 1, 1, 1, 1, 1, 2, 1, 1, 1, 1, 2, 1, 1, 1, 1, 2, 1, 1, 1, 1, 1, 1, 1, 1, 1, 1, 1, 1, 1, 1, 2, 10, 1, 1, 1, 2, 1, 1, 1, 1, 1, 1, 1, 1, 1, 1, 1, 1, 1, 1, 1, 1, 1, 1, 1, 1, 2, 1, 1, 1, 1, 1, 1, 2, 1, 1, 1, 2, 1, 1, 1, 1, 1, 1, 1, 1, 1, 1, 1, 2, 1, 1, 1, 1, 1, 1, 1, 1, 1, 1, 1, 1, 1, 1, 1, 1, 1, 1, 1, 1, 1, 1, 1, 1, 1, 1, 1, 1, 1, 2, 1, 1, 2, 1, 1, 1, 2, 1, 1, 1, 1, 1, 1, 1, 1, 1, 1, 1, 1, 1, 1, 5, 2, 1, 1, 3, 1, 1, 1, 2, 1, 3, 1, 1, 2, 1, 2, 1, 1, 1, 1, 1, 1, 2, 1, 1, 1, 1, 1, 1, 1, 1, 1, 2, 2, 1, 1, 1, 1, 2, 1, 2, 1, 1, 1, 1, 1, 2, 1, 1, 1, 1, 1, 1, 1, 1, 1, 1, 1, 2, 1, 2, 1, 1, 1, 1, 1, 1, 1, 1, 1, 1, 1, 1, 1, 1, 1, 1, 1, 1, 1, 1, 1, 1, 1, 1, 1, 1, 2, 1, 1, 2, 1, 1, 1, 1, 44, 1, 1, 1, 1, 1, 1, 1, 1, 1, 1, 3, 2, 1, 1, 1, 1, 1, 1, 1, 1, 2, 1, 1, 2, 1, 1, 1, 2, 1, 1, 1, 1, 1, 1, 1, 1, 1, 1, 1, 1, 1, 2, 1, 3, 2, 1, 1, 1, 1, 1, 1, 1, 3, 1, 3, 1, 1, 2, 5, 1, 2, 1, 1, 1, 1, 1, 1, 1, 1, 1, 1, 1, 1, 2, 1, 2, 2, 5, 1, 1, 1, 1, 1, 2, 1, 1, 22, 1, 1, 1, 1, 1, 1, 1, 1, 1, 1, 1, 1, 1, 1, 2, 2, 1, 1, 1, 1, 1, 1, 1, 1, 1, 1, 2, 1, 1, 1, 1, 1, 2, 1, 1, 2, 1, 2, 2, 1, 1, 1, 1, 1, 1, 1, 1, 1, 1, 1, 1, 1, 1, 1, 1, 1, 1, 1, 1, 1, 1, 1, 2, 4, 1, 1, 1, 2, 1, 1, 1, 1, 1, 1, 1, 1, 2, 1, 1, 1, 1, 1, 1, 1, 1, 1, 1, 1, 1, 1, 1, 1, 1, 1, 1, 1, 1, 1, 1, 1, 1, 1, 1, 1, 1, 1, 1, 1, 2, 2, 1, 1, 4, 3, 5, 1, 1, 1, 5, 1, 1, 1, 1, 1, 3, 1, 2, 1, 1, 1, 1, 1, 2, 1, 2, 1, 1, 1, 1, 1, 1, 1, 1, 1, 2, 1, 1, 1, 1, 1, 1, 1, 1, 1, 1, 1, 1, 2, 1, 1, 2, 5, 2, 7, 2, 1, 1, 1, 3, 2, 1, 1, 4, 1, 4, 2, 1, 1, 2, 1, 1, 2, 1, 1, 1, 1, 1, 1, 1, 3, 1, 1, 1, 1, 1, 1, 2, 1, 3, 1, 1, 1, 2, 2, 2, 1, 1, 3, 2, 1, 2, 1, 1, 18, 1, 1, 1, 1, 3, 13, 1, 1, 1, 1, 1, 1, 1, 1, 2, 1, 1, 1, 1, 1, 1, 1, 1, 1, 1, 1, 4, 2, 1, 1, 2, 1, 1, 2, 1, 1, 2, 1, 1, 1, 1, 1, 1, 10, 1, 1, 1, 1, 2, 5, 1, 1, 12, 1, 2, 1, 1, 1, 1, 2, 1, 1, 1, 1, 1, 1, 1, 1, 1, 1, 1, 1, 1, 1, 1, 1, 1, 4, 1, 1, 1, 2, 3, 1, 1, 2, 6, 4, 1, 1, 2, 1, 1, 1, 1, 1, 1, 1, 1, 1, 1, 1, 1, 1, 1, 1, 2, 1, 1, 1, 1, 1, 1, 1, 1, 1, 1, 1, 1, 1, 1, 1, 1, 1, 1, 1, 1, 1, 1, 1, 1, 1, 1, 1, 1, 1, 2, 3, 2, 1, 1, 1, 1, 1, 1, 1, 1, 1, 1, 1, 1, 1, 1, 1, 1, 1, 2, 1, 1, 1, 1, 2, 1, 1, 1, 1, 1, 1, 1, 1, 1, 1, 2, 1, 1, 1, 1, 1, 4, 1, 1, 1, 2, 1, 1, 1, 1, 1, 1, 1, 1, 1, 1, 1, 1, 1, 1, 1, 1, 1, 1, 1, 1, 1, 1, 1, 1, 1, 1, 1, 1, 1, 1, 1, 1, 2, 1, 1, 1, 1, 1, 1, 1, 1, 2, 1, 1, 1, 1, 1, 1, 1, 1, 1, 1, 2, 1, 3, 1, 1, 1, 1, 1, 1, 9, 1, 1, 1, 1, 1, 1, 1, 1, 1, 1, 1, 1, 1, 3, 2, 1, 1, 3, 2, 1, 1, 1, 1, 1, 2, 1, 1, 1, 1, 1, 1, 1, 1, 1, 1, 1, 1, 1, 1, 1, 2, 2, 2, 1, 1, 1, 1, 1, 1, 1, 1, 1, 1, 1, 45, 1, 1, 1, 1, 1, 1, 1, 1, 1, 1, 1, 1, 1, 1, 1, 1, 1, 1, 1, 1, 1, 1, 1, 1, 1, 1, 1, 1, 1, 1, 1, 1, 1, 1, 1, 1, 1, 1, 1, 1, 3, 1, 1, 1, 1, 2, 1, 1, 1, 1, 1, 1, 1, 1, 1, 1, 1, 1, 1, 1, 1, 1, 2, 1, 1, 1, 1, 1, 1, 1, 1, 1, 1, 1, 1, 1, 1, 1, 1, 1, 1, 1, 1, 1, 1, 3, 1, 1, 1, 1, 1, 1, 1, 1, 1, 1, 2, 1, 1, 2, 1, 1, 1, 1, 1, 1, 1, 1, 1, 1, 1, 1, 1, 1, 1, 2, 1, 6, 2, 1, 1, 1, 1, 1, 1, 1, 1, 2, 2, 1, 1, 1, 1, 1, 1, 1, 1, 1, 1, 1, 1, 1, 1, 1, 1, 1, 1, 1, 1, 1, 1, 1, 1, 42, 1, 1, 1, 1, 1, 1, 1, 2, 1, 1, 1, 2, 1, 1, 1, 1, 1, 1, 1, 1, 1, 1, 1, 1, 1, 1, 1, 1, 1, 1, 1, 1, 1, 2, 1, 1, 1, 1, 1, 1, 3, 1, 2, 1, 1, 10, 1, 3, 1, 1, 2, 1, 1, 1, 1, 1, 1, 1, 1, 1, 1, 1, 1, 1, 7, 2, 1, 1, 5, 1, 2, 1, 1, 1, 2, 1, 1, 2, 1, 1, 1, 3, 1, 2, 1, 1, 1, 1, 1, 1, 1, 1, 1, 1, 1, 1, 1, 1, 1, 1, 1, 1, 1, 1, 33, 1, 1, 1, 1, 2, 1, 1, 1, 1, 1, 1, 1, 1, 1, 2, 1, 1, 1, 1, 1, 1, 1, 1, 2, 1, 2, 1, 1, 1, 1, 1, 1, 1, 1, 1, 1, 1, 1, 1, 1, 1, 1, 1, 1, 1, 1, 1, 1, 1, 1, 1, 1, 1, 1, 1, 1, 1, 2, 1, 1, 1, 1, 1, 1, 1, 1, 1, 1, 1, 1, 1, 2, 1, 1, 1, 1, 1, 1, 1, 6, 1, 8, 13, 1, 1, 1, 1, 1, 1, 1, 1, 1, 1, 1, 1, 1, 1, 1, 1, 1, 1, 1, 1, 4, 4, 1, 1, 1, 1, 1, 1, 1, 1, 1, 1, 2, 3, 2, 1, 14, 1, 1, 1, 2, 1, 3, 1, 1, 1, 1, 1, 1, 1, 1, 2, 1, 1, 2, 1, 1, 1, 1, 1, 1, 1, 1, 1, 1, 1, 9, 1, 3, 1, 1, 3, 1, 1, 1, 1, 1, 1, 1, 1, 1, 1, 1, 6, 1, 4, 1, 1, 1, 1, 2, 1, 1, 1, 1, 2, 2, 2, 2, 1, 1, 1, 1, 1, 1, 1, 1, 1, 2, 1, 1, 1, 1, 2, 1, 1, 1, 1, 1, 1, 2, 1, 1, 1, 1, 1, 1, 1, 2, 1, 4, 1, 1, 1, 1, 1, 1, 1, 1, 1, 1, 1, 1, 1, 1, 1, 1, 1, 1, 1, 3, 1, 1, 1, 1, 1, 1, 1, 1, 1, 1, 1, 1, 1, 1, 1, 1, 1, 1, 1, 1, 1, 1, 2, 2, 1, 1, 1, 1, 1, 3, 1, 1, 2, 2, 1, 1, 1, 1, 1, 1, 1, 1, 1, 1, 1, 1, 1, 1, 1, 1, 1, 1, 1, 2, 1, 1, 1, 1, 1, 1, 1, 1, 3, 1, 1, 1, 1, 1, 1, 1, 1, 1, 2, 1, 1, 1, 1, 1, 1, 1, 1, 1, 1, 1, 6, 1, 3, 1, 1, 1, 1, 1, 1, 1, 1, 1, 1, 1, 2, 1, 1, 1, 1, 2, 1, 5, 2, 1, 1, 1, 1, 1, 1, 1, 1, 1, 1, 1, 1, 1, 1, 1, 1, 1, 1, 1, 1, 1, 1, 1, 1, 1, 1, 1, 1, 1, 1, 1, 1, 1, 1, 1, 1, 1, 1, 1, 1, 1, 1, 1, 1, 1, 1, 1, 2, 1, 2, 1, 1, 1, 1, 1, 1, 3, 1, 1, 1, 1, 1, 1, 1, 3, 1, 1, 1, 1, 1, 1, 1, 1, 1, 1, 1, 1, 1, 1, 1, 1, 1, 1, 1, 1, 1, 1, 1, 1, 1, 1, 1, 1, 1, 1, 1, 1, 1, 1, 1, 1, 1, 1, 1, 1, 1, 1, 1, 2, 1, 1, 1, 1, 1, 1, 2, 4, 8, 5, 2, 1, 3, 1, 1, 1, 1, 2, 1, 1, 1, 1, 1, 1, 2, 2, 1, 1, 4, 1, 1, 1, 1, 1, 1, 1, 2, 1, 1, 1, 1, 5, 2, 1, 1, 2, 1, 2, 1, 1, 1, 1, 1, 1, 1, 1, 1, 1, 1, 2, 1, 1, 1, 1, 1, 1, 1, 1, 1, 1, 1, 1, 2, 1, 1, 1, 2, 1, 1, 1, 1, 1, 1, 1, 1, 1, 1, 1, 1, 1, 1, 1, 1, 1, 1, 1, 1, 1, 1, 1, 1, 2, 1, 1, 1, 1, 1, 1, 1, 1, 1, 1, 1, 1, 1, 1, 1, 1, 1, 1, 1, 1, 1, 1, 1, 1, 1, 1, 1, 1, 1, 1, 1, 1, 1, 1, 1, 1, 1, 1, 1, 1, 2, 1, 1, 1, 1, 1, 1, 1, 1, 2, 1, 2, 1, 1, 1, 1, 1, 1, 1, 1, 1, 1, 1, 1, 1, 1, 1, 1, 1, 1, 1, 1, 1, 1, 1, 1, 1, 1, 1, 1, 1, 1, 1, 1, 1, 1, 1, 1, 1, 1, 1, 1, 1, 1, 2, 2, 1, 1, 1, 1, 2, 1, 2, 1, 2, 2, 1, 1, 3, 1, 1, 1, 1, 1, 1, 1, 1, 1, 1, 1, 1, 1, 1, 4, 1, 3, 1, 1, 1, 1, 1, 1, 1, 1, 1, 1, 1, 1, 1, 1, 1, 1, 1, 1, 1, 1, 1, 3, 1, 1, 1, 2, 1, 1, 1, 1, 1, 1, 1, 1, 1, 1, 1, 1, 1, 1, 1, 1, 1, 1, 1, 1, 1, 1, 1, 1, 1, 1, 1, 1, 1, 1, 1, 1, 1, 1, 1, 1, 2, 1, 1, 1, 1, 1, 1, 1, 1, 1, 1, 1, 1, 1, 1, 1, 1, 1, 1, 1, 1, 1, 1, 1, 1, 1, 1, 1, 2, 1, 1, 1, 1, 1, 1, 1, 1, 1, 1, 1, 2, 1, 1, 1, 1, 1, 1, 2, 1, 1, 1, 1, 2, 1, 2, 2, 1, 1, 1, 1, 1, 1, 1, 1, 1, 1, 1, 1, 1, 1, 1, 2, 2, 1, 1, 1, 1, 1, 1, 1, 1, 1, 1, 1, 1, 1, 1, 1, 1, 1, 1, 1, 1, 1, 1, 1, 1, 4, 2, 1, 1, 1, 1, 1, 1, 1, 1, 1, 12, 1, 1, 1, 1, 1, 1, 1, 1, 1, 1, 1, 2, 46, 1, 1, 1, 1, 1, 1, 1, 1, 1, 1, 1, 1, 1, 1, 1, 1, 1, 1, 1, 1, 1, 1, 1, 1, 1, 1, 1, 1, 1, 1, 1, 1, 1, 1, 1, 1, 1, 1, 2, 1, 1, 1, 1, 1, 1, 1, 1, 1, 1, 1, 8, 1, 1, 2, 1, 1, 1, 1, 1, 1, 1, 3, 1, 1, 1, 2, 1, 1, 3, 1, 1, 1, 1, 1, 1, 1, 1, 1, 1, 11, 1, 1, 2, 1, 1, 1, 1, 46, 1, 2, 1, 1, 1, 1, 1, 1, 1, 1, 1, 1, 1, 1, 1, 1, 1, 1, 1, 1, 1, 1, 1, 1, 1, 1, 2, 1, 1, 1, 1, 1, 1, 1, 1, 1, 1, 1, 1, 1, 1, 1, 1, 1, 1, 1, 1, 1, 1, 1, 1, 1, 1, 1, 1, 1, 1, 1, 1, 1, 1, 1, 1, 1, 1, 1, 1, 1, 1, 1, 1, 1, 1, 1, 1, 1, 1, 1, 1, 1, 1, 1, 1, 1, 1, 1, 1, 1, 1, 1, 1, 1, 1, 1, 1, 1, 1, 1, 1, 1, 1, 1, 1, 1, 1, 1, 1, 1, 1, 1, 1, 4, 1, 1, 1, 1, 1, 1, 3, 1, 1, 1, 1, 1, 1, 1, 1, 1, 1, 1, 2, 1, 1, 1, 2, 1, 1, 1, 1, 3, 1, 1, 1, 1, 2, 2, 1, 1, 1, 1, 1, 8, 2, 1, 3, 1, 1, 1, 1, 1, 1, 2, 1, 2, 2, 1, 1, 1, 1, 1, 1, 1, 1, 1, 1, 1, 1, 1, 1, 1, 1, 1, 1, 1, 1, 1, 1, 1, 1, 1, 1, 1, 1, 1, 1, 1, 1, 1, 1, 1, 1, 1, 1, 1, 1, 1, 4, 2, 1, 1, 1, 3, 1, 1, 1, 1, 1, 1, 1, 1, 1, 1, 1, 1, 1, 1, 1, 1, 1, 1, 1, 1, 1, 1, 1, 1, 1, 1, 1, 1, 1, 1, 1, 2, 1, 1, 1, 1, 1, 1, 1, 1, 1, 1, 1, 2, 3, 2, 1, 1, 1, 1, 1, 1, 1, 1, 1, 1, 1, 1, 1, 1, 1, 1, 1, 1, 1, 1, 1, 1, 1, 1, 1, 1, 1, 1, 1, 1, 1, 2, 1, 1, 1, 1, 1, 1, 1, 1, 1, 6, 1, 1, 1, 2, 1, 1, 2, 1, 1, 1, 1, 1, 1, 1, 1, 1, 1, 1, 1, 1, 1, 1, 1, 1, 1, 1, 1, 1, 1, 1, 1, 1, 3, 1, 2, 1, 1, 1, 1, 1, 1, 1, 1, 1, 1, 1, 1, 2, 1, 1, 1, 1, 1, 1, 1, 1, 1, 1, 2, 1, 1, 1, 1, 1, 1, 1, 1, 1, 1, 1, 1, 1, 1, 1, 1, 1, 1, 1, 1, 1, 1, 1, 1, 1, 1, 1, 1, 3, 1, 5, 2, 1, 1, 3, 2, 2, 1, 1, 1, 1, 1, 1, 2, 1, 2, 1, 1, 1, 1, 1, 1, 1, 1, 1, 1, 1, 1, 1, 1, 1, 1, 1, 1, 1, 1, 4, 2, 1, 1, 1, 1, 1, 1, 1, 1, 1, 1, 1, 1, 1, 1, 1, 8, 1, 1, 1, 1, 4, 1, 1, 1, 1, 1, 1, 1, 1, 1, 1, 1, 1, 1, 1, 1, 1, 1, 1, 1, 2, 1, 1, 1, 1, 1, 1, 1, 1, 1, 1, 1, 1, 1, 1, 3, 1, 1, 2, 1, 1, 1, 1, 1, 1, 1, 1, 1, 1, 1, 1, 1, 1, 1, 1, 1, 1, 1, 1, 1, 1, 1, 1, 1, 2, 2, 1, 5, 1, 1, 2, 1, 1, 1, 1, 1, 1, 1, 1, 1, 1, 1, 1, 1, 1, 1, 1, 1, 2, 1, 1, 1, 1, 1, 1, 3, 1, 1, 1, 1, 2, 2, 1, 1, 1, 1, 1, 1, 1, 1, 1, 1, 1, 1, 1, 1, 1, 1, 1, 1, 1, 1, 1, 1, 1, 1, 1, 1, 1, 1, 1, 1, 1, 1, 1, 1, 1, 1, 1, 1, 1, 1, 1, 1, 1, 1, 1, 1, 1, 1, 1, 1, 1, 1, 1, 1, 1, 1, 1, 1, 1, 1, 1, 1, 1, 1, 1, 1, 1, 1, 1, 1, 1, 1, 1, 1, 1, 1, 1, 1, 1, 1, 1, 1, 1, 3, 1, 1, 1, 1, 1, 44, 1, 1, 1, 1, 1, 1, 1, 1, 1, 1, 1, 1, 1, 1, 1, 1, 1, 1, 1, 1, 45, 1, 1, 2, 1, 1, 1, 1, 1, 1, 1, 1, 1, 1, 1, 1, 1, 1, 1, 1, 1, 1, 1, 1, 1, 2, 1, 3, 2, 31, 2, 1, 1, 36, 1, 1, 9, 2, 1, 1, 2, 1, 1, 1, 1, 1, 1, 12, 1, 1, 1, 1, 1, 1, 1, 2, 2, 1, 1, 1, 1, 1, 1, 1, 1, 1, 1, 1, 1, 1, 1, 1, 1, 1, 1, 1, 1, 1, 1, 1, 1, 1, 1, 1, 1, 1, 1, 1, 1, 1, 1, 1, 1, 1, 2, 1, 1, 1, 1, 1, 1, 1, 1, 1, 1, 1, 1, 1, 1, 1, 1, 1, 1, 1, 1, 1, 1, 1, 1, 1, 1, 1, 1, 1, 1, 1, 1, 1, 1, 1, 1, 1, 1, 1, 1, 1, 1, 4, 1, 1, 1, 1, 1, 1, 1, 1, 1, 1, 1, 1, 1, 1, 1, 1, 1, 1, 1, 1, 1, 1, 1, 1, 1, 1, 1, 1, 1, 4, 1, 1, 1, 1, 1, 1, 1, 1, 1, 1, 1, 1, 1, 2, 1, 1, 1, 1, 1, 1, 1, 1, 1, 1, 1, 1, 1, 1, 1, 3, 2, 1, 2, 1, 1, 1, 1, 1, 4, 50, 1, 1, 1, 1, 1, 1, 1, 1, 1, 1, 1, 1, 1, 1, 1, 1, 1, 1, 1, 1, 1, 1, 37, 1, 1, 1, 1, 1, 2, 2, 2, 1, 1, 2, 1, 4, 4, 3, 1, 4, 4, 2, 1, 1, 2, 1, 1, 1, 8, 1, 3, 1, 2, 1, 1, 2, 1, 1, 1, 1, 5, 1, 5, 1, 1, 5, 2, 1, 3, 2, 1, 1, 2, 4, 1, 1, 1, 2, 5, 1, 21, 1, 1, 1, 1, 2, 2, 1, 1, 1, 2, 1, 1, 1, 1, 1, 3, 1, 1, 2, 1, 4, 1, 2, 1, 1, 1, 7, 1, 1, 1, 1, 2, 2, 3, 1, 2, 8, 1, 1, 1, 1, 2, 1, 2, 1, 1, 1, 12, 1, 1, 1, 1, 3, 3, 1, 1, 1, 3, 1, 15, 1, 1, 1, 1, 6, 1, 1, 1, 2, 1, 2, 1, 1, 1, 1, 1, 1, 1, 1, 1, 1, 4, 1, 1, 1, 1, 1, 8, 1, 1, 1, 3, 1, 1, 1, 1, 1, 1, 1, 1, 1, 1, 1, 1, 1, 1, 1, 1, 1, 1, 1, 1, 1, 1, 1, 1, 1, 1, 1, 1, 1, 1, 1, 1, 1, 1, 1, 1, 1, 1, 2, 1, 1, 1, 1, 1, 1, 1, 1, 1, 1, 1, 1, 1, 1, 1, 1, 1, 1, 1, 1, 1, 1, 1, 1, 1, 1, 1, 1, 1, 1, 1, 1, 2, 1, 1, 1, 1, 1, 1, 1, 1, 2, 1, 1, 1, 1, 1, 1, 1, 1, 9, 1, 1, 1, 1, 1, 6, 1, 1, 1, 1, 1, 1, 1, 1, 1, 1, 1, 1, 1, 1, 1, 1, 1, 1, 1, 1, 1, 1, 1, 1, 1, 1, 1, 1, 1, 1, 1, 1, 1, 1, 1, 1, 1, 2, 3, 2, 2, 1, 1, 2, 3, 1, 5, 1, 2, 1, 1, 1, 1, 4, 3, 6, 1, 1, 1, 1, 1, 1, 1, 2, 1, 1, 1, 1, 1, 1, 1, 1, 1, 1, 1, 1, 1, 1, 1, 1, 1, 1, 2, 1, 1, 1, 1, 1, 1, 1, 1, 2, 1, 3, 1, 20, 27, 1, 1, 1, 1, 1, 1, 1, 1, 1, 1, 1, 1, 1, 1, 1, 1, 1, 1, 1, 1, 2, 1, 1, 1, 1, 1, 1, 1, 1, 1, 2, 1, 3, 3, 1, 2, 1, 1, 1, 1, 2, 1, 45, 1, 1, 1, 1, 1, 1, 1, 1, 1, 1, 1, 1, 1, 1, 1, 2, 1, 1, 1, 1, 1, 1, 1, 1, 1, 1, 1, 1, 1, 1, 1, 1, 1, 1, 1, 1, 1, 1, 1, 1, 1, 1, 1, 1, 1, 1, 1, 1, 1, 1, 1, 1, 1, 1, 1, 1, 1, 1, 1, 1, 1, 1, 1, 1, 1, 1, 1, 1, 1, 1, 1, 1, 1, 1, 1, 1, 1, 1, 1, 1, 1, 3, 1, 1, 1, 1, 1, 1, 1, 1, 1, 1, 1, 1, 1, 1, 1, 1, 1, 1, 1, 1, 1, 1, 1, 1, 1, 1, 1, 1, 1, 1, 1, 1, 1, 2, 1, 1, 1, 1, 1, 1, 1, 1, 1, 1, 1, 1, 1, 1, 1, 1, 1, 1, 1, 1, 2, 1, 1, 1, 1, 1, 1, 1, 1, 1, 1, 1, 1, 1, 1, 1, 1, 1, 1, 1, 2, 1, 2, 2, 1, 1, 1, 1, 2, 1, 1, 1, 1, 1, 1, 1, 1, 1, 1, 1, 1, 1, 1, 1, 1, 1, 1, 1, 1, 1, 1, 1, 1, 1, 1, 1, 1, 1, 1, 1, 1, 1, 1, 1, 1, 1, 1, 5, 1, 1, 1, 1, 2, 1, 2, 1, 1, 1, 1, 1, 1, 1, 1, 1, 1, 1, 1, 1, 1, 1, 1, 1, 1, 1, 1, 1, 1, 1, 1, 1, 1, 1, 1, 1, 1, 1, 1, 1, 1, 1, 1, 1, 1, 1, 1, 1, 1, 1, 1, 1, 1, 1, 1, 1, 1, 1, 1, 1, 1, 1, 1, 1, 1, 1, 1, 1, 1, 1, 1, 1, 1, 1, 1, 1, 1, 1, 1, 1, 1, 1, 2, 1, 1, 2, 1, 1, 1, 1, 1, 1, 1, 1, 1, 1, 1, 1, 1, 1, 3, 1, 1, 1, 5, 2, 1, 1, 7, 1, 1, 1, 1, 1, 1, 1, 1, 1, 28, 1, 1, 1, 1, 1, 1, 1, 1, 1, 1, 2, 1, 1, 1, 1, 1, 1, 1, 1, 1, 1, 1, 2, 2, 1, 1, 1, 1, 1, 1, 1, 1, 1, 1, 1, 9, 6, 1, 1, 1, 1, 1, 1, 1, 1, 1, 1, 1, 1, 1, 2, 1, 2, 1, 1, 1, 1, 1, 1, 1, 1, 1, 1, 1, 1, 1, 1, 1, 1, 1, 4, 12, 1, 2, 2, 2, 2, 1, 2, 6, 2, 1, 4, 7, 1, 1, 2, 2, 1, 2, 1, 3, 3, 1, 1, 2, 5, 4, 1, 1, 1, 1, 1, 1, 1, 1, 1, 1, 1, 2, 1, 1, 1, 2, 1, 1, 35, 1, 1, 1, 1, 1, 1, 1, 1, 1, 3, 74, 1, 1, 1, 1, 3, 1, 2, 1, 2, 3, 1, 1, 1, 1, 1, 1, 1, 1, 2, 2, 1, 1, 1, 1, 1, 1, 1, 1, 1, 2, 1, 1, 1, 2, 1, 2, 1, 1, 1, 1, 1, 1, 1, 1, 1, 1, 1, 1, 1, 1, 1, 1, 1, 5, 2, 1, 1, 1, 1, 1, 1, 1, 1, 1, 2, 1, 1, 1, 1, 1, 1, 1, 13, 1, 3, 2, 1, 1, 1, 1, 1, 1, 1, 1, 1, 1, 1, 1, 1, 1, 1, 1, 1, 1, 1, 1, 1, 5, 1, 1, 1, 2, 1, 1, 1, 1, 1, 1, 1, 1, 1, 1, 1, 1, 1, 1, 1, 1, 1, 1, 1, 1, 1, 1, 1, 1, 1, 1, 1, 1, 1, 1, 1, 1, 1, 1, 1, 1, 1, 1, 1, 1, 1, 1, 1, 1, 1, 1, 1, 1, 1, 1, 1, 1, 2, 1, 1, 1, 1, 1, 1, 1, 1, 1, 1, 1, 2, 1, 1, 1, 1, 1, 1, 1, 1, 1, 1, 1, 1, 1, 1, 1, 1, 1, 1, 1, 1, 1, 1, 1, 1, 1, 1, 1, 1, 1, 1, 1, 1, 1, 1, 1, 1, 1, 1, 1, 1, 5, 1, 1, 1, 1, 1, 1, 1, 1, 1, 1, 1, 4, 1, 1, 8, 10, 1, 1, 1, 1, 1, 1, 1, 1, 1, 1, 1, 1, 1, 1, 1, 1, 1, 1, 1, 1, 1, 1, 3, 1, 3, 1, 1, 1, 2, 1, 1, 1, 1, 1, 1, 1, 1, 1, 1, 1, 1, 2, 1, 1, 1, 1, 1, 1, 1, 1, 1, 22, 1, 1, 1, 1, 1, 1, 1, 1, 1, 1, 1, 1, 1, 1, 1, 1, 1, 1, 1, 1, 1, 1, 1, 1, 2, 1, 1, 1, 1, 1, 1, 1, 1, 1, 1, 1, 1, 1, 1, 1, 1, 1, 1, 1, 1, 1, 1, 2, 2, 1, 1, 1, 1, 1, 1, 1, 1, 1, 1, 1, 1, 1, 1, 1, 1, 1, 1, 1, 1, 1, 1, 1, 1, 1, 1, 1, 1, 1, 1, 1, 1, 1, 1, 1, 1, 1, 1, 1, 2, 2, 2, 1, 1, 1, 1, 1, 1, 1, 4, 1, 1, 1, 1, 1, 1, 1, 1, 1, 1, 1, 1, 1, 1, 1, 1, 1, 1, 1, 1, 1, 2, 3, 1, 2, 1, 1, 1, 2, 1, 1, 2, 1, 1, 1, 1, 1, 1, 1, 1, 1, 2, 1, 1, 1, 1, 1, 1, 1, 1, 1, 1, 1, 1, 1, 1, 1, 1, 1, 1, 1, 1, 1, 3, 1, 1, 1, 1, 5, 1, 1, 1, 1, 1, 1, 1, 1, 1, 1, 1, 1, 1, 1, 1, 1, 1, 1, 1, 1, 1, 1, 1, 1, 1, 1, 1, 1, 1, 1, 2, 1, 1, 1, 2, 39, 1, 1, 1, 1, 1, 1, 1, 1, 1, 1, 1, 1, 1, 1, 1, 1, 1, 1, 1, 1, 1, 1, 1, 1, 1, 1, 1, 1, 1, 1, 1, 1, 1, 1, 1, 1, 1, 1, 1, 1, 1, 1, 1, 1, 1, 1, 1, 1, 1, 1, 1, 1, 1, 1, 1, 1, 2, 1, 2, 1, 1, 1, 1, 1, 1, 1, 1, 1, 1, 1, 1, 1, 4, 1, 2, 1, 1, 1, 1, 1, 2, 1, 1, 1, 1, 1, 1, 1, 1, 1, 1, 1, 1, 1, 1, 1, 1, 1, 1, 1, 1, 1, 1, 1, 1, 1, 1, 1, 1, 1, 1, 1, 1, 1, 1, 1, 1, 1, 1, 1, 1, 1, 1, 1, 1, 1, 1, 1, 1, 1, 3, 1, 1, 1, 1, 1, 1, 1, 1, 2, 1, 1, 1, 1, 1, 1, 1, 1, 1, 8, 1, 1, 1, 1, 1, 1, 1, 1, 1, 1, 1, 2, 1, 1, 1, 1, 1, 1, 1, 1, 1, 1, 1, 1, 1, 1, 1, 1, 1, 1, 1, 1, 1, 1, 1, 1, 1, 3, 1, 1, 1, 1, 1, 1, 1, 1, 1, 1, 1, 1, 1, 1, 1, 1, 2, 1, 1, 2, 1, 1, 1, 1, 1, 1, 1, 1, 1, 1, 1, 1, 1, 1, 1, 1, 1, 1, 1, 1, 1, 1, 1, 1, 1, 2, 1, 1, 1, 1, 1, 1, 2, 2, 1, 1, 1, 1, 1, 1, 1, 1, 1, 1, 1, 1, 1, 1, 1, 1, 1, 1, 1, 8, 1, 1, 1, 1, 1, 1, 1, 1, 26, 1, 1, 1, 1, 1, 1, 1, 1, 1, 1, 1, 1, 1, 1, 1, 1, 1, 1, 1, 1, 1, 1, 1, 1, 1, 1, 1, 1, 1, 1, 1, 1, 1, 1, 1, 1, 1, 1, 1, 1, 1, 1, 1, 1, 1, 1, 1, 5, 2, 1, 1, 1, 1, 1, 1, 1, 1, 1, 1, 1, 1, 1, 1, 1, 1, 1, 1, 1, 1, 1, 1, 1, 1, 1, 1, 1, 1, 1, 1, 1, 1, 1, 1, 1, 1, 1, 1, 1, 1, 1, 1, 1, 1, 1, 1, 1, 1, 1, 1, 1, 1, 1, 1, 1, 1, 1, 1, 1, 1, 1, 1, 1, 1, 1, 1, 1, 1, 1, 1, 1, 1, 1, 1, 1, 1, 1, 1, 1, 1, 1, 2, 1, 1, 1, 1, 1, 1, 1, 1, 1, 1, 1, 1, 25, 1, 1, 1, 1, 1, 1, 1, 2, 1, 1, 1, 2, 1, 3, 1, 1, 1, 1, 1, 1, 1, 1, 1, 1, 1, 3, 1, 1, 1, 1, 1, 1, 1, 1, 1, 1, 1, 1, 1, 2, 1, 2, 1, 3, 1, 1, 1, 6, 1, 1, 1]\n"
          ]
        }
      ]
    },
    {
      "cell_type": "code",
      "metadata": {
        "colab": {
          "base_uri": "https://localhost:8080/"
        },
        "id": "C0Qmrkz0QkIa",
        "outputId": "444a415f-ad40-4777-a674-f17312b8a4d2"
      },
      "source": [
        "#grado medio:promedio de los grados de cada nodo\n",
        "grado_medio= sum(grados)/len(grados)\n",
        "print(grado_medio)"
      ],
      "id": "C0Qmrkz0QkIa",
      "execution_count": 36,
      "outputs": [
        {
          "output_type": "stream",
          "name": "stdout",
          "text": [
            "4.693668341708543\n"
          ]
        }
      ]
    },
    {
      "cell_type": "code",
      "metadata": {
        "colab": {
          "base_uri": "https://localhost:8080/"
        },
        "id": "rFBZIgSEQj0V",
        "outputId": "84fb9623-fb3b-473f-c779-88d1aa2cf19d"
      },
      "source": [
        "#ASORTATIVIDAD BASADA EN EL GRADO; DEGREE CORRELATION; DEGREE ASSORTATIVITY\n",
        "r = nx.degree_assortativity_coefficient(dir_G)\n",
        "print(r)\n",
        "#el valor negaticoindica  que la red es disortativa\n"
      ],
      "id": "rFBZIgSEQj0V",
      "execution_count": 39,
      "outputs": [
        {
          "output_type": "stream",
          "name": "stdout",
          "text": [
            "-0.2213190254294167\n"
          ]
        }
      ]
    },
    {
      "cell_type": "code",
      "metadata": {
        "colab": {
          "base_uri": "https://localhost:8080/"
        },
        "id": "MoD80t79MmuN",
        "outputId": "842ce54b-bf44-4051-ea6d-0ca65fb790d3"
      },
      "source": [
        "#Construimos un DataFrame de pandas para almacenar la estadística de los nodos\n",
        "df3 = pd.DataFrame(index=list(dir_G.nodes()))\n",
        "df3.shape"
      ],
      "id": "MoD80t79MmuN",
      "execution_count": 43,
      "outputs": [
        {
          "output_type": "execute_result",
          "data": {
            "text/plain": [
              "(39800, 0)"
            ]
          },
          "metadata": {},
          "execution_count": 43
        }
      ]
    },
    {
      "cell_type": "markdown",
      "metadata": {
        "id": "Fk3Le0_wXBnk"
      },
      "source": [
        "# TRANSITIVIDAD Coeficiente de clustering "
      ],
      "id": "Fk3Le0_wXBnk"
    },
    {
      "cell_type": "code",
      "metadata": {
        "colab": {
          "base_uri": "https://localhost:8080/",
          "height": 423
        },
        "id": "8jnt0l-AW5b5",
        "outputId": "f61787d6-0d28-4630-f28a-482b3579af22"
      },
      "source": [
        "clustering_coefficient = nx.clustering(dir_G)\n",
        "df3['Cws'] = list(clustering_coefficient.values())\n",
        "df3"
      ],
      "id": "8jnt0l-AW5b5",
      "execution_count": 46,
      "outputs": [
        {
          "output_type": "execute_result",
          "data": {
            "text/html": [
              "<div>\n",
              "<style scoped>\n",
              "    .dataframe tbody tr th:only-of-type {\n",
              "        vertical-align: middle;\n",
              "    }\n",
              "\n",
              "    .dataframe tbody tr th {\n",
              "        vertical-align: top;\n",
              "    }\n",
              "\n",
              "    .dataframe thead th {\n",
              "        text-align: right;\n",
              "    }\n",
              "</style>\n",
              "<table border=\"1\" class=\"dataframe\">\n",
              "  <thead>\n",
              "    <tr style=\"text-align: right;\">\n",
              "      <th></th>\n",
              "      <th>Cws</th>\n",
              "    </tr>\n",
              "  </thead>\n",
              "  <tbody>\n",
              "    <tr>\n",
              "      <th>2737379453</th>\n",
              "      <td>0.000000</td>\n",
              "    </tr>\n",
              "    <tr>\n",
              "      <th>2258074658</th>\n",
              "      <td>0.052632</td>\n",
              "    </tr>\n",
              "    <tr>\n",
              "      <th>159909978</th>\n",
              "      <td>0.000000</td>\n",
              "    </tr>\n",
              "    <tr>\n",
              "      <th>105301854</th>\n",
              "      <td>0.066667</td>\n",
              "    </tr>\n",
              "    <tr>\n",
              "      <th>290671142</th>\n",
              "      <td>0.066667</td>\n",
              "    </tr>\n",
              "    <tr>\n",
              "      <th>...</th>\n",
              "      <td>...</td>\n",
              "    </tr>\n",
              "    <tr>\n",
              "      <th>2765081259</th>\n",
              "      <td>0.000000</td>\n",
              "    </tr>\n",
              "    <tr>\n",
              "      <th>339254354</th>\n",
              "      <td>0.000000</td>\n",
              "    </tr>\n",
              "    <tr>\n",
              "      <th>346605471</th>\n",
              "      <td>0.000000</td>\n",
              "    </tr>\n",
              "    <tr>\n",
              "      <th>58065646</th>\n",
              "      <td>0.000000</td>\n",
              "    </tr>\n",
              "    <tr>\n",
              "      <th>823874633216692225</th>\n",
              "      <td>0.000000</td>\n",
              "    </tr>\n",
              "  </tbody>\n",
              "</table>\n",
              "<p>39800 rows × 1 columns</p>\n",
              "</div>"
            ],
            "text/plain": [
              "                         Cws\n",
              "2737379453          0.000000\n",
              "2258074658          0.052632\n",
              "159909978           0.000000\n",
              "105301854           0.066667\n",
              "290671142           0.066667\n",
              "...                      ...\n",
              "2765081259          0.000000\n",
              "339254354           0.000000\n",
              "346605471           0.000000\n",
              "58065646            0.000000\n",
              "823874633216692225  0.000000\n",
              "\n",
              "[39800 rows x 1 columns]"
            ]
          },
          "metadata": {},
          "execution_count": 46
        }
      ]
    },
    {
      "cell_type": "code",
      "metadata": {
        "id": "N7PZRn9YW5Lg"
      },
      "source": [
        ""
      ],
      "id": "N7PZRn9YW5Lg",
      "execution_count": null,
      "outputs": []
    },
    {
      "cell_type": "code",
      "metadata": {
        "id": "N16BkF50W5Jr"
      },
      "source": [
        ""
      ],
      "id": "N16BkF50W5Jr",
      "execution_count": null,
      "outputs": []
    }
  ]
}