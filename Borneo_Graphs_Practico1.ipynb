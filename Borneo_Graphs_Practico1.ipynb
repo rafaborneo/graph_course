{
  "nbformat": 4,
  "nbformat_minor": 5,
  "metadata": {
    "kernelspec": {
      "display_name": "Python [conda env:graphML] *",
      "language": "python",
      "name": "conda-env-graphML-py"
    },
    "language_info": {
      "codemirror_mode": {
        "name": "ipython",
        "version": 3
      },
      "file_extension": ".py",
      "mimetype": "text/x-python",
      "name": "python",
      "nbconvert_exporter": "python",
      "pygments_lexer": "ipython3",
      "version": "3.9.7"
    },
    "colab": {
      "name": "Borneo_Graphs_Practico1.ipynb",
      "provenance": [],
      "include_colab_link": true
    }
  },
  "cells": [
    {
      "cell_type": "markdown",
      "metadata": {
        "id": "view-in-github",
        "colab_type": "text"
      },
      "source": [
        "<a href=\"https://colab.research.google.com/github/rafaborneo/graph_course/blob/main/Borneo_Graphs_Practico1.ipynb\" target=\"_parent\"><img src=\"https://colab.research.google.com/assets/colab-badge.svg\" alt=\"Open In Colab\"/></a>"
      ]
    },
    {
      "cell_type": "markdown",
      "metadata": {
        "id": "a49e9927-f016-4660-89df-26c5800aea8b"
      },
      "source": [
        "# Práctico 1"
      ],
      "id": "a49e9927-f016-4660-89df-26c5800aea8b"
    },
    {
      "cell_type": "markdown",
      "metadata": {
        "jp-MarkdownHeadingCollapsed": true,
        "tags": [],
        "id": "5fe2ae9e-6076-4a12-931c-5349ee7eb2d3"
      },
      "source": [
        "En este práctico, correspondiente a la primera mitad de la materia, trabajaremos con un dataset extraído de Twitter. La idea es emplear los conceptos de grafos vistos en clase sobre un caso real de actualidad.\n",
        "\n",
        "## Dataset\n",
        "\n",
        "El dataset consiste en un conjunto de hilos de tweets, con un total de ~150000 tweets, extraídos entre Enero y Marzo de 2021. La temática de los mismos está referida a la vacunación contra el covid-19 en Argentina.\n",
        "\n",
        "Pueden descargar el dataset del siguiente [link](https://drive.google.com/file/d/1X_qKsE8muAnom2tDX4sLlmBAO0Ikfe_G/view?usp=sharing).\n",
        "\n",
        "### Campos\n",
        "\n",
        "- **created_at:** Fecha del tweet\n",
        "- **id_str:** ID del tweet\n",
        "- **full_text:** Contenido del tweet\n",
        "- **in_reply_to_status_id:** ID del tweet inmediatamente anterior en el hilo\n",
        "- **in_reply_to_user_id:** Autor del tweet inmediatamente anterior en el hilo\n",
        "- **user.id:** Autor del tweet\n",
        "- **user_retweeters:** Lista de ID de usuarios que retweetearon el tweet\n",
        "- **sentiment:** Etiquetado manual que indica el sentimiento o intención del tweet con respecto al tweet anterior en el hilo"
      ],
      "id": "5fe2ae9e-6076-4a12-931c-5349ee7eb2d3"
    },
    {
      "cell_type": "markdown",
      "metadata": {
        "id": "8eed8c8b-8c40-4d18-b4ad-c853e1c3b7d1"
      },
      "source": [
        "## Configuración inicial"
      ],
      "id": "8eed8c8b-8c40-4d18-b4ad-c853e1c3b7d1"
    },
    {
      "cell_type": "code",
      "metadata": {
        "id": "a23c83a7-0c4e-4bff-b8cb-253671e5d1d6"
      },
      "source": [
        "import numpy as np\n",
        "import pandas as pd\n",
        "import networkx as nx\n",
        "import matplotlib.pyplot as plt\n",
        "import seaborn as sns\n",
        "%matplotlib inline\n",
        "\n",
        "sns.set_context('talk')\n",
        "#from pathlib import Path\n",
        "\n",
        "## Descargar el csv con los datos en este directorio\n",
        "#DATA_DIR = Path('C:\\Users\\Rafael\\Documents\\AREA TRABAJO\\DIPLODATOS 2021\\7_opt_Analisis_Grafos\\clases\\Practico')\n",
        "#INPUT_FILE = DATA_DIR / 'vacunas.csv'\n",
        "\n",
        "## Creamos el directorio en caso de que no exista\n",
        "#DATA_DIR.mkdir(parents=True, exist_ok=True)"
      ],
      "id": "a23c83a7-0c4e-4bff-b8cb-253671e5d1d6",
      "execution_count": 11,
      "outputs": []
    },
    {
      "cell_type": "markdown",
      "metadata": {
        "id": "acf6889f-86be-4fc8-b281-a738b8d475c4"
      },
      "source": [
        "### Cargamos el dataset"
      ],
      "id": "acf6889f-86be-4fc8-b281-a738b8d475c4"
    },
    {
      "cell_type": "code",
      "metadata": {
        "colab": {
          "base_uri": "https://localhost:8080/",
          "height": 556
        },
        "id": "e43cef47-be3b-47ba-9a07-9373013580ec",
        "outputId": "f3b9ea44-6527-450e-cb60-06ce9be59804"
      },
      "source": [
        "dtypes = {\n",
        "    'id_str': str,\n",
        "    'full_text': str,\n",
        "    'in_reply_to_status_id': str,\n",
        "    'in_reply_to_user_id': str,\n",
        "    'user.id': str\n",
        "}\n",
        "df = pd.read_csv(\"vacunas.csv\", dtype=dtypes).dropna(subset=['user_retweeters'])\n",
        "df['user_retweeters'] = df['user_retweeters'].apply(lambda x: [str(elem) for elem in eval(x)])\n",
        "print(df.shape)\n",
        "df.head()"
      ],
      "id": "e43cef47-be3b-47ba-9a07-9373013580ec",
      "execution_count": 12,
      "outputs": [
        {
          "output_type": "stream",
          "name": "stdout",
          "text": [
            "(155123, 8)\n"
          ]
        },
        {
          "output_type": "execute_result",
          "data": {
            "text/html": [
              "<div>\n",
              "<style scoped>\n",
              "    .dataframe tbody tr th:only-of-type {\n",
              "        vertical-align: middle;\n",
              "    }\n",
              "\n",
              "    .dataframe tbody tr th {\n",
              "        vertical-align: top;\n",
              "    }\n",
              "\n",
              "    .dataframe thead th {\n",
              "        text-align: right;\n",
              "    }\n",
              "</style>\n",
              "<table border=\"1\" class=\"dataframe\">\n",
              "  <thead>\n",
              "    <tr style=\"text-align: right;\">\n",
              "      <th></th>\n",
              "      <th>created_at</th>\n",
              "      <th>id_str</th>\n",
              "      <th>full_text</th>\n",
              "      <th>in_reply_to_status_id</th>\n",
              "      <th>in_reply_to_user_id</th>\n",
              "      <th>user.id</th>\n",
              "      <th>user_retweeters</th>\n",
              "      <th>sentiment</th>\n",
              "    </tr>\n",
              "  </thead>\n",
              "  <tbody>\n",
              "    <tr>\n",
              "      <th>0</th>\n",
              "      <td>Sat Feb 20 03:09:10 +0000 2021</td>\n",
              "      <td>1362962469749153792</td>\n",
              "      <td>Seguimos esperando el comunicado de @norabar r...</td>\n",
              "      <td>NaN</td>\n",
              "      <td>NaN</td>\n",
              "      <td>2737379453</td>\n",
              "      <td>[2258074658, 159909978, 105301854, 290671142, ...</td>\n",
              "      <td>NaN</td>\n",
              "    </tr>\n",
              "    <tr>\n",
              "      <th>1</th>\n",
              "      <td>Sat Feb 20 03:19:59 +0000 2021</td>\n",
              "      <td>1362965193509265417</td>\n",
              "      <td>@Clon_43 @norabar Nora estaba indignada porque...</td>\n",
              "      <td>1362962469749153792</td>\n",
              "      <td>2737379453</td>\n",
              "      <td>32718111</td>\n",
              "      <td>[]</td>\n",
              "      <td>NaN</td>\n",
              "    </tr>\n",
              "    <tr>\n",
              "      <th>2</th>\n",
              "      <td>Mon Feb 22 23:55:08 +0000 2021</td>\n",
              "      <td>1364000806740111363</td>\n",
              "      <td>Bueno, Alberto dijo Salud o Economía. La salud...</td>\n",
              "      <td>NaN</td>\n",
              "      <td>NaN</td>\n",
              "      <td>252168075</td>\n",
              "      <td>[1238117630696972289, 37232479, 12792246571247...</td>\n",
              "      <td>NaN</td>\n",
              "    </tr>\n",
              "    <tr>\n",
              "      <th>3</th>\n",
              "      <td>Tue Feb 23 00:09:14 +0000 2021</td>\n",
              "      <td>1364004354374696963</td>\n",
              "      <td>@spitta1969 Tuit del mes Spitta</td>\n",
              "      <td>1364000806740111363</td>\n",
              "      <td>252168075</td>\n",
              "      <td>1156346340802224128</td>\n",
              "      <td>[]</td>\n",
              "      <td>NaN</td>\n",
              "    </tr>\n",
              "    <tr>\n",
              "      <th>4</th>\n",
              "      <td>Tue Feb 23 00:00:17 +0000 2021</td>\n",
              "      <td>1364002100364128260</td>\n",
              "      <td>@spitta1969 Estas onfire</td>\n",
              "      <td>1364000806740111363</td>\n",
              "      <td>252168075</td>\n",
              "      <td>153663816</td>\n",
              "      <td>[]</td>\n",
              "      <td>NaN</td>\n",
              "    </tr>\n",
              "  </tbody>\n",
              "</table>\n",
              "</div>"
            ],
            "text/plain": [
              "                       created_at  ... sentiment\n",
              "0  Sat Feb 20 03:09:10 +0000 2021  ...       NaN\n",
              "1  Sat Feb 20 03:19:59 +0000 2021  ...       NaN\n",
              "2  Mon Feb 22 23:55:08 +0000 2021  ...       NaN\n",
              "3  Tue Feb 23 00:09:14 +0000 2021  ...       NaN\n",
              "4  Tue Feb 23 00:00:17 +0000 2021  ...       NaN\n",
              "\n",
              "[5 rows x 8 columns]"
            ]
          },
          "metadata": {},
          "execution_count": 12
        }
      ]
    },
    {
      "cell_type": "markdown",
      "metadata": {
        "tags": [],
        "id": "bd778ff2-c52b-4541-83bb-ab515e233fb3"
      },
      "source": [
        "### Observamos algunos ejemplos"
      ],
      "id": "bd778ff2-c52b-4541-83bb-ab515e233fb3"
    },
    {
      "cell_type": "code",
      "metadata": {
        "colab": {
          "base_uri": "https://localhost:8080/"
        },
        "id": "626fb5fa-2875-47c0-9e30-cb1a456a1c13",
        "outputId": "711148bf-d12e-4eaa-d698-a4205ee3f9e2"
      },
      "source": [
        "idx = 0\n",
        "print('Texto:', df.full_text.values[idx])\n",
        "print('Retweets:', len(df.user_retweeters.values[idx]))"
      ],
      "id": "626fb5fa-2875-47c0-9e30-cb1a456a1c13",
      "execution_count": 13,
      "outputs": [
        {
          "output_type": "stream",
          "name": "stdout",
          "text": [
            "Texto: Seguimos esperando el comunicado de @norabar repudiando la situación respecto del gobierno y el tema vacunas. Seamos pacientes que con esto de la pandemia anda con mucho \"laburo\".\n",
            "Retweets: 9\n"
          ]
        }
      ]
    },
    {
      "cell_type": "code",
      "metadata": {
        "colab": {
          "base_uri": "https://localhost:8080/"
        },
        "id": "f6ca9ab4-d966-4613-8d06-b139b30255b8",
        "outputId": "0968ab02-f84c-44c7-8118-dcd305608fe1"
      },
      "source": [
        "idx = 376\n",
        "print('Text:', df.full_text.values[idx])\n",
        "print('Retweets:', len(df.user_retweeters.values[idx]))"
      ],
      "id": "f6ca9ab4-d966-4613-8d06-b139b30255b8",
      "execution_count": 14,
      "outputs": [
        {
          "output_type": "stream",
          "name": "stdout",
          "text": [
            "Text: Todo lo que hay que entender sobre la decisión –o no– de poner más vacunas en más brazos (por ejemplo, usar las 1º dosis en muchos y si es necesario retrasar la 2º) está en esta excelente nota de Nora Bär. https://t.co/A0I03DyxgO\n",
            "Retweets: 48\n"
          ]
        }
      ]
    },
    {
      "cell_type": "markdown",
      "metadata": {
        "id": "1d3911d7-cc49-4d84-95b6-4f096f5f56c3"
      },
      "source": [
        "### Calculamos la cantidad de hilos"
      ],
      "id": "1d3911d7-cc49-4d84-95b6-4f096f5f56c3"
    },
    {
      "cell_type": "code",
      "metadata": {
        "colab": {
          "base_uri": "https://localhost:8080/"
        },
        "id": "59b6c11f-5766-45e4-a264-f3733df8694d",
        "outputId": "e1b2925b-3811-48ec-a881-4a0142555aba"
      },
      "source": [
        "roots = df[df['in_reply_to_user_id'].isna()]\n",
        "roots.shape"
      ],
      "id": "59b6c11f-5766-45e4-a264-f3733df8694d",
      "execution_count": 15,
      "outputs": [
        {
          "output_type": "execute_result",
          "data": {
            "text/plain": [
              "(3174, 8)"
            ]
          },
          "metadata": {},
          "execution_count": 15
        }
      ]
    },
    {
      "cell_type": "markdown",
      "metadata": {
        "tags": [],
        "id": "8d0fa0b4-fe03-444b-9705-f50474a2ae24"
      },
      "source": [
        "## Actividades\n",
        "\n",
        "### **1. Construcción del grafo** \n",
        "\n",
        "Construir el **grafo de retweets**, definido de la siguiente manera:\n",
        "\n",
        "- Tipo de grafo: Dirigido\n",
        "- Nodos: ID de los usuarios\n",
        "- Enlaces: (Usuario A) ---> (Usuario B) si B retweeteó algún tweet de A\n",
        "\n",
        "Con estos datos, el grafo debería tener alrededor de 40000 nodos y 90000 enlaces.\n",
        "\n",
        "Considerar la versión no dirigida del grafo y estudiar su conectividad. Si existe una única \"componente gigante\", realizar el resto de las actividades sobre ella, en lugar de sobre el grafo completo.\n",
        "\n",
        "Calcular las siguientes métricas globales del grafo:\n",
        "\n",
        "- Grado medio\n",
        "- Asortatividad\n",
        "- Transitividad\n",
        "- Coeficiente de clustering de Watts-Strogatz\n",
        "\n",
        "**Opcional:** Comparar las métricas calculadas anteriormente con las de un grafo aleatorio con la misma distribución de grado. Pueden utilizar para ello este [método](https://networkx.org/documentation/stable/reference/generated/networkx.generators.degree_seq.configuration_model.html?highlight=configuration#networkx.generators.degree_seq.configuration_model). Con esto en mente, comentar si los valores obtenidos anteriormente difieren significativamente del caso aleatorio.\n",
        "\n",
        "\n",
        "### **2. Centralidad**\n",
        "\n",
        "Calcular 5 métricas de centralidad de nodos. Graficar la distribución de cada una de ellas ¿Existe alguna correlación entre las distintas centralidades? \n",
        "\n",
        "Hacer un ranking con los 10 nodos más centrales para cada métrica. ¿Hay coincidencia entre los rankings?. ¿Qué características tienen los usuarios más centrales y sus respectivos tweets?\n",
        "\n",
        "**Opcional:** Determinar si existe alguna correlación entre la centralidad de un nodo y su actividad en red social. Es decir, evaluar si los usuarios que más escriben son los más centrales o no.\n",
        "\n",
        "### **3. Comunidades**\n",
        "\n",
        "Utilizar el algoritmo de Louvain con el parámetro \"resolución\" igual a 1. Caracterizar las comunidades halladas (cantidad, distribución de tamaños). Utilizar la modularidad y otras dos métricas a elección para evaluar la calidad de la partición encontrada. \n",
        "\n",
        "Variar el parámetro \"resolución\" y observar cómo cambia la distribución de comunidades encontradas. ¿Existe algún valor para el cual se identifiquen dos grandes comunidades?\n",
        "\n",
        "Elegir otro algoritmo de detección de comunidades y comparar los resultados con los obtenidos anteriormente.\n",
        "\n",
        "**Opcional:** Correr el algoritmo de Louvain con distintas semillas aleatorias. Utilizar alguna métrica de comparación externa entre las particiones obtenidas para determinar en qué medida depende el algoritmo de la condición inicial."
      ],
      "id": "8d0fa0b4-fe03-444b-9705-f50474a2ae24"
    },
    {
      "cell_type": "code",
      "metadata": {
        "colab": {
          "base_uri": "https://localhost:8080/",
          "height": 764
        },
        "id": "dMcwmKO5OOkd",
        "outputId": "25f7b232-4f85-4fce-921a-1d104050e913"
      },
      "source": [
        "\n",
        "#expansion columna user_retweeters\n",
        "df1= df.explode(\"user_retweeters\", ignore_index=True)\n",
        "print(df1.shape)\n",
        "df1.head()"
      ],
      "id": "dMcwmKO5OOkd",
      "execution_count": 16,
      "outputs": [
        {
          "output_type": "stream",
          "name": "stdout",
          "text": [
            "(320948, 8)\n"
          ]
        },
        {
          "output_type": "execute_result",
          "data": {
            "text/html": [
              "<div>\n",
              "<style scoped>\n",
              "    .dataframe tbody tr th:only-of-type {\n",
              "        vertical-align: middle;\n",
              "    }\n",
              "\n",
              "    .dataframe tbody tr th {\n",
              "        vertical-align: top;\n",
              "    }\n",
              "\n",
              "    .dataframe thead th {\n",
              "        text-align: right;\n",
              "    }\n",
              "</style>\n",
              "<table border=\"1\" class=\"dataframe\">\n",
              "  <thead>\n",
              "    <tr style=\"text-align: right;\">\n",
              "      <th></th>\n",
              "      <th>created_at</th>\n",
              "      <th>id_str</th>\n",
              "      <th>full_text</th>\n",
              "      <th>in_reply_to_status_id</th>\n",
              "      <th>in_reply_to_user_id</th>\n",
              "      <th>user.id</th>\n",
              "      <th>user_retweeters</th>\n",
              "      <th>sentiment</th>\n",
              "    </tr>\n",
              "  </thead>\n",
              "  <tbody>\n",
              "    <tr>\n",
              "      <th>0</th>\n",
              "      <td>Sat Feb 20 03:09:10 +0000 2021</td>\n",
              "      <td>1362962469749153792</td>\n",
              "      <td>Seguimos esperando el comunicado de @norabar r...</td>\n",
              "      <td>NaN</td>\n",
              "      <td>NaN</td>\n",
              "      <td>2737379453</td>\n",
              "      <td>2258074658</td>\n",
              "      <td>NaN</td>\n",
              "    </tr>\n",
              "    <tr>\n",
              "      <th>1</th>\n",
              "      <td>Sat Feb 20 03:09:10 +0000 2021</td>\n",
              "      <td>1362962469749153792</td>\n",
              "      <td>Seguimos esperando el comunicado de @norabar r...</td>\n",
              "      <td>NaN</td>\n",
              "      <td>NaN</td>\n",
              "      <td>2737379453</td>\n",
              "      <td>159909978</td>\n",
              "      <td>NaN</td>\n",
              "    </tr>\n",
              "    <tr>\n",
              "      <th>2</th>\n",
              "      <td>Sat Feb 20 03:09:10 +0000 2021</td>\n",
              "      <td>1362962469749153792</td>\n",
              "      <td>Seguimos esperando el comunicado de @norabar r...</td>\n",
              "      <td>NaN</td>\n",
              "      <td>NaN</td>\n",
              "      <td>2737379453</td>\n",
              "      <td>105301854</td>\n",
              "      <td>NaN</td>\n",
              "    </tr>\n",
              "    <tr>\n",
              "      <th>3</th>\n",
              "      <td>Sat Feb 20 03:09:10 +0000 2021</td>\n",
              "      <td>1362962469749153792</td>\n",
              "      <td>Seguimos esperando el comunicado de @norabar r...</td>\n",
              "      <td>NaN</td>\n",
              "      <td>NaN</td>\n",
              "      <td>2737379453</td>\n",
              "      <td>290671142</td>\n",
              "      <td>NaN</td>\n",
              "    </tr>\n",
              "    <tr>\n",
              "      <th>4</th>\n",
              "      <td>Sat Feb 20 03:09:10 +0000 2021</td>\n",
              "      <td>1362962469749153792</td>\n",
              "      <td>Seguimos esperando el comunicado de @norabar r...</td>\n",
              "      <td>NaN</td>\n",
              "      <td>NaN</td>\n",
              "      <td>2737379453</td>\n",
              "      <td>208721168</td>\n",
              "      <td>NaN</td>\n",
              "    </tr>\n",
              "  </tbody>\n",
              "</table>\n",
              "</div>"
            ],
            "text/plain": [
              "                       created_at  ... sentiment\n",
              "0  Sat Feb 20 03:09:10 +0000 2021  ...       NaN\n",
              "1  Sat Feb 20 03:09:10 +0000 2021  ...       NaN\n",
              "2  Sat Feb 20 03:09:10 +0000 2021  ...       NaN\n",
              "3  Sat Feb 20 03:09:10 +0000 2021  ...       NaN\n",
              "4  Sat Feb 20 03:09:10 +0000 2021  ...       NaN\n",
              "\n",
              "[5 rows x 8 columns]"
            ]
          },
          "metadata": {},
          "execution_count": 16
        }
      ]
    },
    {
      "cell_type": "code",
      "metadata": {
        "id": "FmZCBvHbcXB5"
      },
      "source": [
        "dir_G =  nx.from_pandas_edgelist(df1, source='user.id', target='user_retweeters', edge_attr=None, create_using=None, edge_key=None)"
      ],
      "id": "FmZCBvHbcXB5",
      "execution_count": 17,
      "outputs": []
    },
    {
      "cell_type": "code",
      "metadata": {
        "colab": {
          "base_uri": "https://localhost:8080/"
        },
        "id": "PKfXpkc6Y_i-",
        "outputId": "eae9d093-427a-439e-bcad-14dc4fe32a8d"
      },
      "source": [
        "print(dir_G)"
      ],
      "id": "PKfXpkc6Y_i-",
      "execution_count": 18,
      "outputs": [
        {
          "output_type": "stream",
          "name": "stdout",
          "text": [
            "Graph with 65935 nodes and 133594 edges\n"
          ]
        }
      ]
    }
  ]
}