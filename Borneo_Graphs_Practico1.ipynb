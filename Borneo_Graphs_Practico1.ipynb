{
  "nbformat": 4,
  "nbformat_minor": 5,
  "metadata": {
    "kernelspec": {
      "display_name": "Python [conda env:graphML] *",
      "language": "python",
      "name": "conda-env-graphML-py"
    },
    "language_info": {
      "codemirror_mode": {
        "name": "ipython",
        "version": 3
      },
      "file_extension": ".py",
      "mimetype": "text/x-python",
      "name": "python",
      "nbconvert_exporter": "python",
      "pygments_lexer": "ipython3",
      "version": "3.9.7"
    },
    "colab": {
      "name": "Borneo_Graphs_Practico1.ipynb",
      "provenance": [],
      "include_colab_link": true
    }
  },
  "cells": [
    {
      "cell_type": "markdown",
      "metadata": {
        "id": "view-in-github",
        "colab_type": "text"
      },
      "source": [
        "<a href=\"https://colab.research.google.com/github/rafaborneo/graph_course/blob/main/Borneo_Graphs_Practico1.ipynb\" target=\"_parent\"><img src=\"https://colab.research.google.com/assets/colab-badge.svg\" alt=\"Open In Colab\"/></a>"
      ]
    },
    {
      "cell_type": "markdown",
      "metadata": {
        "id": "a49e9927-f016-4660-89df-26c5800aea8b"
      },
      "source": [
        "# Práctico 1"
      ],
      "id": "a49e9927-f016-4660-89df-26c5800aea8b"
    },
    {
      "cell_type": "markdown",
      "metadata": {
        "jp-MarkdownHeadingCollapsed": true,
        "tags": [],
        "id": "5fe2ae9e-6076-4a12-931c-5349ee7eb2d3"
      },
      "source": [
        "En este práctico, correspondiente a la primera mitad de la materia, trabajaremos con un dataset extraído de Twitter. La idea es emplear los conceptos de grafos vistos en clase sobre un caso real de actualidad.\n",
        "\n",
        "## Dataset\n",
        "\n",
        "El dataset consiste en un conjunto de hilos de tweets, con un total de ~150000 tweets, extraídos entre Enero y Marzo de 2021. La temática de los mismos está referida a la vacunación contra el covid-19 en Argentina.\n",
        "\n",
        "Pueden descargar el dataset del siguiente [link](https://drive.google.com/file/d/1X_qKsE8muAnom2tDX4sLlmBAO0Ikfe_G/view?usp=sharing).\n",
        "\n",
        "### Campos\n",
        "\n",
        "- **created_at:** Fecha del tweet\n",
        "- **id_str:** ID del tweet\n",
        "- **full_text:** Contenido del tweet\n",
        "- **in_reply_to_status_id:** ID del tweet inmediatamente anterior en el hilo\n",
        "- **in_reply_to_user_id:** Autor del tweet inmediatamente anterior en el hilo\n",
        "- **user.id:** Autor del tweet\n",
        "- **user_retweeters:** Lista de ID de usuarios que retweetearon el tweet\n",
        "- **sentiment:** Etiquetado manual que indica el sentimiento o intención del tweet con respecto al tweet anterior en el hilo"
      ],
      "id": "5fe2ae9e-6076-4a12-931c-5349ee7eb2d3"
    },
    {
      "cell_type": "markdown",
      "metadata": {
        "id": "8eed8c8b-8c40-4d18-b4ad-c853e1c3b7d1"
      },
      "source": [
        "## Configuración inicial"
      ],
      "id": "8eed8c8b-8c40-4d18-b4ad-c853e1c3b7d1"
    },
    {
      "cell_type": "code",
      "metadata": {
        "id": "a23c83a7-0c4e-4bff-b8cb-253671e5d1d6"
      },
      "source": [
        "import numpy as np\n",
        "import pandas as pd\n",
        "import networkx as nx\n",
        "import matplotlib.pyplot as plt\n",
        "import seaborn as sns\n",
        "%matplotlib inline\n",
        "\n",
        "sns.set_context('talk')\n",
        "#from pathlib import Path\n",
        "\n",
        "## Descargar el csv con los datos en este directorio\n",
        "#DATA_DIR = Path('C:\\Users\\Rafael\\Documents\\AREA TRABAJO\\DIPLODATOS 2021\\7_opt_Analisis_Grafos\\clases\\Practico')\n",
        "#INPUT_FILE = DATA_DIR / 'vacunas.csv'\n",
        "\n",
        "## Creamos el directorio en caso de que no exista\n",
        "#DATA_DIR.mkdir(parents=True, exist_ok=True)"
      ],
      "id": "a23c83a7-0c4e-4bff-b8cb-253671e5d1d6",
      "execution_count": 7,
      "outputs": []
    },
    {
      "cell_type": "code",
      "metadata": {
        "colab": {
          "base_uri": "https://localhost:8080/"
        },
        "id": "sJjdqo_LbZLa",
        "outputId": "0b33e90a-633f-44fa-bfa7-0b405c1c4be1"
      },
      "source": [
        "!pip install igraph"
      ],
      "id": "sJjdqo_LbZLa",
      "execution_count": 1,
      "outputs": [
        {
          "output_type": "stream",
          "name": "stdout",
          "text": [
            "Collecting igraph\n",
            "  Downloading igraph-0.9.8-cp37-cp37m-manylinux_2_12_x86_64.manylinux2010_x86_64.whl (3.2 MB)\n",
            "\u001b[K     |████████████████████████████████| 3.2 MB 7.5 MB/s \n",
            "\u001b[?25hCollecting texttable>=1.6.2\n",
            "  Downloading texttable-1.6.4-py2.py3-none-any.whl (10 kB)\n",
            "Installing collected packages: texttable, igraph\n",
            "Successfully installed igraph-0.9.8 texttable-1.6.4\n"
          ]
        }
      ]
    },
    {
      "cell_type": "code",
      "metadata": {
        "colab": {
          "base_uri": "https://localhost:8080/"
        },
        "id": "nPSgIxjtbZEu",
        "outputId": "57d32cd1-669e-4718-f277-e8f31e6c8da5"
      },
      "source": [
        "import igraph\n",
        "print(igraph.__version__)"
      ],
      "id": "nPSgIxjtbZEu",
      "execution_count": 2,
      "outputs": [
        {
          "output_type": "stream",
          "name": "stdout",
          "text": [
            "0.9.8\n"
          ]
        }
      ]
    },
    {
      "cell_type": "markdown",
      "metadata": {
        "id": "acf6889f-86be-4fc8-b281-a738b8d475c4"
      },
      "source": [
        "### Cargamos el dataset"
      ],
      "id": "acf6889f-86be-4fc8-b281-a738b8d475c4"
    },
    {
      "cell_type": "code",
      "metadata": {
        "colab": {
          "base_uri": "https://localhost:8080/",
          "height": 555
        },
        "id": "e43cef47-be3b-47ba-9a07-9373013580ec",
        "outputId": "99601aa9-b546-44e1-8073-0375b3be944b"
      },
      "source": [
        "dtypes = {\n",
        "    'id_str': str,\n",
        "    'full_text': str,\n",
        "    'in_reply_to_status_id': str,\n",
        "    'in_reply_to_user_id': str,\n",
        "    'user.id': str\n",
        "}\n",
        "df = pd.read_csv(\"vacunas.csv\", dtype=dtypes).dropna(subset=['user_retweeters'])\n",
        "df['user_retweeters'] = df['user_retweeters'].apply(lambda x: [str(elem) for elem in eval(x)])\n",
        "print(df.shape)\n",
        "df.head()"
      ],
      "id": "e43cef47-be3b-47ba-9a07-9373013580ec",
      "execution_count": 13,
      "outputs": [
        {
          "output_type": "stream",
          "name": "stdout",
          "text": [
            "(155123, 8)\n"
          ]
        },
        {
          "output_type": "execute_result",
          "data": {
            "text/html": [
              "<div>\n",
              "<style scoped>\n",
              "    .dataframe tbody tr th:only-of-type {\n",
              "        vertical-align: middle;\n",
              "    }\n",
              "\n",
              "    .dataframe tbody tr th {\n",
              "        vertical-align: top;\n",
              "    }\n",
              "\n",
              "    .dataframe thead th {\n",
              "        text-align: right;\n",
              "    }\n",
              "</style>\n",
              "<table border=\"1\" class=\"dataframe\">\n",
              "  <thead>\n",
              "    <tr style=\"text-align: right;\">\n",
              "      <th></th>\n",
              "      <th>created_at</th>\n",
              "      <th>id_str</th>\n",
              "      <th>full_text</th>\n",
              "      <th>in_reply_to_status_id</th>\n",
              "      <th>in_reply_to_user_id</th>\n",
              "      <th>user.id</th>\n",
              "      <th>user_retweeters</th>\n",
              "      <th>sentiment</th>\n",
              "    </tr>\n",
              "  </thead>\n",
              "  <tbody>\n",
              "    <tr>\n",
              "      <th>0</th>\n",
              "      <td>Sat Feb 20 03:09:10 +0000 2021</td>\n",
              "      <td>1362962469749153792</td>\n",
              "      <td>Seguimos esperando el comunicado de @norabar r...</td>\n",
              "      <td>NaN</td>\n",
              "      <td>NaN</td>\n",
              "      <td>2737379453</td>\n",
              "      <td>[2258074658, 159909978, 105301854, 290671142, ...</td>\n",
              "      <td>NaN</td>\n",
              "    </tr>\n",
              "    <tr>\n",
              "      <th>1</th>\n",
              "      <td>Sat Feb 20 03:19:59 +0000 2021</td>\n",
              "      <td>1362965193509265417</td>\n",
              "      <td>@Clon_43 @norabar Nora estaba indignada porque...</td>\n",
              "      <td>1362962469749153792</td>\n",
              "      <td>2737379453</td>\n",
              "      <td>32718111</td>\n",
              "      <td>[]</td>\n",
              "      <td>NaN</td>\n",
              "    </tr>\n",
              "    <tr>\n",
              "      <th>2</th>\n",
              "      <td>Mon Feb 22 23:55:08 +0000 2021</td>\n",
              "      <td>1364000806740111363</td>\n",
              "      <td>Bueno, Alberto dijo Salud o Economía. La salud...</td>\n",
              "      <td>NaN</td>\n",
              "      <td>NaN</td>\n",
              "      <td>252168075</td>\n",
              "      <td>[1238117630696972289, 37232479, 12792246571247...</td>\n",
              "      <td>NaN</td>\n",
              "    </tr>\n",
              "    <tr>\n",
              "      <th>3</th>\n",
              "      <td>Tue Feb 23 00:09:14 +0000 2021</td>\n",
              "      <td>1364004354374696963</td>\n",
              "      <td>@spitta1969 Tuit del mes Spitta</td>\n",
              "      <td>1364000806740111363</td>\n",
              "      <td>252168075</td>\n",
              "      <td>1156346340802224128</td>\n",
              "      <td>[]</td>\n",
              "      <td>NaN</td>\n",
              "    </tr>\n",
              "    <tr>\n",
              "      <th>4</th>\n",
              "      <td>Tue Feb 23 00:00:17 +0000 2021</td>\n",
              "      <td>1364002100364128260</td>\n",
              "      <td>@spitta1969 Estas onfire</td>\n",
              "      <td>1364000806740111363</td>\n",
              "      <td>252168075</td>\n",
              "      <td>153663816</td>\n",
              "      <td>[]</td>\n",
              "      <td>NaN</td>\n",
              "    </tr>\n",
              "  </tbody>\n",
              "</table>\n",
              "</div>"
            ],
            "text/plain": [
              "                       created_at  ... sentiment\n",
              "0  Sat Feb 20 03:09:10 +0000 2021  ...       NaN\n",
              "1  Sat Feb 20 03:19:59 +0000 2021  ...       NaN\n",
              "2  Mon Feb 22 23:55:08 +0000 2021  ...       NaN\n",
              "3  Tue Feb 23 00:09:14 +0000 2021  ...       NaN\n",
              "4  Tue Feb 23 00:00:17 +0000 2021  ...       NaN\n",
              "\n",
              "[5 rows x 8 columns]"
            ]
          },
          "metadata": {},
          "execution_count": 13
        }
      ]
    },
    {
      "cell_type": "markdown",
      "metadata": {
        "tags": [],
        "id": "bd778ff2-c52b-4541-83bb-ab515e233fb3"
      },
      "source": [
        "### Observamos algunos ejemplos"
      ],
      "id": "bd778ff2-c52b-4541-83bb-ab515e233fb3"
    },
    {
      "cell_type": "code",
      "metadata": {
        "colab": {
          "base_uri": "https://localhost:8080/"
        },
        "id": "626fb5fa-2875-47c0-9e30-cb1a456a1c13",
        "outputId": "5e351f96-0e35-424e-cee9-22a4b1ce602e"
      },
      "source": [
        "idx = 0\n",
        "print('Texto:', df.full_text.values[idx])\n",
        "print('Retweets:', len(df.user_retweeters.values[idx]))"
      ],
      "id": "626fb5fa-2875-47c0-9e30-cb1a456a1c13",
      "execution_count": 14,
      "outputs": [
        {
          "output_type": "stream",
          "name": "stdout",
          "text": [
            "Texto: Seguimos esperando el comunicado de @norabar repudiando la situación respecto del gobierno y el tema vacunas. Seamos pacientes que con esto de la pandemia anda con mucho \"laburo\".\n",
            "Retweets: 9\n"
          ]
        }
      ]
    },
    {
      "cell_type": "code",
      "metadata": {
        "colab": {
          "base_uri": "https://localhost:8080/"
        },
        "id": "f6ca9ab4-d966-4613-8d06-b139b30255b8",
        "outputId": "1a2fcd52-6a4e-47d9-bf4f-7ce65147d3b1"
      },
      "source": [
        "idx = 376\n",
        "print('Text:', df.full_text.values[idx])\n",
        "print('Retweets:', len(df.user_retweeters.values[idx]))"
      ],
      "id": "f6ca9ab4-d966-4613-8d06-b139b30255b8",
      "execution_count": 15,
      "outputs": [
        {
          "output_type": "stream",
          "name": "stdout",
          "text": [
            "Text: Todo lo que hay que entender sobre la decisión –o no– de poner más vacunas en más brazos (por ejemplo, usar las 1º dosis en muchos y si es necesario retrasar la 2º) está en esta excelente nota de Nora Bär. https://t.co/A0I03DyxgO\n",
            "Retweets: 48\n"
          ]
        }
      ]
    },
    {
      "cell_type": "markdown",
      "metadata": {
        "id": "1d3911d7-cc49-4d84-95b6-4f096f5f56c3"
      },
      "source": [
        "### Calculamos la cantidad de hilos"
      ],
      "id": "1d3911d7-cc49-4d84-95b6-4f096f5f56c3"
    },
    {
      "cell_type": "code",
      "metadata": {
        "colab": {
          "base_uri": "https://localhost:8080/"
        },
        "id": "59b6c11f-5766-45e4-a264-f3733df8694d",
        "outputId": "f4d09485-1f12-4e22-e9d0-ab7985cfb52e"
      },
      "source": [
        "roots = df[df['in_reply_to_user_id'].isna()]\n",
        "roots.shape"
      ],
      "id": "59b6c11f-5766-45e4-a264-f3733df8694d",
      "execution_count": 16,
      "outputs": [
        {
          "output_type": "execute_result",
          "data": {
            "text/plain": [
              "(3174, 8)"
            ]
          },
          "metadata": {},
          "execution_count": 16
        }
      ]
    },
    {
      "cell_type": "markdown",
      "metadata": {
        "tags": [],
        "id": "8d0fa0b4-fe03-444b-9705-f50474a2ae24"
      },
      "source": [
        "## Actividades\n",
        "\n",
        "### **1. Construcción del grafo** \n",
        "\n",
        "Construir el **grafo de retweets**, definido de la siguiente manera:\n",
        "\n",
        "- Tipo de grafo: Dirigido\n",
        "- Nodos: ID de los usuarios\n",
        "- Enlaces: (Usuario A) ---> (Usuario B) si B retweeteó algún tweet de A\n",
        "\n",
        "Con estos datos, el grafo debería tener alrededor de 40000 nodos y 90000 enlaces.\n",
        "\n",
        "Considerar la versión no dirigida del grafo y estudiar su conectividad. Si existe una única \"componente gigante\", realizar el resto de las actividades sobre ella, en lugar de sobre el grafo completo.\n",
        "\n",
        "Calcular las siguientes métricas globales del grafo:\n",
        "\n",
        "- Grado medio\n",
        "- Asortatividad\n",
        "- Transitividad\n",
        "- Coeficiente de clustering de Watts-Strogatz\n",
        "\n",
        "**Opcional:** Comparar las métricas calculadas anteriormente con las de un grafo aleatorio con la misma distribución de grado. Pueden utilizar para ello este [método](https://networkx.org/documentation/stable/reference/generated/networkx.generators.degree_seq.configuration_model.html?highlight=configuration#networkx.generators.degree_seq.configuration_model). Con esto en mente, comentar si los valores obtenidos anteriormente difieren significativamente del caso aleatorio.\n",
        "\n",
        "\n",
        "### **2. Centralidad**\n",
        "\n",
        "Calcular 5 métricas de centralidad de nodos. Graficar la distribución de cada una de ellas ¿Existe alguna correlación entre las distintas centralidades? \n",
        "\n",
        "Hacer un ranking con los 10 nodos más centrales para cada métrica. ¿Hay coincidencia entre los rankings?. ¿Qué características tienen los usuarios más centrales y sus respectivos tweets?\n",
        "\n",
        "**Opcional:** Determinar si existe alguna correlación entre la centralidad de un nodo y su actividad en red social. Es decir, evaluar si los usuarios que más escriben son los más centrales o no.\n",
        "\n",
        "### **3. Comunidades**\n",
        "\n",
        "Utilizar el algoritmo de Louvain con el parámetro \"resolución\" igual a 1. Caracterizar las comunidades halladas (cantidad, distribución de tamaños). Utilizar la modularidad y otras dos métricas a elección para evaluar la calidad de la partición encontrada. \n",
        "\n",
        "Variar el parámetro \"resolución\" y observar cómo cambia la distribución de comunidades encontradas. ¿Existe algún valor para el cual se identifiquen dos grandes comunidades?\n",
        "\n",
        "Elegir otro algoritmo de detección de comunidades y comparar los resultados con los obtenidos anteriormente.\n",
        "\n",
        "**Opcional:** Correr el algoritmo de Louvain con distintas semillas aleatorias. Utilizar alguna métrica de comparación externa entre las particiones obtenidas para determinar en qué medida depende el algoritmo de la condición inicial."
      ],
      "id": "8d0fa0b4-fe03-444b-9705-f50474a2ae24"
    },
    {
      "cell_type": "code",
      "metadata": {
        "colab": {
          "base_uri": "https://localhost:8080/",
          "height": 483
        },
        "id": "dMcwmKO5OOkd",
        "outputId": "d6a60a26-bc0f-425d-adcf-8205b97836e3"
      },
      "source": [
        "\n",
        "#expansion columna user_retweeters\n",
        "df1= df.explode(\"user_retweeters\", ignore_index=True)\n",
        "print(df1.shape)\n",
        "df1.head()"
      ],
      "id": "dMcwmKO5OOkd",
      "execution_count": 17,
      "outputs": [
        {
          "output_type": "stream",
          "name": "stdout",
          "text": [
            "(320948, 8)\n"
          ]
        },
        {
          "output_type": "execute_result",
          "data": {
            "text/html": [
              "<div>\n",
              "<style scoped>\n",
              "    .dataframe tbody tr th:only-of-type {\n",
              "        vertical-align: middle;\n",
              "    }\n",
              "\n",
              "    .dataframe tbody tr th {\n",
              "        vertical-align: top;\n",
              "    }\n",
              "\n",
              "    .dataframe thead th {\n",
              "        text-align: right;\n",
              "    }\n",
              "</style>\n",
              "<table border=\"1\" class=\"dataframe\">\n",
              "  <thead>\n",
              "    <tr style=\"text-align: right;\">\n",
              "      <th></th>\n",
              "      <th>created_at</th>\n",
              "      <th>id_str</th>\n",
              "      <th>full_text</th>\n",
              "      <th>in_reply_to_status_id</th>\n",
              "      <th>in_reply_to_user_id</th>\n",
              "      <th>user.id</th>\n",
              "      <th>user_retweeters</th>\n",
              "      <th>sentiment</th>\n",
              "    </tr>\n",
              "  </thead>\n",
              "  <tbody>\n",
              "    <tr>\n",
              "      <th>0</th>\n",
              "      <td>Sat Feb 20 03:09:10 +0000 2021</td>\n",
              "      <td>1362962469749153792</td>\n",
              "      <td>Seguimos esperando el comunicado de @norabar r...</td>\n",
              "      <td>NaN</td>\n",
              "      <td>NaN</td>\n",
              "      <td>2737379453</td>\n",
              "      <td>2258074658</td>\n",
              "      <td>NaN</td>\n",
              "    </tr>\n",
              "    <tr>\n",
              "      <th>1</th>\n",
              "      <td>Sat Feb 20 03:09:10 +0000 2021</td>\n",
              "      <td>1362962469749153792</td>\n",
              "      <td>Seguimos esperando el comunicado de @norabar r...</td>\n",
              "      <td>NaN</td>\n",
              "      <td>NaN</td>\n",
              "      <td>2737379453</td>\n",
              "      <td>159909978</td>\n",
              "      <td>NaN</td>\n",
              "    </tr>\n",
              "    <tr>\n",
              "      <th>2</th>\n",
              "      <td>Sat Feb 20 03:09:10 +0000 2021</td>\n",
              "      <td>1362962469749153792</td>\n",
              "      <td>Seguimos esperando el comunicado de @norabar r...</td>\n",
              "      <td>NaN</td>\n",
              "      <td>NaN</td>\n",
              "      <td>2737379453</td>\n",
              "      <td>105301854</td>\n",
              "      <td>NaN</td>\n",
              "    </tr>\n",
              "    <tr>\n",
              "      <th>3</th>\n",
              "      <td>Sat Feb 20 03:09:10 +0000 2021</td>\n",
              "      <td>1362962469749153792</td>\n",
              "      <td>Seguimos esperando el comunicado de @norabar r...</td>\n",
              "      <td>NaN</td>\n",
              "      <td>NaN</td>\n",
              "      <td>2737379453</td>\n",
              "      <td>290671142</td>\n",
              "      <td>NaN</td>\n",
              "    </tr>\n",
              "    <tr>\n",
              "      <th>4</th>\n",
              "      <td>Sat Feb 20 03:09:10 +0000 2021</td>\n",
              "      <td>1362962469749153792</td>\n",
              "      <td>Seguimos esperando el comunicado de @norabar r...</td>\n",
              "      <td>NaN</td>\n",
              "      <td>NaN</td>\n",
              "      <td>2737379453</td>\n",
              "      <td>208721168</td>\n",
              "      <td>NaN</td>\n",
              "    </tr>\n",
              "  </tbody>\n",
              "</table>\n",
              "</div>"
            ],
            "text/plain": [
              "                       created_at  ... sentiment\n",
              "0  Sat Feb 20 03:09:10 +0000 2021  ...       NaN\n",
              "1  Sat Feb 20 03:09:10 +0000 2021  ...       NaN\n",
              "2  Sat Feb 20 03:09:10 +0000 2021  ...       NaN\n",
              "3  Sat Feb 20 03:09:10 +0000 2021  ...       NaN\n",
              "4  Sat Feb 20 03:09:10 +0000 2021  ...       NaN\n",
              "\n",
              "[5 rows x 8 columns]"
            ]
          },
          "metadata": {},
          "execution_count": 17
        }
      ]
    },
    {
      "cell_type": "code",
      "metadata": {
        "colab": {
          "base_uri": "https://localhost:8080/",
          "height": 483
        },
        "id": "W_L0A1w6GF7f",
        "outputId": "cb766e3b-ba1c-432d-965d-7b4e58b19f24"
      },
      "source": [
        "df1 = df1.dropna(subset=['user.id','user_retweeters'])\n",
        "print(df1.shape)\n",
        "df1.head()"
      ],
      "id": "W_L0A1w6GF7f",
      "execution_count": 18,
      "outputs": [
        {
          "output_type": "stream",
          "name": "stdout",
          "text": [
            "(187297, 8)\n"
          ]
        },
        {
          "output_type": "execute_result",
          "data": {
            "text/html": [
              "<div>\n",
              "<style scoped>\n",
              "    .dataframe tbody tr th:only-of-type {\n",
              "        vertical-align: middle;\n",
              "    }\n",
              "\n",
              "    .dataframe tbody tr th {\n",
              "        vertical-align: top;\n",
              "    }\n",
              "\n",
              "    .dataframe thead th {\n",
              "        text-align: right;\n",
              "    }\n",
              "</style>\n",
              "<table border=\"1\" class=\"dataframe\">\n",
              "  <thead>\n",
              "    <tr style=\"text-align: right;\">\n",
              "      <th></th>\n",
              "      <th>created_at</th>\n",
              "      <th>id_str</th>\n",
              "      <th>full_text</th>\n",
              "      <th>in_reply_to_status_id</th>\n",
              "      <th>in_reply_to_user_id</th>\n",
              "      <th>user.id</th>\n",
              "      <th>user_retweeters</th>\n",
              "      <th>sentiment</th>\n",
              "    </tr>\n",
              "  </thead>\n",
              "  <tbody>\n",
              "    <tr>\n",
              "      <th>0</th>\n",
              "      <td>Sat Feb 20 03:09:10 +0000 2021</td>\n",
              "      <td>1362962469749153792</td>\n",
              "      <td>Seguimos esperando el comunicado de @norabar r...</td>\n",
              "      <td>NaN</td>\n",
              "      <td>NaN</td>\n",
              "      <td>2737379453</td>\n",
              "      <td>2258074658</td>\n",
              "      <td>NaN</td>\n",
              "    </tr>\n",
              "    <tr>\n",
              "      <th>1</th>\n",
              "      <td>Sat Feb 20 03:09:10 +0000 2021</td>\n",
              "      <td>1362962469749153792</td>\n",
              "      <td>Seguimos esperando el comunicado de @norabar r...</td>\n",
              "      <td>NaN</td>\n",
              "      <td>NaN</td>\n",
              "      <td>2737379453</td>\n",
              "      <td>159909978</td>\n",
              "      <td>NaN</td>\n",
              "    </tr>\n",
              "    <tr>\n",
              "      <th>2</th>\n",
              "      <td>Sat Feb 20 03:09:10 +0000 2021</td>\n",
              "      <td>1362962469749153792</td>\n",
              "      <td>Seguimos esperando el comunicado de @norabar r...</td>\n",
              "      <td>NaN</td>\n",
              "      <td>NaN</td>\n",
              "      <td>2737379453</td>\n",
              "      <td>105301854</td>\n",
              "      <td>NaN</td>\n",
              "    </tr>\n",
              "    <tr>\n",
              "      <th>3</th>\n",
              "      <td>Sat Feb 20 03:09:10 +0000 2021</td>\n",
              "      <td>1362962469749153792</td>\n",
              "      <td>Seguimos esperando el comunicado de @norabar r...</td>\n",
              "      <td>NaN</td>\n",
              "      <td>NaN</td>\n",
              "      <td>2737379453</td>\n",
              "      <td>290671142</td>\n",
              "      <td>NaN</td>\n",
              "    </tr>\n",
              "    <tr>\n",
              "      <th>4</th>\n",
              "      <td>Sat Feb 20 03:09:10 +0000 2021</td>\n",
              "      <td>1362962469749153792</td>\n",
              "      <td>Seguimos esperando el comunicado de @norabar r...</td>\n",
              "      <td>NaN</td>\n",
              "      <td>NaN</td>\n",
              "      <td>2737379453</td>\n",
              "      <td>208721168</td>\n",
              "      <td>NaN</td>\n",
              "    </tr>\n",
              "  </tbody>\n",
              "</table>\n",
              "</div>"
            ],
            "text/plain": [
              "                       created_at  ... sentiment\n",
              "0  Sat Feb 20 03:09:10 +0000 2021  ...       NaN\n",
              "1  Sat Feb 20 03:09:10 +0000 2021  ...       NaN\n",
              "2  Sat Feb 20 03:09:10 +0000 2021  ...       NaN\n",
              "3  Sat Feb 20 03:09:10 +0000 2021  ...       NaN\n",
              "4  Sat Feb 20 03:09:10 +0000 2021  ...       NaN\n",
              "\n",
              "[5 rows x 8 columns]"
            ]
          },
          "metadata": {},
          "execution_count": 18
        }
      ]
    },
    {
      "cell_type": "code",
      "metadata": {
        "id": "FmZCBvHbcXB5"
      },
      "source": [
        "dir_G =  nx.from_pandas_edgelist(df1, source='user.id', target='user_retweeters', edge_attr=None, create_using=None, edge_key=None)"
      ],
      "id": "FmZCBvHbcXB5",
      "execution_count": 19,
      "outputs": []
    },
    {
      "cell_type": "code",
      "metadata": {
        "colab": {
          "base_uri": "https://localhost:8080/"
        },
        "id": "PKfXpkc6Y_i-",
        "outputId": "0b32a17c-1970-4853-8698-0281c54a723c"
      },
      "source": [
        "print(dir_G)"
      ],
      "id": "PKfXpkc6Y_i-",
      "execution_count": 20,
      "outputs": [
        {
          "output_type": "stream",
          "name": "stdout",
          "text": [
            "Graph with 39800 nodes and 93404 edges\n"
          ]
        }
      ]
    },
    {
      "cell_type": "code",
      "metadata": {
        "id": "uS0-MbdFMm7K"
      },
      "source": [
        "#METRICAS GLOBALES"
      ],
      "id": "uS0-MbdFMm7K",
      "execution_count": null,
      "outputs": []
    },
    {
      "cell_type": "code",
      "metadata": {
        "colab": {
          "base_uri": "https://localhost:8080/"
        },
        "id": "bxX4Ft3wMm2I",
        "outputId": "3fcfa3c7-5854-40e7-d5dd-c443f481876c"
      },
      "source": [
        "print(nx.info(dir_G))"
      ],
      "id": "bxX4Ft3wMm2I",
      "execution_count": 21,
      "outputs": [
        {
          "output_type": "stream",
          "name": "stdout",
          "text": [
            "Graph with 39800 nodes and 93404 edges\n"
          ]
        }
      ]
    },
    {
      "cell_type": "code",
      "metadata": {
        "id": "otoNLe3fMmwL"
      },
      "source": [
        "#lista de grados del grafo\n",
        "grados = [val for (node, val) in dir_G.degree()]\n"
      ],
      "id": "otoNLe3fMmwL",
      "execution_count": 22,
      "outputs": []
    },
    {
      "cell_type": "code",
      "metadata": {
        "colab": {
          "base_uri": "https://localhost:8080/"
        },
        "id": "C0Qmrkz0QkIa",
        "outputId": "7af9b4f2-629e-4be4-8e81-854ebdda1498"
      },
      "source": [
        "#grado medio:promedio de los grados de cada nodo\n",
        "grado_medio= sum(grados)/len(grados)\n",
        "print(grado_medio)"
      ],
      "id": "C0Qmrkz0QkIa",
      "execution_count": 23,
      "outputs": [
        {
          "output_type": "stream",
          "name": "stdout",
          "text": [
            "4.693668341708543\n"
          ]
        }
      ]
    },
    {
      "cell_type": "code",
      "metadata": {
        "colab": {
          "base_uri": "https://localhost:8080/"
        },
        "id": "rFBZIgSEQj0V",
        "outputId": "1d24c2f4-fdb1-40ff-d331-2d253a06efc1"
      },
      "source": [
        "#ASORTATIVIDAD BASADA EN EL GRADO; DEGREE CORRELATION; DEGREE ASSORTATIVITY\n",
        "r = nx.degree_assortativity_coefficient(dir_G)\n",
        "print(r)\n",
        "#el valor negativo indica  que la red es DISORTATIVA\n"
      ],
      "id": "rFBZIgSEQj0V",
      "execution_count": 24,
      "outputs": [
        {
          "output_type": "stream",
          "name": "stdout",
          "text": [
            "-0.2213190254294167\n"
          ]
        }
      ]
    },
    {
      "cell_type": "code",
      "metadata": {
        "colab": {
          "base_uri": "https://localhost:8080/"
        },
        "id": "MoD80t79MmuN",
        "outputId": "174a9698-7918-45cd-f0e7-f1fdcfe1025e"
      },
      "source": [
        "#Construimos un DataFrame de pandas para almacenar la estadística de los nodos\n",
        "df3 = pd.DataFrame(index=list(dir_G.nodes()))\n",
        "df3.shape"
      ],
      "id": "MoD80t79MmuN",
      "execution_count": 25,
      "outputs": [
        {
          "output_type": "execute_result",
          "data": {
            "text/plain": [
              "(39800, 0)"
            ]
          },
          "metadata": {},
          "execution_count": 25
        }
      ]
    },
    {
      "cell_type": "markdown",
      "metadata": {
        "id": "Fk3Le0_wXBnk"
      },
      "source": [
        "# TRANSITIVIDAD Coeficiente de clustering "
      ],
      "id": "Fk3Le0_wXBnk"
    },
    {
      "cell_type": "code",
      "metadata": {
        "colab": {
          "base_uri": "https://localhost:8080/",
          "height": 423
        },
        "id": "8jnt0l-AW5b5",
        "outputId": "a0aa6589-19a2-461c-cdc4-0ad33232f4de"
      },
      "source": [
        "clustering_coefficient = nx.clustering(dir_G)\n",
        "df3['Cws'] = list(clustering_coefficient.values())\n",
        "df3"
      ],
      "id": "8jnt0l-AW5b5",
      "execution_count": 26,
      "outputs": [
        {
          "output_type": "execute_result",
          "data": {
            "text/html": [
              "<div>\n",
              "<style scoped>\n",
              "    .dataframe tbody tr th:only-of-type {\n",
              "        vertical-align: middle;\n",
              "    }\n",
              "\n",
              "    .dataframe tbody tr th {\n",
              "        vertical-align: top;\n",
              "    }\n",
              "\n",
              "    .dataframe thead th {\n",
              "        text-align: right;\n",
              "    }\n",
              "</style>\n",
              "<table border=\"1\" class=\"dataframe\">\n",
              "  <thead>\n",
              "    <tr style=\"text-align: right;\">\n",
              "      <th></th>\n",
              "      <th>Cws</th>\n",
              "    </tr>\n",
              "  </thead>\n",
              "  <tbody>\n",
              "    <tr>\n",
              "      <th>2737379453</th>\n",
              "      <td>0.000000</td>\n",
              "    </tr>\n",
              "    <tr>\n",
              "      <th>2258074658</th>\n",
              "      <td>0.052632</td>\n",
              "    </tr>\n",
              "    <tr>\n",
              "      <th>159909978</th>\n",
              "      <td>0.000000</td>\n",
              "    </tr>\n",
              "    <tr>\n",
              "      <th>105301854</th>\n",
              "      <td>0.066667</td>\n",
              "    </tr>\n",
              "    <tr>\n",
              "      <th>290671142</th>\n",
              "      <td>0.066667</td>\n",
              "    </tr>\n",
              "    <tr>\n",
              "      <th>...</th>\n",
              "      <td>...</td>\n",
              "    </tr>\n",
              "    <tr>\n",
              "      <th>2765081259</th>\n",
              "      <td>0.000000</td>\n",
              "    </tr>\n",
              "    <tr>\n",
              "      <th>339254354</th>\n",
              "      <td>0.000000</td>\n",
              "    </tr>\n",
              "    <tr>\n",
              "      <th>346605471</th>\n",
              "      <td>0.000000</td>\n",
              "    </tr>\n",
              "    <tr>\n",
              "      <th>58065646</th>\n",
              "      <td>0.000000</td>\n",
              "    </tr>\n",
              "    <tr>\n",
              "      <th>823874633216692225</th>\n",
              "      <td>0.000000</td>\n",
              "    </tr>\n",
              "  </tbody>\n",
              "</table>\n",
              "<p>39800 rows × 1 columns</p>\n",
              "</div>"
            ],
            "text/plain": [
              "                         Cws\n",
              "2737379453          0.000000\n",
              "2258074658          0.052632\n",
              "159909978           0.000000\n",
              "105301854           0.066667\n",
              "290671142           0.066667\n",
              "...                      ...\n",
              "2765081259          0.000000\n",
              "339254354           0.000000\n",
              "346605471           0.000000\n",
              "58065646            0.000000\n",
              "823874633216692225  0.000000\n",
              "\n",
              "[39800 rows x 1 columns]"
            ]
          },
          "metadata": {},
          "execution_count": 26
        }
      ]
    },
    {
      "cell_type": "markdown",
      "metadata": {
        "id": "iSEb7ahjhErE"
      },
      "source": [
        "# **CENTRALIDAD** "
      ],
      "id": "iSEb7ahjhErE"
    },
    {
      "cell_type": "code",
      "metadata": {
        "id": "xGip7Ad7k1oV"
      },
      "source": [
        "deg_centrality = nx.degree_centrality(dir_G)\n"
      ],
      "id": "xGip7Ad7k1oV",
      "execution_count": 39,
      "outputs": []
    },
    {
      "cell_type": "code",
      "metadata": {
        "id": "WJiujkYdl37r"
      },
      "source": [
        "pr = nx.pagerank(dir_G, alpha = 0.8)"
      ],
      "id": "WJiujkYdl37r",
      "execution_count": 40,
      "outputs": []
    },
    {
      "cell_type": "code",
      "metadata": {
        "id": "HqHpUurNm0kZ"
      },
      "source": [
        "df3['degree_cent'] = list(deg_centrality.values())\n",
        "df3['page_rank'] = list(pr.values())"
      ],
      "id": "HqHpUurNm0kZ",
      "execution_count": 43,
      "outputs": []
    },
    {
      "cell_type": "code",
      "metadata": {
        "id": "0e4hZSWuo5qi"
      },
      "source": [
        "#NO SE PROCASARON BETWENESS Y CLOSENESS . DESPUES DE DOS HORAS NO SE HABIA OBTENIDO RESULTADOS "
      ],
      "id": "0e4hZSWuo5qi",
      "execution_count": null,
      "outputs": []
    },
    {
      "cell_type": "code",
      "metadata": {
        "colab": {
          "base_uri": "https://localhost:8080/",
          "height": 423
        },
        "id": "kl-KNZTpnKDB",
        "outputId": "5bd33c02-f0b9-4744-fea0-f103f89ae428"
      },
      "source": [
        "df3"
      ],
      "id": "kl-KNZTpnKDB",
      "execution_count": 44,
      "outputs": [
        {
          "output_type": "execute_result",
          "data": {
            "text/html": [
              "<div>\n",
              "<style scoped>\n",
              "    .dataframe tbody tr th:only-of-type {\n",
              "        vertical-align: middle;\n",
              "    }\n",
              "\n",
              "    .dataframe tbody tr th {\n",
              "        vertical-align: top;\n",
              "    }\n",
              "\n",
              "    .dataframe thead th {\n",
              "        text-align: right;\n",
              "    }\n",
              "</style>\n",
              "<table border=\"1\" class=\"dataframe\">\n",
              "  <thead>\n",
              "    <tr style=\"text-align: right;\">\n",
              "      <th></th>\n",
              "      <th>Cws</th>\n",
              "      <th>degree_cent</th>\n",
              "      <th>page_rank</th>\n",
              "    </tr>\n",
              "  </thead>\n",
              "  <tbody>\n",
              "    <tr>\n",
              "      <th>2737379453</th>\n",
              "      <td>0.000000</td>\n",
              "      <td>0.000226</td>\n",
              "      <td>0.000038</td>\n",
              "    </tr>\n",
              "    <tr>\n",
              "      <th>2258074658</th>\n",
              "      <td>0.052632</td>\n",
              "      <td>0.000477</td>\n",
              "      <td>0.000066</td>\n",
              "    </tr>\n",
              "    <tr>\n",
              "      <th>159909978</th>\n",
              "      <td>0.000000</td>\n",
              "      <td>0.000025</td>\n",
              "      <td>0.000008</td>\n",
              "    </tr>\n",
              "    <tr>\n",
              "      <th>105301854</th>\n",
              "      <td>0.066667</td>\n",
              "      <td>0.000251</td>\n",
              "      <td>0.000035</td>\n",
              "    </tr>\n",
              "    <tr>\n",
              "      <th>290671142</th>\n",
              "      <td>0.066667</td>\n",
              "      <td>0.000377</td>\n",
              "      <td>0.000053</td>\n",
              "    </tr>\n",
              "    <tr>\n",
              "      <th>...</th>\n",
              "      <td>...</td>\n",
              "      <td>...</td>\n",
              "      <td>...</td>\n",
              "    </tr>\n",
              "    <tr>\n",
              "      <th>2765081259</th>\n",
              "      <td>0.000000</td>\n",
              "      <td>0.000025</td>\n",
              "      <td>0.000025</td>\n",
              "    </tr>\n",
              "    <tr>\n",
              "      <th>339254354</th>\n",
              "      <td>0.000000</td>\n",
              "      <td>0.000151</td>\n",
              "      <td>0.000031</td>\n",
              "    </tr>\n",
              "    <tr>\n",
              "      <th>346605471</th>\n",
              "      <td>0.000000</td>\n",
              "      <td>0.000025</td>\n",
              "      <td>0.000009</td>\n",
              "    </tr>\n",
              "    <tr>\n",
              "      <th>58065646</th>\n",
              "      <td>0.000000</td>\n",
              "      <td>0.000025</td>\n",
              "      <td>0.000007</td>\n",
              "    </tr>\n",
              "    <tr>\n",
              "      <th>823874633216692225</th>\n",
              "      <td>0.000000</td>\n",
              "      <td>0.000025</td>\n",
              "      <td>0.000008</td>\n",
              "    </tr>\n",
              "  </tbody>\n",
              "</table>\n",
              "<p>39800 rows × 3 columns</p>\n",
              "</div>"
            ],
            "text/plain": [
              "                         Cws  degree_cent  page_rank\n",
              "2737379453          0.000000     0.000226   0.000038\n",
              "2258074658          0.052632     0.000477   0.000066\n",
              "159909978           0.000000     0.000025   0.000008\n",
              "105301854           0.066667     0.000251   0.000035\n",
              "290671142           0.066667     0.000377   0.000053\n",
              "...                      ...          ...        ...\n",
              "2765081259          0.000000     0.000025   0.000025\n",
              "339254354           0.000000     0.000151   0.000031\n",
              "346605471           0.000000     0.000025   0.000009\n",
              "58065646            0.000000     0.000025   0.000007\n",
              "823874633216692225  0.000000     0.000025   0.000008\n",
              "\n",
              "[39800 rows x 3 columns]"
            ]
          },
          "metadata": {},
          "execution_count": 44
        }
      ]
    }
  ]
}